{
  "nbformat": 4,
  "nbformat_minor": 0,
  "metadata": {
    "colab": {
      "provenance": [],
      "authorship_tag": "ABX9TyO5tScBTeFSiPAL99jEnNZq",
      "include_colab_link": true
    },
    "kernelspec": {
      "name": "python3",
      "display_name": "Python 3"
    },
    "language_info": {
      "name": "python"
    }
  },
  "cells": [
    {
      "cell_type": "markdown",
      "metadata": {
        "id": "view-in-github",
        "colab_type": "text"
      },
      "source": [
        "<a href=\"https://colab.research.google.com/github/Avelez164/Data-Science-Big-Data/blob/main/Homework8.ipynb\" target=\"_parent\"><img src=\"https://colab.research.google.com/assets/colab-badge.svg\" alt=\"Open In Colab\"/></a>"
      ]
    },
    {
      "cell_type": "markdown",
      "source": [
        "Group Names:\n",
        "\n",
        "*   Antonio Velez\n",
        "*   Farren Tanudjaja"
      ],
      "metadata": {
        "id": "qsw1o02cQBml"
      }
    },
    {
      "cell_type": "markdown",
      "source": [
        "# 1."
      ],
      "metadata": {
        "id": "FMX3CVsIbTUN"
      }
    },
    {
      "cell_type": "markdown",
      "source": [
        "What would the 1-Nearest Neighbor approach predict is the class when the feature set is {Soymilk, Apple, Eggs} and the following data is used as the training data (same table as the classwork)? Use the Jaccard similarity to calculate neighbors. Show your calculations. (Note: do NOT write any code for this problem. The answers are to be computed by hand.)\n",
        "\n",
        "|    |Feature Set                     |\tClass         |\n",
        "|----|--------------------------------|---------------|\n",
        "|A   |{Apple, Banana, Soymilk, Yogurt}|Vegetarian     |\n",
        "|B   |{Apple, Peanuts, Yogurt}        |Vegetarian     |\n",
        "|C   |{Tomatoes, Potatoes, Yogurt}    |Non-Vegetarian |\n",
        "|D   |{Apple, Tomatoes, Potatoes}     |Non-Vegetarian |\n",
        "\n"
      ],
      "metadata": {
        "id": "RU6QKLD2b1dF"
      }
    },
    {
      "cell_type": "code",
      "source": [],
      "metadata": {
        "id": "NM8f_vXZfXC8"
      },
      "execution_count": null,
      "outputs": []
    },
    {
      "cell_type": "markdown",
      "source": [
        "#2.\n",
        "Consider the following dataset. (Note: do NOT write any code for this problem. The answers are to be computed by hand and marked on the graph. You can visually guess some of the answers.)\n",
        "\n",
        "|        |     |\t   |     |     |    |      |\n",
        "|----    |-----|-----|-----|-----|----|------|\n",
        "| Length | 120 | 140 | 130 | 170 | 160 | 180 |\n",
        "| Width  | 60  | 70  | 80  | 40  | 30  | 20  |\n"
      ],
      "metadata": {
        "id": "_b45KBNFphVO"
      }
    },
    {
      "cell_type": "markdown",
      "source": [
        "a) Mark the data points on the graph below (use ‘+’ to indicate each point).\n"
      ],
      "metadata": {
        "id": "hCgk8ewfyFG7"
      }
    },
    {
      "cell_type": "code",
      "source": [],
      "metadata": {
        "id": "TqBpOKQTpnJL"
      },
      "execution_count": null,
      "outputs": []
    },
    {
      "cell_type": "markdown",
      "source": [
        "b) Let k=2. Let one of the two initial centers be (Length=120, Width=60). Select the second center using the Farthest Distance Heuristic. Indicate the two centers on the graph (circle the centers).\n"
      ],
      "metadata": {
        "id": "MiaU_gsMyGzJ"
      }
    },
    {
      "cell_type": "code",
      "source": [],
      "metadata": {
        "id": "DTNdXcaLyJ7k"
      },
      "execution_count": null,
      "outputs": []
    },
    {
      "cell_type": "markdown",
      "source": [
        "c) Recompute the centers after the first iteration of the k-means algorithm.\n",
        "\n",
        "New center 1:____________\n",
        "\n",
        "New center 2:____________\n",
        "\n",
        "Indicate the two new centers on the graph (mark new centers with squares).\n"
      ],
      "metadata": {
        "id": "FKA1ms1zyKvK"
      }
    },
    {
      "cell_type": "code",
      "source": [],
      "metadata": {
        "id": "aYLk3pLdyObB"
      },
      "execution_count": null,
      "outputs": []
    },
    {
      "cell_type": "markdown",
      "source": [
        "d) What are the two clusters after this first iteration? Draw two ovals, each containing all the points in one cluster in the graph above.\n"
      ],
      "metadata": {
        "id": "uu8JCoj4yYo1"
      }
    },
    {
      "cell_type": "code",
      "source": [],
      "metadata": {
        "id": "PMkUgVnUyZQn"
      },
      "execution_count": null,
      "outputs": []
    },
    {
      "cell_type": "markdown",
      "source": [
        "e) Will the k-means algorithm terminate after this first iteration or will it continue? Answer in 1-2 sentences.\n"
      ],
      "metadata": {
        "id": "mRrjywZSyZu_"
      }
    },
    {
      "cell_type": "code",
      "source": [],
      "metadata": {
        "id": "uRyE2ivoycu6"
      },
      "execution_count": null,
      "outputs": []
    },
    {
      "cell_type": "markdown",
      "source": [
        "f) If a new point (Length=140, Width=60) is given, to which cluster will it belong?\n"
      ],
      "metadata": {
        "id": "UJomgDCJye8N"
      }
    },
    {
      "cell_type": "code",
      "source": [],
      "metadata": {
        "id": "wpEvRGAAyfvn"
      },
      "execution_count": null,
      "outputs": []
    },
    {
      "cell_type": "markdown",
      "source": [
        "# 3.\n",
        "\n",
        " Consider the file breast-cancer-wisconsin.csv (in the K-means clustering; Evaluation metrics module on Canvas) which contains “Features computed from a digitized image of a fine needle aspirate (FNA) of a breast mass.” The goal is to cluster the data based on the features to distinguish Benign and Malignant cases.\n"
      ],
      "metadata": {
        "id": "Qag0mt3JysOA"
      }
    },
    {
      "cell_type": "markdown",
      "source": [
        "a) Read the data from the file into an object called “mydata”. Column 1 (“Code”) is the anonymized subject code and will not be used here. Columns 2-10 are the 9 features. Column 11 is the diagnosis: [B]enign or [M]alignant.\n",
        "\n",
        "    i. How many total cases are there in the data?: ___\n",
        "\n",
        "    ii. How many [B]enign cases are there in the data?: ___\n",
        "\n",
        "    iii. How many [M]alignant cases are there in the data?: ___\n"
      ],
      "metadata": {
        "id": "leUfAQdyyxcU"
      }
    },
    {
      "cell_type": "code",
      "source": [],
      "metadata": {
        "id": "kT2GOzzpzRR2"
      },
      "execution_count": null,
      "outputs": []
    },
    {
      "cell_type": "markdown",
      "source": [
        "b) Run k-means clustering using all the rows and only the following features: ClumpThickness, CellSize, and Nuclei. Use nstart=10.\n",
        "\n",
        "    i. What should be the value of k? k = ___\n",
        "    ii. Give Python code:\n"
      ],
      "metadata": {
        "id": "963dg4AAzl5O"
      }
    },
    {
      "cell_type": "code",
      "source": [],
      "metadata": {
        "id": "AWFLwLcAzs-K"
      },
      "execution_count": null,
      "outputs": []
    },
    {
      "cell_type": "markdown",
      "source": [
        "c) Evaluation: Compare the resulting clusters with the known diagnosis.\n"
      ],
      "metadata": {
        "id": "KI5cm7siz3TU"
      }
    },
    {
      "cell_type": "markdown",
      "source": [
        "    i. What is the contingency table of your clustering? (Hint: use the scikit-learn confusion_matrix() function. You can arbitrarily assign cluster 1/2 to Benign/Malignant)\n",
        "|          |Cluster 1    |\tCluster 2    |\n",
        "|----------|-------------|---------------|\n",
        "|Benign    |             |               |\n",
        "|Malignant |             |               |"
      ],
      "metadata": {
        "id": "nVkhWl8i0FR3"
      }
    },
    {
      "cell_type": "markdown",
      "source": [
        "    ii. Give Python code:"
      ],
      "metadata": {
        "id": "Tkemk9fi0-02"
      }
    },
    {
      "cell_type": "code",
      "source": [],
      "metadata": {
        "id": "G6OJjnh90Vf6"
      },
      "execution_count": null,
      "outputs": []
    },
    {
      "cell_type": "markdown",
      "source": [
        "# 4.\n",
        "Using the contingency table that you obtained from the previous problem (3.c), calculate the following metrics (consider Malignant as the Positive class):\n",
        "\n",
        "1. Accuracy\n",
        "2. Error\n",
        "3. Precision\n",
        "4. Recall\n",
        "5. F-score\n"
      ],
      "metadata": {
        "id": "sU-mC1Ve1PHr"
      }
    },
    {
      "cell_type": "markdown",
      "source": [
        "Consider a “silly” classifier for this problem that makes every prediction as Malignant. Calculate the metrics for this “silly” classifier.\n",
        "\n",
        "1. Accuracy\n",
        "2. Error\n",
        "3. Precision\n",
        "4. Recall\n",
        "5. F-score\n"
      ],
      "metadata": {
        "id": "hZG74dcu1pBb"
      }
    }
  ]
}