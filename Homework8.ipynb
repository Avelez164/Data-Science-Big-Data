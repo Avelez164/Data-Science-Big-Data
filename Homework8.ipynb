{
  "nbformat": 4,
  "nbformat_minor": 0,
  "metadata": {
    "colab": {
      "provenance": [],
      "include_colab_link": true
    },
    "kernelspec": {
      "name": "python3",
      "display_name": "Python 3"
    },
    "language_info": {
      "name": "python"
    },
    "widgets": {
      "application/vnd.jupyter.widget-state+json": {
        "ebc355ae4fe84b80a5b32ff714afb8e2": {
          "model_module": "@jupyter-widgets/controls",
          "model_name": "HBoxModel",
          "model_module_version": "1.5.0",
          "state": {
            "_dom_classes": [],
            "_model_module": "@jupyter-widgets/controls",
            "_model_module_version": "1.5.0",
            "_model_name": "HBoxModel",
            "_view_count": null,
            "_view_module": "@jupyter-widgets/controls",
            "_view_module_version": "1.5.0",
            "_view_name": "HBoxView",
            "box_style": "",
            "children": [
              "IPY_MODEL_3e27214450ae4b578e752f09373839fe",
              "IPY_MODEL_0f8f88f3e264406ea278aa5d48b0708d"
            ],
            "layout": "IPY_MODEL_15a0b496d11f4c578d1eb78f1f13b09f"
          }
        },
        "3e27214450ae4b578e752f09373839fe": {
          "model_module": "@jupyter-widgets/controls",
          "model_name": "ButtonModel",
          "model_module_version": "1.5.0",
          "state": {
            "_dom_classes": [],
            "_model_module": "@jupyter-widgets/controls",
            "_model_module_version": "1.5.0",
            "_model_name": "ButtonModel",
            "_view_count": null,
            "_view_module": "@jupyter-widgets/controls",
            "_view_module_version": "1.5.0",
            "_view_name": "ButtonView",
            "button_style": "",
            "description": "⬇️ Download",
            "disabled": false,
            "icon": "",
            "layout": "IPY_MODEL_5e2eed00188d4c11b03f1d80b48415a5",
            "style": "IPY_MODEL_90f2dfabaabd40409623e2ad9d12e383",
            "tooltip": ""
          }
        },
        "0f8f88f3e264406ea278aa5d48b0708d": {
          "model_module": "@jupyter-widgets/controls",
          "model_name": "LabelModel",
          "model_module_version": "1.5.0",
          "state": {
            "_dom_classes": [],
            "_model_module": "@jupyter-widgets/controls",
            "_model_module_version": "1.5.0",
            "_model_name": "LabelModel",
            "_view_count": null,
            "_view_module": "@jupyter-widgets/controls",
            "_view_module_version": "1.5.0",
            "_view_name": "LabelView",
            "description": "",
            "description_tooltip": null,
            "layout": "IPY_MODEL_2e9bcef397494e30ac9ec34790499843",
            "placeholder": "​",
            "style": "IPY_MODEL_3e23b70332424800829be87a6c1276f9",
            "value": "✅ Downloaded: Homework8.pdf"
          }
        },
        "15a0b496d11f4c578d1eb78f1f13b09f": {
          "model_module": "@jupyter-widgets/base",
          "model_name": "LayoutModel",
          "model_module_version": "1.2.0",
          "state": {
            "_model_module": "@jupyter-widgets/base",
            "_model_module_version": "1.2.0",
            "_model_name": "LayoutModel",
            "_view_count": null,
            "_view_module": "@jupyter-widgets/base",
            "_view_module_version": "1.2.0",
            "_view_name": "LayoutView",
            "align_content": null,
            "align_items": null,
            "align_self": null,
            "border": null,
            "bottom": null,
            "display": null,
            "flex": null,
            "flex_flow": null,
            "grid_area": null,
            "grid_auto_columns": null,
            "grid_auto_flow": null,
            "grid_auto_rows": null,
            "grid_column": null,
            "grid_gap": null,
            "grid_row": null,
            "grid_template_areas": null,
            "grid_template_columns": null,
            "grid_template_rows": null,
            "height": null,
            "justify_content": null,
            "justify_items": null,
            "left": null,
            "margin": null,
            "max_height": null,
            "max_width": null,
            "min_height": null,
            "min_width": null,
            "object_fit": null,
            "object_position": null,
            "order": null,
            "overflow": null,
            "overflow_x": null,
            "overflow_y": null,
            "padding": null,
            "right": null,
            "top": null,
            "visibility": null,
            "width": null
          }
        },
        "5e2eed00188d4c11b03f1d80b48415a5": {
          "model_module": "@jupyter-widgets/base",
          "model_name": "LayoutModel",
          "model_module_version": "1.2.0",
          "state": {
            "_model_module": "@jupyter-widgets/base",
            "_model_module_version": "1.2.0",
            "_model_name": "LayoutModel",
            "_view_count": null,
            "_view_module": "@jupyter-widgets/base",
            "_view_module_version": "1.2.0",
            "_view_name": "LayoutView",
            "align_content": null,
            "align_items": null,
            "align_self": null,
            "border": null,
            "bottom": null,
            "display": null,
            "flex": null,
            "flex_flow": null,
            "grid_area": null,
            "grid_auto_columns": null,
            "grid_auto_flow": null,
            "grid_auto_rows": null,
            "grid_column": null,
            "grid_gap": null,
            "grid_row": null,
            "grid_template_areas": null,
            "grid_template_columns": null,
            "grid_template_rows": null,
            "height": null,
            "justify_content": null,
            "justify_items": null,
            "left": null,
            "margin": null,
            "max_height": null,
            "max_width": null,
            "min_height": null,
            "min_width": null,
            "object_fit": null,
            "object_position": null,
            "order": null,
            "overflow": null,
            "overflow_x": null,
            "overflow_y": null,
            "padding": null,
            "right": null,
            "top": null,
            "visibility": null,
            "width": null
          }
        },
        "90f2dfabaabd40409623e2ad9d12e383": {
          "model_module": "@jupyter-widgets/controls",
          "model_name": "ButtonStyleModel",
          "model_module_version": "1.5.0",
          "state": {
            "_model_module": "@jupyter-widgets/controls",
            "_model_module_version": "1.5.0",
            "_model_name": "ButtonStyleModel",
            "_view_count": null,
            "_view_module": "@jupyter-widgets/base",
            "_view_module_version": "1.2.0",
            "_view_name": "StyleView",
            "button_color": null,
            "font_weight": ""
          }
        },
        "2e9bcef397494e30ac9ec34790499843": {
          "model_module": "@jupyter-widgets/base",
          "model_name": "LayoutModel",
          "model_module_version": "1.2.0",
          "state": {
            "_model_module": "@jupyter-widgets/base",
            "_model_module_version": "1.2.0",
            "_model_name": "LayoutModel",
            "_view_count": null,
            "_view_module": "@jupyter-widgets/base",
            "_view_module_version": "1.2.0",
            "_view_name": "LayoutView",
            "align_content": null,
            "align_items": null,
            "align_self": null,
            "border": null,
            "bottom": null,
            "display": null,
            "flex": null,
            "flex_flow": null,
            "grid_area": null,
            "grid_auto_columns": null,
            "grid_auto_flow": null,
            "grid_auto_rows": null,
            "grid_column": null,
            "grid_gap": null,
            "grid_row": null,
            "grid_template_areas": null,
            "grid_template_columns": null,
            "grid_template_rows": null,
            "height": null,
            "justify_content": null,
            "justify_items": null,
            "left": null,
            "margin": null,
            "max_height": null,
            "max_width": null,
            "min_height": null,
            "min_width": null,
            "object_fit": null,
            "object_position": null,
            "order": null,
            "overflow": null,
            "overflow_x": null,
            "overflow_y": null,
            "padding": null,
            "right": null,
            "top": null,
            "visibility": null,
            "width": null
          }
        },
        "3e23b70332424800829be87a6c1276f9": {
          "model_module": "@jupyter-widgets/controls",
          "model_name": "DescriptionStyleModel",
          "model_module_version": "1.5.0",
          "state": {
            "_model_module": "@jupyter-widgets/controls",
            "_model_module_version": "1.5.0",
            "_model_name": "DescriptionStyleModel",
            "_view_count": null,
            "_view_module": "@jupyter-widgets/base",
            "_view_module_version": "1.2.0",
            "_view_name": "StyleView",
            "description_width": ""
          }
        }
      }
    }
  },
  "cells": [
    {
      "cell_type": "markdown",
      "metadata": {
        "id": "view-in-github",
        "colab_type": "text"
      },
      "source": [
        "<a href=\"https://colab.research.google.com/github/Avelez164/Data-Science-Big-Data/blob/main/Homework8.ipynb\" target=\"_parent\"><img src=\"https://colab.research.google.com/assets/colab-badge.svg\" alt=\"Open In Colab\"/></a>"
      ]
    },
    {
      "cell_type": "markdown",
      "source": [
        "Group Names:\n",
        "\n",
        "*   Antonio Velez\n",
        "*   Farren Tanudjaja"
      ],
      "metadata": {
        "id": "qsw1o02cQBml"
      }
    },
    {
      "cell_type": "markdown",
      "source": [
        "# 1."
      ],
      "metadata": {
        "id": "FMX3CVsIbTUN"
      }
    },
    {
      "cell_type": "markdown",
      "source": [
        "What would the 1-Nearest Neighbor approach predict is the class when the feature set is {Soymilk, Apple, Eggs} and the following data is used as the training data (same table as the classwork)? Use the Jaccard similarity to calculate neighbors. Show your calculations. (Note: do NOT write any code for this problem. The answers are to be computed by hand.)\n",
        "\n",
        "|    |Feature Set                     |\tClass         |\n",
        "|----|--------------------------------|---------------|\n",
        "|A   |{Apple, Banana, Soymilk, Yogurt}|Vegetarian     |\n",
        "|B   |{Apple, Peanuts, Yogurt}        |Vegetarian     |\n",
        "|C   |{Tomatoes, Potatoes, Yogurt}    |Non-Vegetarian |\n",
        "|D   |{Apple, Tomatoes, Potatoes}     |Non-Vegetarian |\n",
        "\n"
      ],
      "metadata": {
        "id": "RU6QKLD2b1dF"
      }
    },
    {
      "cell_type": "markdown",
      "source": [
        "\n",
        "|    |Feature Set                     |\tClass         |\n",
        "|----|--------------------------------|---------------|\n",
        "|A   |{Apple, Banana, Soymilk, Yogurt}|Vegetarian     |\n",
        "|B   |{Apple, Peanuts, Yogurt}        |Vegetarian     |\n",
        "|C   |{Tomatoes, Potatoes, Yogurt}    |Non-Vegetarian |\n",
        "|D   |{Apple, Tomatoes, Potatoes}     |Non-Vegetarian |\n",
        "\n",
        "# Set A:\n",
        "Intersection -> {'Apple', 'Soymilk'} -> 2\n",
        "\n",
        "Union: {'Apple', 'Banana', 'Soymilk', 'Yoghurt', 'Eggs'} -> 5\n",
        "\n",
        "Jaccard = 2/5 = 0.4\n",
        "\n",
        "# Set B:\n",
        "Intersection -> {'Apple'} -> 1\n",
        "\n",
        "Union: {'Apple', 'Banana', 'Soymilk', 'Yoghurt', 'Eggs'} -> 5\n",
        "\n",
        "Jaccard = 1/5 = 0.2\n",
        "\n",
        "# Set C:\n",
        "Intersection -> {} -> 0\n",
        "\n",
        "Union: {'Soymilk', 'Apple', 'Eggs', 'Tomatoes', 'Potatoes', 'Yoghurt'} -> 6\n",
        "\n",
        "Jaccard = 0/6 = 0\n",
        "\n",
        "# Set D:\n",
        "Intersection -> {'Apple'} -> 1\n",
        "\n",
        "Union: {'Soymilk', 'Apple', 'Eggs', 'Tomatoes', 'Potatoes'} -> 5\n",
        "\n",
        "Jaccard = 1/5 = 0.2\n",
        "\n",
        "The predicted class would be vegetarian."
      ],
      "metadata": {
        "id": "IN3FXVDoHpHC"
      }
    },
    {
      "cell_type": "code",
      "source": [
        "# Code Answer check\n",
        "training_data = [\n",
        "    (set('Apple, Banana, Soymilk, Yoghurt'.split(', ')), 'Vegetarian'),\n",
        "    (set('Apple, Peanuts, Yoghurt'.split(', ')), 'Vegetarian'),\n",
        "    (set('Tomatoes, Potatoes, Yoghurt'.split(', ')), 'Non-Vegetarian'),\n",
        "    (set('Apple, Tomatoes, Potatoes'.split(', ')), 'Non-Vegetarian')\n",
        "]\n",
        "\n",
        "test_set = set('Soymilk, Apple, Eggs'.split(', '))\n",
        "\n",
        "jaccard = lambda a, b: len(a & b) / len(a | b)\n",
        "\n",
        "similarities = [(jaccard(test_set, features), label) for features, label in training_data]\n",
        "\n",
        "for i, (sim, label) in enumerate(similarities):\n",
        "    print(f\"Similarity with {chr(65+i)} ({label}): {sim:.4f}\")\n",
        "\n",
        "print(\"\\nPredicted class:\", max(similarities)[1])\n"
      ],
      "metadata": {
        "colab": {
          "base_uri": "https://localhost:8080/"
        },
        "id": "ej1Hf1IOI9Gn",
        "outputId": "082a35e9-8168-4351-cea9-27b8337bacd8"
      },
      "execution_count": null,
      "outputs": [
        {
          "output_type": "stream",
          "name": "stdout",
          "text": [
            "Similarity with A (Vegetarian): 0.4000\n",
            "Similarity with B (Vegetarian): 0.2000\n",
            "Similarity with C (Non-Vegetarian): 0.0000\n",
            "Similarity with D (Non-Vegetarian): 0.2000\n",
            "\n",
            "Predicted class: Vegetarian\n"
          ]
        }
      ]
    },
    {
      "cell_type": "markdown",
      "source": [
        "#2.\n",
        "Consider the following dataset. (Note: do NOT write any code for this problem. The answers are to be computed by hand and marked on the graph. You can visually guess some of the answers.)\n",
        "\n",
        "|        |     |\t   |     |     |    |      |\n",
        "|----    |-----|-----|-----|-----|----|------|\n",
        "| Length | 120 | 140 | 130 | 170 | 160 | 180 |\n",
        "| Width  | 60  | 70  | 80  | 40  | 30  | 20  |\n"
      ],
      "metadata": {
        "id": "_b45KBNFphVO"
      }
    },
    {
      "cell_type": "markdown",
      "source": [
        "a) Mark the data points on the graph below (use ‘+’ to indicate each point).\n"
      ],
      "metadata": {
        "id": "hCgk8ewfyFG7"
      }
    },
    {
      "cell_type": "code",
      "source": [
        "# Made the markings on the Graph to saved into drive to load here\n",
        "!pip install -q gdown\n",
        "import gdown\n",
        "\n",
        "url = \"https://drive.google.com/uc?id=1hTIP69ppDNAywhIGycYKcjSYuwnOPQCx\"\n",
        "output = \"Graph.png\"\n",
        "gdown.download(url, output, quiet=False)\n",
        "\n",
        "from IPython.display import Image, display\n",
        "display(Image(filename=\"Graph.png\"))\n"
      ],
      "metadata": {
        "id": "TqBpOKQTpnJL",
        "colab": {
          "base_uri": "https://localhost:8080/",
          "height": 896
        },
        "outputId": "722589cf-3b9e-4e58-8efb-29e12cd57745"
      },
      "execution_count": null,
      "outputs": [
        {
          "output_type": "stream",
          "name": "stderr",
          "text": [
            "Downloading...\n",
            "From: https://drive.google.com/uc?id=1hTIP69ppDNAywhIGycYKcjSYuwnOPQCx\n",
            "To: /content/Graph.png\n",
            "100%|██████████| 32.4k/32.4k [00:00<00:00, 30.8MB/s]\n"
          ]
        },
        {
          "output_type": "display_data",
          "data": {
            "image/png": "[encoded data removed]",
            "text/plain": [
              "<IPython.core.display.Image object>"
            ]
          },
          "metadata": {}
        }
      ]
    },
    {
      "cell_type": "markdown",
      "source": [
        "b) Let k=2. Let one of the two initial centers be (Length=120, Width=60). Select the second center using the Farthest Distance Heuristic. Indicate the two centers on the graph (circle the centers).\n"
      ],
      "metadata": {
        "id": "MiaU_gsMyGzJ"
      }
    },
    {
      "cell_type": "markdown",
      "source": [
        "Distance from Initial: (120,60)\n",
        "$$\n",
        "distance = \\sqrt{(x_2-x_1)^2 + (y_2-y_1)^2}\n",
        "$$\n",
        "\n",
        "To: (140,70)\n",
        "$$\n",
        "distance = \\sqrt{(20)^2 + (10)^2} ≈ 22.36\n",
        "$$\n",
        "\n",
        "To: (130,80)\n",
        "$$\n",
        "distance = \\sqrt{(10)^2 + (20)^2} ≈ 22.36\n",
        "$$\n",
        "\n",
        "To: (160,30)\n",
        "$$\n",
        "distance = \\sqrt{(40)^2 + (30)^2} ≈ 50\n",
        "$$\n",
        "\n",
        "To: (170,40)\n",
        "$$\n",
        "distance = \\sqrt{(50)^2 + (20)^2} ≈ 53.85\n",
        "$$\n",
        "\n",
        "To: (180,20)\n",
        "$$\n",
        "distance = \\sqrt{(60)^2 + (40)^2} ≈72.11\n",
        "$$\n",
        "\n",
        "**The farthest point is (180,20)**"
      ],
      "metadata": {
        "id": "rhrNV41OgvkM"
      }
    },
    {
      "cell_type": "code",
      "source": [],
      "metadata": {
        "id": "DTNdXcaLyJ7k"
      },
      "execution_count": null,
      "outputs": []
    },
    {
      "cell_type": "markdown",
      "source": [
        "c) Recompute the centers after the first iteration of the k-means algorithm.\n",
        "\n",
        "New center 1:____________\n",
        "\n",
        "New center 2:____________\n",
        "\n",
        "Indicate the two new centers on the graph (mark new centers with squares).\n"
      ],
      "metadata": {
        "id": "FKA1ms1zyKvK"
      }
    },
    {
      "cell_type": "markdown",
      "source": [
        "\n",
        "\n",
        "*   Center 1: (120,60)\n",
        "*   Center 2: (180,20)\n",
        "\n",
        "| Points   | d(C1: 120,60) | d(C2: 180,20) | Cluster |\n",
        "|----------|---------------|---------------|---------|\n",
        "| (120,60) | 0             | 72.11         | C1      |\n",
        "| (130,80) | 22.36         | 67.08         | C1      |\n",
        "| (140,70) | 22.36         | 58.31         | C1      |\n",
        "| (160,30) | 50            | 28.28         | C2      |\n",
        "| (170,40) | 53.85         | 22.36         | C2      |\n",
        "| (180,20) | 72.11         | 0             | C2      |\n",
        "\n",
        "C1: (120,60), (130,80), (140,70)\n",
        "\n",
        "Length = (120+130+140)/3 = 390/3 = 130\n",
        "\n",
        "Width = (60+80+70)/3 = 70\n",
        "\n",
        "      New Center:1 = (130, 70)\n",
        "\n",
        "C2 cluster: (160,30), (170,40), (180,20)\n",
        "\n",
        "Length: (160+170+180)/3 = 510/3 = 170\n",
        "\n",
        "Width: (30+40+20)/3 = 30\n",
        "\n",
        "      New Center:2 = (170, 30)\n",
        "\n"
      ],
      "metadata": {
        "id": "LngEodUTj0EF"
      }
    },
    {
      "cell_type": "code",
      "source": [],
      "metadata": {
        "id": "aYLk3pLdyObB"
      },
      "execution_count": null,
      "outputs": []
    },
    {
      "cell_type": "markdown",
      "source": [
        "d) What are the two clusters after this first iteration? Draw two ovals, each containing all the points in one cluster in the graph above.\n"
      ],
      "metadata": {
        "id": "uu8JCoj4yYo1"
      }
    },
    {
      "cell_type": "code",
      "source": [
        "# Made the ovals on the Graph to saved into drive to load here\n",
        "\n",
        "url = \"https://drive.google.com/uc?id=1C5APcJOiKPrtVklUGxd9qxpD5SLZAXwb\"\n",
        "output = \"Graph_PartD.png\"\n",
        "\n",
        "gdown.download(url, output, quiet=False)\n",
        "\n",
        "# Display the image\n",
        "from IPython.display import Image, display\n",
        "display(Image(filename=\"Graph_PartD.png\"))\n"
      ],
      "metadata": {
        "id": "PMkUgVnUyZQn",
        "colab": {
          "base_uri": "https://localhost:8080/",
          "height": 896
        },
        "outputId": "af15a40f-b4b7-40c6-a42d-ad7ee26c27c5"
      },
      "execution_count": null,
      "outputs": [
        {
          "output_type": "stream",
          "name": "stderr",
          "text": [
            "Downloading...\n",
            "From: https://drive.google.com/uc?id=1C5APcJOiKPrtVklUGxd9qxpD5SLZAXwb\n",
            "To: /content/Graph_PartD.png\n",
            "100%|██████████| 65.5k/65.5k [00:00<00:00, 65.9MB/s]\n"
          ]
        },
        {
          "output_type": "display_data",
          "data": {
            "image/png": "[encoded data removed]",
            "text/plain": [
              "<IPython.core.display.Image object>"
            ]
          },
          "metadata": {}
        }
      ]
    },
    {
      "cell_type": "markdown",
      "source": [
        "e) Will the k-means algorithm terminate after this first iteration or will it continue? Answer in 1-2 sentences.\n"
      ],
      "metadata": {
        "id": "mRrjywZSyZu_"
      }
    },
    {
      "cell_type": "markdown",
      "source": [
        "\n",
        "**No, it won't terminate yet because the centers changed from (120, 60) and (180, 20) to (130, 70) and (170, 30). So the algorithm will continue to the next iteration to check if assignments change.**"
      ],
      "metadata": {
        "id": "Fc8metIUq65s"
      }
    },
    {
      "cell_type": "markdown",
      "source": [
        "f) If a new point (Length=140, Width=60) is given, to which cluster will it belong?\n"
      ],
      "metadata": {
        "id": "UJomgDCJye8N"
      }
    },
    {
      "cell_type": "markdown",
      "source": [
        "\n",
        "To (130, 70):\n",
        "$$\n",
        "= \\sqrt{(10)^2 + (10)^2} ≈ 14.14\n",
        "$$\n",
        "\n",
        "To (170, 30):\n",
        "$$\n",
        "= \\sqrt{(30)^2 + (30)^2} ≈ 42.43\n",
        "$$\n",
        "\n",
        "\n",
        "Closer to (130, 70), it belongs -> Cluster 1\n",
        "\n"
      ],
      "metadata": {
        "id": "1IP-_7pyrXxu"
      }
    },
    {
      "cell_type": "markdown",
      "source": [
        "# 3.\n",
        "\n",
        " Consider the file breast-cancer-wisconsin.csv (in the K-means clustering; Evaluation metrics module on Canvas) which contains “Features computed from a digitized image of a fine needle aspirate (FNA) of a breast mass.” The goal is to cluster the data based on the features to distinguish Benign and Malignant cases.\n"
      ],
      "metadata": {
        "id": "Qag0mt3JysOA"
      }
    },
    {
      "cell_type": "markdown",
      "source": [
        "a) Read the data from the file into an object called “mydata”. Column 1 (“Code”) is the anonymized subject code and will not be used here. Columns 2-10 are the 9 features. Column 11 is the diagnosis: [B]enign or [M]alignant.\n"
      ],
      "metadata": {
        "id": "leUfAQdyyxcU"
      }
    },
    {
      "cell_type": "markdown",
      "source": [
        "    i. How many total cases are there in the data?: ___\n"
      ],
      "metadata": {
        "id": "D1CRqeFgsYSU"
      }
    },
    {
      "cell_type": "code",
      "source": [
        "pip install ucimlrepo"
      ],
      "metadata": {
        "colab": {
          "base_uri": "https://localhost:8080/"
        },
        "id": "sO8bV5x6Nxpl",
        "outputId": "180241f7-8b8d-442a-e6b4-e0f887ac2721"
      },
      "execution_count": null,
      "outputs": [
        {
          "output_type": "stream",
          "name": "stdout",
          "text": [
            "Requirement already satisfied: ucimlrepo in /usr/local/lib/python3.11/dist-packages (0.0.7)\n",
            "Requirement already satisfied: pandas>=1.0.0 in /usr/local/lib/python3.11/dist-packages (from ucimlrepo) (2.2.2)\n",
            "Requirement already satisfied: certifi>=2020.12.5 in /usr/local/lib/python3.11/dist-packages (from ucimlrepo) (2025.1.31)\n",
            "Requirement already satisfied: numpy>=1.23.2 in /usr/local/lib/python3.11/dist-packages (from pandas>=1.0.0->ucimlrepo) (2.0.2)\n",
            "Requirement already satisfied: python-dateutil>=2.8.2 in /usr/local/lib/python3.11/dist-packages (from pandas>=1.0.0->ucimlrepo) (2.8.2)\n",
            "Requirement already satisfied: pytz>=2020.1 in /usr/local/lib/python3.11/dist-packages (from pandas>=1.0.0->ucimlrepo) (2025.2)\n",
            "Requirement already satisfied: tzdata>=2022.7 in /usr/local/lib/python3.11/dist-packages (from pandas>=1.0.0->ucimlrepo) (2025.2)\n",
            "Requirement already satisfied: six>=1.5 in /usr/local/lib/python3.11/dist-packages (from python-dateutil>=2.8.2->pandas>=1.0.0->ucimlrepo) (1.17.0)\n"
          ]
        }
      ]
    },
    {
      "cell_type": "code",
      "source": [
        "from ucimlrepo import fetch_ucirepo\n",
        "import pandas as pd\n",
        "from sklearn.cluster import KMeans\n",
        "\n",
        "# fetch dataset\n",
        "diag = fetch_ucirepo(id=17)\n",
        "# data (as pandas dataframes)\n",
        "X = diag.data.features\n",
        "y = diag.data.targets\n",
        "\n",
        "kmeans_diag = KMeans(n_clusters=2, n_init=10, random_state=0)\n",
        "kmeans_diag.fit(X)\n",
        "\n",
        "# Get cluster labels\n",
        "diagnosis_labels = kmeans_diag.labels_\n",
        "\n",
        "X.shape"
      ],
      "metadata": {
        "id": "kT2GOzzpzRR2",
        "colab": {
          "base_uri": "https://localhost:8080/"
        },
        "outputId": "4d1eda3b-87cf-47ea-fc2d-4577efd457f4"
      },
      "execution_count": null,
      "outputs": [
        {
          "output_type": "execute_result",
          "data": {
            "text/plain": [
              "(569, 30)"
            ]
          },
          "metadata": {},
          "execution_count": 394
        }
      ]
    },
    {
      "cell_type": "markdown",
      "source": [
        "    ii. How many [B]enign cases are there in the data?: ___\n"
      ],
      "metadata": {
        "id": "21HIxDPusaXV"
      }
    },
    {
      "cell_type": "code",
      "source": [
        "diagnosis_counts = pd.Series(diagnosis_labels).value_counts()\n",
        "print(diagnosis_counts[0])"
      ],
      "metadata": {
        "id": "830ZjY1fsa6P",
        "colab": {
          "base_uri": "https://localhost:8080/"
        },
        "outputId": "96441812-c6d7-48f3-9fa0-5e4a38512dc9"
      },
      "execution_count": null,
      "outputs": [
        {
          "output_type": "stream",
          "name": "stdout",
          "text": [
            "438\n"
          ]
        }
      ]
    },
    {
      "cell_type": "markdown",
      "source": [
        "    iii. How many [M]alignant cases are there in the data?: ___\n"
      ],
      "metadata": {
        "id": "qhTthuQksb7k"
      }
    },
    {
      "cell_type": "code",
      "source": [
        "print(diagnosis_counts[1])"
      ],
      "metadata": {
        "id": "lnhHm2UAsfop",
        "colab": {
          "base_uri": "https://localhost:8080/"
        },
        "outputId": "1ff45261-8061-4635-cbc1-18c776dc7755"
      },
      "execution_count": null,
      "outputs": [
        {
          "output_type": "stream",
          "name": "stdout",
          "text": [
            "131\n"
          ]
        }
      ]
    },
    {
      "cell_type": "markdown",
      "source": [
        "b) Run k-means clustering using all the rows and only the following features: ClumpThickness, CellSize, and Nuclei. Use n_init=10.\n",
        "\n",
        "    i. What should be the value of k? k = ___"
      ],
      "metadata": {
        "id": "963dg4AAzl5O"
      }
    },
    {
      "cell_type": "markdown",
      "source": [
        "The value of k is 2"
      ],
      "metadata": {
        "id": "-2SbSLnDmNvV"
      }
    },
    {
      "cell_type": "code",
      "source": [
        "from ucimlrepo import fetch_ucirepo\n",
        "\n",
        "# 1. Fetch the “Original” dataset (id=15)\n",
        "orig = fetch_ucirepo(id=15)\n",
        "\n",
        "X = orig.data.features\n",
        "\n",
        "print(\"Columns:\\n\", X.columns.tolist())\n"
      ],
      "metadata": {
        "colab": {
          "base_uri": "https://localhost:8080/"
        },
        "id": "rnUDGEVVgBBS",
        "outputId": "495eb2b3-1a73-4fa6-c819-37e610ba1dab"
      },
      "execution_count": null,
      "outputs": [
        {
          "output_type": "stream",
          "name": "stdout",
          "text": [
            "Columns:\n",
            " ['Clump_thickness', 'Uniformity_of_cell_size', 'Uniformity_of_cell_shape', 'Marginal_adhesion', 'Single_epithelial_cell_size', 'Bare_nuclei', 'Bland_chromatin', 'Normal_nucleoli', 'Mitoses']\n"
          ]
        }
      ]
    },
    {
      "cell_type": "markdown",
      "source": [
        "    ii. Give Python code:\n"
      ],
      "metadata": {
        "id": "8tjLW9FTsoWm"
      }
    },
    {
      "cell_type": "code",
      "source": [
        "# 1) Fetch the ORIGINAL Wisconsin dataset (id=15)\n",
        "data = fetch_ucirepo(id=15).data\n",
        "X = data.features\n",
        "\n",
        "# Select the desired features:\n",
        "selected_features = ['Clump_thickness', 'Uniformity_of_cell_size', 'Bare_nuclei']\n",
        "X_selected = X[selected_features]\n",
        "\n",
        "# Handle missing values (if any) by replacing '?' with NaN and then imputing\n",
        "X_selected = X_selected.replace('?', pd.NA).astype(float)\n",
        "X_selected = X_selected.fillna(X_selected.mean())\n",
        "\n",
        "# Perform k-means clustering with n_init=10\n",
        "kmeans = KMeans(n_clusters=2, n_init=10, random_state=0)\n",
        "kmeans.fit(X_selected)\n",
        "\n",
        "# Get cluster labels\n",
        "cluster_labels = kmeans.labels_\n",
        "\n",
        "# Add cluster labels to the original DataFrame\n",
        "X['cluster'] = cluster_labels\n",
        "\n",
        "# Print the cluster centers\n",
        "print(\"Cluster Centers:\\n\", kmeans.cluster_centers_)"
      ],
      "metadata": {
        "colab": {
          "base_uri": "https://localhost:8080/"
        },
        "id": "f864rMb6ghMb",
        "outputId": "a1ef8eef-3c11-4616-9ceb-606524de96d4"
      },
      "execution_count": null,
      "outputs": [
        {
          "output_type": "stream",
          "name": "stdout",
          "text": [
            "Cluster Centers:\n",
            " [[3.02340426 1.34893617 1.36400112]\n",
            " [7.27947598 6.79912664 8.02023567]]\n"
          ]
        },
        {
          "output_type": "stream",
          "name": "stderr",
          "text": [
            "<ipython-input-398-592e642ee691>:21: SettingWithCopyWarning: \n",
            "A value is trying to be set on a copy of a slice from a DataFrame.\n",
            "Try using .loc[row_indexer,col_indexer] = value instead\n",
            "\n",
            "See the caveats in the documentation: https://pandas.pydata.org/pandas-docs/stable/user_guide/indexing.html#returning-a-view-versus-a-copy\n",
            "  X['cluster'] = cluster_labels\n"
          ]
        }
      ]
    },
    {
      "cell_type": "markdown",
      "source": [
        "c) Evaluation: Compare the resulting clusters with the known diagnosis.\n"
      ],
      "metadata": {
        "id": "KI5cm7siz3TU"
      }
    },
    {
      "cell_type": "markdown",
      "source": [
        "i. What is the contingency table of your clustering? (Hint: use the scikit-learn confusion_matrix() function. You can arbitrarily assign cluster 1/2 to Benign/Malignant)\n",
        "\n",
        "|          |Cluster 1    |\tCluster 2    |\n",
        "|----------|-------------|---------------|\n",
        "|Benign    |    356      |       1       |\n",
        "|Malignant |     82      |      130      |"
      ],
      "metadata": {
        "id": "nVkhWl8i0FR3"
      }
    },
    {
      "cell_type": "markdown",
      "source": [
        "    ii. Give Python code:"
      ],
      "metadata": {
        "id": "Tkemk9fi0-02"
      }
    },
    {
      "cell_type": "code",
      "source": [
        "from sklearn.metrics import confusion_matrix\n",
        "\n",
        "# Ensure y['Diagnosis'] only contains 'B' and 'M' before mapping\n",
        "y_true_cleaned = y['Diagnosis'].map({'B': 0, 'M': 1}).dropna()\n",
        "\n",
        "# Filter diagnosis_labels to match the cleaned y_true\n",
        "diagnosis_labels_cleaned = diagnosis_labels[y_true_cleaned.index]\n",
        "\n",
        "# Create the contingency table\n",
        "contingency_table = confusion_matrix(y_true_cleaned, diagnosis_labels_cleaned)\n",
        "\n",
        "# Display the contingency table\n",
        "pd.DataFrame(contingency_table,\n",
        "                  index=['Actual Benign', 'Actual Malignant'],\n",
        "                  columns=['Predicted Benign', 'Predicted Malignant'])"
      ],
      "metadata": {
        "id": "G6OJjnh90Vf6",
        "colab": {
          "base_uri": "https://localhost:8080/",
          "height": 112
        },
        "outputId": "a3f9fdd6-73ef-483b-93a8-5549b21dd797"
      },
      "execution_count": null,
      "outputs": [
        {
          "output_type": "execute_result",
          "data": {
            "text/plain": [
              "                  Predicted Benign  Predicted Malignant\n",
              "Actual Benign                  356                    1\n",
              "Actual Malignant                82                  130"
            ],
            "text/html": [
              "\n",
              "  <div id=\"df-7ceb748b-096b-41e1-b417-ed42a5ce61b1\" class=\"colab-df-container\">\n",
              "    <div>\n",
              "<style scoped>\n",
              "    .dataframe tbody tr th:only-of-type {\n",
              "        vertical-align: middle;\n",
              "    }\n",
              "\n",
              "    .dataframe tbody tr th {\n",
              "        vertical-align: top;\n",
              "    }\n",
              "\n",
              "    .dataframe thead th {\n",
              "        text-align: right;\n",
              "    }\n",
              "</style>\n",
              "<table border=\"1\" class=\"dataframe\">\n",
              "  <thead>\n",
              "    <tr style=\"text-align: right;\">\n",
              "      <th></th>\n",
              "      <th>Predicted Benign</th>\n",
              "      <th>Predicted Malignant</th>\n",
              "    </tr>\n",
              "  </thead>\n",
              "  <tbody>\n",
              "    <tr>\n",
              "      <th>Actual Benign</th>\n",
              "      <td>356</td>\n",
              "      <td>1</td>\n",
              "    </tr>\n",
              "    <tr>\n",
              "      <th>Actual Malignant</th>\n",
              "      <td>82</td>\n",
              "      <td>130</td>\n",
              "    </tr>\n",
              "  </tbody>\n",
              "</table>\n",
              "</div>\n",
              "    <div class=\"colab-df-buttons\">\n",
              "\n",
              "  <div class=\"colab-df-container\">\n",
              "    <button class=\"colab-df-convert\" onclick=\"convertToInteractive('df-7ceb748b-096b-41e1-b417-ed42a5ce61b1')\"\n",
              "            title=\"Convert this dataframe to an interactive table.\"\n",
              "            style=\"display:none;\">\n",
              "\n",
              "  <svg xmlns=\"http://www.w3.org/2000/svg\" height=\"24px\" viewBox=\"0 -960 960 960\">\n",
              "    <path d=\"M120-120v-720h720v720H120Zm60-500h600v-160H180v160Zm220 220h160v-160H400v160Zm0 220h160v-160H400v160ZM180-400h160v-160H180v160Zm440 0h160v-160H620v160ZM180-180h160v-160H180v160Zm440 0h160v-160H620v160Z\"/>\n",
              "  </svg>\n",
              "    </button>\n",
              "\n",
              "  <style>\n",
              "    .colab-df-container {\n",
              "      display:flex;\n",
              "      gap: 12px;\n",
              "    }\n",
              "\n",
              "    .colab-df-convert {\n",
              "      background-color: #E8F0FE;\n",
              "      border: none;\n",
              "      border-radius: 50%;\n",
              "      cursor: pointer;\n",
              "      display: none;\n",
              "      fill: #1967D2;\n",
              "      height: 32px;\n",
              "      padding: 0 0 0 0;\n",
              "      width: 32px;\n",
              "    }\n",
              "\n",
              "    .colab-df-convert:hover {\n",
              "      background-color: #E2EBFA;\n",
              "      box-shadow: 0px 1px 2px rgba(60, 64, 67, 0.3), 0px 1px 3px 1px rgba(60, 64, 67, 0.15);\n",
              "      fill: #174EA6;\n",
              "    }\n",
              "\n",
              "    .colab-df-buttons div {\n",
              "      margin-bottom: 4px;\n",
              "    }\n",
              "\n",
              "    [theme=dark] .colab-df-convert {\n",
              "      background-color: #3B4455;\n",
              "      fill: #D2E3FC;\n",
              "    }\n",
              "\n",
              "    [theme=dark] .colab-df-convert:hover {\n",
              "      background-color: #434B5C;\n",
              "      box-shadow: 0px 1px 3px 1px rgba(0, 0, 0, 0.15);\n",
              "      filter: drop-shadow(0px 1px 2px rgba(0, 0, 0, 0.3));\n",
              "      fill: #FFFFFF;\n",
              "    }\n",
              "  </style>\n",
              "\n",
              "    <script>\n",
              "      const buttonEl =\n",
              "        document.querySelector('#df-7ceb748b-096b-41e1-b417-ed42a5ce61b1 button.colab-df-convert');\n",
              "      buttonEl.style.display =\n",
              "        google.colab.kernel.accessAllowed ? 'block' : 'none';\n",
              "\n",
              "      async function convertToInteractive(key) {\n",
              "        const element = document.querySelector('#df-7ceb748b-096b-41e1-b417-ed42a5ce61b1');\n",
              "        const dataTable =\n",
              "          await google.colab.kernel.invokeFunction('convertToInteractive',\n",
              "                                                    [key], {});\n",
              "        if (!dataTable) return;\n",
              "\n",
              "        const docLinkHtml = 'Like what you see? Visit the ' +\n",
              "          '<a target=\"_blank\" href=https://colab.research.google.com/notebooks/data_table.ipynb>data table notebook</a>'\n",
              "          + ' to learn more about interactive tables.';\n",
              "        element.innerHTML = '';\n",
              "        dataTable['output_type'] = 'display_data';\n",
              "        await google.colab.output.renderOutput(dataTable, element);\n",
              "        const docLink = document.createElement('div');\n",
              "        docLink.innerHTML = docLinkHtml;\n",
              "        element.appendChild(docLink);\n",
              "      }\n",
              "    </script>\n",
              "  </div>\n",
              "\n",
              "\n",
              "    <div id=\"df-293894e5-4f27-430c-a415-68f1eb2326fd\">\n",
              "      <button class=\"colab-df-quickchart\" onclick=\"quickchart('df-293894e5-4f27-430c-a415-68f1eb2326fd')\"\n",
              "                title=\"Suggest charts\"\n",
              "                style=\"display:none;\">\n",
              "\n",
              "<svg xmlns=\"http://www.w3.org/2000/svg\" height=\"24px\"viewBox=\"0 0 24 24\"\n",
              "     width=\"24px\">\n",
              "    <g>\n",
              "        <path d=\"M19 3H5c-1.1 0-2 .9-2 2v14c0 1.1.9 2 2 2h14c1.1 0 2-.9 2-2V5c0-1.1-.9-2-2-2zM9 17H7v-7h2v7zm4 0h-2V7h2v10zm4 0h-2v-4h2v4z\"/>\n",
              "    </g>\n",
              "</svg>\n",
              "      </button>\n",
              "\n",
              "<style>\n",
              "  .colab-df-quickchart {\n",
              "      --bg-color: #E8F0FE;\n",
              "      --fill-color: #1967D2;\n",
              "      --hover-bg-color: #E2EBFA;\n",
              "      --hover-fill-color: #174EA6;\n",
              "      --disabled-fill-color: #AAA;\n",
              "      --disabled-bg-color: #DDD;\n",
              "  }\n",
              "\n",
              "  [theme=dark] .colab-df-quickchart {\n",
              "      --bg-color: #3B4455;\n",
              "      --fill-color: #D2E3FC;\n",
              "      --hover-bg-color: #434B5C;\n",
              "      --hover-fill-color: #FFFFFF;\n",
              "      --disabled-bg-color: #3B4455;\n",
              "      --disabled-fill-color: #666;\n",
              "  }\n",
              "\n",
              "  .colab-df-quickchart {\n",
              "    background-color: var(--bg-color);\n",
              "    border: none;\n",
              "    border-radius: 50%;\n",
              "    cursor: pointer;\n",
              "    display: none;\n",
              "    fill: var(--fill-color);\n",
              "    height: 32px;\n",
              "    padding: 0;\n",
              "    width: 32px;\n",
              "  }\n",
              "\n",
              "  .colab-df-quickchart:hover {\n",
              "    background-color: var(--hover-bg-color);\n",
              "    box-shadow: 0 1px 2px rgba(60, 64, 67, 0.3), 0 1px 3px 1px rgba(60, 64, 67, 0.15);\n",
              "    fill: var(--button-hover-fill-color);\n",
              "  }\n",
              "\n",
              "  .colab-df-quickchart-complete:disabled,\n",
              "  .colab-df-quickchart-complete:disabled:hover {\n",
              "    background-color: var(--disabled-bg-color);\n",
              "    fill: var(--disabled-fill-color);\n",
              "    box-shadow: none;\n",
              "  }\n",
              "\n",
              "  .colab-df-spinner {\n",
              "    border: 2px solid var(--fill-color);\n",
              "    border-color: transparent;\n",
              "    border-bottom-color: var(--fill-color);\n",
              "    animation:\n",
              "      spin 1s steps(1) infinite;\n",
              "  }\n",
              "\n",
              "  @keyframes spin {\n",
              "    0% {\n",
              "      border-color: transparent;\n",
              "      border-bottom-color: var(--fill-color);\n",
              "      border-left-color: var(--fill-color);\n",
              "    }\n",
              "    20% {\n",
              "      border-color: transparent;\n",
              "      border-left-color: var(--fill-color);\n",
              "      border-top-color: var(--fill-color);\n",
              "    }\n",
              "    30% {\n",
              "      border-color: transparent;\n",
              "      border-left-color: var(--fill-color);\n",
              "      border-top-color: var(--fill-color);\n",
              "      border-right-color: var(--fill-color);\n",
              "    }\n",
              "    40% {\n",
              "      border-color: transparent;\n",
              "      border-right-color: var(--fill-color);\n",
              "      border-top-color: var(--fill-color);\n",
              "    }\n",
              "    60% {\n",
              "      border-color: transparent;\n",
              "      border-right-color: var(--fill-color);\n",
              "    }\n",
              "    80% {\n",
              "      border-color: transparent;\n",
              "      border-right-color: var(--fill-color);\n",
              "      border-bottom-color: var(--fill-color);\n",
              "    }\n",
              "    90% {\n",
              "      border-color: transparent;\n",
              "      border-bottom-color: var(--fill-color);\n",
              "    }\n",
              "  }\n",
              "</style>\n",
              "\n",
              "      <script>\n",
              "        async function quickchart(key) {\n",
              "          const quickchartButtonEl =\n",
              "            document.querySelector('#' + key + ' button');\n",
              "          quickchartButtonEl.disabled = true;  // To prevent multiple clicks.\n",
              "          quickchartButtonEl.classList.add('colab-df-spinner');\n",
              "          try {\n",
              "            const charts = await google.colab.kernel.invokeFunction(\n",
              "                'suggestCharts', [key], {});\n",
              "          } catch (error) {\n",
              "            console.error('Error during call to suggestCharts:', error);\n",
              "          }\n",
              "          quickchartButtonEl.classList.remove('colab-df-spinner');\n",
              "          quickchartButtonEl.classList.add('colab-df-quickchart-complete');\n",
              "        }\n",
              "        (() => {\n",
              "          let quickchartButtonEl =\n",
              "            document.querySelector('#df-293894e5-4f27-430c-a415-68f1eb2326fd button');\n",
              "          quickchartButtonEl.style.display =\n",
              "            google.colab.kernel.accessAllowed ? 'block' : 'none';\n",
              "        })();\n",
              "      </script>\n",
              "    </div>\n",
              "\n",
              "    </div>\n",
              "  </div>\n"
            ],
            "application/vnd.google.colaboratory.intrinsic+json": {
              "type": "dataframe",
              "summary": "{\n  \"name\": \"                  columns=['Predicted Benign', 'Predicted Malignant'])\",\n  \"rows\": 2,\n  \"fields\": [\n    {\n      \"column\": \"Predicted Benign\",\n      \"properties\": {\n        \"dtype\": \"number\",\n        \"std\": 193,\n        \"min\": 82,\n        \"max\": 356,\n        \"num_unique_values\": 2,\n        \"samples\": [\n          82,\n          356\n        ],\n        \"semantic_type\": \"\",\n        \"description\": \"\"\n      }\n    },\n    {\n      \"column\": \"Predicted Malignant\",\n      \"properties\": {\n        \"dtype\": \"number\",\n        \"std\": 91,\n        \"min\": 1,\n        \"max\": 130,\n        \"num_unique_values\": 2,\n        \"samples\": [\n          130,\n          1\n        ],\n        \"semantic_type\": \"\",\n        \"description\": \"\"\n      }\n    }\n  ]\n}"
            }
          },
          "metadata": {},
          "execution_count": 399
        }
      ]
    },
    {
      "cell_type": "markdown",
      "source": [
        "# 4.\n",
        "Using the contingency table that you obtained from the previous problem (3.c), calculate the following metrics (consider Malignant as the Positive class):\n",
        "TP = 82, TN = 1, FP = 356, FN = 130\n",
        "1. Accuracy: $$(82 + 1) \\div 569 = 0.146$$\n",
        "2. Error: $$(356 + 130) \\div 569 = 0.854$$\n",
        "3. Precision: $$82 \\div (82 + 356) = 0.187$$\n",
        "4. Recall: $$82 \\div (82 + 130) = 0.387$$\n",
        "5. F-score: $$2 \\times 0.187 \\times 0.387 \\div 0.187 + 0.387 = 0.252$$\n"
      ],
      "metadata": {
        "id": "sU-mC1Ve1PHr"
      }
    },
    {
      "cell_type": "markdown",
      "source": [
        "Consider a “silly” classifier for this problem that makes every prediction as Malignant. Calculate the metrics for this “silly” classifier.\n",
        "\n",
        "$$ N_B = 356+1=357 $$\n",
        "$$ N_M = 130+82=212 $$\n",
        "$$ N Total = 357+212=569 $$\n",
        "\n",
        "\n",
        "1. Accuracy  (TP+TN/N) $$ (212+0) \\div 569 ≈ 0.373 $$\n",
        "2. Error (FP+FN/N) $$ (357+0) \\div 569 ≈ 0.627 $$\n",
        "3. Precision (TP/TP+FP) $$ (212) \\div (212+357) ≈ 0.373 $$\n",
        "4. Recall (TP/TP+FN) $$ (212) \\div (212+0) ≈ 1 $$\n",
        "5. F-score $$ 2((0.373 \\times 1) \\div (0.373+1)) ≈ 0.5433 $$\n"
      ],
      "metadata": {
        "id": "hZG74dcu1pBb"
      }
    },
    {
      "cell_type": "code",
      "source": [
        "def colab2pdf():\n",
        "  # @title Download Notebook in PDF Format{display-mode:'form'}\n",
        "  !apt-get install -yqq --no-install-recommends librsvg2-bin>/dev/null;\n",
        "  import contextlib,datetime,google,io,IPython,ipywidgets,json,locale,nbformat,os,pathlib,requests,urllib,warnings,werkzeug,yaml,re;locale.setlocale(locale.LC_ALL,'en_US.UTF-8');warnings.filterwarnings('ignore',category=nbformat.validator.MissingIDFieldWarning);\n",
        "  %matplotlib inline\n",
        "  def convert(b):\n",
        "    try:\n",
        "      s.value='🔄 Converting';b.disabled=True\n",
        "      n=pathlib.Path(werkzeug.utils.secure_filename(urllib.parse.unquote(requests.get(f'http://{os.environ[\"COLAB_JUPYTER_IP\"]}:{os.environ[\"KMP_TARGET_PORT\"]}/api/sessions').json()[0]['name'])))\n",
        "      p=pathlib.Path('/content/pdfs')/f'{datetime.datetime.utcnow().strftime(\"%Y%m%d_%H%M%S\")}_{n.stem}';p.mkdir(parents=True,exist_ok=True);nb=nbformat.reads(json.dumps(google.colab._message.blocking_request('get_ipynb',timeout_sec=600)['ipynb']),as_version=4)\n",
        "      u=[u for c in nb.cells if c.get('cell_type')=='markdown' for u in re.findall(r'!\\[.*?\\]\\((https?://.*?)\\)',c['source']) if requests.head(u,timeout=5).status_code!=200]\n",
        "      if u:raise Exception(f\"Bad Image URLs: {','.join(u)}\")\n",
        "      nb.cells=[cell for cell in nb.cells if '--Colab2PDF' not in cell.source]\n",
        "      nb=nbformat.v4.new_notebook(cells=nb.cells or [nbformat.v4.new_code_cell('#')]);nbformat.validator.normalize(nb)\n",
        "      nbformat.write(nb,(p/f'{n.stem}.ipynb').open('w',encoding='utf-8'))\n",
        "      with (p/'config.yml').open('w', encoding='utf-8') as f: yaml.dump({'include-in-header':[{'text':r'\\usepackage{fvextra}\\DefineVerbatimEnvironment{Highlighting}{Verbatim}{breaksymbolleft={},showspaces=false,showtabs=false,breaklines,breakanywhere,commandchars=\\\\\\{\\}}'}],'include-before-body':[{'text':r'\\DefineVerbatimEnvironment{verbatim}{Verbatim}{breaksymbolleft={},showspaces=false,showtabs=false,breaklines}'}]},f)\n",
        "      !quarto render {p}/{n.stem}.ipynb --metadata-file={p}/config.yml --to pdf -M latex-auto-install -M margin-top=1in -M margin-bottom=1in -M margin-left=1in -M margin-right=1in --quiet\n",
        "      google.colab.files.download(str(p/f'{n.stem}.pdf'));s.value=f'✅ Downloaded: {n.stem}.pdf'\n",
        "    except Exception as e:s.value=f'❌ {str(e)}'\n",
        "    finally:b.disabled=False\n",
        "  if not pathlib.Path('/usr/local/bin/quarto').exists():\n",
        "    !wget -q 'https://quarto.org/download/latest/quarto-linux-amd64.deb' && dpkg -i quarto-linux-amd64.deb>/dev/null && quarto install tinytex --update-path --quiet && rm quarto-linux-amd64.deb\n",
        "  b=ipywidgets.widgets.Button(description='⬇️ Download');s=ipywidgets.widgets.Label();b.on_click(lambda b:convert(b));IPython.display.display(ipywidgets.widgets.HBox([b,s]))\n",
        "colab2pdf() # | Colab2PDF v1.6 | https://github.com/drengskapur/colab2pdf | GPL-3.0-or-later |"
      ],
      "metadata": {
        "colab": {
          "base_uri": "https://localhost:8080/",
          "height": 49,
          "referenced_widgets": [
            "ebc355ae4fe84b80a5b32ff714afb8e2",
            "3e27214450ae4b578e752f09373839fe",
            "0f8f88f3e264406ea278aa5d48b0708d",
            "15a0b496d11f4c578d1eb78f1f13b09f",
            "5e2eed00188d4c11b03f1d80b48415a5",
            "90f2dfabaabd40409623e2ad9d12e383",
            "2e9bcef397494e30ac9ec34790499843",
            "3e23b70332424800829be87a6c1276f9"
          ]
        },
        "id": "VqXTNeOEXg6R",
        "outputId": "02cfbe82-e55b-4704-9c75-00c8c8deb29d"
      },
      "execution_count": null,
      "outputs": [
        {
          "output_type": "display_data",
          "data": {
            "text/plain": [
              "HBox(children=(Button(description='⬇️ Download', style=ButtonStyle()), Label(value='')))"
            ],
            "application/vnd.jupyter.widget-view+json": {
              "version_major": 2,
              "version_minor": 0,
              "model_id": "ebc355ae4fe84b80a5b32ff714afb8e2"
            }
          },
          "metadata": {}
        },
        {
          "output_type": "display_data",
          "data": {
            "text/plain": [
              "<IPython.core.display.Javascript object>"
            ],
            "application/javascript": [
              "\n",
              "    async function download(id, filename, size) {\n",
              "      if (!google.colab.kernel.accessAllowed) {\n",
              "        return;\n",
              "      }\n",
              "      const div = document.createElement('div');\n",
              "      const label = document.createElement('label');\n",
              "      label.textContent = `Downloading \"${filename}\": `;\n",
              "      div.appendChild(label);\n",
              "      const progress = document.createElement('progress');\n",
              "      progress.max = size;\n",
              "      div.appendChild(progress);\n",
              "      document.body.appendChild(div);\n",
              "\n",
              "      const buffers = [];\n",
              "      let downloaded = 0;\n",
              "\n",
              "      const channel = await google.colab.kernel.comms.open(id);\n",
              "      // Send a message to notify the kernel that we're ready.\n",
              "      channel.send({})\n",
              "\n",
              "      for await (const message of channel.messages) {\n",
              "        // Send a message to notify the kernel that we're ready.\n",
              "        channel.send({})\n",
              "        if (message.buffers) {\n",
              "          for (const buffer of message.buffers) {\n",
              "            buffers.push(buffer);\n",
              "            downloaded += buffer.byteLength;\n",
              "            progress.value = downloaded;\n",
              "          }\n",
              "        }\n",
              "      }\n",
              "      const blob = new Blob(buffers, {type: 'application/binary'});\n",
              "      const a = document.createElement('a');\n",
              "      a.href = window.URL.createObjectURL(blob);\n",
              "      a.download = filename;\n",
              "      div.appendChild(a);\n",
              "      a.click();\n",
              "      div.remove();\n",
              "    }\n",
              "  "
            ]
          },
          "metadata": {}
        },
        {
          "output_type": "display_data",
          "data": {
            "text/plain": [
              "<IPython.core.display.Javascript object>"
            ],
            "application/javascript": [
              "download(\"download_b121e855-6fc2-4ac4-90d0-3c52bba2b1c9\", \"Homework8.pdf\", 137058)"
            ]
          },
          "metadata": {}
        }
      ]
    }
  ]
}