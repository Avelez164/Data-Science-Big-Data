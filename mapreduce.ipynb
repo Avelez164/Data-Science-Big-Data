{
  "cells": [
    {
      "cell_type": "markdown",
      "metadata": {
        "id": "view-in-github",
        "colab_type": "text"
      },
      "source": [
        "<a href=\"https://colab.research.google.com/github/Avelez164/Data-Science-Big-Data/blob/main/mapreduce.ipynb\" target=\"_parent\"><img src=\"https://colab.research.google.com/assets/colab-badge.svg\" alt=\"Open In Colab\"/></a>"
      ]
    },
    {
      "cell_type": "markdown",
      "metadata": {
        "id": "zlbVqsCdHZar"
      },
      "source": [
        "# CPSC 375 Classwork - Map-Reduce\n",
        "\n",
        "[![Open In Colab](https://colab.research.google.com/assets/colab-badge.svg)](https://colab.research.google.com/github/ProfAvery/cpsc375-classwork/blob/main/mapreduce.ipynb)\n",
        "\n",
        "- *Manager*:\n",
        "- *Recorder*:\n",
        "- *Presenter*:\n",
        "- *Timekeeper*:"
      ]
    },
    {
      "cell_type": "code",
      "execution_count": 1,
      "metadata": {
        "id": "AXbxcNSsHZat",
        "colab": {
          "base_uri": "https://localhost:8080/"
        },
        "outputId": "d96809c6-7035-40a1-ac5e-46c809c6b709"
      },
      "outputs": [
        {
          "output_type": "stream",
          "name": "stdout",
          "text": [
            "Collecting mockr\n",
            "  Downloading mockr-0.36-py3-none-any.whl.metadata (2.4 kB)\n",
            "Requirement already satisfied: pandas in /usr/local/lib/python3.11/dist-packages (from mockr) (2.2.2)\n",
            "Requirement already satisfied: numpy>=1.23.2 in /usr/local/lib/python3.11/dist-packages (from pandas->mockr) (2.0.2)\n",
            "Requirement already satisfied: python-dateutil>=2.8.2 in /usr/local/lib/python3.11/dist-packages (from pandas->mockr) (2.9.0.post0)\n",
            "Requirement already satisfied: pytz>=2020.1 in /usr/local/lib/python3.11/dist-packages (from pandas->mockr) (2025.2)\n",
            "Requirement already satisfied: tzdata>=2022.7 in /usr/local/lib/python3.11/dist-packages (from pandas->mockr) (2025.2)\n",
            "Requirement already satisfied: six>=1.5 in /usr/local/lib/python3.11/dist-packages (from python-dateutil>=2.8.2->pandas->mockr) (1.17.0)\n",
            "Downloading mockr-0.36-py3-none-any.whl (4.1 kB)\n",
            "Installing collected packages: mockr\n",
            "Successfully installed mockr-0.36\n"
          ]
        }
      ],
      "source": [
        "%pip install mockr"
      ]
    },
    {
      "cell_type": "markdown",
      "metadata": {
        "id": "I0k5avpxHZau"
      },
      "source": [
        "## Part 1 - Slide 45"
      ]
    },
    {
      "cell_type": "markdown",
      "metadata": {
        "id": "7W3isT2LHZav"
      },
      "source": [
        "* Implement `map()` and `reduce()` to count word frequencies\n"
      ]
    },
    {
      "cell_type": "code",
      "execution_count": 9,
      "metadata": {
        "id": "q5FLxHg7HZav",
        "colab": {
          "base_uri": "https://localhost:8080/"
        },
        "collapsed": true,
        "outputId": "7ccafbef-6d94-4ddc-eeb7-a3f15ca0f095"
      },
      "outputs": [
        {
          "output_type": "stream",
          "name": "stdout",
          "text": [
            "[('deer', 2), ('bear', 2), ('river', 2), ('car', 3)]\n"
          ]
        }
      ],
      "source": [
        "from mockr import run_stream_job\n",
        "\n",
        "def map_fn(chunk):\n",
        "  # TODO: output (word, 1) once per word in the document\n",
        "  for word in chunk.lower().split():\n",
        "    yield (word, 1)\n",
        "\n",
        "def reduce_fn(key, values):\n",
        "  # TODO: compute the sum paired with the key\n",
        "  yield (key, sum(values))\n",
        "\n",
        "input_str = \"Deer bear river\\nCar car river\\nDeer car bear\"\n",
        "\n",
        "results = run_stream_job(input_str, map_fn, reduce_fn)\n",
        "\n",
        "print(results)"
      ]
    },
    {
      "cell_type": "code",
      "source": [
        "for word in 'Deer bear river'.split():\n",
        "  print(word)"
      ],
      "metadata": {
        "colab": {
          "base_uri": "https://localhost:8080/"
        },
        "id": "agBl-hkqOKXC",
        "outputId": "0d8535d8-2d81-4dfa-80f3-f6f0299161bf"
      },
      "execution_count": 7,
      "outputs": [
        {
          "output_type": "stream",
          "name": "stdout",
          "text": [
            "Deer\n",
            "bear\n",
            "river\n"
          ]
        }
      ]
    },
    {
      "cell_type": "markdown",
      "metadata": {
        "id": "OSAskCyzHZaw"
      },
      "source": [
        "* Compare your output with the results on slides 40 and 43\n"
      ]
    },
    {
      "cell_type": "markdown",
      "metadata": {
        "id": "RDxcnZQOHZaw"
      },
      "source": [
        "## Part 2 - Slide 45"
      ]
    },
    {
      "cell_type": "markdown",
      "metadata": {
        "id": "IjBh0hsHHZax"
      },
      "source": [
        "`access.log.2025-04-26` contains a web server access log in [Combined Log Format](https://en.wikipedia.org/wiki/Common_Log_Format) created by visitors to [SecRepo.com - Samples of Security Related Data\n",
        "](https://www.secrepo.com/).\n",
        "\n",
        "* For each host, find the total number of bytes\n",
        "  * That is, the sum of the page sizes for all URLs from that particular host\n"
      ]
    },
    {
      "cell_type": "code",
      "execution_count": 13,
      "metadata": {
        "id": "2fDuaEnMHZax",
        "colab": {
          "base_uri": "https://localhost:8080/",
          "height": 370
        },
        "collapsed": true,
        "outputId": "ef1616f7-cf11-413f-9129-c5a211387d9e"
      },
      "outputs": [
        {
          "output_type": "error",
          "ename": "TypeError",
          "evalue": "'NoneType' object is not iterable",
          "traceback": [
            "\u001b[0;31m---------------------------------------------------------------------------\u001b[0m",
            "\u001b[0;31mTypeError\u001b[0m                                 Traceback (most recent call last)",
            "\u001b[0;32m<ipython-input-13-2abffb1d85e6>\u001b[0m in \u001b[0;36m<cell line: 0>\u001b[0;34m()\u001b[0m\n\u001b[1;32m     13\u001b[0m \u001b[0minput_str\u001b[0m \u001b[0;34m=\u001b[0m \u001b[0minput_file\u001b[0m\u001b[0;34m.\u001b[0m\u001b[0mread\u001b[0m\u001b[0;34m(\u001b[0m\u001b[0;34m)\u001b[0m\u001b[0;34m.\u001b[0m\u001b[0mdecode\u001b[0m\u001b[0;34m(\u001b[0m\u001b[0;34m\"utf-8\"\u001b[0m\u001b[0;34m)\u001b[0m\u001b[0;34m.\u001b[0m\u001b[0mstrip\u001b[0m\u001b[0;34m(\u001b[0m\u001b[0;34m)\u001b[0m\u001b[0;34m\u001b[0m\u001b[0;34m\u001b[0m\u001b[0m\n\u001b[1;32m     14\u001b[0m \u001b[0;34m\u001b[0m\u001b[0m\n\u001b[0;32m---> 15\u001b[0;31m \u001b[0mresults\u001b[0m \u001b[0;34m=\u001b[0m \u001b[0mrun_stream_job\u001b[0m\u001b[0;34m(\u001b[0m\u001b[0minput_str\u001b[0m\u001b[0;34m,\u001b[0m \u001b[0mmap_fn\u001b[0m\u001b[0;34m,\u001b[0m \u001b[0mreduce_fn\u001b[0m\u001b[0;34m)\u001b[0m\u001b[0;34m\u001b[0m\u001b[0;34m\u001b[0m\u001b[0m\n\u001b[0m\u001b[1;32m     16\u001b[0m \u001b[0;34m\u001b[0m\u001b[0m\n\u001b[1;32m     17\u001b[0m \u001b[0mprint\u001b[0m\u001b[0;34m(\u001b[0m\u001b[0mresults\u001b[0m\u001b[0;34m)\u001b[0m\u001b[0;34m\u001b[0m\u001b[0;34m\u001b[0m\u001b[0m\n",
            "\u001b[0;32m/usr/local/lib/python3.11/dist-packages/mockr.py\u001b[0m in \u001b[0;36mrun_stream_job\u001b[0;34m(input_data, map_fn, reduce_fn)\u001b[0m\n\u001b[1;32m     98\u001b[0m     \u001b[0mlines\u001b[0m \u001b[0;34m=\u001b[0m \u001b[0minput_data\u001b[0m\u001b[0;34m.\u001b[0m\u001b[0msplit\u001b[0m\u001b[0;34m(\u001b[0m\u001b[0;34m\"\\n\"\u001b[0m\u001b[0;34m)\u001b[0m\u001b[0;34m\u001b[0m\u001b[0;34m\u001b[0m\u001b[0m\n\u001b[1;32m     99\u001b[0m \u001b[0;34m\u001b[0m\u001b[0m\n\u001b[0;32m--> 100\u001b[0;31m     \u001b[0;32mreturn\u001b[0m \u001b[0m__run_job\u001b[0m\u001b[0;34m(\u001b[0m\u001b[0mlines\u001b[0m\u001b[0;34m,\u001b[0m \u001b[0mmap_fn\u001b[0m\u001b[0;34m,\u001b[0m \u001b[0mreduce_fn\u001b[0m\u001b[0;34m)\u001b[0m\u001b[0;34m\u001b[0m\u001b[0;34m\u001b[0m\u001b[0m\n\u001b[0m\u001b[1;32m    101\u001b[0m \u001b[0;34m\u001b[0m\u001b[0m\n\u001b[1;32m    102\u001b[0m \u001b[0;32mdef\u001b[0m \u001b[0mrun_sequence_job\u001b[0m\u001b[0;34m(\u001b[0m\u001b[0minput_data\u001b[0m\u001b[0;34m,\u001b[0m \u001b[0mmap_fn\u001b[0m\u001b[0;34m,\u001b[0m \u001b[0mreduce_fn\u001b[0m\u001b[0;34m,\u001b[0m \u001b[0mn_chunks\u001b[0m \u001b[0;34m=\u001b[0m \u001b[0;32mNone\u001b[0m\u001b[0;34m)\u001b[0m\u001b[0;34m:\u001b[0m\u001b[0;34m\u001b[0m\u001b[0;34m\u001b[0m\u001b[0m\n",
            "\u001b[0;32m/usr/local/lib/python3.11/dist-packages/mockr.py\u001b[0m in \u001b[0;36m__run_job\u001b[0;34m(chunks, map_fn, reduce_fn)\u001b[0m\n\u001b[1;32m     56\u001b[0m     \u001b[0mshuffled_dict\u001b[0m \u001b[0;34m=\u001b[0m \u001b[0mdefaultdict\u001b[0m\u001b[0;34m(\u001b[0m\u001b[0mlist\u001b[0m\u001b[0;34m)\u001b[0m\u001b[0;34m\u001b[0m\u001b[0;34m\u001b[0m\u001b[0m\n\u001b[1;32m     57\u001b[0m \u001b[0;34m\u001b[0m\u001b[0m\n\u001b[0;32m---> 58\u001b[0;31m     \u001b[0;32mfor\u001b[0m \u001b[0mkv_tuple\u001b[0m \u001b[0;32min\u001b[0m \u001b[0mm_generator_chain\u001b[0m\u001b[0;34m:\u001b[0m\u001b[0;34m\u001b[0m\u001b[0;34m\u001b[0m\u001b[0m\n\u001b[0m\u001b[1;32m     59\u001b[0m         \u001b[0mshuffled_dict\u001b[0m\u001b[0;34m[\u001b[0m\u001b[0mkv_tuple\u001b[0m\u001b[0;34m[\u001b[0m\u001b[0;36m0\u001b[0m\u001b[0;34m]\u001b[0m\u001b[0;34m]\u001b[0m\u001b[0;34m.\u001b[0m\u001b[0mappend\u001b[0m\u001b[0;34m(\u001b[0m\u001b[0mkv_tuple\u001b[0m\u001b[0;34m[\u001b[0m\u001b[0;36m1\u001b[0m\u001b[0;34m]\u001b[0m\u001b[0;34m)\u001b[0m\u001b[0;34m\u001b[0m\u001b[0;34m\u001b[0m\u001b[0m\n\u001b[1;32m     60\u001b[0m \u001b[0;34m\u001b[0m\u001b[0m\n",
            "\u001b[0;31mTypeError\u001b[0m: 'NoneType' object is not iterable"
          ]
        }
      ],
      "source": [
        "import urllib\n",
        "\n",
        "def map_fn(chunk):\n",
        "  pass\n",
        "\n",
        "def reduce_fn(key, values):\n",
        "  pass\n",
        "\n",
        "input_file = urllib.request.urlopen(\n",
        "  \"https://raw.githubusercontent.com/ProfAvery/cpsc375-classwork/refs/heads/main/datasets/access.log.2025-04-26\"\n",
        ")\n",
        "\n",
        "input_str = input_file.read().decode(\"utf-8\").strip()\n",
        "\n",
        "results = run_stream_job(input_str, map_fn, reduce_fn)\n",
        "\n",
        "print(results)\n",
        "\n",
        "get_page_size = lambda line: int(line.split()[-1])"
      ]
    },
    {
      "cell_type": "markdown",
      "metadata": {
        "id": "ifiww1gRHZay"
      },
      "source": [
        "Original dataset:\n",
        " * <https://www.secrepo.com/self.logs/>"
      ]
    }
  ],
  "metadata": {
    "kernelspec": {
      "display_name": "cpsc375",
      "language": "python",
      "name": "python3"
    },
    "language_info": {
      "codemirror_mode": {
        "name": "ipython",
        "version": 3
      },
      "file_extension": ".py",
      "mimetype": "text/x-python",
      "name": "python",
      "nbconvert_exporter": "python",
      "pygments_lexer": "ipython3",
      "version": "3.12.9"
    },
    "colab": {
      "provenance": [],
      "include_colab_link": true
    }
  },
  "nbformat": 4,
  "nbformat_minor": 0
}