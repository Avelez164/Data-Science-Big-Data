{
  "cells": [
    {
      "cell_type": "markdown",
      "metadata": {
        "id": "view-in-github",
        "colab_type": "text"
      },
      "source": [
        "<a href=\"https://colab.research.google.com/github/Avelez164/Data-Science-Big-Data/blob/main/eda.ipynb\" target=\"_parent\"><img src=\"https://colab.research.google.com/assets/colab-badge.svg\" alt=\"Open In Colab\"/></a>"
      ]
    },
    {
      "cell_type": "markdown",
      "metadata": {
        "id": "sGB36p2p0mKq"
      },
      "source": [
        "# CPSC 375 Classwork - Exploratory data analysis\n",
        "\n",
        "[![Open In Colab](https://colab.research.google.com/assets/colab-badge.svg)](https://colab.research.google.com/github/ProfAvery/cpsc375-classwork/blob/main/eda.ipynb)\n",
        "\n",
        "- *Manager*:\n",
        "- *Recorder*:\n",
        "- *Presenter*:\n",
        "- *Timekeeper*:"
      ]
    },
    {
      "cell_type": "code",
      "execution_count": null,
      "metadata": {
        "id": "xAqXCU2V0mKs",
        "colab": {
          "base_uri": "https://localhost:8080/"
        },
        "outputId": "9508fa1b-ac0d-4f51-dad9-c8d0c4a8d94f"
      },
      "outputs": [
        {
          "output_type": "stream",
          "name": "stdout",
          "text": [
            "Collecting lets-plot\n",
            "  Downloading lets_plot-4.5.2-cp311-cp311-manylinux_2_17_x86_64.manylinux2014_x86_64.whl.metadata (11 kB)\n",
            "Collecting pypng (from lets-plot)\n",
            "  Downloading pypng-0.20220715.0-py3-none-any.whl.metadata (13 kB)\n",
            "Collecting palettable (from lets-plot)\n",
            "  Downloading palettable-3.3.3-py2.py3-none-any.whl.metadata (3.3 kB)\n",
            "Downloading lets_plot-4.5.2-cp311-cp311-manylinux_2_17_x86_64.manylinux2014_x86_64.whl (3.4 MB)\n",
            "\u001b[2K   \u001b[90m━━━━━━━━━━━━━━━━━━━━━━━━━━━━━━━━━━━━━━━━\u001b[0m \u001b[32m3.4/3.4 MB\u001b[0m \u001b[31m13.7 MB/s\u001b[0m eta \u001b[36m0:00:00\u001b[0m\n",
            "\u001b[?25hDownloading palettable-3.3.3-py2.py3-none-any.whl (332 kB)\n",
            "\u001b[2K   \u001b[90m━━━━━━━━━━━━━━━━━━━━━━━━━━━━━━━━━━━━━━━━\u001b[0m \u001b[32m332.3/332.3 kB\u001b[0m \u001b[31m6.4 MB/s\u001b[0m eta \u001b[36m0:00:00\u001b[0m\n",
            "\u001b[?25hDownloading pypng-0.20220715.0-py3-none-any.whl (58 kB)\n",
            "\u001b[2K   \u001b[90m━━━━━━━━━━━━━━━━━━━━━━━━━━━━━━━━━━━━━━━━\u001b[0m \u001b[32m58.1/58.1 kB\u001b[0m \u001b[31m2.7 MB/s\u001b[0m eta \u001b[36m0:00:00\u001b[0m\n",
            "\u001b[?25hInstalling collected packages: pypng, palettable, lets-plot\n",
            "Successfully installed lets-plot-4.5.2 palettable-3.3.3 pypng-0.20220715.0\n"
          ]
        }
      ],
      "source": [
        "%pip install lets-plot"
      ]
    },
    {
      "cell_type": "code",
      "execution_count": null,
      "metadata": {
        "id": "ULw1cCkS0mKt"
      },
      "outputs": [],
      "source": [
        "import seaborn as sns\n",
        "from lets_plot import *\n",
        "\n",
        "LetsPlot.setup_html()"
      ]
    },
    {
      "cell_type": "markdown",
      "metadata": {
        "id": "hOaOeG3H0mKu"
      },
      "source": [
        "## Part 1 - Slide 15"
      ]
    },
    {
      "cell_type": "code",
      "execution_count": null,
      "metadata": {
        "id": "7gPB-yss0mKu"
      },
      "outputs": [],
      "source": [
        "import statsmodels.api as sm\n",
        "\n",
        "iris_dataset = sm.datasets.get_rdataset(\"iris\")\n",
        "iris = iris_dataset.data"
      ]
    },
    {
      "cell_type": "markdown",
      "metadata": {
        "id": "mDpkAzMO0mKv"
      },
      "source": [
        "Consider the data *iris*\n",
        "\n",
        "1. Create a histogram of Sepal.Width\n"
      ]
    },
    {
      "cell_type": "code",
      "execution_count": null,
      "metadata": {
        "id": "dorVtBAi0mKw",
        "colab": {
          "base_uri": "https://localhost:8080/",
          "height": 800
        },
        "outputId": "738dd173-4e14-4f57-c22d-508058e39184"
      },
      "outputs": [
        {
          "output_type": "execute_result",
          "data": {
            "text/plain": [
              "<lets_plot.plot.core.PlotSpec at 0x7e6be8fd3750>"
            ],
            "text/html": [
              "<html lang=\"en\">\n",
              "   <head>\n",
              "       <meta charset=\"UTF-8\">\n",
              "       <style> html, body { margin: 0; padding: 0; } </style>\n",
              "       <script type=\"text/javascript\" data-lets-plot-script=\"library\" src=\"https://cdn.jsdelivr.net/gh/JetBrains/lets-plot@v4.5.2/js-package/distr/lets-plot.min.js\"></script>\n",
              "   </head>\n",
              "   <body>\n",
              "          <div id=\"YQF0Fb\"></div>\n",
              "   <script type=\"text/javascript\" data-lets-plot-script=\"plot\">\n",
              "   \n",
              "   (function() {\n",
              "   // ----------\n",
              "   \n",
              "   var containerDiv = document.getElementById(\"YQF0Fb\");\n",
              "   var observer = new ResizeObserver(function(entries) {\n",
              "       for (let entry of entries) {\n",
              "           var width = containerDiv.clientWidth\n",
              "           if (entry.contentBoxSize && width > 0) {\n",
              "           \n",
              "               // Render plot\n",
              "               if (observer) {\n",
              "                   observer.disconnect();\n",
              "                   observer = null;\n",
              "               }\n",
              "\n",
              "               var plotSpec={\n",
              "\"data\":{\n",
              "},\n",
              "\"mapping\":{\n",
              "},\n",
              "\"data_meta\":{\n",
              "\"series_annotations\":[{\n",
              "\"type\":\"float\",\n",
              "\"column\":\"Sepal.Length\"\n",
              "},{\n",
              "\"type\":\"float\",\n",
              "\"column\":\"Sepal.Width\"\n",
              "},{\n",
              "\"type\":\"float\",\n",
              "\"column\":\"Petal.Length\"\n",
              "},{\n",
              "\"type\":\"float\",\n",
              "\"column\":\"Petal.Width\"\n",
              "},{\n",
              "\"type\":\"str\",\n",
              "\"column\":\"Species\"\n",
              "}]\n",
              "},\n",
              "\"facet\":{\n",
              "\"name\":\"wrap\",\n",
              "\"facets\":\"Species\",\n",
              "\"order\":1.0,\n",
              "\"dir\":\"h\"\n",
              "},\n",
              "\"kind\":\"plot\",\n",
              "\"scales\":[],\n",
              "\"layers\":[{\n",
              "\"geom\":\"histogram\",\n",
              "\"mapping\":{\n",
              "\"x\":\"Sepal.Width\"\n",
              "},\n",
              "\"data_meta\":{\n",
              "\"series_annotations\":[]\n",
              "},\n",
              "\"data\":{\n",
              "\"..count..\":[0.0,0.0,0.0,0.0,1.0,0.0,0.0,0.0,0.0,0.0,0.0,1.0,6.0,4.0,5.0,0.0,2.0,9.0,6.0,3.0,3.0,0.0,4.0,2.0,1.0,1.0,1.0,0.0,0.0,1.0,1.0,0.0,0.0,2.0,3.0,3.0,4.0,3.0,0.0,5.0,6.0,7.0,8.0,3.0,3.0,0.0,1.0,1.0,0.0,0.0,0.0,0.0,0.0,0.0,0.0,0.0,0.0,0.0,0.0,0.0,0.0,0.0,0.0,1.0,0.0,0.0,4.0,2.0,0.0,4.0,8.0,2.0,12.0,4.0,5.0,0.0,3.0,2.0,0.0,1.0,0.0,0.0,2.0,0.0,0.0,0.0,0.0,0.0,0.0,0.0],\n",
              "\"Sepal.Width\":[1.9858666666666667,2.0696,2.1533333333333333,2.2370666666666668,2.3208,2.404533333333333,2.488266666666667,2.572,2.6557333333333335,2.739466666666667,2.8232,2.906933333333334,2.990666666666667,3.0744000000000002,3.1581333333333337,3.2418666666666667,3.3256000000000006,3.4093333333333335,3.493066666666667,3.5768000000000004,3.6605333333333334,3.7442666666666673,3.8280000000000003,3.9117333333333337,3.995466666666667,4.0792,4.162933333333334,4.246666666666667,4.330400000000001,4.414133333333334,1.9858666666666667,2.0696,2.1533333333333333,2.2370666666666668,2.3208,2.404533333333333,2.488266666666667,2.572,2.6557333333333335,2.739466666666667,2.8232,2.906933333333334,2.990666666666667,3.0744000000000002,3.1581333333333337,3.2418666666666667,3.3256000000000006,3.4093333333333335,3.493066666666667,3.5768000000000004,3.6605333333333334,3.7442666666666673,3.8280000000000003,3.9117333333333337,3.995466666666667,4.0792,4.162933333333334,4.246666666666667,4.330400000000001,4.414133333333334,1.9858666666666667,2.0696,2.1533333333333333,2.2370666666666668,2.3208,2.404533333333333,2.488266666666667,2.572,2.6557333333333335,2.739466666666667,2.8232,2.906933333333334,2.990666666666667,3.0744000000000002,3.1581333333333337,3.2418666666666667,3.3256000000000006,3.4093333333333335,3.493066666666667,3.5768000000000004,3.6605333333333334,3.7442666666666673,3.8280000000000003,3.9117333333333337,3.995466666666667,4.0792,4.162933333333334,4.246666666666667,4.330400000000001,4.414133333333334],\n",
              "\"Species\":[\"setosa\",\"setosa\",\"setosa\",\"setosa\",\"setosa\",\"setosa\",\"setosa\",\"setosa\",\"setosa\",\"setosa\",\"setosa\",\"setosa\",\"setosa\",\"setosa\",\"setosa\",\"setosa\",\"setosa\",\"setosa\",\"setosa\",\"setosa\",\"setosa\",\"setosa\",\"setosa\",\"setosa\",\"setosa\",\"setosa\",\"setosa\",\"setosa\",\"setosa\",\"setosa\",\"versicolor\",\"versicolor\",\"versicolor\",\"versicolor\",\"versicolor\",\"versicolor\",\"versicolor\",\"versicolor\",\"versicolor\",\"versicolor\",\"versicolor\",\"versicolor\",\"versicolor\",\"versicolor\",\"versicolor\",\"versicolor\",\"versicolor\",\"versicolor\",\"versicolor\",\"versicolor\",\"versicolor\",\"versicolor\",\"versicolor\",\"versicolor\",\"versicolor\",\"versicolor\",\"versicolor\",\"versicolor\",\"versicolor\",\"versicolor\",\"virginica\",\"virginica\",\"virginica\",\"virginica\",\"virginica\",\"virginica\",\"virginica\",\"virginica\",\"virginica\",\"virginica\",\"virginica\",\"virginica\",\"virginica\",\"virginica\",\"virginica\",\"virginica\",\"virginica\",\"virginica\",\"virginica\",\"virginica\",\"virginica\",\"virginica\",\"virginica\",\"virginica\",\"virginica\",\"virginica\",\"virginica\",\"virginica\",\"virginica\",\"virginica\"]\n",
              "}\n",
              "}],\n",
              "\"metainfo_list\":[],\n",
              "\"spec_id\":\"8\"\n",
              "};\n",
              "       \n",
              "               var toolbar = null;\n",
              "               var plotContainer = containerDiv;               \n",
              "               \n",
              "               var options = {\n",
              "                   sizing: {\n",
              "                       width_mode: \"min\",\n",
              "                       height_mode: \"scaled\",\n",
              "                       width: width\n",
              "                   }\n",
              "               };\n",
              "               var fig = LetsPlot.buildPlotFromProcessedSpecs(plotSpec, -1, -1, plotContainer, options);\n",
              "               if (toolbar) {\n",
              "                 toolbar.bind(fig);\n",
              "               }\n",
              "               \n",
              "               break;\n",
              "           }\n",
              "       }\n",
              "   });\n",
              "   \n",
              "   observer.observe(containerDiv);\n",
              "   \n",
              "   // ----------\n",
              "   })();\n",
              "   \n",
              "   </script>\n",
              "   </body>\n",
              "</html>"
            ]
          },
          "metadata": {},
          "execution_count": 15
        }
      ],
      "source": [
        "(\n",
        "    ggplot(iris)\n",
        "    + geom_histogram(aes(x=\"Sepal.Width\"))\n",
        "    + facet_wrap('Species')\n",
        ")"
      ]
    },
    {
      "cell_type": "markdown",
      "metadata": {
        "id": "oOH70lZz0mKx"
      },
      "source": [
        "2. Try different numbers of bins"
      ]
    },
    {
      "cell_type": "code",
      "source": [
        "for nbin in range(10, 41, 10):\n",
        "  ggplot(iris) + geom_histogram(aes(x=\"Sepal.Width\"), bins=nbin)\n",
        "  sns.histplot(iris, x=\"Sepal.Width\", bins=nbin)"
      ],
      "metadata": {
        "colab": {
          "base_uri": "https://localhost:8080/",
          "height": 449
        },
        "id": "rH3MHPDV-EZe",
        "outputId": "c8cd84cd-170c-4fa5-b682-45b1e7442538"
      },
      "execution_count": null,
      "outputs": [
        {
          "output_type": "display_data",
          "data": {
            "text/plain": [
              "<Figure size 640x480 with 1 Axes>"
            ],
            "image/png": "[encoded data removed]"
          },
          "metadata": {}
        }
      ]
    },
    {
      "cell_type": "code",
      "execution_count": null,
      "metadata": {
        "id": "eKAIKczI0mKy",
        "colab": {
          "base_uri": "https://localhost:8080/",
          "height": 400
        },
        "outputId": "fc58b734-7584-45a9-c4fb-5d905d626368"
      },
      "outputs": [
        {
          "output_type": "execute_result",
          "data": {
            "text/plain": [
              "<lets_plot.plot.core.PlotSpec at 0x7e6bf15f4d90>"
            ],
            "text/html": [
              "<html lang=\"en\">\n",
              "   <head>\n",
              "       <meta charset=\"UTF-8\">\n",
              "       <style> html, body { margin: 0; padding: 0; } </style>\n",
              "       <script type=\"text/javascript\" data-lets-plot-script=\"library\" src=\"https://cdn.jsdelivr.net/gh/JetBrains/lets-plot@v4.5.2/js-package/distr/lets-plot.min.js\"></script>\n",
              "   </head>\n",
              "   <body>\n",
              "          <div id=\"WsvCvj\"></div>\n",
              "   <script type=\"text/javascript\" data-lets-plot-script=\"plot\">\n",
              "   \n",
              "   (function() {\n",
              "   // ----------\n",
              "   \n",
              "   var containerDiv = document.getElementById(\"WsvCvj\");\n",
              "   var observer = new ResizeObserver(function(entries) {\n",
              "       for (let entry of entries) {\n",
              "           var width = containerDiv.clientWidth\n",
              "           if (entry.contentBoxSize && width > 0) {\n",
              "           \n",
              "               // Render plot\n",
              "               if (observer) {\n",
              "                   observer.disconnect();\n",
              "                   observer = null;\n",
              "               }\n",
              "\n",
              "               var plotSpec={\n",
              "\"data\":{\n",
              "},\n",
              "\"mapping\":{\n",
              "},\n",
              "\"data_meta\":{\n",
              "\"series_annotations\":[{\n",
              "\"type\":\"float\",\n",
              "\"column\":\"Sepal.Length\"\n",
              "},{\n",
              "\"type\":\"float\",\n",
              "\"column\":\"Sepal.Width\"\n",
              "},{\n",
              "\"type\":\"float\",\n",
              "\"column\":\"Petal.Length\"\n",
              "},{\n",
              "\"type\":\"float\",\n",
              "\"column\":\"Petal.Width\"\n",
              "},{\n",
              "\"type\":\"str\",\n",
              "\"column\":\"Species\"\n",
              "}]\n",
              "},\n",
              "\"kind\":\"plot\",\n",
              "\"scales\":[],\n",
              "\"layers\":[{\n",
              "\"geom\":\"histogram\",\n",
              "\"mapping\":{\n",
              "\"x\":\"Sepal.Width\"\n",
              "},\n",
              "\"data_meta\":{\n",
              "},\n",
              "\"bins\":30.0,\n",
              "\"data\":{\n",
              "\"..count..\":[1.0,0.0,0.0,3.0,4.0,3.0,8.0,5.0,0.0,9.0,14.0,10.0,26.0,11.0,13.0,0.0,6.0,12.0,6.0,4.0,3.0,0.0,6.0,2.0,1.0,1.0,1.0,0.0,0.0,1.0],\n",
              "\"Sepal.Width\":[1.9858666666666667,2.0696,2.1533333333333333,2.2370666666666668,2.3208,2.404533333333333,2.488266666666667,2.572,2.6557333333333335,2.739466666666667,2.8232,2.906933333333334,2.990666666666667,3.0744000000000002,3.1581333333333337,3.2418666666666667,3.3256000000000006,3.4093333333333335,3.493066666666667,3.5768000000000004,3.6605333333333334,3.7442666666666673,3.8280000000000003,3.9117333333333337,3.995466666666667,4.0792,4.162933333333334,4.246666666666667,4.330400000000001,4.414133333333334]\n",
              "}\n",
              "}],\n",
              "\"metainfo_list\":[],\n",
              "\"spec_id\":\"7\"\n",
              "};\n",
              "       \n",
              "               var toolbar = null;\n",
              "               var plotContainer = containerDiv;               \n",
              "               \n",
              "               var options = {\n",
              "                   sizing: {\n",
              "                       width_mode: \"min\",\n",
              "                       height_mode: \"scaled\",\n",
              "                       width: width\n",
              "                   }\n",
              "               };\n",
              "               var fig = LetsPlot.buildPlotFromProcessedSpecs(plotSpec, -1, -1, plotContainer, options);\n",
              "               if (toolbar) {\n",
              "                 toolbar.bind(fig);\n",
              "               }\n",
              "               \n",
              "               break;\n",
              "           }\n",
              "       }\n",
              "   });\n",
              "   \n",
              "   observer.observe(containerDiv);\n",
              "   \n",
              "   // ----------\n",
              "   })();\n",
              "   \n",
              "   </script>\n",
              "   </body>\n",
              "</html>"
            ]
          },
          "metadata": {},
          "execution_count": 10
        }
      ],
      "source": [
        "(\n",
        "    ggplot(iris)\n",
        "    + geom_histogram(aes(x=\"Sepal.Width\"), bins=30)\n",
        ")"
      ]
    },
    {
      "cell_type": "markdown",
      "metadata": {
        "id": "BOhAyppN0mKy"
      },
      "source": [
        "## Part 2 - Slide 28"
      ]
    },
    {
      "cell_type": "markdown",
      "metadata": {
        "id": "G9wuOwQQ0mKz"
      },
      "source": [
        "* Construct a boxplot of the *Ozone* column of the *airquality* dataset"
      ]
    },
    {
      "cell_type": "code",
      "execution_count": null,
      "metadata": {
        "id": "d-CAUP7r0mKz"
      },
      "outputs": [],
      "source": [
        "airquality_dataset = sm.datasets.get_rdataset(\"airquality\")\n",
        "airquality = airquality_dataset.data\n"
      ]
    },
    {
      "cell_type": "markdown",
      "metadata": {
        "id": "uetbHemO0mK0"
      },
      "source": [
        "Verify that the outliers match what you get using the IQR \"rule-of-thumb\"\n",
        "\n",
        "*Hint*: use `scipy.stats.iqr` and/or `df.quantile` functions"
      ]
    },
    {
      "cell_type": "code",
      "execution_count": null,
      "metadata": {
        "id": "0r4wQ8cy0mK0"
      },
      "outputs": [],
      "source": []
    },
    {
      "cell_type": "markdown",
      "metadata": {
        "id": "odNnSqCI0mK0"
      },
      "source": [
        "* Construct a boxplot of these 9 values\n",
        "  \n",
        "  8,11,17,36,25,24,1,20,64"
      ]
    },
    {
      "cell_type": "code",
      "execution_count": null,
      "metadata": {
        "id": "E7VRalJj0mK1"
      },
      "outputs": [],
      "source": []
    },
    {
      "cell_type": "markdown",
      "metadata": {
        "id": "fnGSzGup0mK1"
      },
      "source": [
        "## Part 3 - Slide 30"
      ]
    },
    {
      "cell_type": "markdown",
      "metadata": {
        "id": "eBXSJqlQ0mK1"
      },
      "source": [
        "Explore the *airquality* dataset\n",
        "\n",
        " * How many variables, size of the data, …\n",
        "    - Is this Big Data?\n",
        "   "
      ]
    },
    {
      "cell_type": "code",
      "execution_count": null,
      "metadata": {
        "id": "HNn3F-9B0mK2"
      },
      "outputs": [],
      "source": []
    },
    {
      "cell_type": "markdown",
      "metadata": {
        "id": "jX7qvPhm0mK2"
      },
      "source": [
        " * Summary statistics\n"
      ]
    },
    {
      "cell_type": "code",
      "execution_count": null,
      "metadata": {
        "id": "joZfRM9X0mK2"
      },
      "outputs": [],
      "source": []
    },
    {
      "cell_type": "markdown",
      "metadata": {
        "id": "748pI0kD0mK2"
      },
      "source": [
        " * Is there missing data? Which variables are most affected?\n"
      ]
    },
    {
      "cell_type": "code",
      "execution_count": null,
      "metadata": {
        "id": "mqkHtGmz0mK2"
      },
      "outputs": [],
      "source": []
    },
    {
      "cell_type": "markdown",
      "metadata": {
        "id": "34cMbIUP0mK2"
      },
      "source": [
        " * Visualize each variable individually\n",
        "   - Are there outliers?\n",
        "  "
      ]
    },
    {
      "cell_type": "code",
      "execution_count": null,
      "metadata": {
        "id": "vHDoDwj00mK2"
      },
      "outputs": [],
      "source": []
    },
    {
      "cell_type": "markdown",
      "metadata": {
        "id": "cSaPn26-0mK3"
      },
      "source": [
        " * Should any variable(s) be converted to a categorical?\n",
        "   - Which ones?\n"
      ]
    },
    {
      "cell_type": "code",
      "execution_count": null,
      "metadata": {
        "id": "qwRI1uhY0mK3"
      },
      "outputs": [],
      "source": []
    },
    {
      "cell_type": "markdown",
      "metadata": {
        "id": "E8Wvacp90mK3"
      },
      "source": [
        "## Part 4 - Slide 40"
      ]
    },
    {
      "cell_type": "markdown",
      "metadata": {
        "id": "xBRwFl2j0mK3"
      },
      "source": [
        " Explore the *airquality* dataset\n",
        "\n",
        " * Should any variable(s) be converted to a categorical?\n",
        "   - Convert these to a categorical\n",
        "   "
      ]
    },
    {
      "cell_type": "code",
      "execution_count": null,
      "metadata": {
        "id": "RTeN4nVj0mK3"
      },
      "outputs": [],
      "source": []
    },
    {
      "cell_type": "markdown",
      "metadata": {
        "id": "NzzcLMnc0mK3"
      },
      "source": [
        " * Visualize any 5 pairs of variables of the airquality dataset\n",
        "   - Choose the appropriate plot for each pair\n",
        "   "
      ]
    },
    {
      "cell_type": "code",
      "execution_count": null,
      "metadata": {
        "id": "p7CEblCr0mK3"
      },
      "outputs": [],
      "source": []
    }
  ],
  "metadata": {
    "kernelspec": {
      "display_name": "cpsc375-python",
      "language": "python",
      "name": "python3"
    },
    "language_info": {
      "codemirror_mode": {
        "name": "ipython",
        "version": 3
      },
      "file_extension": ".py",
      "mimetype": "text/x-python",
      "name": "python",
      "nbconvert_exporter": "python",
      "pygments_lexer": "ipython3",
      "version": "3.11.7"
    },
    "colab": {
      "provenance": [],
      "include_colab_link": true
    }
  },
  "nbformat": 4,
  "nbformat_minor": 0
}