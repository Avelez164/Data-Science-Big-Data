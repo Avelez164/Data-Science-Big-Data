{
  "cells": [
    {
      "cell_type": "markdown",
      "metadata": {
        "id": "view-in-github",
        "colab_type": "text"
      },
      "source": [
        "<a href=\"https://colab.research.google.com/github/Avelez164/Data-Science-Big-Data/blob/main/regression.ipynb\" target=\"_parent\"><img src=\"https://colab.research.google.com/assets/colab-badge.svg\" alt=\"Open In Colab\"/></a>"
      ]
    },
    {
      "cell_type": "markdown",
      "metadata": {
        "id": "qSHTtwA_YFgW"
      },
      "source": [
        "# CPSC 375 Classwork - Linear Regression\n",
        "\n",
        "[![Open In Colab](https://colab.research.google.com/assets/colab-badge.svg)](https://colab.research.google.com/github/ProfAvery/cpsc375-classwork/blob/main/regression.ipynb)\n",
        "\n",
        "- *Manager*:\n",
        "- *Recorder*:\n",
        "- *Presenter*:\n",
        "- *Timekeeper*:"
      ]
    },
    {
      "cell_type": "markdown",
      "metadata": {
        "id": "Iorl8agsYFgZ"
      },
      "source": [
        "## Part 1 - Slide 8"
      ]
    },
    {
      "cell_type": "markdown",
      "metadata": {
        "id": "f9YdsSEvYFgZ"
      },
      "source": [
        "Consider the problem of estimating Height given Weight and Age\n",
        "* What are some linear models for this?\n",
        "* What are some nonlinear models for this?\n"
      ]
    },
    {
      "cell_type": "markdown",
      "metadata": {
        "id": "AumDZG3sYFga"
      },
      "source": [
        "Dependent variable / output (y): Height\n",
        "\n",
        "Independent / explanatory / input ($ x_1, x_2 $): Weight, Age\n",
        "\n",
        "\n",
        "* Linear models\n",
        "\n",
        "$$ y = f(x_2) = f(Age) = \\beta_0 + \\beta_1 * x_2$$\n",
        "\n",
        "$$ Weight = f(x_2) = f(Age) $$\n",
        "\n",
        "$$ f = f(x_1) = f(Weight) $$\n",
        "\n",
        "$$ y = f(x_1, x_2) $$\n",
        "\n",
        "\n",
        "* Nonlinear models\n",
        "\n",
        "$$ y = f(x_2) = f(Age) = \\beta_0 + \\beta_1 * x_2 + quadratic???$$\n",
        "\n",
        "$$ y = f(x_1, x_2) $$\n",
        "\n"
      ]
    },
    {
      "cell_type": "markdown",
      "metadata": {
        "id": "TdfSPa1qYFga"
      },
      "source": [
        "## Part 2 - Slide 11"
      ]
    },
    {
      "cell_type": "code",
      "execution_count": 5,
      "metadata": {
        "id": "YBxDwaAAYFga",
        "colab": {
          "base_uri": "https://localhost:8080/"
        },
        "outputId": "36ca00af-45b1-4bc5-a900-68c827860ef9"
      },
      "outputs": [
        {
          "output_type": "stream",
          "name": "stdout",
          "text": [
            "Collecting lets-plot\n",
            "  Downloading lets_plot-4.6.1-cp311-cp311-manylinux_2_17_x86_64.manylinux2014_x86_64.whl.metadata (11 kB)\n",
            "Collecting pypng (from lets-plot)\n",
            "  Downloading pypng-0.20220715.0-py3-none-any.whl.metadata (13 kB)\n",
            "Collecting palettable (from lets-plot)\n",
            "  Downloading palettable-3.3.3-py2.py3-none-any.whl.metadata (3.3 kB)\n",
            "Downloading lets_plot-4.6.1-cp311-cp311-manylinux_2_17_x86_64.manylinux2014_x86_64.whl (3.4 MB)\n",
            "\u001b[2K   \u001b[90m━━━━━━━━━━━━━━━━━━━━━━━━━━━━━━━━━━━━━━━━\u001b[0m \u001b[32m3.4/3.4 MB\u001b[0m \u001b[31m36.9 MB/s\u001b[0m eta \u001b[36m0:00:00\u001b[0m\n",
            "\u001b[?25hDownloading palettable-3.3.3-py2.py3-none-any.whl (332 kB)\n",
            "\u001b[2K   \u001b[90m━━━━━━━━━━━━━━━━━━━━━━━━━━━━━━━━━━━━━━━━\u001b[0m \u001b[32m332.3/332.3 kB\u001b[0m \u001b[31m21.2 MB/s\u001b[0m eta \u001b[36m0:00:00\u001b[0m\n",
            "\u001b[?25hDownloading pypng-0.20220715.0-py3-none-any.whl (58 kB)\n",
            "\u001b[2K   \u001b[90m━━━━━━━━━━━━━━━━━━━━━━━━━━━━━━━━━━━━━━━━\u001b[0m \u001b[32m58.1/58.1 kB\u001b[0m \u001b[31m4.0 MB/s\u001b[0m eta \u001b[36m0:00:00\u001b[0m\n",
            "\u001b[?25hInstalling collected packages: pypng, palettable, lets-plot\n",
            "Successfully installed lets-plot-4.6.1 palettable-3.3.3 pypng-0.20220715.0\n"
          ]
        }
      ],
      "source": [
        "%pip install lets-plot\n",
        "\n",
        "from lets_plot import *\n",
        "\n",
        "LetsPlot.setup_html()"
      ]
    },
    {
      "cell_type": "code",
      "execution_count": 6,
      "metadata": {
        "id": "HiBGgXEbYFgb"
      },
      "outputs": [],
      "source": [
        "import statsmodels.api as sm\n",
        "\n",
        "iris_dataset = sm.datasets.get_rdataset(\"iris\")\n",
        "iris = iris_dataset.data\n"
      ]
    },
    {
      "cell_type": "markdown",
      "metadata": {
        "id": "DwPX3XOTYFgb"
      },
      "source": [
        "How does Petal.Length change with Petal.Width?\n",
        "* Which is the dependent variable? Which is the explanatory/independent variable?\n",
        "* Draw a scatterplot\n",
        "* Draw *any* straight line that fits the data well\n",
        "  - Use `geom_abline()`\n"
      ]
    },
    {
      "cell_type": "markdown",
      "metadata": {
        "id": "BiJFSoCHYFgc"
      },
      "source": []
    },
    {
      "cell_type": "code",
      "execution_count": 7,
      "metadata": {
        "id": "6SGP6u2wYFgc",
        "colab": {
          "base_uri": "https://localhost:8080/",
          "height": 400
        },
        "outputId": "d5fe25fc-ae84-4145-d621-85f8e78f5bbd"
      },
      "outputs": [
        {
          "output_type": "execute_result",
          "data": {
            "text/plain": [
              "<lets_plot.plot.core.PlotSpec at 0x787be99a4410>"
            ],
            "text/html": [
              "<html lang=\"en\">\n",
              "   <head>\n",
              "       <meta charset=\"UTF-8\">\n",
              "       <style> html, body { margin: 0; padding: 0; } </style>\n",
              "       <script type=\"text/javascript\" data-lets-plot-script=\"library\" src=\"https://cdn.jsdelivr.net/gh/JetBrains/lets-plot@v4.6.1/js-package/distr/lets-plot.min.js\"></script>\n",
              "   </head>\n",
              "   <body>\n",
              "          <div id=\"bkDCij\"></div>\n",
              "   <script type=\"text/javascript\" data-lets-plot-script=\"plot\">\n",
              "   \n",
              "   (function() {\n",
              "   // ----------\n",
              "   \n",
              "   const forceImmediateRender = false;\n",
              "   const responsive = false;\n",
              "   \n",
              "   let sizing = {\n",
              "       width_mode: \"MIN\",\n",
              "       height_mode: \"SCALED\",\n",
              "       width: null, \n",
              "       height: null \n",
              "   };\n",
              "   \n",
              "   const preferredWidth = document.body.dataset.letsPlotPreferredWidth;\n",
              "   if (preferredWidth !== undefined) {\n",
              "       sizing = {\n",
              "           width_mode: 'FIXED',\n",
              "           height_mode: 'SCALED',\n",
              "           width: parseFloat(preferredWidth)\n",
              "       };\n",
              "   }\n",
              "   \n",
              "   const containerDiv = document.getElementById(\"bkDCij\");\n",
              "   let fig = null;\n",
              "   \n",
              "   function renderPlot() {\n",
              "       if (fig === null) {\n",
              "           const plotSpec = {\n",
              "\"data\":{\n",
              "\"Petal.Length\":[1.4,1.4,1.3,1.5,1.4,1.7,1.4,1.5,1.4,1.5,1.5,1.6,1.4,1.1,1.2,1.5,1.3,1.4,1.7,1.5,1.7,1.5,1.0,1.7,1.9,1.6,1.6,1.5,1.4,1.6,1.6,1.5,1.5,1.4,1.5,1.2,1.3,1.4,1.3,1.5,1.3,1.3,1.3,1.6,1.9,1.4,1.6,1.4,1.5,1.4,4.7,4.5,4.9,4.0,4.6,4.5,4.7,3.3,4.6,3.9,3.5,4.2,4.0,4.7,3.6,4.4,4.5,4.1,4.5,3.9,4.8,4.0,4.9,4.7,4.3,4.4,4.8,5.0,4.5,3.5,3.8,3.7,3.9,5.1,4.5,4.5,4.7,4.4,4.1,4.0,4.4,4.6,4.0,3.3,4.2,4.2,4.2,4.3,3.0,4.1,6.0,5.1,5.9,5.6,5.8,6.6,4.5,6.3,5.8,6.1,5.1,5.3,5.5,5.0,5.1,5.3,5.5,6.7,6.9,5.0,5.7,4.9,6.7,4.9,5.7,6.0,4.8,4.9,5.6,5.8,6.1,6.4,5.6,5.1,5.6,6.1,5.6,5.5,4.8,5.4,5.6,5.1,5.1,5.9,5.7,5.2,5.0,5.2,5.4,5.1],\n",
              "\"Petal.Width\":[0.2,0.2,0.2,0.2,0.2,0.4,0.3,0.2,0.2,0.1,0.2,0.2,0.1,0.1,0.2,0.4,0.4,0.3,0.3,0.3,0.2,0.4,0.2,0.5,0.2,0.2,0.4,0.2,0.2,0.2,0.2,0.4,0.1,0.2,0.2,0.2,0.2,0.1,0.2,0.2,0.3,0.3,0.2,0.6,0.4,0.3,0.2,0.2,0.2,0.2,1.4,1.5,1.5,1.3,1.5,1.3,1.6,1.0,1.3,1.4,1.0,1.5,1.0,1.4,1.3,1.4,1.5,1.0,1.5,1.1,1.8,1.3,1.5,1.2,1.3,1.4,1.4,1.7,1.5,1.0,1.1,1.0,1.2,1.6,1.5,1.6,1.5,1.3,1.3,1.3,1.2,1.4,1.2,1.0,1.3,1.2,1.3,1.3,1.1,1.3,2.5,1.9,2.1,1.8,2.2,2.1,1.7,1.8,1.8,2.5,2.0,1.9,2.1,2.0,2.4,2.3,1.8,2.2,2.3,1.5,2.3,2.0,2.0,1.8,2.1,1.8,1.8,1.8,2.1,1.6,1.9,2.0,2.2,1.5,1.4,2.3,2.4,1.8,1.8,2.1,2.4,2.3,1.9,2.3,2.5,2.3,1.9,2.0,2.3,1.8]\n",
              "},\n",
              "\"mapping\":{\n",
              "},\n",
              "\"data_meta\":{\n",
              "\"series_annotations\":[{\n",
              "\"type\":\"float\",\n",
              "\"column\":\"Sepal.Length\"\n",
              "},{\n",
              "\"type\":\"float\",\n",
              "\"column\":\"Sepal.Width\"\n",
              "},{\n",
              "\"type\":\"float\",\n",
              "\"column\":\"Petal.Length\"\n",
              "},{\n",
              "\"type\":\"float\",\n",
              "\"column\":\"Petal.Width\"\n",
              "},{\n",
              "\"type\":\"str\",\n",
              "\"column\":\"Species\"\n",
              "}]\n",
              "},\n",
              "\"kind\":\"plot\",\n",
              "\"scales\":[],\n",
              "\"layers\":[{\n",
              "\"geom\":\"point\",\n",
              "\"mapping\":{\n",
              "\"x\":\"Petal.Width\",\n",
              "\"y\":\"Petal.Length\"\n",
              "},\n",
              "\"data_meta\":{\n",
              "},\n",
              "\"data\":{\n",
              "}\n",
              "},{\n",
              "\"geom\":\"abline\",\n",
              "\"mapping\":{\n",
              "},\n",
              "\"data_meta\":{\n",
              "},\n",
              "\"slope\":2.5,\n",
              "\"intercept\":1.0,\n",
              "\"color\":\"red\",\n",
              "\"data\":{\n",
              "}\n",
              "}],\n",
              "\"metainfo_list\":[],\n",
              "\"spec_id\":\"1\"\n",
              "};\n",
              "           fig = LetsPlot.buildPlotFromProcessedSpecs(plotSpec, containerDiv, sizing);\n",
              "       } else {\n",
              "           fig.updateView({});\n",
              "       }\n",
              "   }\n",
              "   \n",
              "   const renderImmediately = \n",
              "       forceImmediateRender || (\n",
              "           sizing.width_mode === 'FIXED' && \n",
              "           (sizing.height_mode === 'FIXED' || sizing.height_mode === 'SCALED')\n",
              "       );\n",
              "   \n",
              "   if (renderImmediately) {\n",
              "       renderPlot();\n",
              "   }\n",
              "   \n",
              "   if (!renderImmediately || responsive) {\n",
              "       // Set up observer for initial sizing or continuous monitoring\n",
              "       var observer = new ResizeObserver(function(entries) {\n",
              "           for (let entry of entries) {\n",
              "               if (entry.contentBoxSize && \n",
              "                   entry.contentBoxSize[0].inlineSize > 0) {\n",
              "                   if (!responsive && observer) {\n",
              "                       observer.disconnect();\n",
              "                       observer = null;\n",
              "                   }\n",
              "                   renderPlot();\n",
              "                   if (!responsive) {\n",
              "                       break;\n",
              "                   }\n",
              "               }\n",
              "           }\n",
              "       });\n",
              "       \n",
              "       observer.observe(containerDiv);\n",
              "   }\n",
              "   \n",
              "   // ----------\n",
              "   })();\n",
              "   \n",
              "   </script>\n",
              "   </body>\n",
              "</html>"
            ]
          },
          "metadata": {},
          "execution_count": 7
        }
      ],
      "source": [
        "(\n",
        "    ggplot(iris)\n",
        "    + geom_point(aes(x=\"Petal.Width\", y=\"Petal.Length\"))\n",
        "    + geom_abline(intercept=1, slope=2.5, color=\"red\")\n",
        "\n",
        ")\n"
      ]
    },
    {
      "cell_type": "code",
      "source": [
        "import numpy as np\n",
        "import pandas as pd\n",
        "\n",
        "from sklearn.linear_model import LinearRegression\n",
        "\n",
        "m = LinearRegression()\n",
        "#X = iris[['Petal.Width', 'Sepal.Width']]\n",
        "X = iris[['Petal.Width']]\n",
        "\n",
        "y = iris['Petal.Length']\n",
        "m.fit(X, y)\n",
        "\n",
        "cf = [m.intercept_, *m.coef_]\n",
        "#m.score(X,y)"
      ],
      "metadata": {
        "id": "fakDVGLH2qPF"
      },
      "execution_count": 8,
      "outputs": []
    },
    {
      "cell_type": "code",
      "source": [
        "#display(iris['Petal.Length'])\n",
        "y_pred = m.predict(X)\n",
        "np.mean((y - y_pred)**2) # MSE\n",
        "np.sqrt(np.mean((y - y_pred)**2)) # RMSE\n"
      ],
      "metadata": {
        "colab": {
          "base_uri": "https://localhost:8080/"
        },
        "id": "4VOCDwpZ4T_J",
        "outputId": "f934d6ed-26df-48b3-e746-9939b2c47f92"
      },
      "execution_count": 9,
      "outputs": [
        {
          "output_type": "execute_result",
          "data": {
            "text/plain": [
              "0.47500703971487873"
            ]
          },
          "metadata": {},
          "execution_count": 9
        }
      ]
    },
    {
      "cell_type": "code",
      "source": [
        "(\n",
        "    ggplot(iris)\n",
        "    + geom_point(\n",
        "        aes(x=\"Petal.Width\", y=\"Petal.Length\"))\n",
        ")    + geom_abline(slope=cf[1], intercept=cf[0])\n"
      ],
      "metadata": {
        "colab": {
          "base_uri": "https://localhost:8080/",
          "height": 400
        },
        "id": "fF2Oj-UL7rv2",
        "outputId": "3be90c36-ec2b-46a8-e563-101c8f326029"
      },
      "execution_count": 10,
      "outputs": [
        {
          "output_type": "execute_result",
          "data": {
            "text/plain": [
              "<lets_plot.plot.core.PlotSpec at 0x787be2f10b50>"
            ],
            "text/html": [
              "<html lang=\"en\">\n",
              "   <head>\n",
              "       <meta charset=\"UTF-8\">\n",
              "       <style> html, body { margin: 0; padding: 0; } </style>\n",
              "       <script type=\"text/javascript\" data-lets-plot-script=\"library\" src=\"https://cdn.jsdelivr.net/gh/JetBrains/lets-plot@v4.6.1/js-package/distr/lets-plot.min.js\"></script>\n",
              "   </head>\n",
              "   <body>\n",
              "          <div id=\"PJZSzl\"></div>\n",
              "   <script type=\"text/javascript\" data-lets-plot-script=\"plot\">\n",
              "   \n",
              "   (function() {\n",
              "   // ----------\n",
              "   \n",
              "   const forceImmediateRender = false;\n",
              "   const responsive = false;\n",
              "   \n",
              "   let sizing = {\n",
              "       width_mode: \"MIN\",\n",
              "       height_mode: \"SCALED\",\n",
              "       width: null, \n",
              "       height: null \n",
              "   };\n",
              "   \n",
              "   const preferredWidth = document.body.dataset.letsPlotPreferredWidth;\n",
              "   if (preferredWidth !== undefined) {\n",
              "       sizing = {\n",
              "           width_mode: 'FIXED',\n",
              "           height_mode: 'SCALED',\n",
              "           width: parseFloat(preferredWidth)\n",
              "       };\n",
              "   }\n",
              "   \n",
              "   const containerDiv = document.getElementById(\"PJZSzl\");\n",
              "   let fig = null;\n",
              "   \n",
              "   function renderPlot() {\n",
              "       if (fig === null) {\n",
              "           const plotSpec = {\n",
              "\"data\":{\n",
              "\"Petal.Length\":[1.4,1.4,1.3,1.5,1.4,1.7,1.4,1.5,1.4,1.5,1.5,1.6,1.4,1.1,1.2,1.5,1.3,1.4,1.7,1.5,1.7,1.5,1.0,1.7,1.9,1.6,1.6,1.5,1.4,1.6,1.6,1.5,1.5,1.4,1.5,1.2,1.3,1.4,1.3,1.5,1.3,1.3,1.3,1.6,1.9,1.4,1.6,1.4,1.5,1.4,4.7,4.5,4.9,4.0,4.6,4.5,4.7,3.3,4.6,3.9,3.5,4.2,4.0,4.7,3.6,4.4,4.5,4.1,4.5,3.9,4.8,4.0,4.9,4.7,4.3,4.4,4.8,5.0,4.5,3.5,3.8,3.7,3.9,5.1,4.5,4.5,4.7,4.4,4.1,4.0,4.4,4.6,4.0,3.3,4.2,4.2,4.2,4.3,3.0,4.1,6.0,5.1,5.9,5.6,5.8,6.6,4.5,6.3,5.8,6.1,5.1,5.3,5.5,5.0,5.1,5.3,5.5,6.7,6.9,5.0,5.7,4.9,6.7,4.9,5.7,6.0,4.8,4.9,5.6,5.8,6.1,6.4,5.6,5.1,5.6,6.1,5.6,5.5,4.8,5.4,5.6,5.1,5.1,5.9,5.7,5.2,5.0,5.2,5.4,5.1],\n",
              "\"Petal.Width\":[0.2,0.2,0.2,0.2,0.2,0.4,0.3,0.2,0.2,0.1,0.2,0.2,0.1,0.1,0.2,0.4,0.4,0.3,0.3,0.3,0.2,0.4,0.2,0.5,0.2,0.2,0.4,0.2,0.2,0.2,0.2,0.4,0.1,0.2,0.2,0.2,0.2,0.1,0.2,0.2,0.3,0.3,0.2,0.6,0.4,0.3,0.2,0.2,0.2,0.2,1.4,1.5,1.5,1.3,1.5,1.3,1.6,1.0,1.3,1.4,1.0,1.5,1.0,1.4,1.3,1.4,1.5,1.0,1.5,1.1,1.8,1.3,1.5,1.2,1.3,1.4,1.4,1.7,1.5,1.0,1.1,1.0,1.2,1.6,1.5,1.6,1.5,1.3,1.3,1.3,1.2,1.4,1.2,1.0,1.3,1.2,1.3,1.3,1.1,1.3,2.5,1.9,2.1,1.8,2.2,2.1,1.7,1.8,1.8,2.5,2.0,1.9,2.1,2.0,2.4,2.3,1.8,2.2,2.3,1.5,2.3,2.0,2.0,1.8,2.1,1.8,1.8,1.8,2.1,1.6,1.9,2.0,2.2,1.5,1.4,2.3,2.4,1.8,1.8,2.1,2.4,2.3,1.9,2.3,2.5,2.3,1.9,2.0,2.3,1.8]\n",
              "},\n",
              "\"mapping\":{\n",
              "},\n",
              "\"data_meta\":{\n",
              "\"series_annotations\":[{\n",
              "\"type\":\"float\",\n",
              "\"column\":\"Sepal.Length\"\n",
              "},{\n",
              "\"type\":\"float\",\n",
              "\"column\":\"Sepal.Width\"\n",
              "},{\n",
              "\"type\":\"float\",\n",
              "\"column\":\"Petal.Length\"\n",
              "},{\n",
              "\"type\":\"float\",\n",
              "\"column\":\"Petal.Width\"\n",
              "},{\n",
              "\"type\":\"str\",\n",
              "\"column\":\"Species\"\n",
              "}]\n",
              "},\n",
              "\"kind\":\"plot\",\n",
              "\"scales\":[],\n",
              "\"layers\":[{\n",
              "\"geom\":\"point\",\n",
              "\"mapping\":{\n",
              "\"x\":\"Petal.Width\",\n",
              "\"y\":\"Petal.Length\"\n",
              "},\n",
              "\"data_meta\":{\n",
              "},\n",
              "\"data\":{\n",
              "}\n",
              "},{\n",
              "\"geom\":\"abline\",\n",
              "\"mapping\":{\n",
              "},\n",
              "\"data_meta\":{\n",
              "},\n",
              "\"slope\":2.229940495121864,\n",
              "\"intercept\":1.0835580328505112,\n",
              "\"data\":{\n",
              "}\n",
              "}],\n",
              "\"metainfo_list\":[],\n",
              "\"spec_id\":\"2\"\n",
              "};\n",
              "           fig = LetsPlot.buildPlotFromProcessedSpecs(plotSpec, containerDiv, sizing);\n",
              "       } else {\n",
              "           fig.updateView({});\n",
              "       }\n",
              "   }\n",
              "   \n",
              "   const renderImmediately = \n",
              "       forceImmediateRender || (\n",
              "           sizing.width_mode === 'FIXED' && \n",
              "           (sizing.height_mode === 'FIXED' || sizing.height_mode === 'SCALED')\n",
              "       );\n",
              "   \n",
              "   if (renderImmediately) {\n",
              "       renderPlot();\n",
              "   }\n",
              "   \n",
              "   if (!renderImmediately || responsive) {\n",
              "       // Set up observer for initial sizing or continuous monitoring\n",
              "       var observer = new ResizeObserver(function(entries) {\n",
              "           for (let entry of entries) {\n",
              "               if (entry.contentBoxSize && \n",
              "                   entry.contentBoxSize[0].inlineSize > 0) {\n",
              "                   if (!responsive && observer) {\n",
              "                       observer.disconnect();\n",
              "                       observer = null;\n",
              "                   }\n",
              "                   renderPlot();\n",
              "                   if (!responsive) {\n",
              "                       break;\n",
              "                   }\n",
              "               }\n",
              "           }\n",
              "       });\n",
              "       \n",
              "       observer.observe(containerDiv);\n",
              "   }\n",
              "   \n",
              "   // ----------\n",
              "   })();\n",
              "   \n",
              "   </script>\n",
              "   </body>\n",
              "</html>"
            ]
          },
          "metadata": {},
          "execution_count": 10
        }
      ]
    },
    {
      "cell_type": "code",
      "source": [
        "def add(*a):\n",
        "  sum = a[0]\n",
        "  for i in a[1:]:\n",
        "    sum += i\n",
        "  return sum\n",
        "\n",
        "sum([1, 3, 5, 7])"
      ],
      "metadata": {
        "colab": {
          "base_uri": "https://localhost:8080/"
        },
        "id": "Pm7Qxqe02tOs",
        "outputId": "b24b2f30-190d-41c9-ba58-37df6caf3464"
      },
      "execution_count": 11,
      "outputs": [
        {
          "output_type": "execute_result",
          "data": {
            "text/plain": [
              "16"
            ]
          },
          "metadata": {},
          "execution_count": 11
        }
      ]
    },
    {
      "cell_type": "markdown",
      "metadata": {
        "id": "t6pa1bb1YFgc"
      },
      "source": [
        "## Part 3 - Slide 22"
      ]
    },
    {
      "cell_type": "markdown",
      "metadata": {
        "id": "7HsKvAiUYFgd"
      },
      "source": [
        "Consider the “Auto MPG” dataset which “concerns city-cycle fuel consumption in miles per gallon, to be predicted in terms of 3 multivalued discrete and 5 continuous attributes.” The goal is to model mpg given engine displacement.\n"
      ]
    },
    {
      "cell_type": "code",
      "execution_count": 12,
      "metadata": {
        "id": "8TU4Pbd0YFgd",
        "colab": {
          "base_uri": "https://localhost:8080/"
        },
        "outputId": "b368ae26-449c-4525-9d5c-4b8802529c71"
      },
      "outputs": [
        {
          "output_type": "stream",
          "name": "stdout",
          "text": [
            "Collecting ucimlrepo\n",
            "  Downloading ucimlrepo-0.0.7-py3-none-any.whl.metadata (5.5 kB)\n",
            "Requirement already satisfied: pandas>=1.0.0 in /usr/local/lib/python3.11/dist-packages (from ucimlrepo) (2.2.2)\n",
            "Requirement already satisfied: certifi>=2020.12.5 in /usr/local/lib/python3.11/dist-packages (from ucimlrepo) (2025.1.31)\n",
            "Requirement already satisfied: numpy>=1.23.2 in /usr/local/lib/python3.11/dist-packages (from pandas>=1.0.0->ucimlrepo) (1.26.4)\n",
            "Requirement already satisfied: python-dateutil>=2.8.2 in /usr/local/lib/python3.11/dist-packages (from pandas>=1.0.0->ucimlrepo) (2.8.2)\n",
            "Requirement already satisfied: pytz>=2020.1 in /usr/local/lib/python3.11/dist-packages (from pandas>=1.0.0->ucimlrepo) (2025.1)\n",
            "Requirement already satisfied: tzdata>=2022.7 in /usr/local/lib/python3.11/dist-packages (from pandas>=1.0.0->ucimlrepo) (2025.1)\n",
            "Requirement already satisfied: six>=1.5 in /usr/local/lib/python3.11/dist-packages (from python-dateutil>=2.8.2->pandas>=1.0.0->ucimlrepo) (1.17.0)\n",
            "Downloading ucimlrepo-0.0.7-py3-none-any.whl (8.0 kB)\n",
            "Installing collected packages: ucimlrepo\n",
            "Successfully installed ucimlrepo-0.0.7\n"
          ]
        }
      ],
      "source": [
        "%pip install ucimlrepo"
      ]
    },
    {
      "cell_type": "code",
      "execution_count": 13,
      "metadata": {
        "id": "fvImi9VAYFgd",
        "colab": {
          "base_uri": "https://localhost:8080/"
        },
        "outputId": "8f9e48bd-f242-49e3-b7c1-6c0ec8db52e0"
      },
      "outputs": [
        {
          "output_type": "stream",
          "name": "stdout",
          "text": [
            "           name     role         type demographic description units  \\\n",
            "0  displacement  Feature   Continuous        None        None  None   \n",
            "1           mpg   Target   Continuous        None        None  None   \n",
            "2     cylinders  Feature      Integer        None        None  None   \n",
            "3    horsepower  Feature   Continuous        None        None  None   \n",
            "4        weight  Feature   Continuous        None        None  None   \n",
            "5  acceleration  Feature   Continuous        None        None  None   \n",
            "6    model_year  Feature      Integer        None        None  None   \n",
            "7        origin  Feature      Integer        None        None  None   \n",
            "8      car_name       ID  Categorical        None        None  None   \n",
            "\n",
            "  missing_values  \n",
            "0             no  \n",
            "1             no  \n",
            "2             no  \n",
            "3            yes  \n",
            "4             no  \n",
            "5             no  \n",
            "6             no  \n",
            "7             no  \n",
            "8             no  \n"
          ]
        }
      ],
      "source": [
        "from ucimlrepo import fetch_ucirepo\n",
        "\n",
        "# fetch dataset\n",
        "auto_mpg = fetch_ucirepo(id=9)\n",
        "\n",
        "# data (as pandas dataframes)\n",
        "X = auto_mpg.data.features\n",
        "y = auto_mpg.data.targets\n",
        "\n",
        "# metadata\n",
        "#import pprint\n",
        "#pprint.pprint(auto_mpg.metadata)\n",
        "\n",
        "# variable information\n",
        "print(auto_mpg.variables)"
      ]
    },
    {
      "cell_type": "markdown",
      "metadata": {
        "id": "swVpiymIYFge"
      },
      "source": [
        "* Which is the dependent variable? Which is the independent variable?"
      ]
    },
    {
      "cell_type": "markdown",
      "metadata": {
        "id": "R-WT8sQhYFge"
      },
      "source": [
        "Dependent (y): mpg\n",
        "\n",
        "Independent (x): displacement"
      ]
    },
    {
      "cell_type": "markdown",
      "metadata": {
        "id": "GKrGlzbmYFge"
      },
      "source": [
        "* Plot mpg vs. displacement (code, plot)\n"
      ]
    },
    {
      "cell_type": "code",
      "execution_count": 14,
      "metadata": {
        "id": "pdvZ4DjPYFge",
        "colab": {
          "base_uri": "https://localhost:8080/",
          "height": 400
        },
        "outputId": "ba0b2165-9bfb-4a7e-c7ae-8c0877e199fd"
      },
      "outputs": [
        {
          "output_type": "execute_result",
          "data": {
            "text/plain": [
              "<lets_plot.plot.core.PlotSpec at 0x787be251f6d0>"
            ],
            "text/html": [
              "<html lang=\"en\">\n",
              "   <head>\n",
              "       <meta charset=\"UTF-8\">\n",
              "       <style> html, body { margin: 0; padding: 0; } </style>\n",
              "       <script type=\"text/javascript\" data-lets-plot-script=\"library\" src=\"https://cdn.jsdelivr.net/gh/JetBrains/lets-plot@v4.6.1/js-package/distr/lets-plot.min.js\"></script>\n",
              "   </head>\n",
              "   <body>\n",
              "          <div id=\"WKSnfg\"></div>\n",
              "   <script type=\"text/javascript\" data-lets-plot-script=\"plot\">\n",
              "   \n",
              "   (function() {\n",
              "   // ----------\n",
              "   \n",
              "   const forceImmediateRender = false;\n",
              "   const responsive = false;\n",
              "   \n",
              "   let sizing = {\n",
              "       width_mode: \"MIN\",\n",
              "       height_mode: \"SCALED\",\n",
              "       width: null, \n",
              "       height: null \n",
              "   };\n",
              "   \n",
              "   const preferredWidth = document.body.dataset.letsPlotPreferredWidth;\n",
              "   if (preferredWidth !== undefined) {\n",
              "       sizing = {\n",
              "           width_mode: 'FIXED',\n",
              "           height_mode: 'SCALED',\n",
              "           width: parseFloat(preferredWidth)\n",
              "       };\n",
              "   }\n",
              "   \n",
              "   const containerDiv = document.getElementById(\"WKSnfg\");\n",
              "   let fig = null;\n",
              "   \n",
              "   function renderPlot() {\n",
              "       if (fig === null) {\n",
              "           const plotSpec = {\n",
              "\"data\":{\n",
              "\"displacement\":[307.0,350.0,318.0,304.0,302.0,429.0,454.0,440.0,455.0,390.0,383.0,340.0,400.0,455.0,113.0,198.0,199.0,200.0,97.0,97.0,110.0,107.0,104.0,121.0,199.0,360.0,307.0,318.0,304.0,97.0,140.0,113.0,98.0,232.0,225.0,250.0,250.0,232.0,350.0,400.0,351.0,318.0,383.0,400.0,400.0,258.0,140.0,250.0,250.0,122.0,116.0,79.0,88.0,71.0,72.0,97.0,91.0,113.0,97.5,97.0,140.0,122.0,350.0,400.0,318.0,351.0,304.0,429.0,350.0,350.0,400.0,70.0,304.0,307.0,302.0,318.0,121.0,121.0,120.0,96.0,122.0,97.0,120.0,98.0,97.0,350.0,304.0,350.0,302.0,318.0,429.0,400.0,351.0,318.0,440.0,455.0,360.0,225.0,250.0,232.0,250.0,198.0,97.0,400.0,400.0,360.0,350.0,232.0,97.0,140.0,108.0,70.0,122.0,155.0,98.0,350.0,400.0,68.0,116.0,114.0,121.0,318.0,121.0,156.0,350.0,198.0,200.0,232.0,250.0,79.0,122.0,71.0,140.0,250.0,258.0,225.0,302.0,350.0,318.0,302.0,304.0,98.0,79.0,97.0,76.0,83.0,90.0,90.0,116.0,120.0,108.0,79.0,225.0,250.0,250.0,250.0,400.0,350.0,318.0,351.0,231.0,250.0,258.0,225.0,231.0,262.0,302.0,97.0,140.0,232.0,140.0,134.0,90.0,119.0,171.0,90.0,232.0,115.0,120.0,121.0,121.0,91.0,107.0,116.0,140.0,98.0,101.0,305.0,318.0,304.0,351.0,225.0,250.0,200.0,232.0,85.0,98.0,90.0,91.0,225.0,250.0,250.0,258.0,97.0,85.0,97.0,140.0,130.0,318.0,120.0,156.0,168.0,350.0,350.0,302.0,318.0,98.0,111.0,79.0,122.0,85.0,305.0,260.0,318.0,302.0,250.0,231.0,225.0,250.0,400.0,350.0,400.0,351.0,97.0,151.0,97.0,140.0,98.0,98.0,97.0,97.0,146.0,121.0,80.0,90.0,98.0,78.0,85.0,91.0,260.0,318.0,302.0,231.0,200.0,200.0,140.0,225.0,232.0,231.0,200.0,225.0,258.0,305.0,231.0,302.0,318.0,98.0,134.0,119.0,105.0,134.0,156.0,151.0,119.0,131.0,163.0,121.0,163.0,89.0,98.0,231.0,200.0,140.0,232.0,225.0,305.0,302.0,351.0,318.0,350.0,351.0,267.0,360.0,89.0,86.0,98.0,121.0,183.0,350.0,141.0,260.0,105.0,105.0,85.0,91.0,151.0,173.0,173.0,151.0,98.0,89.0,98.0,86.0,151.0,140.0,151.0,225.0,97.0,134.0,120.0,119.0,108.0,86.0,156.0,85.0,90.0,90.0,121.0,146.0,91.0,85.0,97.0,89.0,168.0,70.0,122.0,140.0,107.0,135.0,151.0,156.0,173.0,135.0,79.0,86.0,81.0,97.0,85.0,89.0,91.0,105.0,98.0,98.0,105.0,100.0,107.0,108.0,119.0,120.0,141.0,145.0,168.0,146.0,231.0,350.0,200.0,225.0,112.0,112.0,112.0,112.0,135.0,151.0,140.0,151.0,105.0,91.0,91.0,105.0,98.0,120.0,107.0,108.0,91.0,91.0,91.0,181.0,262.0,156.0,232.0,144.0,135.0,151.0,140.0,97.0,135.0,120.0,119.0],\n",
              "\"mpg\":[18.0,15.0,18.0,16.0,17.0,15.0,14.0,14.0,14.0,15.0,15.0,14.0,15.0,14.0,24.0,22.0,18.0,21.0,27.0,26.0,25.0,24.0,25.0,26.0,21.0,10.0,10.0,11.0,9.0,27.0,28.0,25.0,25.0,19.0,16.0,17.0,19.0,18.0,14.0,14.0,14.0,14.0,12.0,13.0,13.0,18.0,22.0,19.0,18.0,23.0,28.0,30.0,30.0,31.0,35.0,27.0,26.0,24.0,25.0,23.0,20.0,21.0,13.0,14.0,15.0,14.0,17.0,11.0,13.0,12.0,13.0,19.0,15.0,13.0,13.0,14.0,18.0,22.0,21.0,26.0,22.0,28.0,23.0,28.0,27.0,13.0,14.0,13.0,14.0,15.0,12.0,13.0,13.0,14.0,13.0,12.0,13.0,18.0,16.0,18.0,18.0,23.0,26.0,11.0,12.0,13.0,12.0,18.0,20.0,21.0,22.0,18.0,19.0,21.0,26.0,15.0,16.0,29.0,24.0,20.0,19.0,15.0,24.0,20.0,11.0,20.0,21.0,19.0,15.0,31.0,26.0,32.0,25.0,16.0,16.0,18.0,16.0,13.0,14.0,14.0,14.0,29.0,26.0,26.0,31.0,32.0,28.0,24.0,26.0,24.0,26.0,31.0,19.0,18.0,15.0,15.0,16.0,15.0,16.0,14.0,17.0,16.0,15.0,18.0,21.0,20.0,13.0,29.0,23.0,20.0,23.0,24.0,25.0,24.0,18.0,29.0,19.0,23.0,23.0,22.0,25.0,33.0,28.0,25.0,25.0,26.0,27.0,17.5,16.0,15.5,14.5,22.0,22.0,24.0,22.5,29.0,24.5,29.0,33.0,20.0,18.0,18.5,17.5,29.5,32.0,28.0,26.5,20.0,13.0,19.0,19.0,16.5,16.5,13.0,13.0,13.0,31.5,30.0,36.0,25.5,33.5,17.5,17.0,15.5,15.0,17.5,20.5,19.0,18.5,16.0,15.5,15.5,16.0,29.0,24.5,26.0,25.5,30.5,33.5,30.0,30.5,22.0,21.5,21.5,43.1,36.1,32.8,39.4,36.1,19.9,19.4,20.2,19.2,20.5,20.2,25.1,20.5,19.4,20.6,20.8,18.6,18.1,19.2,17.7,18.1,17.5,30.0,27.5,27.2,30.9,21.1,23.2,23.8,23.9,20.3,17.0,21.6,16.2,31.5,29.5,21.5,19.8,22.3,20.2,20.6,17.0,17.6,16.5,18.2,16.9,15.5,19.2,18.5,31.9,34.1,35.7,27.4,25.4,23.0,27.2,23.9,34.2,34.5,31.8,37.3,28.4,28.8,26.8,33.5,41.5,38.1,32.1,37.2,28.0,26.4,24.3,19.1,34.3,29.8,31.3,37.0,32.2,46.6,27.9,40.8,44.3,43.4,36.4,30.0,44.6,40.9,33.8,29.8,32.7,23.7,35.0,23.6,32.4,27.2,26.6,25.8,23.5,30.0,39.1,39.0,35.1,32.3,37.0,37.7,34.1,34.7,34.4,29.9,33.0,34.5,33.7,32.4,32.9,31.6,28.1,30.7,25.4,24.2,22.4,26.6,20.2,17.6,28.0,27.0,34.0,31.0,29.0,27.0,24.0,23.0,36.0,37.0,31.0,38.0,36.0,36.0,36.0,34.0,38.0,32.0,38.0,25.0,38.0,26.0,22.0,32.0,36.0,27.0,27.0,44.0,32.0,28.0,31.0]\n",
              "},\n",
              "\"mapping\":{\n",
              "},\n",
              "\"data_meta\":{\n",
              "\"series_annotations\":[{\n",
              "\"type\":\"float\",\n",
              "\"column\":\"displacement\"\n",
              "},{\n",
              "\"type\":\"float\",\n",
              "\"column\":\"mpg\"\n",
              "}]\n",
              "},\n",
              "\"kind\":\"plot\",\n",
              "\"scales\":[],\n",
              "\"layers\":[{\n",
              "\"geom\":\"point\",\n",
              "\"mapping\":{\n",
              "\"x\":\"displacement\",\n",
              "\"y\":\"mpg\"\n",
              "},\n",
              "\"data_meta\":{\n",
              "},\n",
              "\"data\":{\n",
              "}\n",
              "}],\n",
              "\"metainfo_list\":[],\n",
              "\"spec_id\":\"3\"\n",
              "};\n",
              "           fig = LetsPlot.buildPlotFromProcessedSpecs(plotSpec, containerDiv, sizing);\n",
              "       } else {\n",
              "           fig.updateView({});\n",
              "       }\n",
              "   }\n",
              "   \n",
              "   const renderImmediately = \n",
              "       forceImmediateRender || (\n",
              "           sizing.width_mode === 'FIXED' && \n",
              "           (sizing.height_mode === 'FIXED' || sizing.height_mode === 'SCALED')\n",
              "       );\n",
              "   \n",
              "   if (renderImmediately) {\n",
              "       renderPlot();\n",
              "   }\n",
              "   \n",
              "   if (!renderImmediately || responsive) {\n",
              "       // Set up observer for initial sizing or continuous monitoring\n",
              "       var observer = new ResizeObserver(function(entries) {\n",
              "           for (let entry of entries) {\n",
              "               if (entry.contentBoxSize && \n",
              "                   entry.contentBoxSize[0].inlineSize > 0) {\n",
              "                   if (!responsive && observer) {\n",
              "                       observer.disconnect();\n",
              "                       observer = null;\n",
              "                   }\n",
              "                   renderPlot();\n",
              "                   if (!responsive) {\n",
              "                       break;\n",
              "                   }\n",
              "               }\n",
              "           }\n",
              "       });\n",
              "       \n",
              "       observer.observe(containerDiv);\n",
              "   }\n",
              "   \n",
              "   // ----------\n",
              "   })();\n",
              "   \n",
              "   </script>\n",
              "   </body>\n",
              "</html>"
            ]
          },
          "metadata": {},
          "execution_count": 14
        }
      ],
      "source": [
        "df = pd.DataFrame({\n",
        "    'displacement' : X.displacement,\n",
        "    'mpg' : y.mpg\n",
        "})\n",
        "df\n",
        "\n",
        "\n",
        "(\n",
        "    ggplot(df)\n",
        "    + geom_point(\n",
        "        aes(x=\"displacement\", y=\"mpg\"))\n",
        ")\n",
        "\n"
      ]
    },
    {
      "cell_type": "markdown",
      "metadata": {
        "id": "clCGHnjKYFge"
      },
      "source": [
        "Overlay best fit line over the dataset (code, plot)\n"
      ]
    },
    {
      "cell_type": "code",
      "execution_count": 16,
      "metadata": {
        "id": "3fdN0VDDYFge",
        "colab": {
          "base_uri": "https://localhost:8080/",
          "height": 400
        },
        "outputId": "dab081f4-9ae9-43db-fe5e-86b6a695e769"
      },
      "outputs": [
        {
          "output_type": "execute_result",
          "data": {
            "text/plain": [
              "<lets_plot.plot.core.PlotSpec at 0x787be217fa10>"
            ],
            "text/html": [
              "<html lang=\"en\">\n",
              "   <head>\n",
              "       <meta charset=\"UTF-8\">\n",
              "       <style> html, body { margin: 0; padding: 0; } </style>\n",
              "       <script type=\"text/javascript\" data-lets-plot-script=\"library\" src=\"https://cdn.jsdelivr.net/gh/JetBrains/lets-plot@v4.6.1/js-package/distr/lets-plot.min.js\"></script>\n",
              "   </head>\n",
              "   <body>\n",
              "          <div id=\"03ualT\"></div>\n",
              "   <script type=\"text/javascript\" data-lets-plot-script=\"plot\">\n",
              "   \n",
              "   (function() {\n",
              "   // ----------\n",
              "   \n",
              "   const forceImmediateRender = false;\n",
              "   const responsive = false;\n",
              "   \n",
              "   let sizing = {\n",
              "       width_mode: \"MIN\",\n",
              "       height_mode: \"SCALED\",\n",
              "       width: null, \n",
              "       height: null \n",
              "   };\n",
              "   \n",
              "   const preferredWidth = document.body.dataset.letsPlotPreferredWidth;\n",
              "   if (preferredWidth !== undefined) {\n",
              "       sizing = {\n",
              "           width_mode: 'FIXED',\n",
              "           height_mode: 'SCALED',\n",
              "           width: parseFloat(preferredWidth)\n",
              "       };\n",
              "   }\n",
              "   \n",
              "   const containerDiv = document.getElementById(\"03ualT\");\n",
              "   let fig = null;\n",
              "   \n",
              "   function renderPlot() {\n",
              "       if (fig === null) {\n",
              "           const plotSpec = {\n",
              "\"data\":{\n",
              "\"displacement\":[307.0,350.0,318.0,304.0,302.0,429.0,454.0,440.0,455.0,390.0,383.0,340.0,400.0,455.0,113.0,198.0,199.0,200.0,97.0,97.0,110.0,107.0,104.0,121.0,199.0,360.0,307.0,318.0,304.0,97.0,140.0,113.0,98.0,232.0,225.0,250.0,250.0,232.0,350.0,400.0,351.0,318.0,383.0,400.0,400.0,258.0,140.0,250.0,250.0,122.0,116.0,79.0,88.0,71.0,72.0,97.0,91.0,113.0,97.5,97.0,140.0,122.0,350.0,400.0,318.0,351.0,304.0,429.0,350.0,350.0,400.0,70.0,304.0,307.0,302.0,318.0,121.0,121.0,120.0,96.0,122.0,97.0,120.0,98.0,97.0,350.0,304.0,350.0,302.0,318.0,429.0,400.0,351.0,318.0,440.0,455.0,360.0,225.0,250.0,232.0,250.0,198.0,97.0,400.0,400.0,360.0,350.0,232.0,97.0,140.0,108.0,70.0,122.0,155.0,98.0,350.0,400.0,68.0,116.0,114.0,121.0,318.0,121.0,156.0,350.0,198.0,200.0,232.0,250.0,79.0,122.0,71.0,140.0,250.0,258.0,225.0,302.0,350.0,318.0,302.0,304.0,98.0,79.0,97.0,76.0,83.0,90.0,90.0,116.0,120.0,108.0,79.0,225.0,250.0,250.0,250.0,400.0,350.0,318.0,351.0,231.0,250.0,258.0,225.0,231.0,262.0,302.0,97.0,140.0,232.0,140.0,134.0,90.0,119.0,171.0,90.0,232.0,115.0,120.0,121.0,121.0,91.0,107.0,116.0,140.0,98.0,101.0,305.0,318.0,304.0,351.0,225.0,250.0,200.0,232.0,85.0,98.0,90.0,91.0,225.0,250.0,250.0,258.0,97.0,85.0,97.0,140.0,130.0,318.0,120.0,156.0,168.0,350.0,350.0,302.0,318.0,98.0,111.0,79.0,122.0,85.0,305.0,260.0,318.0,302.0,250.0,231.0,225.0,250.0,400.0,350.0,400.0,351.0,97.0,151.0,97.0,140.0,98.0,98.0,97.0,97.0,146.0,121.0,80.0,90.0,98.0,78.0,85.0,91.0,260.0,318.0,302.0,231.0,200.0,200.0,140.0,225.0,232.0,231.0,200.0,225.0,258.0,305.0,231.0,302.0,318.0,98.0,134.0,119.0,105.0,134.0,156.0,151.0,119.0,131.0,163.0,121.0,163.0,89.0,98.0,231.0,200.0,140.0,232.0,225.0,305.0,302.0,351.0,318.0,350.0,351.0,267.0,360.0,89.0,86.0,98.0,121.0,183.0,350.0,141.0,260.0,105.0,105.0,85.0,91.0,151.0,173.0,173.0,151.0,98.0,89.0,98.0,86.0,151.0,140.0,151.0,225.0,97.0,134.0,120.0,119.0,108.0,86.0,156.0,85.0,90.0,90.0,121.0,146.0,91.0,85.0,97.0,89.0,168.0,70.0,122.0,140.0,107.0,135.0,151.0,156.0,173.0,135.0,79.0,86.0,81.0,97.0,85.0,89.0,91.0,105.0,98.0,98.0,105.0,100.0,107.0,108.0,119.0,120.0,141.0,145.0,168.0,146.0,231.0,350.0,200.0,225.0,112.0,112.0,112.0,112.0,135.0,151.0,140.0,151.0,105.0,91.0,91.0,105.0,98.0,120.0,107.0,108.0,91.0,91.0,91.0,181.0,262.0,156.0,232.0,144.0,135.0,151.0,140.0,97.0,135.0,120.0,119.0],\n",
              "\"mpg\":[18.0,15.0,18.0,16.0,17.0,15.0,14.0,14.0,14.0,15.0,15.0,14.0,15.0,14.0,24.0,22.0,18.0,21.0,27.0,26.0,25.0,24.0,25.0,26.0,21.0,10.0,10.0,11.0,9.0,27.0,28.0,25.0,25.0,19.0,16.0,17.0,19.0,18.0,14.0,14.0,14.0,14.0,12.0,13.0,13.0,18.0,22.0,19.0,18.0,23.0,28.0,30.0,30.0,31.0,35.0,27.0,26.0,24.0,25.0,23.0,20.0,21.0,13.0,14.0,15.0,14.0,17.0,11.0,13.0,12.0,13.0,19.0,15.0,13.0,13.0,14.0,18.0,22.0,21.0,26.0,22.0,28.0,23.0,28.0,27.0,13.0,14.0,13.0,14.0,15.0,12.0,13.0,13.0,14.0,13.0,12.0,13.0,18.0,16.0,18.0,18.0,23.0,26.0,11.0,12.0,13.0,12.0,18.0,20.0,21.0,22.0,18.0,19.0,21.0,26.0,15.0,16.0,29.0,24.0,20.0,19.0,15.0,24.0,20.0,11.0,20.0,21.0,19.0,15.0,31.0,26.0,32.0,25.0,16.0,16.0,18.0,16.0,13.0,14.0,14.0,14.0,29.0,26.0,26.0,31.0,32.0,28.0,24.0,26.0,24.0,26.0,31.0,19.0,18.0,15.0,15.0,16.0,15.0,16.0,14.0,17.0,16.0,15.0,18.0,21.0,20.0,13.0,29.0,23.0,20.0,23.0,24.0,25.0,24.0,18.0,29.0,19.0,23.0,23.0,22.0,25.0,33.0,28.0,25.0,25.0,26.0,27.0,17.5,16.0,15.5,14.5,22.0,22.0,24.0,22.5,29.0,24.5,29.0,33.0,20.0,18.0,18.5,17.5,29.5,32.0,28.0,26.5,20.0,13.0,19.0,19.0,16.5,16.5,13.0,13.0,13.0,31.5,30.0,36.0,25.5,33.5,17.5,17.0,15.5,15.0,17.5,20.5,19.0,18.5,16.0,15.5,15.5,16.0,29.0,24.5,26.0,25.5,30.5,33.5,30.0,30.5,22.0,21.5,21.5,43.1,36.1,32.8,39.4,36.1,19.9,19.4,20.2,19.2,20.5,20.2,25.1,20.5,19.4,20.6,20.8,18.6,18.1,19.2,17.7,18.1,17.5,30.0,27.5,27.2,30.9,21.1,23.2,23.8,23.9,20.3,17.0,21.6,16.2,31.5,29.5,21.5,19.8,22.3,20.2,20.6,17.0,17.6,16.5,18.2,16.9,15.5,19.2,18.5,31.9,34.1,35.7,27.4,25.4,23.0,27.2,23.9,34.2,34.5,31.8,37.3,28.4,28.8,26.8,33.5,41.5,38.1,32.1,37.2,28.0,26.4,24.3,19.1,34.3,29.8,31.3,37.0,32.2,46.6,27.9,40.8,44.3,43.4,36.4,30.0,44.6,40.9,33.8,29.8,32.7,23.7,35.0,23.6,32.4,27.2,26.6,25.8,23.5,30.0,39.1,39.0,35.1,32.3,37.0,37.7,34.1,34.7,34.4,29.9,33.0,34.5,33.7,32.4,32.9,31.6,28.1,30.7,25.4,24.2,22.4,26.6,20.2,17.6,28.0,27.0,34.0,31.0,29.0,27.0,24.0,23.0,36.0,37.0,31.0,38.0,36.0,36.0,36.0,34.0,38.0,32.0,38.0,25.0,38.0,26.0,22.0,32.0,36.0,27.0,27.0,44.0,32.0,28.0,31.0]\n",
              "},\n",
              "\"mapping\":{\n",
              "},\n",
              "\"data_meta\":{\n",
              "\"series_annotations\":[{\n",
              "\"type\":\"str\",\n",
              "\"column\":\"car_name\"\n",
              "},{\n",
              "\"type\":\"int\",\n",
              "\"column\":\"cylinders\"\n",
              "},{\n",
              "\"type\":\"float\",\n",
              "\"column\":\"displacement\"\n",
              "},{\n",
              "\"type\":\"float\",\n",
              "\"column\":\"horsepower\"\n",
              "},{\n",
              "\"type\":\"int\",\n",
              "\"column\":\"weight\"\n",
              "},{\n",
              "\"type\":\"float\",\n",
              "\"column\":\"acceleration\"\n",
              "},{\n",
              "\"type\":\"int\",\n",
              "\"column\":\"model_year\"\n",
              "},{\n",
              "\"type\":\"int\",\n",
              "\"column\":\"origin\"\n",
              "},{\n",
              "\"type\":\"float\",\n",
              "\"column\":\"mpg\"\n",
              "}]\n",
              "},\n",
              "\"kind\":\"plot\",\n",
              "\"scales\":[],\n",
              "\"layers\":[{\n",
              "\"geom\":\"point\",\n",
              "\"mapping\":{\n",
              "\"x\":\"displacement\",\n",
              "\"y\":\"mpg\"\n",
              "},\n",
              "\"data_meta\":{\n",
              "},\n",
              "\"data\":{\n",
              "}\n",
              "},{\n",
              "\"geom\":\"abline\",\n",
              "\"mapping\":{\n",
              "},\n",
              "\"data_meta\":{\n",
              "},\n",
              "\"slope\":-0.06028240546881721,\n",
              "\"intercept\":35.17475015429319,\n",
              "\"color\":\"blue\",\n",
              "\"data\":{\n",
              "}\n",
              "}],\n",
              "\"metainfo_list\":[],\n",
              "\"spec_id\":\"5\"\n",
              "};\n",
              "           fig = LetsPlot.buildPlotFromProcessedSpecs(plotSpec, containerDiv, sizing);\n",
              "       } else {\n",
              "           fig.updateView({});\n",
              "       }\n",
              "   }\n",
              "   \n",
              "   const renderImmediately = \n",
              "       forceImmediateRender || (\n",
              "           sizing.width_mode === 'FIXED' && \n",
              "           (sizing.height_mode === 'FIXED' || sizing.height_mode === 'SCALED')\n",
              "       );\n",
              "   \n",
              "   if (renderImmediately) {\n",
              "       renderPlot();\n",
              "   }\n",
              "   \n",
              "   if (!renderImmediately || responsive) {\n",
              "       // Set up observer for initial sizing or continuous monitoring\n",
              "       var observer = new ResizeObserver(function(entries) {\n",
              "           for (let entry of entries) {\n",
              "               if (entry.contentBoxSize && \n",
              "                   entry.contentBoxSize[0].inlineSize > 0) {\n",
              "                   if (!responsive && observer) {\n",
              "                       observer.disconnect();\n",
              "                       observer = null;\n",
              "                   }\n",
              "                   renderPlot();\n",
              "                   if (!responsive) {\n",
              "                       break;\n",
              "                   }\n",
              "               }\n",
              "           }\n",
              "       });\n",
              "       \n",
              "       observer.observe(containerDiv);\n",
              "   }\n",
              "   \n",
              "   // ----------\n",
              "   })();\n",
              "   \n",
              "   </script>\n",
              "   </body>\n",
              "</html>"
            ]
          },
          "metadata": {},
          "execution_count": 16
        }
      ],
      "source": [
        "m = LinearRegression()\n",
        "m.fit(X[['displacement']], y['mpg'])\n",
        "cf = [m.intercept_, *m.coef_]\n",
        "\n",
        "(\n",
        "    ggplot(auto_mpg.data.original)\n",
        "    + geom_point(aes(x='displacement', y='mpg'))\n",
        "    + geom_abline(slope=cf[1], intercept=cf[0], color=\"blue\")\n",
        ")\n"
      ]
    },
    {
      "cell_type": "markdown",
      "metadata": {
        "id": "nGc0FqW_YFgf"
      },
      "source": [
        "## Part 4 - Slide 35"
      ]
    },
    {
      "cell_type": "markdown",
      "metadata": {
        "id": "1_aOhjMSYFgf"
      },
      "source": [
        "Which rows of iris are outliers based on the Petal.Width~Petal.Length model?\n"
      ]
    },
    {
      "cell_type": "code",
      "execution_count": null,
      "metadata": {
        "id": "HcPknYjnYFgf"
      },
      "outputs": [],
      "source": []
    },
    {
      "cell_type": "markdown",
      "metadata": {
        "id": "GdBgSoZ3YFgf"
      },
      "source": [
        "## Part 5 - Slide 41"
      ]
    },
    {
      "cell_type": "markdown",
      "metadata": {
        "id": "bVCfGf6WYFgf"
      },
      "source": [
        "Consider the `auto_mpg.data.original` dataset\n",
        "\n",
        "> The goal is to model mpg given engine displacement\n",
        "\n",
        "Include the confidence intervals of the predictions below:\n",
        "\n",
        "* Predict the mpg of a car with engine displacement=250\n"
      ]
    },
    {
      "cell_type": "code",
      "execution_count": null,
      "metadata": {
        "id": "wxue90VwYFgf"
      },
      "outputs": [],
      "source": []
    },
    {
      "cell_type": "markdown",
      "metadata": {
        "id": "1fky5WeeYFgf"
      },
      "source": [
        "* Predict the mpg of a car with engine displacement=600\n"
      ]
    },
    {
      "cell_type": "code",
      "execution_count": null,
      "metadata": {
        "id": "qvWJ2nx1YFgg"
      },
      "outputs": [],
      "source": []
    },
    {
      "cell_type": "markdown",
      "metadata": {
        "id": "TlGygb98YFgg"
      },
      "source": [
        "In which prediction (for displ=250 or displ=600) are you more confident?\n"
      ]
    },
    {
      "cell_type": "markdown",
      "metadata": {
        "id": "eNbW-JndYFgg"
      },
      "source": []
    },
    {
      "cell_type": "markdown",
      "metadata": {
        "id": "5jBvcnmMYFgj"
      },
      "source": [
        "## Part 6 - Slide 44"
      ]
    },
    {
      "cell_type": "markdown",
      "metadata": {
        "id": "VQRb0-dNYFgk"
      },
      "source": [
        "Write down the linear model equation relating the three variables from\n",
        "\n",
        "Petal.Width ~ Petal.Length + Sepal.Length"
      ]
    },
    {
      "cell_type": "code",
      "execution_count": null,
      "metadata": {
        "id": "b-h5A6mrYFgk"
      },
      "outputs": [],
      "source": []
    },
    {
      "cell_type": "markdown",
      "metadata": {
        "id": "y3iK4NJzYFgk"
      },
      "source": []
    },
    {
      "cell_type": "markdown",
      "metadata": {
        "id": "8azjz_3PYFgk"
      },
      "source": [
        "## Part 7 - Slide 48"
      ]
    },
    {
      "cell_type": "markdown",
      "metadata": {
        "id": "r8OzmLu7YFgk"
      },
      "source": [
        "Do 0-1 coding of sem={Freshman, Soph, Junior, Senior}"
      ]
    },
    {
      "cell_type": "markdown",
      "metadata": {
        "id": "jxL68YtVYFgk"
      },
      "source": [
        "| Value    | Dummy variable 1 | ... |\n",
        "|----------|------------------|-----|\n",
        "| Freshman |                  |     |\n",
        "| ...      |                  |     |"
      ]
    },
    {
      "cell_type": "markdown",
      "metadata": {
        "id": "YspzZ_CeYFgl"
      },
      "source": [
        "## Part 8 - Slide 54"
      ]
    },
    {
      "cell_type": "markdown",
      "metadata": {
        "id": "VwSSujk5YFgl"
      },
      "source": [
        "Consider the `auto_mpg.data.original` dataset.\n",
        "\n",
        "> The goal is to model mpg given engine displacement (a continuous variable) and number of cylinders (pretend this is a categorical variable).\n",
        "\n",
        "* Which is the dependent variable? Which are the independent variables?"
      ]
    },
    {
      "cell_type": "markdown",
      "metadata": {
        "id": "nMWqccrxYFgt"
      },
      "source": []
    },
    {
      "cell_type": "markdown",
      "metadata": {
        "id": "d2VZqeoUYFgu"
      },
      "source": [
        "* Convert cylinders to a `str` variable, then to a categorical variable.\n",
        "\n",
        "> The type should be `CategoricalDtype(categories=['3', '4', '5', '6', '8'], ordered=False, categories_dtype=object)`\n",
        "> rather than `CategoricalDtype(categories=[3, 4, 5, 6, 8], ordered=False, categories_dtype=int64)`\n"
      ]
    },
    {
      "cell_type": "code",
      "execution_count": null,
      "metadata": {
        "id": "OGyuduQYYFgu"
      },
      "outputs": [],
      "source": []
    },
    {
      "cell_type": "markdown",
      "metadata": {
        "id": "tdFm0tC1YFgu"
      },
      "source": [
        "* Create a linear model called `mod_displ_cyl` of mpg vs. displacement and cylinders.\n",
        "  - Give `sm.formula.ols` code, output of `results.summary()`\n"
      ]
    },
    {
      "cell_type": "code",
      "execution_count": null,
      "metadata": {
        "id": "JaJ41kt4YFgv"
      },
      "outputs": [],
      "source": []
    },
    {
      "cell_type": "markdown",
      "metadata": {
        "id": "IrqG9dN7YFgv"
      },
      "source": [
        "* How many dummy (i.e., 0-1) variables were created in the model?\n",
        "  - What are they called?\n"
      ]
    },
    {
      "cell_type": "markdown",
      "metadata": {
        "id": "SXK3op7BYFgv"
      },
      "source": []
    },
    {
      "cell_type": "markdown",
      "metadata": {
        "id": "atqUKQQ9YFgv"
      },
      "source": [
        " * Give the model equations relating mpg with displacement and cylinders.\n"
      ]
    },
    {
      "cell_type": "markdown",
      "metadata": {
        "id": "3sX9T_18YFgw"
      },
      "source": []
    },
    {
      "cell_type": "markdown",
      "metadata": {
        "id": "TBytijC-YFgw"
      },
      "source": [
        "* Plot mpg vs. displacement and overlay the best fit model. (code, plot)\n",
        "  - Hint: plot the predictions; use `assign()` and `geom_line()` and use the color aesthetic for cylinders\n"
      ]
    },
    {
      "cell_type": "code",
      "execution_count": null,
      "metadata": {
        "id": "ykJ5TnRlYFgw"
      },
      "outputs": [],
      "source": []
    },
    {
      "cell_type": "markdown",
      "metadata": {
        "id": "VfpWLmxyYFgw"
      },
      "source": [
        "# Part 9 - Slide 60"
      ]
    },
    {
      "cell_type": "markdown",
      "metadata": {
        "id": "uMMi7MO2YFgx"
      },
      "source": [
        "Consider the `auto_mpg.data.original` dataset\n",
        "* Build a linear model to predict mpg given:\n",
        "  \n",
        "  $$\\frac{1}{displacement^2}$$"
      ]
    },
    {
      "cell_type": "code",
      "execution_count": null,
      "metadata": {
        "id": "YIyz0477YFgx"
      },
      "outputs": [],
      "source": []
    },
    {
      "cell_type": "markdown",
      "metadata": {
        "id": "FTHEO6vVYFgx"
      },
      "source": [
        "* What is the regression equation?"
      ]
    },
    {
      "cell_type": "markdown",
      "metadata": {
        "id": "xmNvn_R0YFgx"
      },
      "source": []
    },
    {
      "cell_type": "markdown",
      "metadata": {
        "id": "-DM_LoK0YFgx"
      },
      "source": [
        "* Plot the model predictions"
      ]
    },
    {
      "cell_type": "code",
      "execution_count": null,
      "metadata": {
        "id": "EoIvwzo8YFgy"
      },
      "outputs": [],
      "source": []
    }
  ],
  "metadata": {
    "kernelspec": {
      "display_name": "murach",
      "language": "python",
      "name": "python3"
    },
    "language_info": {
      "codemirror_mode": {
        "name": "ipython",
        "version": 3
      },
      "file_extension": ".py",
      "mimetype": "text/x-python",
      "name": "python",
      "nbconvert_exporter": "python",
      "pygments_lexer": "ipython3",
      "version": "3.11.7"
    },
    "colab": {
      "provenance": [],
      "include_colab_link": true
    }
  },
  "nbformat": 4,
  "nbformat_minor": 0
}