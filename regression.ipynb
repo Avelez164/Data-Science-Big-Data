{
  "cells": [
    {
      "cell_type": "markdown",
      "metadata": {
        "id": "view-in-github",
        "colab_type": "text"
      },
      "source": [
        "<a href=\"https://colab.research.google.com/github/Avelez164/Data-Science-Big-Data/blob/main/regression.ipynb\" target=\"_parent\"><img src=\"https://colab.research.google.com/assets/colab-badge.svg\" alt=\"Open In Colab\"/></a>"
      ]
    },
    {
      "cell_type": "markdown",
      "metadata": {
        "id": "qSHTtwA_YFgW"
      },
      "source": [
        "# CPSC 375 Classwork - Linear Regression\n",
        "\n",
        "[![Open In Colab](https://colab.research.google.com/assets/colab-badge.svg)](https://colab.research.google.com/github/ProfAvery/cpsc375-classwork/blob/main/regression.ipynb)\n",
        "\n",
        "- *Manager*:\n",
        "- *Recorder*:\n",
        "- *Presenter*:\n",
        "- *Timekeeper*:"
      ]
    },
    {
      "cell_type": "markdown",
      "metadata": {
        "id": "Iorl8agsYFgZ"
      },
      "source": [
        "## Part 1 - Slide 8"
      ]
    },
    {
      "cell_type": "markdown",
      "metadata": {
        "id": "f9YdsSEvYFgZ"
      },
      "source": [
        "Consider the problem of estimating Height given Weight and Age\n",
        "* What are some linear models for this?\n",
        "* What are some nonlinear models for this?\n"
      ]
    },
    {
      "cell_type": "markdown",
      "metadata": {
        "id": "AumDZG3sYFga"
      },
      "source": [
        "Dependent variable / output (y): Height\n",
        "\n",
        "Independent / explanatory / input ($ x_1, x_2 $): Weight, Age\n",
        "\n",
        "\n",
        "* Linear models\n",
        "\n",
        "$$ y = f(x_2) = f(Age) = \\beta_0 + \\beta_1 * x_2$$\n",
        "\n",
        "$$ Weight = f(x_2) = f(Age) $$\n",
        "\n",
        "$$ f = f(x_1) = f(Weight) $$\n",
        "\n",
        "$$ y = f(x_1, x_2) $$\n",
        "\n",
        "\n",
        "* Nonlinear models\n",
        "\n",
        "$$ y = f(x_2) = f(Age) = \\beta_0 + \\beta_1 * x_2 + quadratic???$$\n",
        "\n",
        "$$ y = f(x_1, x_2) $$\n",
        "\n"
      ]
    },
    {
      "cell_type": "markdown",
      "metadata": {
        "id": "TdfSPa1qYFga"
      },
      "source": [
        "## Part 2 - Slide 11"
      ]
    },
    {
      "cell_type": "code",
      "execution_count": 1,
      "metadata": {
        "id": "YBxDwaAAYFga",
        "colab": {
          "base_uri": "https://localhost:8080/"
        },
        "outputId": "9b549105-6831-4c20-91e4-bfcd39a16f67"
      },
      "outputs": [
        {
          "output_type": "stream",
          "name": "stdout",
          "text": [
            "Collecting lets-plot\n",
            "  Downloading lets_plot-4.6.1-cp311-cp311-manylinux_2_17_x86_64.manylinux2014_x86_64.whl.metadata (11 kB)\n",
            "Collecting pypng (from lets-plot)\n",
            "  Downloading pypng-0.20220715.0-py3-none-any.whl.metadata (13 kB)\n",
            "Collecting palettable (from lets-plot)\n",
            "  Downloading palettable-3.3.3-py2.py3-none-any.whl.metadata (3.3 kB)\n",
            "Downloading lets_plot-4.6.1-cp311-cp311-manylinux_2_17_x86_64.manylinux2014_x86_64.whl (3.4 MB)\n",
            "\u001b[2K   \u001b[90m━━━━━━━━━━━━━━━━━━━━━━━━━━━━━━━━━━━━━━━━\u001b[0m \u001b[32m3.4/3.4 MB\u001b[0m \u001b[31m18.8 MB/s\u001b[0m eta \u001b[36m0:00:00\u001b[0m\n",
            "\u001b[?25hDownloading palettable-3.3.3-py2.py3-none-any.whl (332 kB)\n",
            "\u001b[2K   \u001b[90m━━━━━━━━━━━━━━━━━━━━━━━━━━━━━━━━━━━━━━━━\u001b[0m \u001b[32m332.3/332.3 kB\u001b[0m \u001b[31m14.7 MB/s\u001b[0m eta \u001b[36m0:00:00\u001b[0m\n",
            "\u001b[?25hDownloading pypng-0.20220715.0-py3-none-any.whl (58 kB)\n",
            "\u001b[2K   \u001b[90m━━━━━━━━━━━━━━━━━━━━━━━━━━━━━━━━━━━━━━━━\u001b[0m \u001b[32m58.1/58.1 kB\u001b[0m \u001b[31m5.2 MB/s\u001b[0m eta \u001b[36m0:00:00\u001b[0m\n",
            "\u001b[?25hInstalling collected packages: pypng, palettable, lets-plot\n",
            "Successfully installed lets-plot-4.6.1 palettable-3.3.3 pypng-0.20220715.0\n"
          ]
        }
      ],
      "source": [
        "%pip install lets-plot\n",
        "\n",
        "from lets_plot import *\n",
        "\n",
        "LetsPlot.setup_html()"
      ]
    },
    {
      "cell_type": "code",
      "execution_count": 2,
      "metadata": {
        "id": "HiBGgXEbYFgb"
      },
      "outputs": [],
      "source": [
        "import statsmodels.api as sm\n",
        "\n",
        "iris_dataset = sm.datasets.get_rdataset(\"iris\")\n",
        "iris = iris_dataset.data\n"
      ]
    },
    {
      "cell_type": "markdown",
      "metadata": {
        "id": "DwPX3XOTYFgb"
      },
      "source": [
        "How does Petal.Length change with Petal.Width?\n",
        "* Which is the dependent variable? Which is the explanatory/independent variable?\n",
        "* Draw a scatterplot\n",
        "* Draw *any* straight line that fits the data well\n",
        "  - Use `geom_abline()`\n"
      ]
    },
    {
      "cell_type": "code",
      "source": [
        "import sklearn\n",
        "from sklearn.linear_model import LinearRegression\n",
        "m = LinearRegression()\n",
        "X= iris[['Petal.Width']]\n",
        "y = iris['Petal.Length']\n",
        "m.fit(X, y)\n",
        "cf = [m.intercept_, *m.coef_]\n",
        "\n",
        "(\n",
        "    ggplot(iris)\n",
        "    + geom_point(aes(x='Petal.Width', y='Petal.Length'))\n",
        "    + geom_abline(slope=cf[1], intercept=cf[0], color=\"blue\")\n",
        ")"
      ],
      "metadata": {
        "colab": {
          "base_uri": "https://localhost:8080/",
          "height": 400
        },
        "id": "mQXH09hwKnzf",
        "outputId": "28ddbb28-226f-4e15-a9ac-a9a5ae050ee1"
      },
      "execution_count": 13,
      "outputs": [
        {
          "output_type": "execute_result",
          "data": {
            "text/plain": [
              "<lets_plot.plot.core.PlotSpec at 0x7c2b043f08d0>"
            ],
            "text/html": [
              "<html lang=\"en\">\n",
              "   <head>\n",
              "       <meta charset=\"UTF-8\">\n",
              "       <style> html, body { margin: 0; padding: 0; } </style>\n",
              "       <script type=\"text/javascript\" data-lets-plot-script=\"library\" src=\"https://cdn.jsdelivr.net/gh/JetBrains/lets-plot@v4.6.1/js-package/distr/lets-plot.min.js\"></script>\n",
              "   </head>\n",
              "   <body>\n",
              "          <div id=\"tLITbL\"></div>\n",
              "   <script type=\"text/javascript\" data-lets-plot-script=\"plot\">\n",
              "   \n",
              "   (function() {\n",
              "   // ----------\n",
              "   \n",
              "   const forceImmediateRender = false;\n",
              "   const responsive = false;\n",
              "   \n",
              "   let sizing = {\n",
              "       width_mode: \"MIN\",\n",
              "       height_mode: \"SCALED\",\n",
              "       width: null, \n",
              "       height: null \n",
              "   };\n",
              "   \n",
              "   const preferredWidth = document.body.dataset.letsPlotPreferredWidth;\n",
              "   if (preferredWidth !== undefined) {\n",
              "       sizing = {\n",
              "           width_mode: 'FIXED',\n",
              "           height_mode: 'SCALED',\n",
              "           width: parseFloat(preferredWidth)\n",
              "       };\n",
              "   }\n",
              "   \n",
              "   const containerDiv = document.getElementById(\"tLITbL\");\n",
              "   let fig = null;\n",
              "   \n",
              "   function renderPlot() {\n",
              "       if (fig === null) {\n",
              "           const plotSpec = {\n",
              "\"data\":{\n",
              "\"Petal.Length\":[1.4,1.4,1.3,1.5,1.4,1.7,1.4,1.5,1.4,1.5,1.5,1.6,1.4,1.1,1.2,1.5,1.3,1.4,1.7,1.5,1.7,1.5,1.0,1.7,1.9,1.6,1.6,1.5,1.4,1.6,1.6,1.5,1.5,1.4,1.5,1.2,1.3,1.4,1.3,1.5,1.3,1.3,1.3,1.6,1.9,1.4,1.6,1.4,1.5,1.4,4.7,4.5,4.9,4.0,4.6,4.5,4.7,3.3,4.6,3.9,3.5,4.2,4.0,4.7,3.6,4.4,4.5,4.1,4.5,3.9,4.8,4.0,4.9,4.7,4.3,4.4,4.8,5.0,4.5,3.5,3.8,3.7,3.9,5.1,4.5,4.5,4.7,4.4,4.1,4.0,4.4,4.6,4.0,3.3,4.2,4.2,4.2,4.3,3.0,4.1,6.0,5.1,5.9,5.6,5.8,6.6,4.5,6.3,5.8,6.1,5.1,5.3,5.5,5.0,5.1,5.3,5.5,6.7,6.9,5.0,5.7,4.9,6.7,4.9,5.7,6.0,4.8,4.9,5.6,5.8,6.1,6.4,5.6,5.1,5.6,6.1,5.6,5.5,4.8,5.4,5.6,5.1,5.1,5.9,5.7,5.2,5.0,5.2,5.4,5.1],\n",
              "\"Petal.Width\":[0.2,0.2,0.2,0.2,0.2,0.4,0.3,0.2,0.2,0.1,0.2,0.2,0.1,0.1,0.2,0.4,0.4,0.3,0.3,0.3,0.2,0.4,0.2,0.5,0.2,0.2,0.4,0.2,0.2,0.2,0.2,0.4,0.1,0.2,0.2,0.2,0.2,0.1,0.2,0.2,0.3,0.3,0.2,0.6,0.4,0.3,0.2,0.2,0.2,0.2,1.4,1.5,1.5,1.3,1.5,1.3,1.6,1.0,1.3,1.4,1.0,1.5,1.0,1.4,1.3,1.4,1.5,1.0,1.5,1.1,1.8,1.3,1.5,1.2,1.3,1.4,1.4,1.7,1.5,1.0,1.1,1.0,1.2,1.6,1.5,1.6,1.5,1.3,1.3,1.3,1.2,1.4,1.2,1.0,1.3,1.2,1.3,1.3,1.1,1.3,2.5,1.9,2.1,1.8,2.2,2.1,1.7,1.8,1.8,2.5,2.0,1.9,2.1,2.0,2.4,2.3,1.8,2.2,2.3,1.5,2.3,2.0,2.0,1.8,2.1,1.8,1.8,1.8,2.1,1.6,1.9,2.0,2.2,1.5,1.4,2.3,2.4,1.8,1.8,2.1,2.4,2.3,1.9,2.3,2.5,2.3,1.9,2.0,2.3,1.8]\n",
              "},\n",
              "\"mapping\":{\n",
              "},\n",
              "\"data_meta\":{\n",
              "\"series_annotations\":[{\n",
              "\"type\":\"float\",\n",
              "\"column\":\"Sepal.Length\"\n",
              "},{\n",
              "\"type\":\"float\",\n",
              "\"column\":\"Sepal.Width\"\n",
              "},{\n",
              "\"type\":\"float\",\n",
              "\"column\":\"Petal.Length\"\n",
              "},{\n",
              "\"type\":\"float\",\n",
              "\"column\":\"Petal.Width\"\n",
              "},{\n",
              "\"type\":\"str\",\n",
              "\"column\":\"Species\"\n",
              "},{\n",
              "\"type\":\"float\",\n",
              "\"column\":\"resid\"\n",
              "}]\n",
              "},\n",
              "\"kind\":\"plot\",\n",
              "\"scales\":[],\n",
              "\"layers\":[{\n",
              "\"geom\":\"point\",\n",
              "\"mapping\":{\n",
              "\"x\":\"Petal.Width\",\n",
              "\"y\":\"Petal.Length\"\n",
              "},\n",
              "\"data_meta\":{\n",
              "},\n",
              "\"data\":{\n",
              "}\n",
              "},{\n",
              "\"geom\":\"abline\",\n",
              "\"mapping\":{\n",
              "},\n",
              "\"data_meta\":{\n",
              "},\n",
              "\"slope\":2.229940495121864,\n",
              "\"intercept\":1.0835580328505112,\n",
              "\"color\":\"blue\",\n",
              "\"data\":{\n",
              "}\n",
              "}],\n",
              "\"metainfo_list\":[],\n",
              "\"spec_id\":\"2\"\n",
              "};\n",
              "           fig = LetsPlot.buildPlotFromProcessedSpecs(plotSpec, containerDiv, sizing);\n",
              "       } else {\n",
              "           fig.updateView({});\n",
              "       }\n",
              "   }\n",
              "   \n",
              "   const renderImmediately = \n",
              "       forceImmediateRender || (\n",
              "           sizing.width_mode === 'FIXED' && \n",
              "           (sizing.height_mode === 'FIXED' || sizing.height_mode === 'SCALED')\n",
              "       );\n",
              "   \n",
              "   if (renderImmediately) {\n",
              "       renderPlot();\n",
              "   }\n",
              "   \n",
              "   if (!renderImmediately || responsive) {\n",
              "       // Set up observer for initial sizing or continuous monitoring\n",
              "       var observer = new ResizeObserver(function(entries) {\n",
              "           for (let entry of entries) {\n",
              "               if (entry.contentBoxSize && \n",
              "                   entry.contentBoxSize[0].inlineSize > 0) {\n",
              "                   if (!responsive && observer) {\n",
              "                       observer.disconnect();\n",
              "                       observer = null;\n",
              "                   }\n",
              "                   renderPlot();\n",
              "                   if (!responsive) {\n",
              "                       break;\n",
              "                   }\n",
              "               }\n",
              "           }\n",
              "       });\n",
              "       \n",
              "       observer.observe(containerDiv);\n",
              "   }\n",
              "   \n",
              "   // ----------\n",
              "   })();\n",
              "   \n",
              "   </script>\n",
              "   </body>\n",
              "</html>"
            ]
          },
          "metadata": {},
          "execution_count": 13
        }
      ]
    },
    {
      "cell_type": "code",
      "source": [
        "y_pred = m.predict(X)\n",
        "y - y_pred\n",
        "iris['resid'] = y - y_pred\n",
        "#iris.resid.hist()\n",
        "(iris.resid / iris.resid.std())"
      ],
      "metadata": {
        "colab": {
          "base_uri": "https://localhost:8080/",
          "height": 458
        },
        "id": "TPh4In4XLUJN",
        "outputId": "7a4c91b5-da6d-44af-8b47-81fb67ff8e08"
      },
      "execution_count": 21,
      "outputs": [
        {
          "output_type": "execute_result",
          "data": {
            "text/plain": [
              "0     -0.271814\n",
              "1     -0.271814\n",
              "2     -0.481634\n",
              "3     -0.061994\n",
              "4     -0.271814\n",
              "         ...   \n",
              "145   -2.124265\n",
              "146   -0.672359\n",
              "147   -0.720605\n",
              "148   -1.704624\n",
              "149    0.005348\n",
              "Name: resid, Length: 150, dtype: float64"
            ],
            "text/html": [
              "<div>\n",
              "<style scoped>\n",
              "    .dataframe tbody tr th:only-of-type {\n",
              "        vertical-align: middle;\n",
              "    }\n",
              "\n",
              "    .dataframe tbody tr th {\n",
              "        vertical-align: top;\n",
              "    }\n",
              "\n",
              "    .dataframe thead th {\n",
              "        text-align: right;\n",
              "    }\n",
              "</style>\n",
              "<table border=\"1\" class=\"dataframe\">\n",
              "  <thead>\n",
              "    <tr style=\"text-align: right;\">\n",
              "      <th></th>\n",
              "      <th>resid</th>\n",
              "    </tr>\n",
              "  </thead>\n",
              "  <tbody>\n",
              "    <tr>\n",
              "      <th>0</th>\n",
              "      <td>-0.271814</td>\n",
              "    </tr>\n",
              "    <tr>\n",
              "      <th>1</th>\n",
              "      <td>-0.271814</td>\n",
              "    </tr>\n",
              "    <tr>\n",
              "      <th>2</th>\n",
              "      <td>-0.481634</td>\n",
              "    </tr>\n",
              "    <tr>\n",
              "      <th>3</th>\n",
              "      <td>-0.061994</td>\n",
              "    </tr>\n",
              "    <tr>\n",
              "      <th>4</th>\n",
              "      <td>-0.271814</td>\n",
              "    </tr>\n",
              "    <tr>\n",
              "      <th>...</th>\n",
              "      <td>...</td>\n",
              "    </tr>\n",
              "    <tr>\n",
              "      <th>145</th>\n",
              "      <td>-2.124265</td>\n",
              "    </tr>\n",
              "    <tr>\n",
              "      <th>146</th>\n",
              "      <td>-0.672359</td>\n",
              "    </tr>\n",
              "    <tr>\n",
              "      <th>147</th>\n",
              "      <td>-0.720605</td>\n",
              "    </tr>\n",
              "    <tr>\n",
              "      <th>148</th>\n",
              "      <td>-1.704624</td>\n",
              "    </tr>\n",
              "    <tr>\n",
              "      <th>149</th>\n",
              "      <td>0.005348</td>\n",
              "    </tr>\n",
              "  </tbody>\n",
              "</table>\n",
              "<p>150 rows × 1 columns</p>\n",
              "</div><br><label><b>dtype:</b> float64</label>"
            ]
          },
          "metadata": {},
          "execution_count": 21
        }
      ]
    },
    {
      "cell_type": "code",
      "source": [],
      "metadata": {
        "colab": {
          "base_uri": "https://localhost:8080/",
          "height": 34
        },
        "id": "0KbWQsEqMSFu",
        "outputId": "87ebb1e7-f927-43a7-cd5a-5e95ddf90d74"
      },
      "execution_count": 19,
      "outputs": [
        {
          "output_type": "execute_result",
          "data": {
            "text/plain": [
              "<lets_plot.plot.core.PlotSpec at 0x7c2b04361090>"
            ],
            "text/html": [
              "generateStaticHtmlPage() - Exception: Figure spec kind is not defined."
            ]
          },
          "metadata": {},
          "execution_count": 19
        }
      ]
    },
    {
      "cell_type": "markdown",
      "metadata": {
        "id": "BiJFSoCHYFgc"
      },
      "source": []
    },
    {
      "cell_type": "code",
      "execution_count": 24,
      "metadata": {
        "id": "6SGP6u2wYFgc",
        "colab": {
          "base_uri": "https://localhost:8080/",
          "height": 400
        },
        "outputId": "2363a02d-9d3e-4138-df19-00a20b6fc6ca"
      },
      "outputs": [
        {
          "output_type": "execute_result",
          "data": {
            "text/plain": [
              "<lets_plot.plot.core.PlotSpec at 0x7c2b04513f90>"
            ],
            "text/html": [
              "<html lang=\"en\">\n",
              "   <head>\n",
              "       <meta charset=\"UTF-8\">\n",
              "       <style> html, body { margin: 0; padding: 0; } </style>\n",
              "       <script type=\"text/javascript\" data-lets-plot-script=\"library\" src=\"https://cdn.jsdelivr.net/gh/JetBrains/lets-plot@v4.6.1/js-package/distr/lets-plot.min.js\"></script>\n",
              "   </head>\n",
              "   <body>\n",
              "          <div id=\"6nCreL\"></div>\n",
              "   <script type=\"text/javascript\" data-lets-plot-script=\"plot\">\n",
              "   \n",
              "   (function() {\n",
              "   // ----------\n",
              "   \n",
              "   const forceImmediateRender = false;\n",
              "   const responsive = false;\n",
              "   \n",
              "   let sizing = {\n",
              "       width_mode: \"MIN\",\n",
              "       height_mode: \"SCALED\",\n",
              "       width: null, \n",
              "       height: null \n",
              "   };\n",
              "   \n",
              "   const preferredWidth = document.body.dataset.letsPlotPreferredWidth;\n",
              "   if (preferredWidth !== undefined) {\n",
              "       sizing = {\n",
              "           width_mode: 'FIXED',\n",
              "           height_mode: 'SCALED',\n",
              "           width: parseFloat(preferredWidth)\n",
              "       };\n",
              "   }\n",
              "   \n",
              "   const containerDiv = document.getElementById(\"6nCreL\");\n",
              "   let fig = null;\n",
              "   \n",
              "   function renderPlot() {\n",
              "       if (fig === null) {\n",
              "           const plotSpec = {\n",
              "\"data\":{\n",
              "\"Petal.Length\":[1.4,1.4,1.3,1.5,1.4,1.7,1.4,1.5,1.4,1.5,1.5,1.6,1.4,1.1,1.2,1.5,1.3,1.4,1.7,1.5,1.7,1.5,1.0,1.7,1.9,1.6,1.6,1.5,1.4,1.6,1.6,1.5,1.5,1.4,1.5,1.2,1.3,1.4,1.3,1.5,1.3,1.3,1.3,1.6,1.9,1.4,1.6,1.4,1.5,1.4,4.7,4.5,4.9,4.0,4.6,4.5,4.7,3.3,4.6,3.9,3.5,4.2,4.0,4.7,3.6,4.4,4.5,4.1,4.5,3.9,4.8,4.0,4.9,4.7,4.3,4.4,4.8,5.0,4.5,3.5,3.8,3.7,3.9,5.1,4.5,4.5,4.7,4.4,4.1,4.0,4.4,4.6,4.0,3.3,4.2,4.2,4.2,4.3,3.0,4.1,6.0,5.1,5.9,5.6,5.8,6.6,4.5,6.3,5.8,6.1,5.1,5.3,5.5,5.0,5.1,5.3,5.5,6.7,6.9,5.0,5.7,4.9,6.7,4.9,5.7,6.0,4.8,4.9,5.6,5.8,6.1,6.4,5.6,5.1,5.6,6.1,5.6,5.5,4.8,5.4,5.6,5.1,5.1,5.9,5.7,5.2,5.0,5.2,5.4,5.1],\n",
              "\"Petal.Width\":[0.2,0.2,0.2,0.2,0.2,0.4,0.3,0.2,0.2,0.1,0.2,0.2,0.1,0.1,0.2,0.4,0.4,0.3,0.3,0.3,0.2,0.4,0.2,0.5,0.2,0.2,0.4,0.2,0.2,0.2,0.2,0.4,0.1,0.2,0.2,0.2,0.2,0.1,0.2,0.2,0.3,0.3,0.2,0.6,0.4,0.3,0.2,0.2,0.2,0.2,1.4,1.5,1.5,1.3,1.5,1.3,1.6,1.0,1.3,1.4,1.0,1.5,1.0,1.4,1.3,1.4,1.5,1.0,1.5,1.1,1.8,1.3,1.5,1.2,1.3,1.4,1.4,1.7,1.5,1.0,1.1,1.0,1.2,1.6,1.5,1.6,1.5,1.3,1.3,1.3,1.2,1.4,1.2,1.0,1.3,1.2,1.3,1.3,1.1,1.3,2.5,1.9,2.1,1.8,2.2,2.1,1.7,1.8,1.8,2.5,2.0,1.9,2.1,2.0,2.4,2.3,1.8,2.2,2.3,1.5,2.3,2.0,2.0,1.8,2.1,1.8,1.8,1.8,2.1,1.6,1.9,2.0,2.2,1.5,1.4,2.3,2.4,1.8,1.8,2.1,2.4,2.3,1.9,2.3,2.5,2.3,1.9,2.0,2.3,1.8]\n",
              "},\n",
              "\"mapping\":{\n",
              "},\n",
              "\"data_meta\":{\n",
              "\"series_annotations\":[{\n",
              "\"type\":\"float\",\n",
              "\"column\":\"Sepal.Length\"\n",
              "},{\n",
              "\"type\":\"float\",\n",
              "\"column\":\"Sepal.Width\"\n",
              "},{\n",
              "\"type\":\"float\",\n",
              "\"column\":\"Petal.Length\"\n",
              "},{\n",
              "\"type\":\"float\",\n",
              "\"column\":\"Petal.Width\"\n",
              "},{\n",
              "\"type\":\"str\",\n",
              "\"column\":\"Species\"\n",
              "},{\n",
              "\"type\":\"float\",\n",
              "\"column\":\"resid\"\n",
              "}]\n",
              "},\n",
              "\"kind\":\"plot\",\n",
              "\"scales\":[],\n",
              "\"layers\":[{\n",
              "\"geom\":\"point\",\n",
              "\"mapping\":{\n",
              "\"x\":\"Petal.Width\",\n",
              "\"y\":\"Petal.Length\"\n",
              "},\n",
              "\"data_meta\":{\n",
              "},\n",
              "\"data\":{\n",
              "}\n",
              "},{\n",
              "\"geom\":\"abline\",\n",
              "\"mapping\":{\n",
              "},\n",
              "\"data_meta\":{\n",
              "},\n",
              "\"slope\":2.5,\n",
              "\"intercept\":1.0,\n",
              "\"color\":\"red\",\n",
              "\"data\":{\n",
              "}\n",
              "}],\n",
              "\"metainfo_list\":[],\n",
              "\"spec_id\":\"4\"\n",
              "};\n",
              "           fig = LetsPlot.buildPlotFromProcessedSpecs(plotSpec, containerDiv, sizing);\n",
              "       } else {\n",
              "           fig.updateView({});\n",
              "       }\n",
              "   }\n",
              "   \n",
              "   const renderImmediately = \n",
              "       forceImmediateRender || (\n",
              "           sizing.width_mode === 'FIXED' && \n",
              "           (sizing.height_mode === 'FIXED' || sizing.height_mode === 'SCALED')\n",
              "       );\n",
              "   \n",
              "   if (renderImmediately) {\n",
              "       renderPlot();\n",
              "   }\n",
              "   \n",
              "   if (!renderImmediately || responsive) {\n",
              "       // Set up observer for initial sizing or continuous monitoring\n",
              "       var observer = new ResizeObserver(function(entries) {\n",
              "           for (let entry of entries) {\n",
              "               if (entry.contentBoxSize && \n",
              "                   entry.contentBoxSize[0].inlineSize > 0) {\n",
              "                   if (!responsive && observer) {\n",
              "                       observer.disconnect();\n",
              "                       observer = null;\n",
              "                   }\n",
              "                   renderPlot();\n",
              "                   if (!responsive) {\n",
              "                       break;\n",
              "                   }\n",
              "               }\n",
              "           }\n",
              "       });\n",
              "       \n",
              "       observer.observe(containerDiv);\n",
              "   }\n",
              "   \n",
              "   // ----------\n",
              "   })();\n",
              "   \n",
              "   </script>\n",
              "   </body>\n",
              "</html>"
            ]
          },
          "metadata": {},
          "execution_count": 24
        }
      ],
      "source": [
        "(\n",
        "    ggplot(iris)\n",
        "    + geom_point(aes(x=\"Petal.Width\", y=\"Petal.Length\"))\n",
        "    + geom_abline(intercept=1, slope=2.5, color=\"red\")\n",
        "\n",
        ")\n"
      ]
    },
    {
      "cell_type": "code",
      "source": [
        "import numpy as np\n",
        "import pandas as pd\n",
        "\n",
        "from sklearn.linear_model import LinearRegression\n",
        "\n",
        "m = LinearRegression()\n",
        "#X = iris[['Petal.Width', 'Sepal.Width']]\n",
        "X = iris[['Petal.Width']]\n",
        "\n",
        "y = iris['Petal.Length']\n",
        "m.fit(X, y)\n",
        "\n",
        "cf = [m.intercept_, *m.coef_]\n",
        "#m.score(X,y)"
      ],
      "metadata": {
        "id": "fakDVGLH2qPF"
      },
      "execution_count": 25,
      "outputs": []
    },
    {
      "cell_type": "code",
      "source": [
        "#display(iris['Petal.Length'])\n",
        "y_pred = m.predict(X)\n",
        "np.mean((y - y_pred)**2) # MSE\n",
        "np.sqrt(np.mean((y - y_pred)**2)) # RMSE\n"
      ],
      "metadata": {
        "colab": {
          "base_uri": "https://localhost:8080/"
        },
        "id": "4VOCDwpZ4T_J",
        "outputId": "f934d6ed-26df-48b3-e746-9939b2c47f92"
      },
      "execution_count": null,
      "outputs": [
        {
          "output_type": "execute_result",
          "data": {
            "text/plain": [
              "0.47500703971487873"
            ]
          },
          "metadata": {},
          "execution_count": 9
        }
      ]
    },
    {
      "cell_type": "code",
      "source": [
        "(\n",
        "    ggplot(iris)\n",
        "    + geom_point(\n",
        "        aes(x=\"Petal.Width\", y=\"Petal.Length\"))\n",
        ")    + geom_abline(slope=cf[1], intercept=cf[0])\n"
      ],
      "metadata": {
        "colab": {
          "base_uri": "https://localhost:8080/",
          "height": 400
        },
        "id": "fF2Oj-UL7rv2",
        "outputId": "3be90c36-ec2b-46a8-e563-101c8f326029"
      },
      "execution_count": null,
      "outputs": [
        {
          "output_type": "execute_result",
          "data": {
            "text/plain": [
              "<lets_plot.plot.core.PlotSpec at 0x787be2f10b50>"
            ],
            "text/html": [
              "<html lang=\"en\">\n",
              "   <head>\n",
              "       <meta charset=\"UTF-8\">\n",
              "       <style> html, body { margin: 0; padding: 0; } </style>\n",
              "       <script type=\"text/javascript\" data-lets-plot-script=\"library\" src=\"https://cdn.jsdelivr.net/gh/JetBrains/lets-plot@v4.6.1/js-package/distr/lets-plot.min.js\"></script>\n",
              "   </head>\n",
              "   <body>\n",
              "          <div id=\"PJZSzl\"></div>\n",
              "   <script type=\"text/javascript\" data-lets-plot-script=\"plot\">\n",
              "   \n",
              "   (function() {\n",
              "   // ----------\n",
              "   \n",
              "   const forceImmediateRender = false;\n",
              "   const responsive = false;\n",
              "   \n",
              "   let sizing = {\n",
              "       width_mode: \"MIN\",\n",
              "       height_mode: \"SCALED\",\n",
              "       width: null, \n",
              "       height: null \n",
              "   };\n",
              "   \n",
              "   const preferredWidth = document.body.dataset.letsPlotPreferredWidth;\n",
              "   if (preferredWidth !== undefined) {\n",
              "       sizing = {\n",
              "           width_mode: 'FIXED',\n",
              "           height_mode: 'SCALED',\n",
              "           width: parseFloat(preferredWidth)\n",
              "       };\n",
              "   }\n",
              "   \n",
              "   const containerDiv = document.getElementById(\"PJZSzl\");\n",
              "   let fig = null;\n",
              "   \n",
              "   function renderPlot() {\n",
              "       if (fig === null) {\n",
              "           const plotSpec = {\n",
              "\"data\":{\n",
              "\"Petal.Length\":[1.4,1.4,1.3,1.5,1.4,1.7,1.4,1.5,1.4,1.5,1.5,1.6,1.4,1.1,1.2,1.5,1.3,1.4,1.7,1.5,1.7,1.5,1.0,1.7,1.9,1.6,1.6,1.5,1.4,1.6,1.6,1.5,1.5,1.4,1.5,1.2,1.3,1.4,1.3,1.5,1.3,1.3,1.3,1.6,1.9,1.4,1.6,1.4,1.5,1.4,4.7,4.5,4.9,4.0,4.6,4.5,4.7,3.3,4.6,3.9,3.5,4.2,4.0,4.7,3.6,4.4,4.5,4.1,4.5,3.9,4.8,4.0,4.9,4.7,4.3,4.4,4.8,5.0,4.5,3.5,3.8,3.7,3.9,5.1,4.5,4.5,4.7,4.4,4.1,4.0,4.4,4.6,4.0,3.3,4.2,4.2,4.2,4.3,3.0,4.1,6.0,5.1,5.9,5.6,5.8,6.6,4.5,6.3,5.8,6.1,5.1,5.3,5.5,5.0,5.1,5.3,5.5,6.7,6.9,5.0,5.7,4.9,6.7,4.9,5.7,6.0,4.8,4.9,5.6,5.8,6.1,6.4,5.6,5.1,5.6,6.1,5.6,5.5,4.8,5.4,5.6,5.1,5.1,5.9,5.7,5.2,5.0,5.2,5.4,5.1],\n",
              "\"Petal.Width\":[0.2,0.2,0.2,0.2,0.2,0.4,0.3,0.2,0.2,0.1,0.2,0.2,0.1,0.1,0.2,0.4,0.4,0.3,0.3,0.3,0.2,0.4,0.2,0.5,0.2,0.2,0.4,0.2,0.2,0.2,0.2,0.4,0.1,0.2,0.2,0.2,0.2,0.1,0.2,0.2,0.3,0.3,0.2,0.6,0.4,0.3,0.2,0.2,0.2,0.2,1.4,1.5,1.5,1.3,1.5,1.3,1.6,1.0,1.3,1.4,1.0,1.5,1.0,1.4,1.3,1.4,1.5,1.0,1.5,1.1,1.8,1.3,1.5,1.2,1.3,1.4,1.4,1.7,1.5,1.0,1.1,1.0,1.2,1.6,1.5,1.6,1.5,1.3,1.3,1.3,1.2,1.4,1.2,1.0,1.3,1.2,1.3,1.3,1.1,1.3,2.5,1.9,2.1,1.8,2.2,2.1,1.7,1.8,1.8,2.5,2.0,1.9,2.1,2.0,2.4,2.3,1.8,2.2,2.3,1.5,2.3,2.0,2.0,1.8,2.1,1.8,1.8,1.8,2.1,1.6,1.9,2.0,2.2,1.5,1.4,2.3,2.4,1.8,1.8,2.1,2.4,2.3,1.9,2.3,2.5,2.3,1.9,2.0,2.3,1.8]\n",
              "},\n",
              "\"mapping\":{\n",
              "},\n",
              "\"data_meta\":{\n",
              "\"series_annotations\":[{\n",
              "\"type\":\"float\",\n",
              "\"column\":\"Sepal.Length\"\n",
              "},{\n",
              "\"type\":\"float\",\n",
              "\"column\":\"Sepal.Width\"\n",
              "},{\n",
              "\"type\":\"float\",\n",
              "\"column\":\"Petal.Length\"\n",
              "},{\n",
              "\"type\":\"float\",\n",
              "\"column\":\"Petal.Width\"\n",
              "},{\n",
              "\"type\":\"str\",\n",
              "\"column\":\"Species\"\n",
              "}]\n",
              "},\n",
              "\"kind\":\"plot\",\n",
              "\"scales\":[],\n",
              "\"layers\":[{\n",
              "\"geom\":\"point\",\n",
              "\"mapping\":{\n",
              "\"x\":\"Petal.Width\",\n",
              "\"y\":\"Petal.Length\"\n",
              "},\n",
              "\"data_meta\":{\n",
              "},\n",
              "\"data\":{\n",
              "}\n",
              "},{\n",
              "\"geom\":\"abline\",\n",
              "\"mapping\":{\n",
              "},\n",
              "\"data_meta\":{\n",
              "},\n",
              "\"slope\":2.229940495121864,\n",
              "\"intercept\":1.0835580328505112,\n",
              "\"data\":{\n",
              "}\n",
              "}],\n",
              "\"metainfo_list\":[],\n",
              "\"spec_id\":\"2\"\n",
              "};\n",
              "           fig = LetsPlot.buildPlotFromProcessedSpecs(plotSpec, containerDiv, sizing);\n",
              "       } else {\n",
              "           fig.updateView({});\n",
              "       }\n",
              "   }\n",
              "   \n",
              "   const renderImmediately = \n",
              "       forceImmediateRender || (\n",
              "           sizing.width_mode === 'FIXED' && \n",
              "           (sizing.height_mode === 'FIXED' || sizing.height_mode === 'SCALED')\n",
              "       );\n",
              "   \n",
              "   if (renderImmediately) {\n",
              "       renderPlot();\n",
              "   }\n",
              "   \n",
              "   if (!renderImmediately || responsive) {\n",
              "       // Set up observer for initial sizing or continuous monitoring\n",
              "       var observer = new ResizeObserver(function(entries) {\n",
              "           for (let entry of entries) {\n",
              "               if (entry.contentBoxSize && \n",
              "                   entry.contentBoxSize[0].inlineSize > 0) {\n",
              "                   if (!responsive && observer) {\n",
              "                       observer.disconnect();\n",
              "                       observer = null;\n",
              "                   }\n",
              "                   renderPlot();\n",
              "                   if (!responsive) {\n",
              "                       break;\n",
              "                   }\n",
              "               }\n",
              "           }\n",
              "       });\n",
              "       \n",
              "       observer.observe(containerDiv);\n",
              "   }\n",
              "   \n",
              "   // ----------\n",
              "   })();\n",
              "   \n",
              "   </script>\n",
              "   </body>\n",
              "</html>"
            ]
          },
          "metadata": {},
          "execution_count": 10
        }
      ]
    },
    {
      "cell_type": "code",
      "source": [
        "def add(*a):\n",
        "  sum = a[0]\n",
        "  for i in a[1:]:\n",
        "    sum += i\n",
        "  return sum\n",
        "\n",
        "sum([1, 3, 5, 7])"
      ],
      "metadata": {
        "colab": {
          "base_uri": "https://localhost:8080/"
        },
        "id": "Pm7Qxqe02tOs",
        "outputId": "b24b2f30-190d-41c9-ba58-37df6caf3464"
      },
      "execution_count": null,
      "outputs": [
        {
          "output_type": "execute_result",
          "data": {
            "text/plain": [
              "16"
            ]
          },
          "metadata": {},
          "execution_count": 11
        }
      ]
    },
    {
      "cell_type": "markdown",
      "metadata": {
        "id": "t6pa1bb1YFgc"
      },
      "source": [
        "## Part 3 - Slide 22"
      ]
    },
    {
      "cell_type": "markdown",
      "metadata": {
        "id": "7HsKvAiUYFgd"
      },
      "source": [
        "Consider the “Auto MPG” dataset which “concerns city-cycle fuel consumption in miles per gallon, to be predicted in terms of 3 multivalued discrete and 5 continuous attributes.” The goal is to model mpg given engine displacement.\n"
      ]
    },
    {
      "cell_type": "code",
      "execution_count": 26,
      "metadata": {
        "id": "8TU4Pbd0YFgd",
        "colab": {
          "base_uri": "https://localhost:8080/"
        },
        "outputId": "519cacbd-b7b3-4c49-901f-4a2ab564aa1e"
      },
      "outputs": [
        {
          "output_type": "stream",
          "name": "stdout",
          "text": [
            "Collecting ucimlrepo\n",
            "  Downloading ucimlrepo-0.0.7-py3-none-any.whl.metadata (5.5 kB)\n",
            "Requirement already satisfied: pandas>=1.0.0 in /usr/local/lib/python3.11/dist-packages (from ucimlrepo) (2.2.2)\n",
            "Requirement already satisfied: certifi>=2020.12.5 in /usr/local/lib/python3.11/dist-packages (from ucimlrepo) (2025.1.31)\n",
            "Requirement already satisfied: numpy>=1.23.2 in /usr/local/lib/python3.11/dist-packages (from pandas>=1.0.0->ucimlrepo) (1.26.4)\n",
            "Requirement already satisfied: python-dateutil>=2.8.2 in /usr/local/lib/python3.11/dist-packages (from pandas>=1.0.0->ucimlrepo) (2.8.2)\n",
            "Requirement already satisfied: pytz>=2020.1 in /usr/local/lib/python3.11/dist-packages (from pandas>=1.0.0->ucimlrepo) (2025.1)\n",
            "Requirement already satisfied: tzdata>=2022.7 in /usr/local/lib/python3.11/dist-packages (from pandas>=1.0.0->ucimlrepo) (2025.1)\n",
            "Requirement already satisfied: six>=1.5 in /usr/local/lib/python3.11/dist-packages (from python-dateutil>=2.8.2->pandas>=1.0.0->ucimlrepo) (1.17.0)\n",
            "Downloading ucimlrepo-0.0.7-py3-none-any.whl (8.0 kB)\n",
            "Installing collected packages: ucimlrepo\n",
            "Successfully installed ucimlrepo-0.0.7\n"
          ]
        }
      ],
      "source": [
        "%pip install ucimlrepo"
      ]
    },
    {
      "cell_type": "code",
      "execution_count": 27,
      "metadata": {
        "id": "fvImi9VAYFgd",
        "colab": {
          "base_uri": "https://localhost:8080/"
        },
        "outputId": "ebdc91d1-9e84-4d68-d161-690d8b7bad85"
      },
      "outputs": [
        {
          "output_type": "stream",
          "name": "stdout",
          "text": [
            "           name     role         type demographic description units  \\\n",
            "0  displacement  Feature   Continuous        None        None  None   \n",
            "1           mpg   Target   Continuous        None        None  None   \n",
            "2     cylinders  Feature      Integer        None        None  None   \n",
            "3    horsepower  Feature   Continuous        None        None  None   \n",
            "4        weight  Feature   Continuous        None        None  None   \n",
            "5  acceleration  Feature   Continuous        None        None  None   \n",
            "6    model_year  Feature      Integer        None        None  None   \n",
            "7        origin  Feature      Integer        None        None  None   \n",
            "8      car_name       ID  Categorical        None        None  None   \n",
            "\n",
            "  missing_values  \n",
            "0             no  \n",
            "1             no  \n",
            "2             no  \n",
            "3            yes  \n",
            "4             no  \n",
            "5             no  \n",
            "6             no  \n",
            "7             no  \n",
            "8             no  \n"
          ]
        }
      ],
      "source": [
        "from ucimlrepo import fetch_ucirepo\n",
        "\n",
        "# fetch dataset\n",
        "auto_mpg = fetch_ucirepo(id=9)\n",
        "\n",
        "# data (as pandas dataframes)\n",
        "X = auto_mpg.data.features\n",
        "y = auto_mpg.data.targets\n",
        "\n",
        "# metadata\n",
        "#import pprint\n",
        "#pprint.pprint(auto_mpg.metadata)\n",
        "\n",
        "# variable information\n",
        "print(auto_mpg.variables)"
      ]
    },
    {
      "cell_type": "markdown",
      "metadata": {
        "id": "swVpiymIYFge"
      },
      "source": [
        "* Which is the dependent variable? Which is the independent variable?"
      ]
    },
    {
      "cell_type": "markdown",
      "metadata": {
        "id": "R-WT8sQhYFge"
      },
      "source": [
        "Dependent (y): mpg\n",
        "\n",
        "Independent (x): displacement"
      ]
    },
    {
      "cell_type": "markdown",
      "metadata": {
        "id": "GKrGlzbmYFge"
      },
      "source": [
        "* Plot mpg vs. displacement (code, plot)\n"
      ]
    },
    {
      "cell_type": "code",
      "execution_count": null,
      "metadata": {
        "id": "pdvZ4DjPYFge",
        "colab": {
          "base_uri": "https://localhost:8080/",
          "height": 400
        },
        "outputId": "ba0b2165-9bfb-4a7e-c7ae-8c0877e199fd"
      },
      "outputs": [
        {
          "output_type": "execute_result",
          "data": {
            "text/plain": [
              "<lets_plot.plot.core.PlotSpec at 0x787be251f6d0>"
            ],
            "text/html": [
              "<html lang=\"en\">\n",
              "   <head>\n",
              "       <meta charset=\"UTF-8\">\n",
              "       <style> html, body { margin: 0; padding: 0; } </style>\n",
              "       <script type=\"text/javascript\" data-lets-plot-script=\"library\" src=\"https://cdn.jsdelivr.net/gh/JetBrains/lets-plot@v4.6.1/js-package/distr/lets-plot.min.js\"></script>\n",
              "   </head>\n",
              "   <body>\n",
              "          <div id=\"WKSnfg\"></div>\n",
              "   <script type=\"text/javascript\" data-lets-plot-script=\"plot\">\n",
              "   \n",
              "   (function() {\n",
              "   // ----------\n",
              "   \n",
              "   const forceImmediateRender = false;\n",
              "   const responsive = false;\n",
              "   \n",
              "   let sizing = {\n",
              "       width_mode: \"MIN\",\n",
              "       height_mode: \"SCALED\",\n",
              "       width: null, \n",
              "       height: null \n",
              "   };\n",
              "   \n",
              "   const preferredWidth = document.body.dataset.letsPlotPreferredWidth;\n",
              "   if (preferredWidth !== undefined) {\n",
              "       sizing = {\n",
              "           width_mode: 'FIXED',\n",
              "           height_mode: 'SCALED',\n",
              "           width: parseFloat(preferredWidth)\n",
              "       };\n",
              "   }\n",
              "   \n",
              "   const containerDiv = document.getElementById(\"WKSnfg\");\n",
              "   let fig = null;\n",
              "   \n",
              "   function renderPlot() {\n",
              "       if (fig === null) {\n",
              "           const plotSpec = {\n",
              "\"data\":{\n",
              "\"displacement\":[307.0,350.0,318.0,304.0,302.0,429.0,454.0,440.0,455.0,390.0,383.0,340.0,400.0,455.0,113.0,198.0,199.0,200.0,97.0,97.0,110.0,107.0,104.0,121.0,199.0,360.0,307.0,318.0,304.0,97.0,140.0,113.0,98.0,232.0,225.0,250.0,250.0,232.0,350.0,400.0,351.0,318.0,383.0,400.0,400.0,258.0,140.0,250.0,250.0,122.0,116.0,79.0,88.0,71.0,72.0,97.0,91.0,113.0,97.5,97.0,140.0,122.0,350.0,400.0,318.0,351.0,304.0,429.0,350.0,350.0,400.0,70.0,304.0,307.0,302.0,318.0,121.0,121.0,120.0,96.0,122.0,97.0,120.0,98.0,97.0,350.0,304.0,350.0,302.0,318.0,429.0,400.0,351.0,318.0,440.0,455.0,360.0,225.0,250.0,232.0,250.0,198.0,97.0,400.0,400.0,360.0,350.0,232.0,97.0,140.0,108.0,70.0,122.0,155.0,98.0,350.0,400.0,68.0,116.0,114.0,121.0,318.0,121.0,156.0,350.0,198.0,200.0,232.0,250.0,79.0,122.0,71.0,140.0,250.0,258.0,225.0,302.0,350.0,318.0,302.0,304.0,98.0,79.0,97.0,76.0,83.0,90.0,90.0,116.0,120.0,108.0,79.0,225.0,250.0,250.0,250.0,400.0,350.0,318.0,351.0,231.0,250.0,258.0,225.0,231.0,262.0,302.0,97.0,140.0,232.0,140.0,134.0,90.0,119.0,171.0,90.0,232.0,115.0,120.0,121.0,121.0,91.0,107.0,116.0,140.0,98.0,101.0,305.0,318.0,304.0,351.0,225.0,250.0,200.0,232.0,85.0,98.0,90.0,91.0,225.0,250.0,250.0,258.0,97.0,85.0,97.0,140.0,130.0,318.0,120.0,156.0,168.0,350.0,350.0,302.0,318.0,98.0,111.0,79.0,122.0,85.0,305.0,260.0,318.0,302.0,250.0,231.0,225.0,250.0,400.0,350.0,400.0,351.0,97.0,151.0,97.0,140.0,98.0,98.0,97.0,97.0,146.0,121.0,80.0,90.0,98.0,78.0,85.0,91.0,260.0,318.0,302.0,231.0,200.0,200.0,140.0,225.0,232.0,231.0,200.0,225.0,258.0,305.0,231.0,302.0,318.0,98.0,134.0,119.0,105.0,134.0,156.0,151.0,119.0,131.0,163.0,121.0,163.0,89.0,98.0,231.0,200.0,140.0,232.0,225.0,305.0,302.0,351.0,318.0,350.0,351.0,267.0,360.0,89.0,86.0,98.0,121.0,183.0,350.0,141.0,260.0,105.0,105.0,85.0,91.0,151.0,173.0,173.0,151.0,98.0,89.0,98.0,86.0,151.0,140.0,151.0,225.0,97.0,134.0,120.0,119.0,108.0,86.0,156.0,85.0,90.0,90.0,121.0,146.0,91.0,85.0,97.0,89.0,168.0,70.0,122.0,140.0,107.0,135.0,151.0,156.0,173.0,135.0,79.0,86.0,81.0,97.0,85.0,89.0,91.0,105.0,98.0,98.0,105.0,100.0,107.0,108.0,119.0,120.0,141.0,145.0,168.0,146.0,231.0,350.0,200.0,225.0,112.0,112.0,112.0,112.0,135.0,151.0,140.0,151.0,105.0,91.0,91.0,105.0,98.0,120.0,107.0,108.0,91.0,91.0,91.0,181.0,262.0,156.0,232.0,144.0,135.0,151.0,140.0,97.0,135.0,120.0,119.0],\n",
              "\"mpg\":[18.0,15.0,18.0,16.0,17.0,15.0,14.0,14.0,14.0,15.0,15.0,14.0,15.0,14.0,24.0,22.0,18.0,21.0,27.0,26.0,25.0,24.0,25.0,26.0,21.0,10.0,10.0,11.0,9.0,27.0,28.0,25.0,25.0,19.0,16.0,17.0,19.0,18.0,14.0,14.0,14.0,14.0,12.0,13.0,13.0,18.0,22.0,19.0,18.0,23.0,28.0,30.0,30.0,31.0,35.0,27.0,26.0,24.0,25.0,23.0,20.0,21.0,13.0,14.0,15.0,14.0,17.0,11.0,13.0,12.0,13.0,19.0,15.0,13.0,13.0,14.0,18.0,22.0,21.0,26.0,22.0,28.0,23.0,28.0,27.0,13.0,14.0,13.0,14.0,15.0,12.0,13.0,13.0,14.0,13.0,12.0,13.0,18.0,16.0,18.0,18.0,23.0,26.0,11.0,12.0,13.0,12.0,18.0,20.0,21.0,22.0,18.0,19.0,21.0,26.0,15.0,16.0,29.0,24.0,20.0,19.0,15.0,24.0,20.0,11.0,20.0,21.0,19.0,15.0,31.0,26.0,32.0,25.0,16.0,16.0,18.0,16.0,13.0,14.0,14.0,14.0,29.0,26.0,26.0,31.0,32.0,28.0,24.0,26.0,24.0,26.0,31.0,19.0,18.0,15.0,15.0,16.0,15.0,16.0,14.0,17.0,16.0,15.0,18.0,21.0,20.0,13.0,29.0,23.0,20.0,23.0,24.0,25.0,24.0,18.0,29.0,19.0,23.0,23.0,22.0,25.0,33.0,28.0,25.0,25.0,26.0,27.0,17.5,16.0,15.5,14.5,22.0,22.0,24.0,22.5,29.0,24.5,29.0,33.0,20.0,18.0,18.5,17.5,29.5,32.0,28.0,26.5,20.0,13.0,19.0,19.0,16.5,16.5,13.0,13.0,13.0,31.5,30.0,36.0,25.5,33.5,17.5,17.0,15.5,15.0,17.5,20.5,19.0,18.5,16.0,15.5,15.5,16.0,29.0,24.5,26.0,25.5,30.5,33.5,30.0,30.5,22.0,21.5,21.5,43.1,36.1,32.8,39.4,36.1,19.9,19.4,20.2,19.2,20.5,20.2,25.1,20.5,19.4,20.6,20.8,18.6,18.1,19.2,17.7,18.1,17.5,30.0,27.5,27.2,30.9,21.1,23.2,23.8,23.9,20.3,17.0,21.6,16.2,31.5,29.5,21.5,19.8,22.3,20.2,20.6,17.0,17.6,16.5,18.2,16.9,15.5,19.2,18.5,31.9,34.1,35.7,27.4,25.4,23.0,27.2,23.9,34.2,34.5,31.8,37.3,28.4,28.8,26.8,33.5,41.5,38.1,32.1,37.2,28.0,26.4,24.3,19.1,34.3,29.8,31.3,37.0,32.2,46.6,27.9,40.8,44.3,43.4,36.4,30.0,44.6,40.9,33.8,29.8,32.7,23.7,35.0,23.6,32.4,27.2,26.6,25.8,23.5,30.0,39.1,39.0,35.1,32.3,37.0,37.7,34.1,34.7,34.4,29.9,33.0,34.5,33.7,32.4,32.9,31.6,28.1,30.7,25.4,24.2,22.4,26.6,20.2,17.6,28.0,27.0,34.0,31.0,29.0,27.0,24.0,23.0,36.0,37.0,31.0,38.0,36.0,36.0,36.0,34.0,38.0,32.0,38.0,25.0,38.0,26.0,22.0,32.0,36.0,27.0,27.0,44.0,32.0,28.0,31.0]\n",
              "},\n",
              "\"mapping\":{\n",
              "},\n",
              "\"data_meta\":{\n",
              "\"series_annotations\":[{\n",
              "\"type\":\"float\",\n",
              "\"column\":\"displacement\"\n",
              "},{\n",
              "\"type\":\"float\",\n",
              "\"column\":\"mpg\"\n",
              "}]\n",
              "},\n",
              "\"kind\":\"plot\",\n",
              "\"scales\":[],\n",
              "\"layers\":[{\n",
              "\"geom\":\"point\",\n",
              "\"mapping\":{\n",
              "\"x\":\"displacement\",\n",
              "\"y\":\"mpg\"\n",
              "},\n",
              "\"data_meta\":{\n",
              "},\n",
              "\"data\":{\n",
              "}\n",
              "}],\n",
              "\"metainfo_list\":[],\n",
              "\"spec_id\":\"3\"\n",
              "};\n",
              "           fig = LetsPlot.buildPlotFromProcessedSpecs(plotSpec, containerDiv, sizing);\n",
              "       } else {\n",
              "           fig.updateView({});\n",
              "       }\n",
              "   }\n",
              "   \n",
              "   const renderImmediately = \n",
              "       forceImmediateRender || (\n",
              "           sizing.width_mode === 'FIXED' && \n",
              "           (sizing.height_mode === 'FIXED' || sizing.height_mode === 'SCALED')\n",
              "       );\n",
              "   \n",
              "   if (renderImmediately) {\n",
              "       renderPlot();\n",
              "   }\n",
              "   \n",
              "   if (!renderImmediately || responsive) {\n",
              "       // Set up observer for initial sizing or continuous monitoring\n",
              "       var observer = new ResizeObserver(function(entries) {\n",
              "           for (let entry of entries) {\n",
              "               if (entry.contentBoxSize && \n",
              "                   entry.contentBoxSize[0].inlineSize > 0) {\n",
              "                   if (!responsive && observer) {\n",
              "                       observer.disconnect();\n",
              "                       observer = null;\n",
              "                   }\n",
              "                   renderPlot();\n",
              "                   if (!responsive) {\n",
              "                       break;\n",
              "                   }\n",
              "               }\n",
              "           }\n",
              "       });\n",
              "       \n",
              "       observer.observe(containerDiv);\n",
              "   }\n",
              "   \n",
              "   // ----------\n",
              "   })();\n",
              "   \n",
              "   </script>\n",
              "   </body>\n",
              "</html>"
            ]
          },
          "metadata": {},
          "execution_count": 14
        }
      ],
      "source": [
        "df = pd.DataFrame({\n",
        "    'displacement' : X.displacement,\n",
        "    'mpg' : y.mpg\n",
        "})\n",
        "df\n",
        "\n",
        "\n",
        "(\n",
        "    ggplot(df)\n",
        "    + geom_point(\n",
        "        aes(x=\"displacement\", y=\"mpg\"))\n",
        ")\n",
        "\n"
      ]
    },
    {
      "cell_type": "markdown",
      "metadata": {
        "id": "clCGHnjKYFge"
      },
      "source": [
        "Overlay best fit line over the dataset (code, plot)\n"
      ]
    },
    {
      "cell_type": "code",
      "execution_count": null,
      "metadata": {
        "id": "3fdN0VDDYFge",
        "colab": {
          "base_uri": "https://localhost:8080/",
          "height": 400
        },
        "outputId": "dab081f4-9ae9-43db-fe5e-86b6a695e769"
      },
      "outputs": [
        {
          "output_type": "execute_result",
          "data": {
            "text/plain": [
              "<lets_plot.plot.core.PlotSpec at 0x787be217fa10>"
            ],
            "text/html": [
              "<html lang=\"en\">\n",
              "   <head>\n",
              "       <meta charset=\"UTF-8\">\n",
              "       <style> html, body { margin: 0; padding: 0; } </style>\n",
              "       <script type=\"text/javascript\" data-lets-plot-script=\"library\" src=\"https://cdn.jsdelivr.net/gh/JetBrains/lets-plot@v4.6.1/js-package/distr/lets-plot.min.js\"></script>\n",
              "   </head>\n",
              "   <body>\n",
              "          <div id=\"03ualT\"></div>\n",
              "   <script type=\"text/javascript\" data-lets-plot-script=\"plot\">\n",
              "   \n",
              "   (function() {\n",
              "   // ----------\n",
              "   \n",
              "   const forceImmediateRender = false;\n",
              "   const responsive = false;\n",
              "   \n",
              "   let sizing = {\n",
              "       width_mode: \"MIN\",\n",
              "       height_mode: \"SCALED\",\n",
              "       width: null, \n",
              "       height: null \n",
              "   };\n",
              "   \n",
              "   const preferredWidth = document.body.dataset.letsPlotPreferredWidth;\n",
              "   if (preferredWidth !== undefined) {\n",
              "       sizing = {\n",
              "           width_mode: 'FIXED',\n",
              "           height_mode: 'SCALED',\n",
              "           width: parseFloat(preferredWidth)\n",
              "       };\n",
              "   }\n",
              "   \n",
              "   const containerDiv = document.getElementById(\"03ualT\");\n",
              "   let fig = null;\n",
              "   \n",
              "   function renderPlot() {\n",
              "       if (fig === null) {\n",
              "           const plotSpec = {\n",
              "\"data\":{\n",
              "\"displacement\":[307.0,350.0,318.0,304.0,302.0,429.0,454.0,440.0,455.0,390.0,383.0,340.0,400.0,455.0,113.0,198.0,199.0,200.0,97.0,97.0,110.0,107.0,104.0,121.0,199.0,360.0,307.0,318.0,304.0,97.0,140.0,113.0,98.0,232.0,225.0,250.0,250.0,232.0,350.0,400.0,351.0,318.0,383.0,400.0,400.0,258.0,140.0,250.0,250.0,122.0,116.0,79.0,88.0,71.0,72.0,97.0,91.0,113.0,97.5,97.0,140.0,122.0,350.0,400.0,318.0,351.0,304.0,429.0,350.0,350.0,400.0,70.0,304.0,307.0,302.0,318.0,121.0,121.0,120.0,96.0,122.0,97.0,120.0,98.0,97.0,350.0,304.0,350.0,302.0,318.0,429.0,400.0,351.0,318.0,440.0,455.0,360.0,225.0,250.0,232.0,250.0,198.0,97.0,400.0,400.0,360.0,350.0,232.0,97.0,140.0,108.0,70.0,122.0,155.0,98.0,350.0,400.0,68.0,116.0,114.0,121.0,318.0,121.0,156.0,350.0,198.0,200.0,232.0,250.0,79.0,122.0,71.0,140.0,250.0,258.0,225.0,302.0,350.0,318.0,302.0,304.0,98.0,79.0,97.0,76.0,83.0,90.0,90.0,116.0,120.0,108.0,79.0,225.0,250.0,250.0,250.0,400.0,350.0,318.0,351.0,231.0,250.0,258.0,225.0,231.0,262.0,302.0,97.0,140.0,232.0,140.0,134.0,90.0,119.0,171.0,90.0,232.0,115.0,120.0,121.0,121.0,91.0,107.0,116.0,140.0,98.0,101.0,305.0,318.0,304.0,351.0,225.0,250.0,200.0,232.0,85.0,98.0,90.0,91.0,225.0,250.0,250.0,258.0,97.0,85.0,97.0,140.0,130.0,318.0,120.0,156.0,168.0,350.0,350.0,302.0,318.0,98.0,111.0,79.0,122.0,85.0,305.0,260.0,318.0,302.0,250.0,231.0,225.0,250.0,400.0,350.0,400.0,351.0,97.0,151.0,97.0,140.0,98.0,98.0,97.0,97.0,146.0,121.0,80.0,90.0,98.0,78.0,85.0,91.0,260.0,318.0,302.0,231.0,200.0,200.0,140.0,225.0,232.0,231.0,200.0,225.0,258.0,305.0,231.0,302.0,318.0,98.0,134.0,119.0,105.0,134.0,156.0,151.0,119.0,131.0,163.0,121.0,163.0,89.0,98.0,231.0,200.0,140.0,232.0,225.0,305.0,302.0,351.0,318.0,350.0,351.0,267.0,360.0,89.0,86.0,98.0,121.0,183.0,350.0,141.0,260.0,105.0,105.0,85.0,91.0,151.0,173.0,173.0,151.0,98.0,89.0,98.0,86.0,151.0,140.0,151.0,225.0,97.0,134.0,120.0,119.0,108.0,86.0,156.0,85.0,90.0,90.0,121.0,146.0,91.0,85.0,97.0,89.0,168.0,70.0,122.0,140.0,107.0,135.0,151.0,156.0,173.0,135.0,79.0,86.0,81.0,97.0,85.0,89.0,91.0,105.0,98.0,98.0,105.0,100.0,107.0,108.0,119.0,120.0,141.0,145.0,168.0,146.0,231.0,350.0,200.0,225.0,112.0,112.0,112.0,112.0,135.0,151.0,140.0,151.0,105.0,91.0,91.0,105.0,98.0,120.0,107.0,108.0,91.0,91.0,91.0,181.0,262.0,156.0,232.0,144.0,135.0,151.0,140.0,97.0,135.0,120.0,119.0],\n",
              "\"mpg\":[18.0,15.0,18.0,16.0,17.0,15.0,14.0,14.0,14.0,15.0,15.0,14.0,15.0,14.0,24.0,22.0,18.0,21.0,27.0,26.0,25.0,24.0,25.0,26.0,21.0,10.0,10.0,11.0,9.0,27.0,28.0,25.0,25.0,19.0,16.0,17.0,19.0,18.0,14.0,14.0,14.0,14.0,12.0,13.0,13.0,18.0,22.0,19.0,18.0,23.0,28.0,30.0,30.0,31.0,35.0,27.0,26.0,24.0,25.0,23.0,20.0,21.0,13.0,14.0,15.0,14.0,17.0,11.0,13.0,12.0,13.0,19.0,15.0,13.0,13.0,14.0,18.0,22.0,21.0,26.0,22.0,28.0,23.0,28.0,27.0,13.0,14.0,13.0,14.0,15.0,12.0,13.0,13.0,14.0,13.0,12.0,13.0,18.0,16.0,18.0,18.0,23.0,26.0,11.0,12.0,13.0,12.0,18.0,20.0,21.0,22.0,18.0,19.0,21.0,26.0,15.0,16.0,29.0,24.0,20.0,19.0,15.0,24.0,20.0,11.0,20.0,21.0,19.0,15.0,31.0,26.0,32.0,25.0,16.0,16.0,18.0,16.0,13.0,14.0,14.0,14.0,29.0,26.0,26.0,31.0,32.0,28.0,24.0,26.0,24.0,26.0,31.0,19.0,18.0,15.0,15.0,16.0,15.0,16.0,14.0,17.0,16.0,15.0,18.0,21.0,20.0,13.0,29.0,23.0,20.0,23.0,24.0,25.0,24.0,18.0,29.0,19.0,23.0,23.0,22.0,25.0,33.0,28.0,25.0,25.0,26.0,27.0,17.5,16.0,15.5,14.5,22.0,22.0,24.0,22.5,29.0,24.5,29.0,33.0,20.0,18.0,18.5,17.5,29.5,32.0,28.0,26.5,20.0,13.0,19.0,19.0,16.5,16.5,13.0,13.0,13.0,31.5,30.0,36.0,25.5,33.5,17.5,17.0,15.5,15.0,17.5,20.5,19.0,18.5,16.0,15.5,15.5,16.0,29.0,24.5,26.0,25.5,30.5,33.5,30.0,30.5,22.0,21.5,21.5,43.1,36.1,32.8,39.4,36.1,19.9,19.4,20.2,19.2,20.5,20.2,25.1,20.5,19.4,20.6,20.8,18.6,18.1,19.2,17.7,18.1,17.5,30.0,27.5,27.2,30.9,21.1,23.2,23.8,23.9,20.3,17.0,21.6,16.2,31.5,29.5,21.5,19.8,22.3,20.2,20.6,17.0,17.6,16.5,18.2,16.9,15.5,19.2,18.5,31.9,34.1,35.7,27.4,25.4,23.0,27.2,23.9,34.2,34.5,31.8,37.3,28.4,28.8,26.8,33.5,41.5,38.1,32.1,37.2,28.0,26.4,24.3,19.1,34.3,29.8,31.3,37.0,32.2,46.6,27.9,40.8,44.3,43.4,36.4,30.0,44.6,40.9,33.8,29.8,32.7,23.7,35.0,23.6,32.4,27.2,26.6,25.8,23.5,30.0,39.1,39.0,35.1,32.3,37.0,37.7,34.1,34.7,34.4,29.9,33.0,34.5,33.7,32.4,32.9,31.6,28.1,30.7,25.4,24.2,22.4,26.6,20.2,17.6,28.0,27.0,34.0,31.0,29.0,27.0,24.0,23.0,36.0,37.0,31.0,38.0,36.0,36.0,36.0,34.0,38.0,32.0,38.0,25.0,38.0,26.0,22.0,32.0,36.0,27.0,27.0,44.0,32.0,28.0,31.0]\n",
              "},\n",
              "\"mapping\":{\n",
              "},\n",
              "\"data_meta\":{\n",
              "\"series_annotations\":[{\n",
              "\"type\":\"str\",\n",
              "\"column\":\"car_name\"\n",
              "},{\n",
              "\"type\":\"int\",\n",
              "\"column\":\"cylinders\"\n",
              "},{\n",
              "\"type\":\"float\",\n",
              "\"column\":\"displacement\"\n",
              "},{\n",
              "\"type\":\"float\",\n",
              "\"column\":\"horsepower\"\n",
              "},{\n",
              "\"type\":\"int\",\n",
              "\"column\":\"weight\"\n",
              "},{\n",
              "\"type\":\"float\",\n",
              "\"column\":\"acceleration\"\n",
              "},{\n",
              "\"type\":\"int\",\n",
              "\"column\":\"model_year\"\n",
              "},{\n",
              "\"type\":\"int\",\n",
              "\"column\":\"origin\"\n",
              "},{\n",
              "\"type\":\"float\",\n",
              "\"column\":\"mpg\"\n",
              "}]\n",
              "},\n",
              "\"kind\":\"plot\",\n",
              "\"scales\":[],\n",
              "\"layers\":[{\n",
              "\"geom\":\"point\",\n",
              "\"mapping\":{\n",
              "\"x\":\"displacement\",\n",
              "\"y\":\"mpg\"\n",
              "},\n",
              "\"data_meta\":{\n",
              "},\n",
              "\"data\":{\n",
              "}\n",
              "},{\n",
              "\"geom\":\"abline\",\n",
              "\"mapping\":{\n",
              "},\n",
              "\"data_meta\":{\n",
              "},\n",
              "\"slope\":-0.06028240546881721,\n",
              "\"intercept\":35.17475015429319,\n",
              "\"color\":\"blue\",\n",
              "\"data\":{\n",
              "}\n",
              "}],\n",
              "\"metainfo_list\":[],\n",
              "\"spec_id\":\"5\"\n",
              "};\n",
              "           fig = LetsPlot.buildPlotFromProcessedSpecs(plotSpec, containerDiv, sizing);\n",
              "       } else {\n",
              "           fig.updateView({});\n",
              "       }\n",
              "   }\n",
              "   \n",
              "   const renderImmediately = \n",
              "       forceImmediateRender || (\n",
              "           sizing.width_mode === 'FIXED' && \n",
              "           (sizing.height_mode === 'FIXED' || sizing.height_mode === 'SCALED')\n",
              "       );\n",
              "   \n",
              "   if (renderImmediately) {\n",
              "       renderPlot();\n",
              "   }\n",
              "   \n",
              "   if (!renderImmediately || responsive) {\n",
              "       // Set up observer for initial sizing or continuous monitoring\n",
              "       var observer = new ResizeObserver(function(entries) {\n",
              "           for (let entry of entries) {\n",
              "               if (entry.contentBoxSize && \n",
              "                   entry.contentBoxSize[0].inlineSize > 0) {\n",
              "                   if (!responsive && observer) {\n",
              "                       observer.disconnect();\n",
              "                       observer = null;\n",
              "                   }\n",
              "                   renderPlot();\n",
              "                   if (!responsive) {\n",
              "                       break;\n",
              "                   }\n",
              "               }\n",
              "           }\n",
              "       });\n",
              "       \n",
              "       observer.observe(containerDiv);\n",
              "   }\n",
              "   \n",
              "   // ----------\n",
              "   })();\n",
              "   \n",
              "   </script>\n",
              "   </body>\n",
              "</html>"
            ]
          },
          "metadata": {},
          "execution_count": 16
        }
      ],
      "source": [
        "m = LinearRegression()\n",
        "m.fit(X[['displacement']], y['mpg'])\n",
        "cf = [m.intercept_, *m.coef_]\n",
        "\n",
        "(\n",
        "    ggplot(auto_mpg.data.original)\n",
        "    + geom_point(aes(x='displacement', y='mpg'))\n",
        "    + geom_abline(slope=cf[1], intercept=cf[0], color=\"blue\")\n",
        ")\n"
      ]
    },
    {
      "cell_type": "markdown",
      "metadata": {
        "id": "nGc0FqW_YFgf"
      },
      "source": [
        "## Part 4 - Slide 35"
      ]
    },
    {
      "cell_type": "markdown",
      "metadata": {
        "id": "1_aOhjMSYFgf"
      },
      "source": [
        "Which rows of iris are outliers based on the Petal.Width~Petal.Length model?\n"
      ]
    },
    {
      "cell_type": "code",
      "execution_count": 45,
      "metadata": {
        "id": "HcPknYjnYFgf",
        "colab": {
          "base_uri": "https://localhost:8080/",
          "height": 569
        },
        "outputId": "1403f30d-9d70-42c4-bde3-410e3d311fae"
      },
      "outputs": [
        {
          "output_type": "stream",
          "name": "stdout",
          "text": [
            "Requirement already satisfied: scikit-learn in /usr/local/lib/python3.11/dist-packages (1.6.1)\n",
            "Requirement already satisfied: numpy>=1.19.5 in /usr/local/lib/python3.11/dist-packages (from scikit-learn) (1.26.4)\n",
            "Requirement already satisfied: scipy>=1.6.0 in /usr/local/lib/python3.11/dist-packages (from scikit-learn) (1.14.1)\n",
            "Requirement already satisfied: joblib>=1.2.0 in /usr/local/lib/python3.11/dist-packages (from scikit-learn) (1.4.2)\n",
            "Requirement already satisfied: threadpoolctl>=3.1.0 in /usr/local/lib/python3.11/dist-packages (from scikit-learn) (3.5.0)\n"
          ]
        },
        {
          "output_type": "execute_result",
          "data": {
            "text/plain": [
              "0      0.0\n",
              "1      0.0\n",
              "2      0.0\n",
              "3      0.0\n",
              "4      0.0\n",
              "      ... \n",
              "145    0.0\n",
              "146    0.0\n",
              "147    0.0\n",
              "148    0.0\n",
              "149    0.0\n",
              "Name: Petal.Length, Length: 150, dtype: float64"
            ],
            "text/html": [
              "<div>\n",
              "<style scoped>\n",
              "    .dataframe tbody tr th:only-of-type {\n",
              "        vertical-align: middle;\n",
              "    }\n",
              "\n",
              "    .dataframe tbody tr th {\n",
              "        vertical-align: top;\n",
              "    }\n",
              "\n",
              "    .dataframe thead th {\n",
              "        text-align: right;\n",
              "    }\n",
              "</style>\n",
              "<table border=\"1\" class=\"dataframe\">\n",
              "  <thead>\n",
              "    <tr style=\"text-align: right;\">\n",
              "      <th></th>\n",
              "      <th>Petal.Length</th>\n",
              "    </tr>\n",
              "  </thead>\n",
              "  <tbody>\n",
              "    <tr>\n",
              "      <th>0</th>\n",
              "      <td>0.0</td>\n",
              "    </tr>\n",
              "    <tr>\n",
              "      <th>1</th>\n",
              "      <td>0.0</td>\n",
              "    </tr>\n",
              "    <tr>\n",
              "      <th>2</th>\n",
              "      <td>0.0</td>\n",
              "    </tr>\n",
              "    <tr>\n",
              "      <th>3</th>\n",
              "      <td>0.0</td>\n",
              "    </tr>\n",
              "    <tr>\n",
              "      <th>4</th>\n",
              "      <td>0.0</td>\n",
              "    </tr>\n",
              "    <tr>\n",
              "      <th>...</th>\n",
              "      <td>...</td>\n",
              "    </tr>\n",
              "    <tr>\n",
              "      <th>145</th>\n",
              "      <td>0.0</td>\n",
              "    </tr>\n",
              "    <tr>\n",
              "      <th>146</th>\n",
              "      <td>0.0</td>\n",
              "    </tr>\n",
              "    <tr>\n",
              "      <th>147</th>\n",
              "      <td>0.0</td>\n",
              "    </tr>\n",
              "    <tr>\n",
              "      <th>148</th>\n",
              "      <td>0.0</td>\n",
              "    </tr>\n",
              "    <tr>\n",
              "      <th>149</th>\n",
              "      <td>0.0</td>\n",
              "    </tr>\n",
              "  </tbody>\n",
              "</table>\n",
              "<p>150 rows × 1 columns</p>\n",
              "</div><br><label><b>dtype:</b> float64</label>"
            ]
          },
          "metadata": {},
          "execution_count": 45
        }
      ],
      "source": [
        "!pip install scikit-learn\n",
        "import sklearn as skl\n",
        "\n",
        "iris_dataset = sm.datasets.get_rdataset(\"iris\")\n",
        "iris = iris_dataset.data\n",
        "import seaborn as sns\n",
        "\n",
        "m = LinearRegression()\n",
        "X = iris[['Petal.Length']]\n",
        "y = iris['Petal.Width']\n",
        "m.fit(X, y)\n",
        "\n",
        "(\n",
        "    iris.assign(resid=y - m.predict(X))\n",
        "    .assign(rstd=lambda df: df.resid / df.resid.std())\n",
        "    .query('abs(rstd) > 2')\n",
        ")\n",
        "\n",
        "cf = [m.intercept_, *m.coef_]\n",
        "\n",
        "m.predict(X) - (cf[0] + X * cf[1]).iloc[:,0]\n",
        "\n"
      ]
    },
    {
      "cell_type": "code",
      "source": [
        "results = sm.formula.ols('Q(\"Petal.Width\") ~ Q(\"Petal.Length\")', data=iris).fit()\n",
        "#print(results.summary())\n",
        "predictions = results.get_prediction(iris)\n",
        "predictions.summary_frame(alpha=0.05)"
      ],
      "metadata": {
        "colab": {
          "base_uri": "https://localhost:8080/",
          "height": 423
        },
        "id": "0LiGXfgHSogR",
        "outputId": "7cf1172f-e365-4710-afba-65705207261a"
      },
      "execution_count": 58,
      "outputs": [
        {
          "output_type": "execute_result",
          "data": {
            "text/plain": [
              "         mean   mean_se  mean_ci_lower  mean_ci_upper  obs_ci_lower  \\\n",
              "0    0.218982  0.028192       0.163271       0.274693     -0.192842   \n",
              "1    0.218982  0.028192       0.163271       0.274693     -0.192842   \n",
              "2    0.177407  0.028966       0.120167       0.234646     -0.234627   \n",
              "3    0.260558  0.027430       0.206353       0.314763     -0.151065   \n",
              "4    0.218982  0.028192       0.163271       0.274693     -0.192842   \n",
              "..        ...       ...            ...            ...           ...   \n",
              "145  1.798853  0.021798       1.755776       1.841929      1.388547   \n",
              "146  1.715702  0.020637       1.674921       1.756483      1.305630   \n",
              "147  1.798853  0.021798       1.755776       1.841929      1.388547   \n",
              "148  1.882004  0.023061       1.836432       1.927575      1.471428   \n",
              "149  1.757277  0.021204       1.715375       1.799179      1.347093   \n",
              "\n",
              "     obs_ci_upper  \n",
              "0        0.630806  \n",
              "1        0.630806  \n",
              "2        0.589440  \n",
              "3        0.672181  \n",
              "4        0.630806  \n",
              "..            ...  \n",
              "145      2.209158  \n",
              "146      2.125773  \n",
              "147      2.209158  \n",
              "148      2.292579  \n",
              "149      2.167461  \n",
              "\n",
              "[150 rows x 6 columns]"
            ],
            "text/html": [
              "\n",
              "  <div id=\"df-d0eea25b-9ef8-4c48-b84f-5e99d4799a43\" class=\"colab-df-container\">\n",
              "    <div>\n",
              "<style scoped>\n",
              "    .dataframe tbody tr th:only-of-type {\n",
              "        vertical-align: middle;\n",
              "    }\n",
              "\n",
              "    .dataframe tbody tr th {\n",
              "        vertical-align: top;\n",
              "    }\n",
              "\n",
              "    .dataframe thead th {\n",
              "        text-align: right;\n",
              "    }\n",
              "</style>\n",
              "<table border=\"1\" class=\"dataframe\">\n",
              "  <thead>\n",
              "    <tr style=\"text-align: right;\">\n",
              "      <th></th>\n",
              "      <th>mean</th>\n",
              "      <th>mean_se</th>\n",
              "      <th>mean_ci_lower</th>\n",
              "      <th>mean_ci_upper</th>\n",
              "      <th>obs_ci_lower</th>\n",
              "      <th>obs_ci_upper</th>\n",
              "    </tr>\n",
              "  </thead>\n",
              "  <tbody>\n",
              "    <tr>\n",
              "      <th>0</th>\n",
              "      <td>0.218982</td>\n",
              "      <td>0.028192</td>\n",
              "      <td>0.163271</td>\n",
              "      <td>0.274693</td>\n",
              "      <td>-0.192842</td>\n",
              "      <td>0.630806</td>\n",
              "    </tr>\n",
              "    <tr>\n",
              "      <th>1</th>\n",
              "      <td>0.218982</td>\n",
              "      <td>0.028192</td>\n",
              "      <td>0.163271</td>\n",
              "      <td>0.274693</td>\n",
              "      <td>-0.192842</td>\n",
              "      <td>0.630806</td>\n",
              "    </tr>\n",
              "    <tr>\n",
              "      <th>2</th>\n",
              "      <td>0.177407</td>\n",
              "      <td>0.028966</td>\n",
              "      <td>0.120167</td>\n",
              "      <td>0.234646</td>\n",
              "      <td>-0.234627</td>\n",
              "      <td>0.589440</td>\n",
              "    </tr>\n",
              "    <tr>\n",
              "      <th>3</th>\n",
              "      <td>0.260558</td>\n",
              "      <td>0.027430</td>\n",
              "      <td>0.206353</td>\n",
              "      <td>0.314763</td>\n",
              "      <td>-0.151065</td>\n",
              "      <td>0.672181</td>\n",
              "    </tr>\n",
              "    <tr>\n",
              "      <th>4</th>\n",
              "      <td>0.218982</td>\n",
              "      <td>0.028192</td>\n",
              "      <td>0.163271</td>\n",
              "      <td>0.274693</td>\n",
              "      <td>-0.192842</td>\n",
              "      <td>0.630806</td>\n",
              "    </tr>\n",
              "    <tr>\n",
              "      <th>...</th>\n",
              "      <td>...</td>\n",
              "      <td>...</td>\n",
              "      <td>...</td>\n",
              "      <td>...</td>\n",
              "      <td>...</td>\n",
              "      <td>...</td>\n",
              "    </tr>\n",
              "    <tr>\n",
              "      <th>145</th>\n",
              "      <td>1.798853</td>\n",
              "      <td>0.021798</td>\n",
              "      <td>1.755776</td>\n",
              "      <td>1.841929</td>\n",
              "      <td>1.388547</td>\n",
              "      <td>2.209158</td>\n",
              "    </tr>\n",
              "    <tr>\n",
              "      <th>146</th>\n",
              "      <td>1.715702</td>\n",
              "      <td>0.020637</td>\n",
              "      <td>1.674921</td>\n",
              "      <td>1.756483</td>\n",
              "      <td>1.305630</td>\n",
              "      <td>2.125773</td>\n",
              "    </tr>\n",
              "    <tr>\n",
              "      <th>147</th>\n",
              "      <td>1.798853</td>\n",
              "      <td>0.021798</td>\n",
              "      <td>1.755776</td>\n",
              "      <td>1.841929</td>\n",
              "      <td>1.388547</td>\n",
              "      <td>2.209158</td>\n",
              "    </tr>\n",
              "    <tr>\n",
              "      <th>148</th>\n",
              "      <td>1.882004</td>\n",
              "      <td>0.023061</td>\n",
              "      <td>1.836432</td>\n",
              "      <td>1.927575</td>\n",
              "      <td>1.471428</td>\n",
              "      <td>2.292579</td>\n",
              "    </tr>\n",
              "    <tr>\n",
              "      <th>149</th>\n",
              "      <td>1.757277</td>\n",
              "      <td>0.021204</td>\n",
              "      <td>1.715375</td>\n",
              "      <td>1.799179</td>\n",
              "      <td>1.347093</td>\n",
              "      <td>2.167461</td>\n",
              "    </tr>\n",
              "  </tbody>\n",
              "</table>\n",
              "<p>150 rows × 6 columns</p>\n",
              "</div>\n",
              "    <div class=\"colab-df-buttons\">\n",
              "\n",
              "  <div class=\"colab-df-container\">\n",
              "    <button class=\"colab-df-convert\" onclick=\"convertToInteractive('df-d0eea25b-9ef8-4c48-b84f-5e99d4799a43')\"\n",
              "            title=\"Convert this dataframe to an interactive table.\"\n",
              "            style=\"display:none;\">\n",
              "\n",
              "  <svg xmlns=\"http://www.w3.org/2000/svg\" height=\"24px\" viewBox=\"0 -960 960 960\">\n",
              "    <path d=\"M120-120v-720h720v720H120Zm60-500h600v-160H180v160Zm220 220h160v-160H400v160Zm0 220h160v-160H400v160ZM180-400h160v-160H180v160Zm440 0h160v-160H620v160ZM180-180h160v-160H180v160Zm440 0h160v-160H620v160Z\"/>\n",
              "  </svg>\n",
              "    </button>\n",
              "\n",
              "  <style>\n",
              "    .colab-df-container {\n",
              "      display:flex;\n",
              "      gap: 12px;\n",
              "    }\n",
              "\n",
              "    .colab-df-convert {\n",
              "      background-color: #E8F0FE;\n",
              "      border: none;\n",
              "      border-radius: 50%;\n",
              "      cursor: pointer;\n",
              "      display: none;\n",
              "      fill: #1967D2;\n",
              "      height: 32px;\n",
              "      padding: 0 0 0 0;\n",
              "      width: 32px;\n",
              "    }\n",
              "\n",
              "    .colab-df-convert:hover {\n",
              "      background-color: #E2EBFA;\n",
              "      box-shadow: 0px 1px 2px rgba(60, 64, 67, 0.3), 0px 1px 3px 1px rgba(60, 64, 67, 0.15);\n",
              "      fill: #174EA6;\n",
              "    }\n",
              "\n",
              "    .colab-df-buttons div {\n",
              "      margin-bottom: 4px;\n",
              "    }\n",
              "\n",
              "    [theme=dark] .colab-df-convert {\n",
              "      background-color: #3B4455;\n",
              "      fill: #D2E3FC;\n",
              "    }\n",
              "\n",
              "    [theme=dark] .colab-df-convert:hover {\n",
              "      background-color: #434B5C;\n",
              "      box-shadow: 0px 1px 3px 1px rgba(0, 0, 0, 0.15);\n",
              "      filter: drop-shadow(0px 1px 2px rgba(0, 0, 0, 0.3));\n",
              "      fill: #FFFFFF;\n",
              "    }\n",
              "  </style>\n",
              "\n",
              "    <script>\n",
              "      const buttonEl =\n",
              "        document.querySelector('#df-d0eea25b-9ef8-4c48-b84f-5e99d4799a43 button.colab-df-convert');\n",
              "      buttonEl.style.display =\n",
              "        google.colab.kernel.accessAllowed ? 'block' : 'none';\n",
              "\n",
              "      async function convertToInteractive(key) {\n",
              "        const element = document.querySelector('#df-d0eea25b-9ef8-4c48-b84f-5e99d4799a43');\n",
              "        const dataTable =\n",
              "          await google.colab.kernel.invokeFunction('convertToInteractive',\n",
              "                                                    [key], {});\n",
              "        if (!dataTable) return;\n",
              "\n",
              "        const docLinkHtml = 'Like what you see? Visit the ' +\n",
              "          '<a target=\"_blank\" href=https://colab.research.google.com/notebooks/data_table.ipynb>data table notebook</a>'\n",
              "          + ' to learn more about interactive tables.';\n",
              "        element.innerHTML = '';\n",
              "        dataTable['output_type'] = 'display_data';\n",
              "        await google.colab.output.renderOutput(dataTable, element);\n",
              "        const docLink = document.createElement('div');\n",
              "        docLink.innerHTML = docLinkHtml;\n",
              "        element.appendChild(docLink);\n",
              "      }\n",
              "    </script>\n",
              "  </div>\n",
              "\n",
              "\n",
              "<div id=\"df-e6c0948e-987e-4268-9414-8466e5ce9c6f\">\n",
              "  <button class=\"colab-df-quickchart\" onclick=\"quickchart('df-e6c0948e-987e-4268-9414-8466e5ce9c6f')\"\n",
              "            title=\"Suggest charts\"\n",
              "            style=\"display:none;\">\n",
              "\n",
              "<svg xmlns=\"http://www.w3.org/2000/svg\" height=\"24px\"viewBox=\"0 0 24 24\"\n",
              "     width=\"24px\">\n",
              "    <g>\n",
              "        <path d=\"M19 3H5c-1.1 0-2 .9-2 2v14c0 1.1.9 2 2 2h14c1.1 0 2-.9 2-2V5c0-1.1-.9-2-2-2zM9 17H7v-7h2v7zm4 0h-2V7h2v10zm4 0h-2v-4h2v4z\"/>\n",
              "    </g>\n",
              "</svg>\n",
              "  </button>\n",
              "\n",
              "<style>\n",
              "  .colab-df-quickchart {\n",
              "      --bg-color: #E8F0FE;\n",
              "      --fill-color: #1967D2;\n",
              "      --hover-bg-color: #E2EBFA;\n",
              "      --hover-fill-color: #174EA6;\n",
              "      --disabled-fill-color: #AAA;\n",
              "      --disabled-bg-color: #DDD;\n",
              "  }\n",
              "\n",
              "  [theme=dark] .colab-df-quickchart {\n",
              "      --bg-color: #3B4455;\n",
              "      --fill-color: #D2E3FC;\n",
              "      --hover-bg-color: #434B5C;\n",
              "      --hover-fill-color: #FFFFFF;\n",
              "      --disabled-bg-color: #3B4455;\n",
              "      --disabled-fill-color: #666;\n",
              "  }\n",
              "\n",
              "  .colab-df-quickchart {\n",
              "    background-color: var(--bg-color);\n",
              "    border: none;\n",
              "    border-radius: 50%;\n",
              "    cursor: pointer;\n",
              "    display: none;\n",
              "    fill: var(--fill-color);\n",
              "    height: 32px;\n",
              "    padding: 0;\n",
              "    width: 32px;\n",
              "  }\n",
              "\n",
              "  .colab-df-quickchart:hover {\n",
              "    background-color: var(--hover-bg-color);\n",
              "    box-shadow: 0 1px 2px rgba(60, 64, 67, 0.3), 0 1px 3px 1px rgba(60, 64, 67, 0.15);\n",
              "    fill: var(--button-hover-fill-color);\n",
              "  }\n",
              "\n",
              "  .colab-df-quickchart-complete:disabled,\n",
              "  .colab-df-quickchart-complete:disabled:hover {\n",
              "    background-color: var(--disabled-bg-color);\n",
              "    fill: var(--disabled-fill-color);\n",
              "    box-shadow: none;\n",
              "  }\n",
              "\n",
              "  .colab-df-spinner {\n",
              "    border: 2px solid var(--fill-color);\n",
              "    border-color: transparent;\n",
              "    border-bottom-color: var(--fill-color);\n",
              "    animation:\n",
              "      spin 1s steps(1) infinite;\n",
              "  }\n",
              "\n",
              "  @keyframes spin {\n",
              "    0% {\n",
              "      border-color: transparent;\n",
              "      border-bottom-color: var(--fill-color);\n",
              "      border-left-color: var(--fill-color);\n",
              "    }\n",
              "    20% {\n",
              "      border-color: transparent;\n",
              "      border-left-color: var(--fill-color);\n",
              "      border-top-color: var(--fill-color);\n",
              "    }\n",
              "    30% {\n",
              "      border-color: transparent;\n",
              "      border-left-color: var(--fill-color);\n",
              "      border-top-color: var(--fill-color);\n",
              "      border-right-color: var(--fill-color);\n",
              "    }\n",
              "    40% {\n",
              "      border-color: transparent;\n",
              "      border-right-color: var(--fill-color);\n",
              "      border-top-color: var(--fill-color);\n",
              "    }\n",
              "    60% {\n",
              "      border-color: transparent;\n",
              "      border-right-color: var(--fill-color);\n",
              "    }\n",
              "    80% {\n",
              "      border-color: transparent;\n",
              "      border-right-color: var(--fill-color);\n",
              "      border-bottom-color: var(--fill-color);\n",
              "    }\n",
              "    90% {\n",
              "      border-color: transparent;\n",
              "      border-bottom-color: var(--fill-color);\n",
              "    }\n",
              "  }\n",
              "</style>\n",
              "\n",
              "  <script>\n",
              "    async function quickchart(key) {\n",
              "      const quickchartButtonEl =\n",
              "        document.querySelector('#' + key + ' button');\n",
              "      quickchartButtonEl.disabled = true;  // To prevent multiple clicks.\n",
              "      quickchartButtonEl.classList.add('colab-df-spinner');\n",
              "      try {\n",
              "        const charts = await google.colab.kernel.invokeFunction(\n",
              "            'suggestCharts', [key], {});\n",
              "      } catch (error) {\n",
              "        console.error('Error during call to suggestCharts:', error);\n",
              "      }\n",
              "      quickchartButtonEl.classList.remove('colab-df-spinner');\n",
              "      quickchartButtonEl.classList.add('colab-df-quickchart-complete');\n",
              "    }\n",
              "    (() => {\n",
              "      let quickchartButtonEl =\n",
              "        document.querySelector('#df-e6c0948e-987e-4268-9414-8466e5ce9c6f button');\n",
              "      quickchartButtonEl.style.display =\n",
              "        google.colab.kernel.accessAllowed ? 'block' : 'none';\n",
              "    })();\n",
              "  </script>\n",
              "</div>\n",
              "\n",
              "    </div>\n",
              "  </div>\n"
            ],
            "application/vnd.google.colaboratory.intrinsic+json": {
              "type": "dataframe",
              "summary": "{\n  \"name\": \"predictions\",\n  \"rows\": 150,\n  \"fields\": [\n    {\n      \"column\": \"mean\",\n      \"properties\": {\n        \"dtype\": \"number\",\n        \"std\": 0.7339323019549656,\n        \"min\": 0.05267989503338294,\n        \"max\": 2.50563685151261,\n        \"num_unique_values\": 43,\n        \"samples\": [\n          2.4224857682421277,\n          1.2167950608201346,\n          1.1752195191848935\n        ],\n        \"semantic_type\": \"\",\n        \"description\": \"\"\n      }\n    },\n    {\n      \"column\": \"mean_se\",\n      \"properties\": {\n        \"dtype\": \"number\",\n        \"std\": 0.004687984791743365,\n        \"min\": 0.016864179539703556,\n        \"max\": 0.034506970857788595,\n        \"num_unique_values\": 43,\n        \"samples\": [\n          0.03284814635999706,\n          0.016864179539703556,\n          0.016868534864310253\n        ],\n        \"semantic_type\": \"\",\n        \"description\": \"\"\n      }\n    },\n    {\n      \"column\": \"mean_ci_lower\",\n      \"properties\": {\n        \"dtype\": \"number\",\n        \"std\": 0.7372530287003249,\n        \"min\": -0.009267579453513579,\n        \"max\": 2.4374468502144184,\n        \"num_unique_values\": 43,\n        \"samples\": [\n          2.357573807346962,\n          1.1834693762955608,\n          1.1418852280053975\n        ],\n        \"semantic_type\": \"\",\n        \"description\": \"\"\n      }\n    },\n    {\n      \"column\": \"mean_ci_upper\",\n      \"properties\": {\n        \"dtype\": \"number\",\n        \"std\": 0.7307139412677904,\n        \"min\": 0.11462736952027947,\n        \"max\": 2.573826852810802,\n        \"num_unique_values\": 43,\n        \"samples\": [\n          2.4873977291372933,\n          1.2501207453447083,\n          1.2085538103643896\n        ],\n        \"semantic_type\": \"\",\n        \"description\": \"\"\n      }\n    },\n    {\n      \"column\": \"obs_ci_lower\",\n      \"properties\": {\n        \"dtype\": \"number\",\n        \"std\": 0.7343019485040603,\n        \"min\": -0.3600340471867895,\n        \"max\": 2.091939879340153,\n        \"num_unique_values\": 43,\n        \"samples\": [\n          2.0093164673800397,\n          0.8073980533119671,\n          0.7658218109889994\n        ],\n        \"semantic_type\": \"\",\n        \"description\": \"\"\n      }\n    },\n    {\n      \"column\": \"obs_ci_upper\",\n      \"properties\": {\n        \"dtype\": \"number\",\n        \"std\": 0.7335639824045356,\n        \"min\": 0.4653938372535554,\n        \"max\": 2.919333823685067,\n        \"num_unique_values\": 43,\n        \"samples\": [\n          2.8356550691042157,\n          1.626192068328302,\n          1.5846172273807877\n        ],\n        \"semantic_type\": \"\",\n        \"description\": \"\"\n      }\n    }\n  ]\n}"
            }
          },
          "metadata": {},
          "execution_count": 58
        }
      ]
    },
    {
      "cell_type": "markdown",
      "metadata": {
        "id": "GdBgSoZ3YFgf"
      },
      "source": [
        "## Part 5 - Slide 41"
      ]
    },
    {
      "cell_type": "markdown",
      "metadata": {
        "id": "bVCfGf6WYFgf"
      },
      "source": [
        "Consider the `auto_mpg.data.original` dataset\n",
        "\n",
        "> The goal is to model mpg given engine displacement\n",
        "\n",
        "Include the confidence intervals of the predictions below:\n",
        "\n",
        "* Predict the mpg of a car with engine displacement=250\n"
      ]
    },
    {
      "cell_type": "code",
      "execution_count": null,
      "metadata": {
        "id": "wxue90VwYFgf"
      },
      "outputs": [],
      "source": []
    },
    {
      "cell_type": "markdown",
      "metadata": {
        "id": "1fky5WeeYFgf"
      },
      "source": [
        "* Predict the mpg of a car with engine displacement=600\n"
      ]
    },
    {
      "cell_type": "code",
      "execution_count": null,
      "metadata": {
        "id": "qvWJ2nx1YFgg"
      },
      "outputs": [],
      "source": []
    },
    {
      "cell_type": "markdown",
      "metadata": {
        "id": "TlGygb98YFgg"
      },
      "source": [
        "In which prediction (for displ=250 or displ=600) are you more confident?\n"
      ]
    },
    {
      "cell_type": "markdown",
      "metadata": {
        "id": "eNbW-JndYFgg"
      },
      "source": []
    },
    {
      "cell_type": "markdown",
      "metadata": {
        "id": "5jBvcnmMYFgj"
      },
      "source": [
        "## Part 6 - Slide 44"
      ]
    },
    {
      "cell_type": "markdown",
      "metadata": {
        "id": "VQRb0-dNYFgk"
      },
      "source": [
        "Write down the linear model equation relating the three variables from\n",
        "\n",
        "Petal.Width ~ Petal.Length + Sepal.Length"
      ]
    },
    {
      "cell_type": "code",
      "execution_count": null,
      "metadata": {
        "id": "b-h5A6mrYFgk"
      },
      "outputs": [],
      "source": []
    },
    {
      "cell_type": "markdown",
      "metadata": {
        "id": "y3iK4NJzYFgk"
      },
      "source": []
    },
    {
      "cell_type": "markdown",
      "metadata": {
        "id": "8azjz_3PYFgk"
      },
      "source": [
        "## Part 7 - Slide 48"
      ]
    },
    {
      "cell_type": "markdown",
      "metadata": {
        "id": "r8OzmLu7YFgk"
      },
      "source": [
        "Do 0-1 coding of sem={Freshman, Soph, Junior, Senior}"
      ]
    },
    {
      "cell_type": "markdown",
      "metadata": {
        "id": "jxL68YtVYFgk"
      },
      "source": [
        "| Value    | Dummy variable 1 | ... |\n",
        "|----------|------------------|-----|\n",
        "| Freshman |                  |     |\n",
        "| ...      |                  |     |"
      ]
    },
    {
      "cell_type": "markdown",
      "metadata": {
        "id": "YspzZ_CeYFgl"
      },
      "source": [
        "## Part 8 - Slide 54"
      ]
    },
    {
      "cell_type": "markdown",
      "metadata": {
        "id": "VwSSujk5YFgl"
      },
      "source": [
        "Consider the `auto_mpg.data.original` dataset.\n",
        "\n",
        "> The goal is to model mpg given engine displacement (a continuous variable) and number of cylinders (pretend this is a categorical variable).\n",
        "\n",
        "* Which is the dependent variable? Which are the independent variables?"
      ]
    },
    {
      "cell_type": "markdown",
      "metadata": {
        "id": "nMWqccrxYFgt"
      },
      "source": []
    },
    {
      "cell_type": "markdown",
      "metadata": {
        "id": "d2VZqeoUYFgu"
      },
      "source": [
        "* Convert cylinders to a `str` variable, then to a categorical variable.\n",
        "\n",
        "> The type should be `CategoricalDtype(categories=['3', '4', '5', '6', '8'], ordered=False, categories_dtype=object)`\n",
        "> rather than `CategoricalDtype(categories=[3, 4, 5, 6, 8], ordered=False, categories_dtype=int64)`\n"
      ]
    },
    {
      "cell_type": "code",
      "execution_count": null,
      "metadata": {
        "id": "OGyuduQYYFgu"
      },
      "outputs": [],
      "source": []
    },
    {
      "cell_type": "markdown",
      "metadata": {
        "id": "tdFm0tC1YFgu"
      },
      "source": [
        "* Create a linear model called `mod_displ_cyl` of mpg vs. displacement and cylinders.\n",
        "  - Give `sm.formula.ols` code, output of `results.summary()`\n"
      ]
    },
    {
      "cell_type": "code",
      "execution_count": null,
      "metadata": {
        "id": "JaJ41kt4YFgv"
      },
      "outputs": [],
      "source": []
    },
    {
      "cell_type": "markdown",
      "metadata": {
        "id": "IrqG9dN7YFgv"
      },
      "source": [
        "* How many dummy (i.e., 0-1) variables were created in the model?\n",
        "  - What are they called?\n"
      ]
    },
    {
      "cell_type": "markdown",
      "metadata": {
        "id": "SXK3op7BYFgv"
      },
      "source": []
    },
    {
      "cell_type": "markdown",
      "metadata": {
        "id": "atqUKQQ9YFgv"
      },
      "source": [
        " * Give the model equations relating mpg with displacement and cylinders.\n"
      ]
    },
    {
      "cell_type": "markdown",
      "metadata": {
        "id": "3sX9T_18YFgw"
      },
      "source": []
    },
    {
      "cell_type": "markdown",
      "metadata": {
        "id": "TBytijC-YFgw"
      },
      "source": [
        "* Plot mpg vs. displacement and overlay the best fit model. (code, plot)\n",
        "  - Hint: plot the predictions; use `assign()` and `geom_line()` and use the color aesthetic for cylinders\n"
      ]
    },
    {
      "cell_type": "code",
      "execution_count": null,
      "metadata": {
        "id": "ykJ5TnRlYFgw"
      },
      "outputs": [],
      "source": []
    },
    {
      "cell_type": "markdown",
      "metadata": {
        "id": "VfpWLmxyYFgw"
      },
      "source": [
        "# Part 9 - Slide 60"
      ]
    },
    {
      "cell_type": "markdown",
      "metadata": {
        "id": "uMMi7MO2YFgx"
      },
      "source": [
        "Consider the `auto_mpg.data.original` dataset\n",
        "* Build a linear model to predict mpg given:\n",
        "  \n",
        "  $$\\frac{1}{displacement^2}$$"
      ]
    },
    {
      "cell_type": "code",
      "execution_count": null,
      "metadata": {
        "id": "YIyz0477YFgx"
      },
      "outputs": [],
      "source": []
    },
    {
      "cell_type": "markdown",
      "metadata": {
        "id": "FTHEO6vVYFgx"
      },
      "source": [
        "* What is the regression equation?"
      ]
    },
    {
      "cell_type": "markdown",
      "metadata": {
        "id": "xmNvn_R0YFgx"
      },
      "source": []
    },
    {
      "cell_type": "markdown",
      "metadata": {
        "id": "-DM_LoK0YFgx"
      },
      "source": [
        "* Plot the model predictions"
      ]
    },
    {
      "cell_type": "code",
      "execution_count": null,
      "metadata": {
        "id": "EoIvwzo8YFgy"
      },
      "outputs": [],
      "source": []
    }
  ],
  "metadata": {
    "kernelspec": {
      "display_name": "murach",
      "language": "python",
      "name": "python3"
    },
    "language_info": {
      "codemirror_mode": {
        "name": "ipython",
        "version": 3
      },
      "file_extension": ".py",
      "mimetype": "text/x-python",
      "name": "python",
      "nbconvert_exporter": "python",
      "pygments_lexer": "ipython3",
      "version": "3.11.7"
    },
    "colab": {
      "provenance": [],
      "include_colab_link": true
    }
  },
  "nbformat": 4,
  "nbformat_minor": 0
}