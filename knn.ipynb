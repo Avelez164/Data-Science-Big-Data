{
  "cells": [
    {
      "cell_type": "markdown",
      "metadata": {
        "id": "view-in-github",
        "colab_type": "text"
      },
      "source": [
        "<a href=\"https://colab.research.google.com/github/Avelez164/Data-Science-Big-Data/blob/main/knn.ipynb\" target=\"_parent\"><img src=\"https://colab.research.google.com/assets/colab-badge.svg\" alt=\"Open In Colab\"/></a>"
      ]
    },
    {
      "cell_type": "markdown",
      "metadata": {
        "id": "Wnqtd8hm3Q5y"
      },
      "source": [
        "# CPSC 375 Classwork - K-Nearest Neighbors\n",
        "\n",
        "[![Open In Colab](https://colab.research.google.com/assets/colab-badge.svg)](https://colab.research.google.com/github/ProfAvery/cpsc375-classwork/blob/main/knn.ipynb)\n",
        "\n",
        "- *Manager*:\n",
        "- *Recorder*:\n",
        "- *Presenter*:\n",
        "- *Timekeeper*:"
      ]
    },
    {
      "cell_type": "markdown",
      "metadata": {
        "id": "_MUPTNfB3Q5z"
      },
      "source": [
        "## Part 1 - Slide 22"
      ]
    },
    {
      "cell_type": "markdown",
      "metadata": {
        "id": "s7-MsVOW3Q50"
      },
      "source": [
        "* Compute the Euclidean distance between vectors\n",
        "  - (5, 0, -1)\n",
        "  - (7, 3,  5)\n",
        "* Do it by hand\n",
        "* Check with Python\n"
      ]
    },
    {
      "cell_type": "markdown",
      "source": [
        "math.sqrt((5 - 7)**2 + ( 0 - 3)**2 + (-1 - 5)**2)"
      ],
      "metadata": {
        "id": "vLuUsvVdBEE8"
      }
    },
    {
      "cell_type": "code",
      "execution_count": 9,
      "metadata": {
        "id": "nNTSTIKj3Q50",
        "colab": {
          "base_uri": "https://localhost:8080/"
        },
        "outputId": "5925c1b9-e08f-41e4-e4d1-afc87857b0b2"
      },
      "outputs": [
        {
          "output_type": "stream",
          "name": "stdout",
          "text": [
            "7.0\n"
          ]
        }
      ],
      "source": [
        "import numpy as np\n",
        "from scipy.spatial import distance\n",
        "#?distance.euclidean\n",
        "vector1 = np.array([5,0,-1])\n",
        "vector2 = np.array([7,3,5])\n",
        "\n",
        "euclidean_distance = distance.euclidean(vector1, vector2)\n",
        "print(euclidean_distance)"
      ]
    },
    {
      "cell_type": "code",
      "source": [
        "#numpy\n",
        "distance.euclidean(\n",
        "    np.array([5,0,-1]),\n",
        "    np.array([7,3,5])\n",
        ")"
      ],
      "metadata": {
        "colab": {
          "base_uri": "https://localhost:8080/"
        },
        "id": "wz4n4iAlCApy",
        "outputId": "560ec3ec-deae-4c45-d276-ab3449593083"
      },
      "execution_count": 10,
      "outputs": [
        {
          "output_type": "execute_result",
          "data": {
            "text/plain": [
              "np.float64(7.0)"
            ]
          },
          "metadata": {},
          "execution_count": 10
        }
      ]
    },
    {
      "cell_type": "markdown",
      "metadata": {
        "id": "sxXi4Pa33Q51"
      },
      "source": [
        "* Consider this training data\n",
        "\n",
        "|          | nchars | is_last_a | nvowels | **Output** |\n",
        "|----------|--------|-----------|---------|------------|\n",
        "| \"Laura\"  | 5      | 1         | 3       | **F**      |\n",
        "| \"Carlos\" | 6      | 0         | 2       | **M**      |\n",
        "| \"Jose\"   | 4      | 0         | 2       | **M**      |\n",
        "| \"Maria\"  | 5      | 1         | 3       | **F**      |\n",
        "| \"Belen\"  | 5      | 0         | 2       | **F**      |\n",
        "\n",
        "`is_last_a`: 1 if last character is \"a\", 0 otherwise\n",
        "\n",
        "* Using 1-NN, what is the predicted output name for \"Chris\"?\n"
      ]
    },
    {
      "cell_type": "markdown",
      "metadata": {
        "id": "Xum6Tfmj3Q51"
      },
      "source": [
        "```\n",
        "nchars('Chris') = 5\n",
        "is_last_a('Chris') = 0\n",
        "nvowels('Chris') = 1\n",
        "```\n",
        "\n",
        "Chris is represented by (5, 0, 1)\n",
        "\n",
        "For 1-NN"
      ]
    },
    {
      "cell_type": "markdown",
      "metadata": {
        "id": "ZYjVBvEM3Q51"
      },
      "source": [
        "* Using 3-NN, what is the predicted output name for \"Chris\"?\n"
      ]
    },
    {
      "cell_type": "code",
      "source": [
        "neighbors = [\n",
        "  [5, 1, 3],\n",
        "  [6, 0, 2],\n",
        "  [4, 0, 2],\n",
        "  [5, 1, 3],\n",
        "  [5, 0, 2],\n",
        "\n",
        "];\n",
        "\n",
        "for neighbor in neighbors:\n",
        "    distance_to_neighbor = distance.euclidean(np.array([5, 0, 1]), np.array(neighbor))\n",
        "    print(f\"Distance to neighbor {neighbor}: {distance_to_neighbor}\")\n"
      ],
      "metadata": {
        "colab": {
          "base_uri": "https://localhost:8080/"
        },
        "id": "EOmNDnEjEF5f",
        "outputId": "36c63bc6-b7c8-4196-9e0d-a56e3e091339"
      },
      "execution_count": 13,
      "outputs": [
        {
          "output_type": "stream",
          "name": "stdout",
          "text": [
            "Distance to neighbor [5, 1, 3]: 2.23606797749979\n",
            "Distance to neighbor [6, 0, 2]: 1.4142135623730951\n",
            "Distance to neighbor [4, 0, 2]: 1.4142135623730951\n",
            "Distance to neighbor [5, 1, 3]: 2.23606797749979\n",
            "Distance to neighbor [5, 0, 2]: 1.0\n"
          ]
        }
      ]
    },
    {
      "cell_type": "markdown",
      "metadata": {
        "id": "esJMIPj13Q52"
      },
      "source": [
        "## Part 2 - Slide 27"
      ]
    },
    {
      "cell_type": "markdown",
      "metadata": {
        "id": "3jnfx1Jl3Q52"
      },
      "source": [
        "The `pima-indians-diabetes-resampled.csv` file on Canvas contains a version of the Pima Indian Diabetes Database (PIDD). This dataset is often used to test machine learning algorithms, but it was not collected in a vacuum, and it is important to acknowledge [the background and the ethics issues it raises](https://nihrecord.nih.gov/2020/07/24/medical-history-matters-era-big-data). The subjects of the database are of Pima Indian heritage, and the dataset was originally collected as part of a longitudinal study of diabetes by the National Institutes of Health. The records in the dataset indicate whether the subjects have diabetes or not, along with certain diagnostic measurements.\n"
      ]
    },
    {
      "cell_type": "code",
      "execution_count": 14,
      "metadata": {
        "id": "sThl2mH73Q52"
      },
      "outputs": [],
      "source": [
        "import pandas as pd\n",
        "\n",
        "pima_indians_diabetes = pd.read_csv(\n",
        "    \"https://raw.githubusercontent.com/ProfAvery/cpsc375-classwork/refs/heads/main/datasets/pima-indians-diabetes-resampled.csv\"\n",
        ")"
      ]
    },
    {
      "cell_type": "markdown",
      "metadata": {
        "id": "e5wrE2if3Q53"
      },
      "source": [
        "The goal is to predict if a subject has diabetes, given some of the diagnostic measurements (only *Preg* and *Pedigree*)\n",
        "\n",
        "* Which is the “class” variable? Which is/are the “feature” variables?"
      ]
    },
    {
      "cell_type": "markdown",
      "metadata": {
        "id": "Q8EjAYT43Q53"
      },
      "source": []
    },
    {
      "cell_type": "markdown",
      "metadata": {
        "id": "VWPtqUjo3Q53"
      },
      "source": [
        "* Split the dataset into train and test datasets with the *first 500 rows* for training, and the remaining rows for test\n",
        "  - Do NOT randomly sample the data\n"
      ]
    },
    {
      "cell_type": "code",
      "execution_count": null,
      "metadata": {
        "id": "ne6U2mE93Q53"
      },
      "outputs": [],
      "source": []
    },
    {
      "cell_type": "markdown",
      "metadata": {
        "id": "IxXFqbz73Q54"
      },
      "source": [
        "* Train and test a 1-nearest neighbor (1-NN) classifier with this dataset\n",
        "  - What is the error rate (number of misclassifications)?\n"
      ]
    },
    {
      "cell_type": "code",
      "execution_count": null,
      "metadata": {
        "id": "VOFuwtCO3Q54"
      },
      "outputs": [],
      "source": []
    },
    {
      "cell_type": "markdown",
      "metadata": {
        "id": "gMp7cqnh3Q54"
      },
      "source": [
        "## Part 3 - Slide 45"
      ]
    },
    {
      "cell_type": "markdown",
      "metadata": {
        "id": "aT17teYD3Q54"
      },
      "source": [
        "|   |                                     |            |\n",
        "|---|-------------------------------------|------------|\n",
        "| A | { Apple, Banana, Soymilk, Yoghurt } | Vegetarian |\n",
        "| B | { Apple, Peanuts, Yoghurt }         | Vegetarian |\n",
        "| C | { Tomatoes, Potatoes, Yoghurt }     | Meat-eater |\n",
        "| D | { Apple, Tomatoes, Potatoes }       | Meat-eater |\n",
        "\n",
        "Use 1-NN algorithm to predict\n",
        "\n",
        "|   |                                     |            |\n",
        "|---|-------------------------------------|------------|\n",
        "| E | { Apple, Tomatoes }                  | ?          |\n",
        "| F | { Yoghurt, Soymilk }                 | ?          |\n"
      ]
    },
    {
      "cell_type": "markdown",
      "metadata": {
        "id": "lN6KUaxY3Q54"
      },
      "source": [
        "|         | Similarity |\n",
        "|---------|------------|\n",
        "| J(E, A) |            |\n",
        "| J(E, B) |            |\n",
        "| J(E, C) |            |\n",
        "| J(E, D) |            |\n",
        "\n",
        "Predicted class for E:\n",
        "\n",
        "|         | Similarity |\n",
        "|---------|------------|\n",
        "| J(F, A) |            |\n",
        "| J(F, B) |            |\n",
        "| J(F, C) |            |\n",
        "| J(F, D) |            |\n",
        "\n",
        "Predicted class for F:\n"
      ]
    }
  ],
  "metadata": {
    "kernelspec": {
      "display_name": "murach",
      "language": "python",
      "name": "python3"
    },
    "language_info": {
      "codemirror_mode": {
        "name": "ipython",
        "version": 3
      },
      "file_extension": ".py",
      "mimetype": "text/x-python",
      "name": "python",
      "nbconvert_exporter": "python",
      "pygments_lexer": "ipython3",
      "version": "3.11.7"
    },
    "colab": {
      "provenance": [],
      "include_colab_link": true
    }
  },
  "nbformat": 4,
  "nbformat_minor": 0
}