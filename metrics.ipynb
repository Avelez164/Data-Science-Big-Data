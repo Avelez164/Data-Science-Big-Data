{
  "cells": [
    {
      "cell_type": "markdown",
      "metadata": {
        "id": "view-in-github",
        "colab_type": "text"
      },
      "source": [
        "<a href=\"https://colab.research.google.com/github/Avelez164/Data-Science-Big-Data/blob/main/metrics.ipynb\" target=\"_parent\"><img src=\"https://colab.research.google.com/assets/colab-badge.svg\" alt=\"Open In Colab\"/></a>"
      ]
    },
    {
      "cell_type": "markdown",
      "metadata": {
        "id": "ifRNgXq6A3VD"
      },
      "source": [
        "# CPSC 375 Classwork - Evaluation Metrics\n",
        "\n",
        "[![Open In Colab](https://colab.research.google.com/assets/colab-badge.svg)](https://colab.research.google.com/github/ProfAvery/cpsc375-classwork/blob/main/metrics.ipynb)\n",
        "\n",
        "- *Manager*:\n",
        "- *Recorder*:\n",
        "- *Presenter*:\n",
        "- *Timekeeper*:"
      ]
    },
    {
      "cell_type": "markdown",
      "metadata": {
        "id": "ZxIHOVgmA3VF"
      },
      "source": [
        "## Part 1 - Slide 13"
      ]
    },
    {
      "cell_type": "markdown",
      "metadata": {
        "id": "CCvBud-TA3VG"
      },
      "source": [
        "| Actual Class \\ Predicted Class | cancer = yes | cancer = no |\n",
        "|--------------------------------|--------------|-------------|\n",
        "| cancer = yes                   | 90           | 210         |\n",
        "| cancer = no                    | 140          | 9560        |\n",
        "\n",
        "Calculate\n",
        " * Accuracy\n",
        " * Error\n",
        " * Precision of cancer=yes\n",
        " * Recall of cancer = yes\n",
        " * F-score of cancer = yes"
      ]
    },
    {
      "cell_type": "code",
      "source": [
        "k = 10\n",
        "data = range(1, k + 1)\n",
        "for i in data:\n",
        "  print(f'train: {[j for j in data if j != i]}, test: {i}')"
      ],
      "metadata": {
        "colab": {
          "base_uri": "https://localhost:8080/"
        },
        "id": "K1Mtmmb_Ukq3",
        "outputId": "ba4a169b-a331-4b4e-f90f-861c5b05cc97"
      },
      "execution_count": null,
      "outputs": [
        {
          "output_type": "stream",
          "name": "stdout",
          "text": [
            "train: [2, 3, 4, 5, 6, 7, 8, 9, 10], test: 1\n",
            "train: [1, 3, 4, 5, 6, 7, 8, 9, 10], test: 2\n",
            "train: [1, 2, 4, 5, 6, 7, 8, 9, 10], test: 3\n",
            "train: [1, 2, 3, 5, 6, 7, 8, 9, 10], test: 4\n",
            "train: [1, 2, 3, 4, 6, 7, 8, 9, 10], test: 5\n",
            "train: [1, 2, 3, 4, 5, 7, 8, 9, 10], test: 6\n",
            "train: [1, 2, 3, 4, 5, 6, 8, 9, 10], test: 7\n",
            "train: [1, 2, 3, 4, 5, 6, 7, 9, 10], test: 8\n",
            "train: [1, 2, 3, 4, 5, 6, 7, 8, 10], test: 9\n",
            "train: [1, 2, 3, 4, 5, 6, 7, 8, 9], test: 10\n"
          ]
        }
      ]
    },
    {
      "cell_type": "code",
      "source": [],
      "metadata": {
        "id": "0f3L4v30VoBg"
      },
      "execution_count": null,
      "outputs": []
    },
    {
      "cell_type": "code",
      "source": [
        "TP = 90; FN = 210; FP = 140; TN = 9560\n",
        "All = TP + FN + FP + TN\n",
        "P = TP + FN\n",
        "N = FP + TN\n",
        "Accuracy = (TP + TN) / All\n",
        "Error = 1 - Accuracy\n",
        "Precision = TP / (TP + FP)\n",
        "Recall = TP / P\n",
        "f1_score = 2 * (Precision * Recall) / (Precision + Recall)\n",
        "\n",
        "Accuracy, Error, Precision, Recall, f1_score"
      ],
      "metadata": {
        "colab": {
          "base_uri": "https://localhost:8080/"
        },
        "id": "ArCrCh3OO7kg",
        "outputId": "8345ca73-8818-411d-ebda-2e60d99b02e0"
      },
      "execution_count": null,
      "outputs": [
        {
          "output_type": "execute_result",
          "data": {
            "text/plain": [
              "(0.965, 0.03500000000000003, 0.391304347826087, 0.3, 0.33962264150943394)"
            ]
          },
          "metadata": {},
          "execution_count": 4
        }
      ]
    },
    {
      "cell_type": "code",
      "execution_count": null,
      "metadata": {
        "id": "N4i_jUSaA3VH",
        "colab": {
          "base_uri": "https://localhost:8080/"
        },
        "outputId": "cc049485-1c44-40d1-f11d-c4fa68ac5db0"
      },
      "outputs": [
        {
          "output_type": "stream",
          "name": "stdout",
          "text": [
            "Accuracy: 0.9650 or 96.50%\n",
            "Error Rate: 0.0350 or 3.50%\n",
            "Precision (cancer=yes): 0.3913 or 39.13%\n",
            "Recall (cancer=yes): 0.3000 or 30.00%\n",
            "F1 Score (cancer=yes): 0.3396 or 33.96%\n"
          ]
        }
      ],
      "source": [
        "TP = 90\n",
        "FN = 210\n",
        "FP = 140\n",
        "TN = 9560\n",
        "\n",
        "accuracy = (TP + TN) / (TP + TN + FP + FN)\n",
        "error = 1 - accuracy\n",
        "precision = TP / (TP + FP)\n",
        "recall = TP / (TP + FN)\n",
        "f1_score = 2 * (precision * recall) / (precision + recall)\n",
        "\n",
        "print(f\"Accuracy: {accuracy:.4f} or {accuracy*100:.2f}%\")\n",
        "print(f\"Error Rate: {error:.4f} or {error*100:.2f}%\")\n",
        "print(f\"Precision (cancer=yes): {precision:.4f} or {precision*100:.2f}%\")\n",
        "print(f\"Recall (cancer=yes): {recall:.4f} or {recall*100:.2f}%\")\n",
        "print(f\"F1 Score (cancer=yes): {f1_score:.4f} or {f1_score*100:.2f}%\")\n"
      ]
    },
    {
      "cell_type": "markdown",
      "metadata": {
        "id": "6b2OsPx4A3VI"
      },
      "source": [
        "## Part 2 - Slide 18"
      ]
    },
    {
      "cell_type": "markdown",
      "metadata": {
        "id": "z8Jr88UaA3VI"
      },
      "source": [
        "* Calculate\n",
        "  - Accuracy\n",
        "  - Error rate\n",
        "  - Precision\n",
        "  - Recall\n",
        "  - F1-score\n",
        "\n",
        "* For the following two classifiers\n",
        "  1. Risk is always High\n",
        "  2. 1-NN using Euclidean distance\n",
        "\n",
        "  - Use only the last three rows for test\n",
        "  - \"Positive\" class is High Risk\n",
        "\n",
        "![Credit score, Income, and Risk with the last three rows selected](https://github.com/ProfAvery/cpsc375-classwork/blob/main/images/metrics.png?raw=1)\n"
      ]
    },
    {
      "cell_type": "code",
      "execution_count": null,
      "metadata": {
        "id": "xE-QlEHtA3VJ",
        "colab": {
          "base_uri": "https://localhost:8080/"
        },
        "outputId": "fcc27842-f1af-4a99-b0a4-a783479d78db"
      },
      "outputs": [
        {
          "output_type": "execute_result",
          "data": {
            "text/plain": [
              "0.5"
            ]
          },
          "metadata": {},
          "execution_count": 5
        }
      ],
      "source": [
        "#1st classifier\n",
        "1 / 3, 2 / 3\n",
        "TP = 1; FN = 0; FP = 2; TN = 0\n",
        "TP / (TP + FP), TP / (TP + FN)\n",
        "(2 * (1/3) * 1) / ((1/3) + 1)"
      ]
    },
    {
      "cell_type": "code",
      "source": [
        "#2nd classifier\n",
        "import math\n",
        "neighbors = [\n",
        "    [600, 50000],\n",
        "    [650, 60000],\n",
        "    [800, 55000]\n",
        "]\n",
        "def distance(a,b):\n",
        "  return math.sqrt(sum([(x - y)**2 for x,y in zip(a,b)]))\n",
        "\n",
        "for example in [[550, 55000], [600, 50000], [800, 55000]]:\n",
        "  distances = [distance(example, neighbor) for neighbor in neighbors]\n",
        "  print(distances)\n",
        "for neighbor in neighbors:\n",
        "  print(distance([550, 55000], neighbors[0]))"
      ],
      "metadata": {
        "colab": {
          "base_uri": "https://localhost:8080/"
        },
        "id": "nTvb69PYZQk1",
        "outputId": "6fdbcc90-46c7-445c-e9f1-d3b0d7c88069"
      },
      "execution_count": null,
      "outputs": [
        {
          "output_type": "stream",
          "name": "stdout",
          "text": [
            "[5000.249993750313, 5000.999900019995, 250.0]\n",
            "[0.0, 10000.12499921876, 5003.998401278722]\n",
            "[5003.998401278722, 5002.249493977684, 0.0]\n",
            "5000.249993750313\n",
            "5000.249993750313\n",
            "5000.249993750313\n"
          ]
        }
      ]
    },
    {
      "cell_type": "markdown",
      "source": [
        "predictions: low, high, low\n",
        "\n",
        "labels: low, high, low\n",
        "\n",
        "Accuracy: 100%\n",
        "\n",
        "error rate: 0%\n",
        "\n",
        "precision: 100%\n",
        "\n",
        "recall: 100%\n",
        "\n",
        "f1: 100%"
      ],
      "metadata": {
        "id": "UJymDz82a_a4"
      }
    }
  ],
  "metadata": {
    "kernelspec": {
      "display_name": "murach",
      "language": "python",
      "name": "python3"
    },
    "language_info": {
      "codemirror_mode": {
        "name": "ipython",
        "version": 3
      },
      "file_extension": ".py",
      "mimetype": "text/x-python",
      "name": "python",
      "nbconvert_exporter": "python",
      "pygments_lexer": "ipython3",
      "version": "3.11.7"
    },
    "colab": {
      "provenance": [],
      "include_colab_link": true
    }
  },
  "nbformat": 4,
  "nbformat_minor": 0
}