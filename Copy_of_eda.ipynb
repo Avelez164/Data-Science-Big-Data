{
  "cells": [
    {
      "cell_type": "markdown",
      "metadata": {
        "id": "view-in-github",
        "colab_type": "text"
      },
      "source": [
        "<a href=\"https://colab.research.google.com/github/Avelez164/Data-Science-Big-Data/blob/main/Copy_of_eda.ipynb\" target=\"_parent\"><img src=\"https://colab.research.google.com/assets/colab-badge.svg\" alt=\"Open In Colab\"/></a>"
      ]
    },
    {
      "cell_type": "markdown",
      "metadata": {
        "id": "sGB36p2p0mKq"
      },
      "source": [
        "# CPSC 375 Classwork - Exploratory data analysis\n",
        "\n",
        "[![Open In Colab](https://colab.research.google.com/assets/colab-badge.svg)](https://colab.research.google.com/github/ProfAvery/cpsc375-classwork/blob/main/eda.ipynb)\n",
        "\n",
        "- *Manager*:\n",
        "- *Recorder*:\n",
        "- *Presenter*:\n",
        "- *Timekeeper*:"
      ]
    },
    {
      "cell_type": "code",
      "execution_count": null,
      "metadata": {
        "id": "xAqXCU2V0mKs",
        "colab": {
          "base_uri": "https://localhost:8080/"
        },
        "outputId": "ab127979-2f5b-4b04-eb19-6c904eb5122f"
      },
      "outputs": [
        {
          "output_type": "stream",
          "name": "stdout",
          "text": [
            "Collecting lets-plot\n",
            "  Downloading lets_plot-4.5.2-cp311-cp311-manylinux_2_17_x86_64.manylinux2014_x86_64.whl.metadata (11 kB)\n",
            "Collecting pypng (from lets-plot)\n",
            "  Downloading pypng-0.20220715.0-py3-none-any.whl.metadata (13 kB)\n",
            "Collecting palettable (from lets-plot)\n",
            "  Downloading palettable-3.3.3-py2.py3-none-any.whl.metadata (3.3 kB)\n",
            "Downloading lets_plot-4.5.2-cp311-cp311-manylinux_2_17_x86_64.manylinux2014_x86_64.whl (3.4 MB)\n",
            "\u001b[2K   \u001b[90m━━━━━━━━━━━━━━━━━━━━━━━━━━━━━━━━━━━━━━━━\u001b[0m \u001b[32m3.4/3.4 MB\u001b[0m \u001b[31m43.1 MB/s\u001b[0m eta \u001b[36m0:00:00\u001b[0m\n",
            "\u001b[?25hDownloading palettable-3.3.3-py2.py3-none-any.whl (332 kB)\n",
            "\u001b[2K   \u001b[90m━━━━━━━━━━━━━━━━━━━━━━━━━━━━━━━━━━━━━━━━\u001b[0m \u001b[32m332.3/332.3 kB\u001b[0m \u001b[31m21.1 MB/s\u001b[0m eta \u001b[36m0:00:00\u001b[0m\n",
            "\u001b[?25hDownloading pypng-0.20220715.0-py3-none-any.whl (58 kB)\n",
            "\u001b[2K   \u001b[90m━━━━━━━━━━━━━━━━━━━━━━━━━━━━━━━━━━━━━━━━\u001b[0m \u001b[32m58.1/58.1 kB\u001b[0m \u001b[31m4.7 MB/s\u001b[0m eta \u001b[36m0:00:00\u001b[0m\n",
            "\u001b[?25hInstalling collected packages: pypng, palettable, lets-plot\n",
            "Successfully installed lets-plot-4.5.2 palettable-3.3.3 pypng-0.20220715.0\n"
          ]
        }
      ],
      "source": [
        "%pip install lets-plot"
      ]
    },
    {
      "cell_type": "code",
      "execution_count": null,
      "metadata": {
        "id": "ULw1cCkS0mKt"
      },
      "outputs": [],
      "source": [
        "import seaborn as sns\n",
        "from lets_plot import *\n",
        "\n",
        "LetsPlot.setup_html()"
      ]
    },
    {
      "cell_type": "markdown",
      "metadata": {
        "id": "hOaOeG3H0mKu"
      },
      "source": [
        "## Part 1 - Slide 15"
      ]
    },
    {
      "cell_type": "code",
      "execution_count": null,
      "metadata": {
        "id": "7gPB-yss0mKu"
      },
      "outputs": [],
      "source": [
        "import statsmodels.api as sm\n",
        "\n",
        "iris_dataset = sm.datasets.get_rdataset(\"iris\")\n",
        "iris = iris_dataset.data"
      ]
    },
    {
      "cell_type": "markdown",
      "metadata": {
        "id": "mDpkAzMO0mKv"
      },
      "source": [
        "Consider the data *iris*\n",
        "\n",
        "1. Create a histogram of Sepal.Width\n"
      ]
    },
    {
      "cell_type": "code",
      "execution_count": null,
      "metadata": {
        "id": "dorVtBAi0mKw",
        "colab": {
          "base_uri": "https://localhost:8080/",
          "height": 800
        },
        "outputId": "2de3c7ab-5bb2-41b9-e61d-52e3259fed9d"
      },
      "outputs": [
        {
          "output_type": "execute_result",
          "data": {
            "text/plain": [
              "<lets_plot.plot.core.PlotSpec at 0x7d4af8c7b790>"
            ],
            "text/html": [
              "<html lang=\"en\">\n",
              "   <head>\n",
              "       <meta charset=\"UTF-8\">\n",
              "       <style> html, body { margin: 0; padding: 0; } </style>\n",
              "       <script type=\"text/javascript\" data-lets-plot-script=\"library\" src=\"https://cdn.jsdelivr.net/gh/JetBrains/lets-plot@v4.5.2/js-package/distr/lets-plot.min.js\"></script>\n",
              "   </head>\n",
              "   <body>\n",
              "          <div id=\"zt0Dyw\"></div>\n",
              "   <script type=\"text/javascript\" data-lets-plot-script=\"plot\">\n",
              "   \n",
              "   (function() {\n",
              "   // ----------\n",
              "   \n",
              "   var containerDiv = document.getElementById(\"zt0Dyw\");\n",
              "   var observer = new ResizeObserver(function(entries) {\n",
              "       for (let entry of entries) {\n",
              "           var width = containerDiv.clientWidth\n",
              "           if (entry.contentBoxSize && width > 0) {\n",
              "           \n",
              "               // Render plot\n",
              "               if (observer) {\n",
              "                   observer.disconnect();\n",
              "                   observer = null;\n",
              "               }\n",
              "\n",
              "               var plotSpec={\n",
              "\"data\":{\n",
              "},\n",
              "\"mapping\":{\n",
              "},\n",
              "\"data_meta\":{\n",
              "\"series_annotations\":[{\n",
              "\"type\":\"float\",\n",
              "\"column\":\"Sepal.Length\"\n",
              "},{\n",
              "\"type\":\"float\",\n",
              "\"column\":\"Sepal.Width\"\n",
              "},{\n",
              "\"type\":\"float\",\n",
              "\"column\":\"Petal.Length\"\n",
              "},{\n",
              "\"type\":\"float\",\n",
              "\"column\":\"Petal.Width\"\n",
              "},{\n",
              "\"type\":\"str\",\n",
              "\"column\":\"Species\"\n",
              "}]\n",
              "},\n",
              "\"facet\":{\n",
              "\"name\":\"wrap\",\n",
              "\"facets\":\"Species\",\n",
              "\"order\":1.0,\n",
              "\"dir\":\"h\"\n",
              "},\n",
              "\"kind\":\"plot\",\n",
              "\"scales\":[],\n",
              "\"layers\":[{\n",
              "\"geom\":\"histogram\",\n",
              "\"mapping\":{\n",
              "\"x\":\"Sepal.Width\"\n",
              "},\n",
              "\"data_meta\":{\n",
              "\"series_annotations\":[]\n",
              "},\n",
              "\"data\":{\n",
              "\"..count..\":[0.0,0.0,0.0,0.0,1.0,0.0,0.0,0.0,0.0,0.0,0.0,1.0,6.0,4.0,5.0,0.0,2.0,9.0,6.0,3.0,3.0,0.0,4.0,2.0,1.0,1.0,1.0,0.0,0.0,1.0,1.0,0.0,0.0,2.0,3.0,3.0,4.0,3.0,0.0,5.0,6.0,7.0,8.0,3.0,3.0,0.0,1.0,1.0,0.0,0.0,0.0,0.0,0.0,0.0,0.0,0.0,0.0,0.0,0.0,0.0,0.0,0.0,0.0,1.0,0.0,0.0,4.0,2.0,0.0,4.0,8.0,2.0,12.0,4.0,5.0,0.0,3.0,2.0,0.0,1.0,0.0,0.0,2.0,0.0,0.0,0.0,0.0,0.0,0.0,0.0],\n",
              "\"Sepal.Width\":[1.9858666666666667,2.0696,2.1533333333333333,2.2370666666666668,2.3208,2.404533333333333,2.488266666666667,2.572,2.6557333333333335,2.739466666666667,2.8232,2.906933333333334,2.990666666666667,3.0744000000000002,3.1581333333333337,3.2418666666666667,3.3256000000000006,3.4093333333333335,3.493066666666667,3.5768000000000004,3.6605333333333334,3.7442666666666673,3.8280000000000003,3.9117333333333337,3.995466666666667,4.0792,4.162933333333334,4.246666666666667,4.330400000000001,4.414133333333334,1.9858666666666667,2.0696,2.1533333333333333,2.2370666666666668,2.3208,2.404533333333333,2.488266666666667,2.572,2.6557333333333335,2.739466666666667,2.8232,2.906933333333334,2.990666666666667,3.0744000000000002,3.1581333333333337,3.2418666666666667,3.3256000000000006,3.4093333333333335,3.493066666666667,3.5768000000000004,3.6605333333333334,3.7442666666666673,3.8280000000000003,3.9117333333333337,3.995466666666667,4.0792,4.162933333333334,4.246666666666667,4.330400000000001,4.414133333333334,1.9858666666666667,2.0696,2.1533333333333333,2.2370666666666668,2.3208,2.404533333333333,2.488266666666667,2.572,2.6557333333333335,2.739466666666667,2.8232,2.906933333333334,2.990666666666667,3.0744000000000002,3.1581333333333337,3.2418666666666667,3.3256000000000006,3.4093333333333335,3.493066666666667,3.5768000000000004,3.6605333333333334,3.7442666666666673,3.8280000000000003,3.9117333333333337,3.995466666666667,4.0792,4.162933333333334,4.246666666666667,4.330400000000001,4.414133333333334],\n",
              "\"Species\":[\"setosa\",\"setosa\",\"setosa\",\"setosa\",\"setosa\",\"setosa\",\"setosa\",\"setosa\",\"setosa\",\"setosa\",\"setosa\",\"setosa\",\"setosa\",\"setosa\",\"setosa\",\"setosa\",\"setosa\",\"setosa\",\"setosa\",\"setosa\",\"setosa\",\"setosa\",\"setosa\",\"setosa\",\"setosa\",\"setosa\",\"setosa\",\"setosa\",\"setosa\",\"setosa\",\"versicolor\",\"versicolor\",\"versicolor\",\"versicolor\",\"versicolor\",\"versicolor\",\"versicolor\",\"versicolor\",\"versicolor\",\"versicolor\",\"versicolor\",\"versicolor\",\"versicolor\",\"versicolor\",\"versicolor\",\"versicolor\",\"versicolor\",\"versicolor\",\"versicolor\",\"versicolor\",\"versicolor\",\"versicolor\",\"versicolor\",\"versicolor\",\"versicolor\",\"versicolor\",\"versicolor\",\"versicolor\",\"versicolor\",\"versicolor\",\"virginica\",\"virginica\",\"virginica\",\"virginica\",\"virginica\",\"virginica\",\"virginica\",\"virginica\",\"virginica\",\"virginica\",\"virginica\",\"virginica\",\"virginica\",\"virginica\",\"virginica\",\"virginica\",\"virginica\",\"virginica\",\"virginica\",\"virginica\",\"virginica\",\"virginica\",\"virginica\",\"virginica\",\"virginica\",\"virginica\",\"virginica\",\"virginica\",\"virginica\",\"virginica\"]\n",
              "}\n",
              "}],\n",
              "\"metainfo_list\":[],\n",
              "\"spec_id\":\"1\"\n",
              "};\n",
              "       \n",
              "               var toolbar = null;\n",
              "               var plotContainer = containerDiv;               \n",
              "               \n",
              "               var options = {\n",
              "                   sizing: {\n",
              "                       width_mode: \"min\",\n",
              "                       height_mode: \"scaled\",\n",
              "                       width: width\n",
              "                   }\n",
              "               };\n",
              "               var fig = LetsPlot.buildPlotFromProcessedSpecs(plotSpec, -1, -1, plotContainer, options);\n",
              "               if (toolbar) {\n",
              "                 toolbar.bind(fig);\n",
              "               }\n",
              "               \n",
              "               break;\n",
              "           }\n",
              "       }\n",
              "   });\n",
              "   \n",
              "   observer.observe(containerDiv);\n",
              "   \n",
              "   // ----------\n",
              "   })();\n",
              "   \n",
              "   </script>\n",
              "   </body>\n",
              "</html>"
            ]
          },
          "metadata": {},
          "execution_count": 6
        }
      ],
      "source": [
        "(\n",
        "    ggplot(iris)\n",
        "    + geom_histogram(aes(x=\"Sepal.Width\"))\n",
        "    + facet_wrap('Species')\n",
        ")"
      ]
    },
    {
      "cell_type": "markdown",
      "metadata": {
        "id": "oOH70lZz0mKx"
      },
      "source": [
        "2. Try different numbers of bins"
      ]
    },
    {
      "cell_type": "code",
      "source": [
        "for nbin in range(10, 41, 10):\n",
        "  ggplot(iris) + geom_histogram(aes(x=\"Sepal.Width\"), bins=nbin)\n",
        "  sns.histplot(iris, x=\"Sepal.Width\", bins=nbin)"
      ],
      "metadata": {
        "colab": {
          "base_uri": "https://localhost:8080/",
          "height": 449
        },
        "id": "rH3MHPDV-EZe",
        "outputId": "9670a6ee-729f-4728-a687-b62ae2981d6a"
      },
      "execution_count": null,
      "outputs": [
        {
          "output_type": "display_data",
          "data": {
            "text/plain": [
              "<Figure size 640x480 with 1 Axes>"
            ],
            "image/png": "[encoded data removed]"
          },
          "metadata": {}
        }
      ]
    },
    {
      "cell_type": "code",
      "execution_count": null,
      "metadata": {
        "id": "eKAIKczI0mKy",
        "colab": {
          "base_uri": "https://localhost:8080/",
          "height": 400
        },
        "outputId": "0f14ba4a-ce1f-459d-eff4-937c25381aea"
      },
      "outputs": [
        {
          "output_type": "execute_result",
          "data": {
            "text/plain": [
              "<lets_plot.plot.core.PlotSpec at 0x7d4ae7db8bd0>"
            ],
            "text/html": [
              "<html lang=\"en\">\n",
              "   <head>\n",
              "       <meta charset=\"UTF-8\">\n",
              "       <style> html, body { margin: 0; padding: 0; } </style>\n",
              "       <script type=\"text/javascript\" data-lets-plot-script=\"library\" src=\"https://cdn.jsdelivr.net/gh/JetBrains/lets-plot@v4.5.2/js-package/distr/lets-plot.min.js\"></script>\n",
              "   </head>\n",
              "   <body>\n",
              "          <div id=\"3TBfFI\"></div>\n",
              "   <script type=\"text/javascript\" data-lets-plot-script=\"plot\">\n",
              "   \n",
              "   (function() {\n",
              "   // ----------\n",
              "   \n",
              "   var containerDiv = document.getElementById(\"3TBfFI\");\n",
              "   var observer = new ResizeObserver(function(entries) {\n",
              "       for (let entry of entries) {\n",
              "           var width = containerDiv.clientWidth\n",
              "           if (entry.contentBoxSize && width > 0) {\n",
              "           \n",
              "               // Render plot\n",
              "               if (observer) {\n",
              "                   observer.disconnect();\n",
              "                   observer = null;\n",
              "               }\n",
              "\n",
              "               var plotSpec={\n",
              "\"data\":{\n",
              "},\n",
              "\"mapping\":{\n",
              "},\n",
              "\"data_meta\":{\n",
              "\"series_annotations\":[{\n",
              "\"type\":\"float\",\n",
              "\"column\":\"Sepal.Length\"\n",
              "},{\n",
              "\"type\":\"float\",\n",
              "\"column\":\"Sepal.Width\"\n",
              "},{\n",
              "\"type\":\"float\",\n",
              "\"column\":\"Petal.Length\"\n",
              "},{\n",
              "\"type\":\"float\",\n",
              "\"column\":\"Petal.Width\"\n",
              "},{\n",
              "\"type\":\"str\",\n",
              "\"column\":\"Species\"\n",
              "}]\n",
              "},\n",
              "\"kind\":\"plot\",\n",
              "\"scales\":[],\n",
              "\"layers\":[{\n",
              "\"geom\":\"histogram\",\n",
              "\"mapping\":{\n",
              "\"x\":\"Sepal.Width\"\n",
              "},\n",
              "\"data_meta\":{\n",
              "},\n",
              "\"bins\":30.0,\n",
              "\"data\":{\n",
              "\"..count..\":[1.0,0.0,0.0,3.0,4.0,3.0,8.0,5.0,0.0,9.0,14.0,10.0,26.0,11.0,13.0,0.0,6.0,12.0,6.0,4.0,3.0,0.0,6.0,2.0,1.0,1.0,1.0,0.0,0.0,1.0],\n",
              "\"Sepal.Width\":[1.9858666666666667,2.0696,2.1533333333333333,2.2370666666666668,2.3208,2.404533333333333,2.488266666666667,2.572,2.6557333333333335,2.739466666666667,2.8232,2.906933333333334,2.990666666666667,3.0744000000000002,3.1581333333333337,3.2418666666666667,3.3256000000000006,3.4093333333333335,3.493066666666667,3.5768000000000004,3.6605333333333334,3.7442666666666673,3.8280000000000003,3.9117333333333337,3.995466666666667,4.0792,4.162933333333334,4.246666666666667,4.330400000000001,4.414133333333334]\n",
              "}\n",
              "}],\n",
              "\"metainfo_list\":[],\n",
              "\"spec_id\":\"2\"\n",
              "};\n",
              "       \n",
              "               var toolbar = null;\n",
              "               var plotContainer = containerDiv;               \n",
              "               \n",
              "               var options = {\n",
              "                   sizing: {\n",
              "                       width_mode: \"min\",\n",
              "                       height_mode: \"scaled\",\n",
              "                       width: width\n",
              "                   }\n",
              "               };\n",
              "               var fig = LetsPlot.buildPlotFromProcessedSpecs(plotSpec, -1, -1, plotContainer, options);\n",
              "               if (toolbar) {\n",
              "                 toolbar.bind(fig);\n",
              "               }\n",
              "               \n",
              "               break;\n",
              "           }\n",
              "       }\n",
              "   });\n",
              "   \n",
              "   observer.observe(containerDiv);\n",
              "   \n",
              "   // ----------\n",
              "   })();\n",
              "   \n",
              "   </script>\n",
              "   </body>\n",
              "</html>"
            ]
          },
          "metadata": {},
          "execution_count": 8
        }
      ],
      "source": [
        "(\n",
        "    ggplot(iris)\n",
        "    + geom_histogram(aes(x=\"Sepal.Width\"), bins=30)\n",
        ")"
      ]
    },
    {
      "cell_type": "markdown",
      "metadata": {
        "id": "BOhAyppN0mKy"
      },
      "source": [
        "## Part 2 - Slide 28"
      ]
    },
    {
      "cell_type": "code",
      "source": [
        "import numpy as np\n",
        "import statistics\n",
        "nums = np.array(sorted([36, 42, 100, 28, 17, 12, 9, 4, 1]))\n",
        "\n",
        "\n",
        "q1, median, q3 = statistics.quantiles(nums)\n",
        "iqr = q3 - q1\n",
        "lower_fence = q1 - (1.5 * iqr)\n",
        "upper_fence = q3 + (1.5 * iqr)\n",
        "outliers = nums[(nums < lower_fence) | (nums > upper_fence)]\n",
        "inside_fences = nums[(nums >= lower_fence) & (nums <= upper_fence)]\n",
        "lower_whisker = inside_fences[0]\n",
        "upper_whisker = inside_fences[-1]\n",
        "\n",
        "print(nums)\n",
        "lower_fence, lower_whisker, q1, median, q3 , upper_whisker, upper_fence, outliers\n"
      ],
      "metadata": {
        "colab": {
          "base_uri": "https://localhost:8080/"
        },
        "id": "BnsOLIUhIGVF",
        "outputId": "b2ceb85c-1e39-459c-a5d4-13ec757d3921"
      },
      "execution_count": null,
      "outputs": [
        {
          "output_type": "stream",
          "name": "stdout",
          "text": [
            "[  1   4   9  12  17  28  36  42 100]\n"
          ]
        },
        {
          "output_type": "execute_result",
          "data": {
            "text/plain": [
              "(-42.25, 1, 6.5, 17.0, 39.0, 42, 87.75, array([100]))"
            ]
          },
          "metadata": {},
          "execution_count": 24
        }
      ]
    },
    {
      "cell_type": "code",
      "source": [
        "import matplotlib.pyplot as plt\n",
        "import pandas as pd\n",
        "s = pd.Series(nums)\n",
        "\n",
        "df = pd.DataFrame(dict(nums=nums))\n",
        "\n",
        "s.plot.box()\n",
        "plt.show()\n",
        "\n",
        "sns.boxplot(df, y='nums')\n",
        "\n",
        "(\n",
        "    ggplot(df)\n",
        "    + geom_boxplot(aes(y='nums'))\n",
        ")"
      ],
      "metadata": {
        "colab": {
          "base_uri": "https://localhost:8080/",
          "height": 1000
        },
        "id": "1A2D6IyuNcxo",
        "outputId": "1224d93a-dd9b-4c01-e8ac-2157df2631a9"
      },
      "execution_count": null,
      "outputs": [
        {
          "output_type": "display_data",
          "data": {
            "text/plain": [
              "<Figure size 640x480 with 1 Axes>"
            ],
            "image/png": "[encoded data removed]"
          },
          "metadata": {}
        },
        {
          "output_type": "execute_result",
          "data": {
            "text/plain": [
              "<lets_plot.plot.core.PlotSpec at 0x7d4ae436bfd0>"
            ],
            "text/html": [
              "<html lang=\"en\">\n",
              "   <head>\n",
              "       <meta charset=\"UTF-8\">\n",
              "       <style> html, body { margin: 0; padding: 0; } </style>\n",
              "       <script type=\"text/javascript\" data-lets-plot-script=\"library\" src=\"https://cdn.jsdelivr.net/gh/JetBrains/lets-plot@v4.5.2/js-package/distr/lets-plot.min.js\"></script>\n",
              "   </head>\n",
              "   <body>\n",
              "          <div id=\"kTno9e\"></div>\n",
              "   <script type=\"text/javascript\" data-lets-plot-script=\"plot\">\n",
              "   \n",
              "   (function() {\n",
              "   // ----------\n",
              "   \n",
              "   var containerDiv = document.getElementById(\"kTno9e\");\n",
              "   var observer = new ResizeObserver(function(entries) {\n",
              "       for (let entry of entries) {\n",
              "           var width = containerDiv.clientWidth\n",
              "           if (entry.contentBoxSize && width > 0) {\n",
              "           \n",
              "               // Render plot\n",
              "               if (observer) {\n",
              "                   observer.disconnect();\n",
              "                   observer = null;\n",
              "               }\n",
              "\n",
              "               var plotSpec={\n",
              "\"data\":{\n",
              "},\n",
              "\"mapping\":{\n",
              "},\n",
              "\"data_meta\":{\n",
              "\"series_annotations\":[{\n",
              "\"type\":\"int\",\n",
              "\"column\":\"nums\"\n",
              "}]\n",
              "},\n",
              "\"kind\":\"plot\",\n",
              "\"scales\":[],\n",
              "\"layers\":[{\n",
              "\"geom\":\"boxplot\",\n",
              "\"mapping\":{\n",
              "\"y\":\"nums\"\n",
              "},\n",
              "\"data_meta\":{\n",
              "},\n",
              "\"data\":{\n",
              "\"..x..\":[0.0],\n",
              "\"..middle..\":[17.0],\n",
              "\"..lower..\":[9.0],\n",
              "\"..upper..\":[36.0],\n",
              "\"..ymin..\":[1.0],\n",
              "\"..ymax..\":[42.0]\n",
              "}\n",
              "},{\n",
              "\"geom\":\"point\",\n",
              "\"stat\":\"boxplot_outlier\",\n",
              "\"mapping\":{\n",
              "\"y\":\"nums\"\n",
              "},\n",
              "\"show_legend\":false,\n",
              "\"data_meta\":{\n",
              "},\n",
              "\"data\":{\n",
              "\"..x..\":[0.0],\n",
              "\"..middle..\":[17.0],\n",
              "\"..lower..\":[9.0],\n",
              "\"..upper..\":[36.0],\n",
              "\"..ymin..\":[1.0],\n",
              "\"..ymax..\":[42.0],\n",
              "\"nums\":[100.0]\n",
              "}\n",
              "}],\n",
              "\"metainfo_list\":[],\n",
              "\"spec_id\":\"4\"\n",
              "};\n",
              "       \n",
              "               var toolbar = null;\n",
              "               var plotContainer = containerDiv;               \n",
              "               \n",
              "               var options = {\n",
              "                   sizing: {\n",
              "                       width_mode: \"min\",\n",
              "                       height_mode: \"scaled\",\n",
              "                       width: width\n",
              "                   }\n",
              "               };\n",
              "               var fig = LetsPlot.buildPlotFromProcessedSpecs(plotSpec, -1, -1, plotContainer, options);\n",
              "               if (toolbar) {\n",
              "                 toolbar.bind(fig);\n",
              "               }\n",
              "               \n",
              "               break;\n",
              "           }\n",
              "       }\n",
              "   });\n",
              "   \n",
              "   observer.observe(containerDiv);\n",
              "   \n",
              "   // ----------\n",
              "   })();\n",
              "   \n",
              "   </script>\n",
              "   </body>\n",
              "</html>"
            ]
          },
          "metadata": {},
          "execution_count": 27
        },
        {
          "output_type": "display_data",
          "data": {
            "text/plain": [
              "<Figure size 640x480 with 1 Axes>"
            ],
            "image/png": "[encoded data removed]"
          },
          "metadata": {}
        }
      ]
    },
    {
      "cell_type": "markdown",
      "metadata": {
        "id": "G9wuOwQQ0mKz"
      },
      "source": [
        "* Construct a boxplot of the *Ozone* column of the *airquality* dataset"
      ]
    },
    {
      "cell_type": "code",
      "execution_count": null,
      "metadata": {
        "id": "d-CAUP7r0mKz"
      },
      "outputs": [],
      "source": [
        "airquality_dataset = sm.datasets.get_rdataset(\"airquality\")\n",
        "airquality = airquality_dataset.data\n",
        "\n"
      ]
    },
    {
      "cell_type": "markdown",
      "metadata": {
        "id": "uetbHemO0mK0"
      },
      "source": [
        "Verify that the outliers match what you get using the IQR \"rule-of-thumb\"\n",
        "\n",
        "*Hint*: use `scipy.stats.iqr` and/or `df.quantile` functions"
      ]
    },
    {
      "cell_type": "code",
      "execution_count": null,
      "metadata": {
        "id": "0r4wQ8cy0mK0",
        "colab": {
          "base_uri": "https://localhost:8080/"
        },
        "outputId": "3917b578-ce47-427b-bfa0-6e6d89b988be"
      },
      "outputs": [
        {
          "output_type": "execute_result",
          "data": {
            "text/plain": [
              "(-13.5, 94.75)"
            ]
          },
          "metadata": {},
          "execution_count": 39
        }
      ],
      "source": [
        "import scipy\n",
        "scipy.stats.iqr(airquality.Ozone, nan_policy='omit')\n",
        "\n",
        "airquality.Ozone.quantile([0.25, 0.75])\n",
        "\n",
        "18 - (1.5*iqr), 63.25 + (1.5*iqr)"
      ]
    },
    {
      "cell_type": "markdown",
      "metadata": {
        "id": "odNnSqCI0mK0"
      },
      "source": [
        "* Construct a boxplot of these 9 values\n",
        "  \n",
        "  8,11,17,36,25,24,1,20,64"
      ]
    },
    {
      "cell_type": "code",
      "execution_count": null,
      "metadata": {
        "id": "E7VRalJj0mK1",
        "colab": {
          "base_uri": "https://localhost:8080/",
          "height": 1000
        },
        "outputId": "6108b22a-d308-441b-8e6c-f7ab9bd20e10"
      },
      "outputs": [
        {
          "output_type": "stream",
          "name": "stdout",
          "text": [
            "[ 1  8 11 17 20 24 25 36 64]\n"
          ]
        },
        {
          "output_type": "display_data",
          "data": {
            "text/plain": [
              "<Figure size 640x480 with 1 Axes>"
            ],
            "image/png": "[encoded data removed]"
          },
          "metadata": {}
        },
        {
          "output_type": "execute_result",
          "data": {
            "text/plain": [
              "<lets_plot.plot.core.PlotSpec at 0x7d4aeafff550>"
            ],
            "text/html": [
              "<html lang=\"en\">\n",
              "   <head>\n",
              "       <meta charset=\"UTF-8\">\n",
              "       <style> html, body { margin: 0; padding: 0; } </style>\n",
              "       <script type=\"text/javascript\" data-lets-plot-script=\"library\" src=\"https://cdn.jsdelivr.net/gh/JetBrains/lets-plot@v4.5.2/js-package/distr/lets-plot.min.js\"></script>\n",
              "   </head>\n",
              "   <body>\n",
              "          <div id=\"E1HuFp\"></div>\n",
              "   <script type=\"text/javascript\" data-lets-plot-script=\"plot\">\n",
              "   \n",
              "   (function() {\n",
              "   // ----------\n",
              "   \n",
              "   var containerDiv = document.getElementById(\"E1HuFp\");\n",
              "   var observer = new ResizeObserver(function(entries) {\n",
              "       for (let entry of entries) {\n",
              "           var width = containerDiv.clientWidth\n",
              "           if (entry.contentBoxSize && width > 0) {\n",
              "           \n",
              "               // Render plot\n",
              "               if (observer) {\n",
              "                   observer.disconnect();\n",
              "                   observer = null;\n",
              "               }\n",
              "\n",
              "               var plotSpec={\n",
              "\"data\":{\n",
              "},\n",
              "\"mapping\":{\n",
              "},\n",
              "\"data_meta\":{\n",
              "\"series_annotations\":[{\n",
              "\"type\":\"int\",\n",
              "\"column\":\"nums\"\n",
              "}]\n",
              "},\n",
              "\"kind\":\"plot\",\n",
              "\"scales\":[],\n",
              "\"layers\":[{\n",
              "\"geom\":\"boxplot\",\n",
              "\"mapping\":{\n",
              "\"y\":\"nums\"\n",
              "},\n",
              "\"data_meta\":{\n",
              "},\n",
              "\"data\":{\n",
              "\"..x..\":[0.0],\n",
              "\"..middle..\":[20.0],\n",
              "\"..lower..\":[11.0],\n",
              "\"..upper..\":[25.0],\n",
              "\"..ymin..\":[1.0],\n",
              "\"..ymax..\":[36.0]\n",
              "}\n",
              "},{\n",
              "\"geom\":\"point\",\n",
              "\"stat\":\"boxplot_outlier\",\n",
              "\"mapping\":{\n",
              "\"y\":\"nums\"\n",
              "},\n",
              "\"show_legend\":false,\n",
              "\"data_meta\":{\n",
              "},\n",
              "\"data\":{\n",
              "\"..x..\":[0.0],\n",
              "\"..middle..\":[20.0],\n",
              "\"..lower..\":[11.0],\n",
              "\"..upper..\":[25.0],\n",
              "\"..ymin..\":[1.0],\n",
              "\"..ymax..\":[36.0],\n",
              "\"nums\":[64.0]\n",
              "}\n",
              "}],\n",
              "\"metainfo_list\":[],\n",
              "\"spec_id\":\"6\"\n",
              "};\n",
              "       \n",
              "               var toolbar = null;\n",
              "               var plotContainer = containerDiv;               \n",
              "               \n",
              "               var options = {\n",
              "                   sizing: {\n",
              "                       width_mode: \"min\",\n",
              "                       height_mode: \"scaled\",\n",
              "                       width: width\n",
              "                   }\n",
              "               };\n",
              "               var fig = LetsPlot.buildPlotFromProcessedSpecs(plotSpec, -1, -1, plotContainer, options);\n",
              "               if (toolbar) {\n",
              "                 toolbar.bind(fig);\n",
              "               }\n",
              "               \n",
              "               break;\n",
              "           }\n",
              "       }\n",
              "   });\n",
              "   \n",
              "   observer.observe(containerDiv);\n",
              "   \n",
              "   // ----------\n",
              "   })();\n",
              "   \n",
              "   </script>\n",
              "   </body>\n",
              "</html>"
            ]
          },
          "metadata": {},
          "execution_count": 32
        },
        {
          "output_type": "display_data",
          "data": {
            "text/plain": [
              "<Figure size 640x480 with 1 Axes>"
            ],
            "image/png": "[encoded data removed]"
          },
          "metadata": {}
        }
      ],
      "source": [
        "import numpy as np\n",
        "import statistics\n",
        "nums = np.array(sorted([8,11,17,36,25,24,1,20,64]))\n",
        "\n",
        "\n",
        "q1, median, q3 = statistics.quantiles(nums)\n",
        "iqr = q3 - q1\n",
        "lower_fence = q1 - (1.5 * iqr)\n",
        "upper_fence = q3 + (1.5 * iqr)\n",
        "outliers = nums[(nums < lower_fence) | (nums > upper_fence)]\n",
        "inside_fences = nums[(nums >= lower_fence) & (nums <= upper_fence)]\n",
        "lower_whisker = inside_fences[0]\n",
        "upper_whisker = inside_fences[-1]\n",
        "\n",
        "print(nums)\n",
        "lower_fence, lower_whisker, q1, median, q3 , upper_whisker, upper_fence, outliers\n",
        "\n",
        "import matplotlib.pyplot as plt\n",
        "import pandas as pd\n",
        "s = pd.Series(nums)\n",
        "\n",
        "df = pd.DataFrame(dict(nums=nums))\n",
        "\n",
        "s.plot.box()\n",
        "plt.show()\n",
        "\n",
        "sns.boxplot(df, y='nums')\n",
        "\n",
        "(\n",
        "    ggplot(df)\n",
        "    + geom_boxplot(aes(y='nums'))\n",
        ")"
      ]
    },
    {
      "cell_type": "markdown",
      "metadata": {
        "id": "fnGSzGup0mK1"
      },
      "source": [
        "## Part 3 - Slide 30"
      ]
    },
    {
      "cell_type": "markdown",
      "metadata": {
        "id": "eBXSJqlQ0mK1"
      },
      "source": [
        "Explore the *airquality* dataset\n",
        "\n",
        " * How many variables, size of the data, …\n",
        "    - Is this Big Data?\n",
        "   "
      ]
    },
    {
      "cell_type": "code",
      "execution_count": null,
      "metadata": {
        "id": "HNn3F-9B0mK2",
        "colab": {
          "base_uri": "https://localhost:8080/"
        },
        "outputId": "8b23901c-66ec-4442-86c7-3cc387bc3c9a"
      },
      "outputs": [
        {
          "output_type": "execute_result",
          "data": {
            "text/plain": [
              "(153, 6)"
            ]
          },
          "metadata": {},
          "execution_count": 47
        }
      ],
      "source": [
        "airquality.shape"
      ]
    },
    {
      "cell_type": "markdown",
      "metadata": {
        "id": "jX7qvPhm0mK2"
      },
      "source": [
        " * Summary statistics\n"
      ]
    },
    {
      "cell_type": "code",
      "execution_count": null,
      "metadata": {
        "id": "joZfRM9X0mK2",
        "colab": {
          "base_uri": "https://localhost:8080/",
          "height": 237
        },
        "outputId": "eea22360-1492-48b5-f31c-41df91ca9e3c"
      },
      "outputs": [
        {
          "output_type": "execute_result",
          "data": {
            "text/plain": [
              "         count        mean        std   min     25%    50%     75%    max\n",
              "Ozone    116.0   42.129310  32.987885   1.0   18.00   31.5   63.25  168.0\n",
              "Solar.R  146.0  185.931507  90.058422   7.0  115.75  205.0  258.75  334.0\n",
              "Wind     153.0    9.957516   3.523001   1.7    7.40    9.7   11.50   20.7\n",
              "Temp     153.0   77.882353   9.465270  56.0   72.00   79.0   85.00   97.0\n",
              "Month    153.0    6.993464   1.416522   5.0    6.00    7.0    8.00    9.0\n",
              "Day      153.0   15.803922   8.864520   1.0    8.00   16.0   23.00   31.0"
            ],
            "text/html": [
              "\n",
              "  <div id=\"df-c73e9ef2-7c4a-439c-8e2f-8a6665f4d6fc\" class=\"colab-df-container\">\n",
              "    <div>\n",
              "<style scoped>\n",
              "    .dataframe tbody tr th:only-of-type {\n",
              "        vertical-align: middle;\n",
              "    }\n",
              "\n",
              "    .dataframe tbody tr th {\n",
              "        vertical-align: top;\n",
              "    }\n",
              "\n",
              "    .dataframe thead th {\n",
              "        text-align: right;\n",
              "    }\n",
              "</style>\n",
              "<table border=\"1\" class=\"dataframe\">\n",
              "  <thead>\n",
              "    <tr style=\"text-align: right;\">\n",
              "      <th></th>\n",
              "      <th>count</th>\n",
              "      <th>mean</th>\n",
              "      <th>std</th>\n",
              "      <th>min</th>\n",
              "      <th>25%</th>\n",
              "      <th>50%</th>\n",
              "      <th>75%</th>\n",
              "      <th>max</th>\n",
              "    </tr>\n",
              "  </thead>\n",
              "  <tbody>\n",
              "    <tr>\n",
              "      <th>Ozone</th>\n",
              "      <td>116.0</td>\n",
              "      <td>42.129310</td>\n",
              "      <td>32.987885</td>\n",
              "      <td>1.0</td>\n",
              "      <td>18.00</td>\n",
              "      <td>31.5</td>\n",
              "      <td>63.25</td>\n",
              "      <td>168.0</td>\n",
              "    </tr>\n",
              "    <tr>\n",
              "      <th>Solar.R</th>\n",
              "      <td>146.0</td>\n",
              "      <td>185.931507</td>\n",
              "      <td>90.058422</td>\n",
              "      <td>7.0</td>\n",
              "      <td>115.75</td>\n",
              "      <td>205.0</td>\n",
              "      <td>258.75</td>\n",
              "      <td>334.0</td>\n",
              "    </tr>\n",
              "    <tr>\n",
              "      <th>Wind</th>\n",
              "      <td>153.0</td>\n",
              "      <td>9.957516</td>\n",
              "      <td>3.523001</td>\n",
              "      <td>1.7</td>\n",
              "      <td>7.40</td>\n",
              "      <td>9.7</td>\n",
              "      <td>11.50</td>\n",
              "      <td>20.7</td>\n",
              "    </tr>\n",
              "    <tr>\n",
              "      <th>Temp</th>\n",
              "      <td>153.0</td>\n",
              "      <td>77.882353</td>\n",
              "      <td>9.465270</td>\n",
              "      <td>56.0</td>\n",
              "      <td>72.00</td>\n",
              "      <td>79.0</td>\n",
              "      <td>85.00</td>\n",
              "      <td>97.0</td>\n",
              "    </tr>\n",
              "    <tr>\n",
              "      <th>Month</th>\n",
              "      <td>153.0</td>\n",
              "      <td>6.993464</td>\n",
              "      <td>1.416522</td>\n",
              "      <td>5.0</td>\n",
              "      <td>6.00</td>\n",
              "      <td>7.0</td>\n",
              "      <td>8.00</td>\n",
              "      <td>9.0</td>\n",
              "    </tr>\n",
              "    <tr>\n",
              "      <th>Day</th>\n",
              "      <td>153.0</td>\n",
              "      <td>15.803922</td>\n",
              "      <td>8.864520</td>\n",
              "      <td>1.0</td>\n",
              "      <td>8.00</td>\n",
              "      <td>16.0</td>\n",
              "      <td>23.00</td>\n",
              "      <td>31.0</td>\n",
              "    </tr>\n",
              "  </tbody>\n",
              "</table>\n",
              "</div>\n",
              "    <div class=\"colab-df-buttons\">\n",
              "\n",
              "  <div class=\"colab-df-container\">\n",
              "    <button class=\"colab-df-convert\" onclick=\"convertToInteractive('df-c73e9ef2-7c4a-439c-8e2f-8a6665f4d6fc')\"\n",
              "            title=\"Convert this dataframe to an interactive table.\"\n",
              "            style=\"display:none;\">\n",
              "\n",
              "  <svg xmlns=\"http://www.w3.org/2000/svg\" height=\"24px\" viewBox=\"0 -960 960 960\">\n",
              "    <path d=\"M120-120v-720h720v720H120Zm60-500h600v-160H180v160Zm220 220h160v-160H400v160Zm0 220h160v-160H400v160ZM180-400h160v-160H180v160Zm440 0h160v-160H620v160ZM180-180h160v-160H180v160Zm440 0h160v-160H620v160Z\"/>\n",
              "  </svg>\n",
              "    </button>\n",
              "\n",
              "  <style>\n",
              "    .colab-df-container {\n",
              "      display:flex;\n",
              "      gap: 12px;\n",
              "    }\n",
              "\n",
              "    .colab-df-convert {\n",
              "      background-color: #E8F0FE;\n",
              "      border: none;\n",
              "      border-radius: 50%;\n",
              "      cursor: pointer;\n",
              "      display: none;\n",
              "      fill: #1967D2;\n",
              "      height: 32px;\n",
              "      padding: 0 0 0 0;\n",
              "      width: 32px;\n",
              "    }\n",
              "\n",
              "    .colab-df-convert:hover {\n",
              "      background-color: #E2EBFA;\n",
              "      box-shadow: 0px 1px 2px rgba(60, 64, 67, 0.3), 0px 1px 3px 1px rgba(60, 64, 67, 0.15);\n",
              "      fill: #174EA6;\n",
              "    }\n",
              "\n",
              "    .colab-df-buttons div {\n",
              "      margin-bottom: 4px;\n",
              "    }\n",
              "\n",
              "    [theme=dark] .colab-df-convert {\n",
              "      background-color: #3B4455;\n",
              "      fill: #D2E3FC;\n",
              "    }\n",
              "\n",
              "    [theme=dark] .colab-df-convert:hover {\n",
              "      background-color: #434B5C;\n",
              "      box-shadow: 0px 1px 3px 1px rgba(0, 0, 0, 0.15);\n",
              "      filter: drop-shadow(0px 1px 2px rgba(0, 0, 0, 0.3));\n",
              "      fill: #FFFFFF;\n",
              "    }\n",
              "  </style>\n",
              "\n",
              "    <script>\n",
              "      const buttonEl =\n",
              "        document.querySelector('#df-c73e9ef2-7c4a-439c-8e2f-8a6665f4d6fc button.colab-df-convert');\n",
              "      buttonEl.style.display =\n",
              "        google.colab.kernel.accessAllowed ? 'block' : 'none';\n",
              "\n",
              "      async function convertToInteractive(key) {\n",
              "        const element = document.querySelector('#df-c73e9ef2-7c4a-439c-8e2f-8a6665f4d6fc');\n",
              "        const dataTable =\n",
              "          await google.colab.kernel.invokeFunction('convertToInteractive',\n",
              "                                                    [key], {});\n",
              "        if (!dataTable) return;\n",
              "\n",
              "        const docLinkHtml = 'Like what you see? Visit the ' +\n",
              "          '<a target=\"_blank\" href=https://colab.research.google.com/notebooks/data_table.ipynb>data table notebook</a>'\n",
              "          + ' to learn more about interactive tables.';\n",
              "        element.innerHTML = '';\n",
              "        dataTable['output_type'] = 'display_data';\n",
              "        await google.colab.output.renderOutput(dataTable, element);\n",
              "        const docLink = document.createElement('div');\n",
              "        docLink.innerHTML = docLinkHtml;\n",
              "        element.appendChild(docLink);\n",
              "      }\n",
              "    </script>\n",
              "  </div>\n",
              "\n",
              "\n",
              "<div id=\"df-ec58cbb4-1d88-4e94-8171-f5c77927aadc\">\n",
              "  <button class=\"colab-df-quickchart\" onclick=\"quickchart('df-ec58cbb4-1d88-4e94-8171-f5c77927aadc')\"\n",
              "            title=\"Suggest charts\"\n",
              "            style=\"display:none;\">\n",
              "\n",
              "<svg xmlns=\"http://www.w3.org/2000/svg\" height=\"24px\"viewBox=\"0 0 24 24\"\n",
              "     width=\"24px\">\n",
              "    <g>\n",
              "        <path d=\"M19 3H5c-1.1 0-2 .9-2 2v14c0 1.1.9 2 2 2h14c1.1 0 2-.9 2-2V5c0-1.1-.9-2-2-2zM9 17H7v-7h2v7zm4 0h-2V7h2v10zm4 0h-2v-4h2v4z\"/>\n",
              "    </g>\n",
              "</svg>\n",
              "  </button>\n",
              "\n",
              "<style>\n",
              "  .colab-df-quickchart {\n",
              "      --bg-color: #E8F0FE;\n",
              "      --fill-color: #1967D2;\n",
              "      --hover-bg-color: #E2EBFA;\n",
              "      --hover-fill-color: #174EA6;\n",
              "      --disabled-fill-color: #AAA;\n",
              "      --disabled-bg-color: #DDD;\n",
              "  }\n",
              "\n",
              "  [theme=dark] .colab-df-quickchart {\n",
              "      --bg-color: #3B4455;\n",
              "      --fill-color: #D2E3FC;\n",
              "      --hover-bg-color: #434B5C;\n",
              "      --hover-fill-color: #FFFFFF;\n",
              "      --disabled-bg-color: #3B4455;\n",
              "      --disabled-fill-color: #666;\n",
              "  }\n",
              "\n",
              "  .colab-df-quickchart {\n",
              "    background-color: var(--bg-color);\n",
              "    border: none;\n",
              "    border-radius: 50%;\n",
              "    cursor: pointer;\n",
              "    display: none;\n",
              "    fill: var(--fill-color);\n",
              "    height: 32px;\n",
              "    padding: 0;\n",
              "    width: 32px;\n",
              "  }\n",
              "\n",
              "  .colab-df-quickchart:hover {\n",
              "    background-color: var(--hover-bg-color);\n",
              "    box-shadow: 0 1px 2px rgba(60, 64, 67, 0.3), 0 1px 3px 1px rgba(60, 64, 67, 0.15);\n",
              "    fill: var(--button-hover-fill-color);\n",
              "  }\n",
              "\n",
              "  .colab-df-quickchart-complete:disabled,\n",
              "  .colab-df-quickchart-complete:disabled:hover {\n",
              "    background-color: var(--disabled-bg-color);\n",
              "    fill: var(--disabled-fill-color);\n",
              "    box-shadow: none;\n",
              "  }\n",
              "\n",
              "  .colab-df-spinner {\n",
              "    border: 2px solid var(--fill-color);\n",
              "    border-color: transparent;\n",
              "    border-bottom-color: var(--fill-color);\n",
              "    animation:\n",
              "      spin 1s steps(1) infinite;\n",
              "  }\n",
              "\n",
              "  @keyframes spin {\n",
              "    0% {\n",
              "      border-color: transparent;\n",
              "      border-bottom-color: var(--fill-color);\n",
              "      border-left-color: var(--fill-color);\n",
              "    }\n",
              "    20% {\n",
              "      border-color: transparent;\n",
              "      border-left-color: var(--fill-color);\n",
              "      border-top-color: var(--fill-color);\n",
              "    }\n",
              "    30% {\n",
              "      border-color: transparent;\n",
              "      border-left-color: var(--fill-color);\n",
              "      border-top-color: var(--fill-color);\n",
              "      border-right-color: var(--fill-color);\n",
              "    }\n",
              "    40% {\n",
              "      border-color: transparent;\n",
              "      border-right-color: var(--fill-color);\n",
              "      border-top-color: var(--fill-color);\n",
              "    }\n",
              "    60% {\n",
              "      border-color: transparent;\n",
              "      border-right-color: var(--fill-color);\n",
              "    }\n",
              "    80% {\n",
              "      border-color: transparent;\n",
              "      border-right-color: var(--fill-color);\n",
              "      border-bottom-color: var(--fill-color);\n",
              "    }\n",
              "    90% {\n",
              "      border-color: transparent;\n",
              "      border-bottom-color: var(--fill-color);\n",
              "    }\n",
              "  }\n",
              "</style>\n",
              "\n",
              "  <script>\n",
              "    async function quickchart(key) {\n",
              "      const quickchartButtonEl =\n",
              "        document.querySelector('#' + key + ' button');\n",
              "      quickchartButtonEl.disabled = true;  // To prevent multiple clicks.\n",
              "      quickchartButtonEl.classList.add('colab-df-spinner');\n",
              "      try {\n",
              "        const charts = await google.colab.kernel.invokeFunction(\n",
              "            'suggestCharts', [key], {});\n",
              "      } catch (error) {\n",
              "        console.error('Error during call to suggestCharts:', error);\n",
              "      }\n",
              "      quickchartButtonEl.classList.remove('colab-df-spinner');\n",
              "      quickchartButtonEl.classList.add('colab-df-quickchart-complete');\n",
              "    }\n",
              "    (() => {\n",
              "      let quickchartButtonEl =\n",
              "        document.querySelector('#df-ec58cbb4-1d88-4e94-8171-f5c77927aadc button');\n",
              "      quickchartButtonEl.style.display =\n",
              "        google.colab.kernel.accessAllowed ? 'block' : 'none';\n",
              "    })();\n",
              "  </script>\n",
              "</div>\n",
              "\n",
              "    </div>\n",
              "  </div>\n"
            ],
            "application/vnd.google.colaboratory.intrinsic+json": {
              "type": "dataframe",
              "summary": "{\n  \"name\": \"airquality\",\n  \"rows\": 6,\n  \"fields\": [\n    {\n      \"column\": \"count\",\n      \"properties\": {\n        \"dtype\": \"number\",\n        \"std\": 14.800900873482894,\n        \"min\": 116.0,\n        \"max\": 153.0,\n        \"num_unique_values\": 3,\n        \"samples\": [\n          116.0,\n          146.0,\n          153.0\n        ],\n        \"semantic_type\": \"\",\n        \"description\": \"\"\n      }\n    },\n    {\n      \"column\": \"mean\",\n      \"properties\": {\n        \"dtype\": \"number\",\n        \"std\": 68.83239382271817,\n        \"min\": 6.993464052287582,\n        \"max\": 185.93150684931507,\n        \"num_unique_values\": 6,\n        \"samples\": [\n          42.12931034482759,\n          185.93150684931507,\n          15.803921568627452\n        ],\n        \"semantic_type\": \"\",\n        \"description\": \"\"\n      }\n    },\n    {\n      \"column\": \"std\",\n      \"properties\": {\n        \"dtype\": \"number\",\n        \"std\": 34.097699599444056,\n        \"min\": 1.4165224840123145,\n        \"max\": 90.05842222838169,\n        \"num_unique_values\": 6,\n        \"samples\": [\n          32.987884514433944,\n          90.05842222838169,\n          8.864520368425419\n        ],\n        \"semantic_type\": \"\",\n        \"description\": \"\"\n      }\n    },\n    {\n      \"column\": \"min\",\n      \"properties\": {\n        \"dtype\": \"number\",\n        \"std\": 21.716698644130975,\n        \"min\": 1.0,\n        \"max\": 56.0,\n        \"num_unique_values\": 5,\n        \"samples\": [\n          7.0,\n          5.0,\n          1.7\n        ],\n        \"semantic_type\": \"\",\n        \"description\": \"\"\n      }\n    },\n    {\n      \"column\": \"25%\",\n      \"properties\": {\n        \"dtype\": \"number\",\n        \"std\": 45.741233221970155,\n        \"min\": 6.0,\n        \"max\": 115.75,\n        \"num_unique_values\": 6,\n        \"samples\": [\n          18.0,\n          115.75,\n          8.0\n        ],\n        \"semantic_type\": \"\",\n        \"description\": \"\"\n      }\n    },\n    {\n      \"column\": \"50%\",\n      \"properties\": {\n        \"dtype\": \"number\",\n        \"std\": 76.74650914971095,\n        \"min\": 7.0,\n        \"max\": 205.0,\n        \"num_unique_values\": 6,\n        \"samples\": [\n          31.5,\n          205.0,\n          16.0\n        ],\n        \"semantic_type\": \"\",\n        \"description\": \"\"\n      }\n    },\n    {\n      \"column\": \"75%\",\n      \"properties\": {\n        \"dtype\": \"number\",\n        \"std\": 95.10765829662019,\n        \"min\": 8.0,\n        \"max\": 258.75,\n        \"num_unique_values\": 6,\n        \"samples\": [\n          63.25,\n          258.75,\n          23.0\n        ],\n        \"semantic_type\": \"\",\n        \"description\": \"\"\n      }\n    },\n    {\n      \"column\": \"max\",\n      \"properties\": {\n        \"dtype\": \"number\",\n        \"std\": 125.0003799994224,\n        \"min\": 9.0,\n        \"max\": 334.0,\n        \"num_unique_values\": 6,\n        \"samples\": [\n          168.0,\n          334.0,\n          31.0\n        ],\n        \"semantic_type\": \"\",\n        \"description\": \"\"\n      }\n    }\n  ]\n}"
            }
          },
          "metadata": {},
          "execution_count": 48
        }
      ],
      "source": [
        "airquality.describe().T"
      ]
    },
    {
      "cell_type": "markdown",
      "metadata": {
        "id": "748pI0kD0mK2"
      },
      "source": [
        " * Is there missing data? Which variables are most affected?\n"
      ]
    },
    {
      "cell_type": "code",
      "execution_count": null,
      "metadata": {
        "id": "mqkHtGmz0mK2",
        "colab": {
          "base_uri": "https://localhost:8080/",
          "height": 272
        },
        "outputId": "b26aa0c8-0364-4a09-bc3e-71bcf0e187f3"
      },
      "outputs": [
        {
          "output_type": "execute_result",
          "data": {
            "text/plain": [
              "Ozone      37\n",
              "Solar.R     7\n",
              "Wind        0\n",
              "Temp        0\n",
              "Month       0\n",
              "Day         0\n",
              "dtype: int64"
            ],
            "text/html": [
              "<div>\n",
              "<style scoped>\n",
              "    .dataframe tbody tr th:only-of-type {\n",
              "        vertical-align: middle;\n",
              "    }\n",
              "\n",
              "    .dataframe tbody tr th {\n",
              "        vertical-align: top;\n",
              "    }\n",
              "\n",
              "    .dataframe thead th {\n",
              "        text-align: right;\n",
              "    }\n",
              "</style>\n",
              "<table border=\"1\" class=\"dataframe\">\n",
              "  <thead>\n",
              "    <tr style=\"text-align: right;\">\n",
              "      <th></th>\n",
              "      <th>0</th>\n",
              "    </tr>\n",
              "  </thead>\n",
              "  <tbody>\n",
              "    <tr>\n",
              "      <th>Ozone</th>\n",
              "      <td>37</td>\n",
              "    </tr>\n",
              "    <tr>\n",
              "      <th>Solar.R</th>\n",
              "      <td>7</td>\n",
              "    </tr>\n",
              "    <tr>\n",
              "      <th>Wind</th>\n",
              "      <td>0</td>\n",
              "    </tr>\n",
              "    <tr>\n",
              "      <th>Temp</th>\n",
              "      <td>0</td>\n",
              "    </tr>\n",
              "    <tr>\n",
              "      <th>Month</th>\n",
              "      <td>0</td>\n",
              "    </tr>\n",
              "    <tr>\n",
              "      <th>Day</th>\n",
              "      <td>0</td>\n",
              "    </tr>\n",
              "  </tbody>\n",
              "</table>\n",
              "</div><br><label><b>dtype:</b> int64</label>"
            ]
          },
          "metadata": {},
          "execution_count": 49
        }
      ],
      "source": [
        "airquality.isna().sum()"
      ]
    },
    {
      "cell_type": "markdown",
      "metadata": {
        "id": "34cMbIUP0mK2"
      },
      "source": [
        " * Visualize each variable individually\n",
        "   - Are there outliers?\n",
        "  "
      ]
    },
    {
      "cell_type": "code",
      "execution_count": null,
      "metadata": {
        "id": "vHDoDwj00mK2",
        "colab": {
          "base_uri": "https://localhost:8080/",
          "height": 1000
        },
        "outputId": "518f1b8e-726a-4b4b-989a-8256559d8522"
      },
      "outputs": [
        {
          "output_type": "display_data",
          "data": {
            "text/plain": [
              "<Figure size 640x480 with 1 Axes>"
            ],
            "image/png": "[encoded data removed]"
          },
          "metadata": {}
        },
        {
          "output_type": "display_data",
          "data": {
            "text/plain": [
              "<Figure size 640x480 with 1 Axes>"
            ],
            "image/png": "[encoded data removed]"
          },
          "metadata": {}
        },
        {
          "output_type": "display_data",
          "data": {
            "text/plain": [
              "<Figure size 640x480 with 1 Axes>"
            ],
            "image/png": "[encoded data removed]"
          },
          "metadata": {}
        },
        {
          "output_type": "display_data",
          "data": {
            "text/plain": [
              "<Figure size 640x480 with 1 Axes>"
            ],
            "image/png": "[encoded data removed]"
          },
          "metadata": {}
        },
        {
          "output_type": "display_data",
          "data": {
            "text/plain": [
              "<Figure size 640x480 with 1 Axes>"
            ],
            "image/png": "[encoded data removed]"
          },
          "metadata": {}
        },
        {
          "output_type": "display_data",
          "data": {
            "text/plain": [
              "<Figure size 640x480 with 1 Axes>"
            ],
            "image/png": "[encoded data removed]"
          },
          "metadata": {}
        }
      ],
      "source": [
        "for col in airquality.columns:\n",
        "  airquality[col].plot.box()\n",
        "  plt.show()"
      ]
    },
    {
      "cell_type": "markdown",
      "metadata": {
        "id": "cSaPn26-0mK3"
      },
      "source": [
        " * Should any variable(s) be converted to a categorical?\n",
        "   - Which ones?\n"
      ]
    },
    {
      "cell_type": "code",
      "execution_count": null,
      "metadata": {
        "id": "qwRI1uhY0mK3",
        "colab": {
          "base_uri": "https://localhost:8080/"
        },
        "outputId": "af057753-03e1-4223-a9c9-54155b63f921"
      },
      "outputs": [
        {
          "output_type": "execute_result",
          "data": {
            "text/plain": [
              "Index(['Ozone', 'Solar.R', 'Wind', 'Temp', 'Month', 'Day'], dtype='object')"
            ]
          },
          "metadata": {},
          "execution_count": 45
        }
      ],
      "source": [
        "variables = airquality.columns\n",
        "variables\n"
      ]
    },
    {
      "cell_type": "markdown",
      "metadata": {
        "id": "E8Wvacp90mK3"
      },
      "source": [
        "## Part 4 - Slide 40"
      ]
    },
    {
      "cell_type": "markdown",
      "metadata": {
        "id": "xBRwFl2j0mK3"
      },
      "source": [
        " Explore the *airquality* dataset\n",
        "\n",
        " * Should any variable(s) be converted to a categorical?\n",
        "   - Convert these to a categorical\n",
        "   "
      ]
    },
    {
      "cell_type": "code",
      "execution_count": null,
      "metadata": {
        "id": "RTeN4nVj0mK3"
      },
      "outputs": [],
      "source": []
    },
    {
      "cell_type": "markdown",
      "metadata": {
        "id": "NzzcLMnc0mK3"
      },
      "source": [
        " * Visualize any 5 pairs of variables of the airquality dataset\n",
        "   - Choose the appropriate plot for each pair\n",
        "   "
      ]
    },
    {
      "cell_type": "code",
      "execution_count": null,
      "metadata": {
        "id": "p7CEblCr0mK3"
      },
      "outputs": [],
      "source": []
    }
  ],
  "metadata": {
    "kernelspec": {
      "display_name": "cpsc375-python",
      "language": "python",
      "name": "python3"
    },
    "language_info": {
      "codemirror_mode": {
        "name": "ipython",
        "version": 3
      },
      "file_extension": ".py",
      "mimetype": "text/x-python",
      "name": "python",
      "nbconvert_exporter": "python",
      "pygments_lexer": "ipython3",
      "version": "3.11.7"
    },
    "colab": {
      "provenance": [],
      "include_colab_link": true
    }
  },
  "nbformat": 4,
  "nbformat_minor": 0
}