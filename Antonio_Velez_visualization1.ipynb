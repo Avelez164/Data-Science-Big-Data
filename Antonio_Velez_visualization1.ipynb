{
  "cells": [
    {
      "cell_type": "markdown",
      "metadata": {
        "id": "view-in-github",
        "colab_type": "text"
      },
      "source": [
        "<a href=\"https://colab.research.google.com/github/Avelez164/Data-Science-Big-Data/blob/main/Antonio_Velez_visualization1.ipynb\" target=\"_parent\"><img src=\"https://colab.research.google.com/assets/colab-badge.svg\" alt=\"Open In Colab\"/></a>"
      ]
    },
    {
      "cell_type": "markdown",
      "metadata": {
        "id": "ba5j_mX80oya"
      },
      "source": [
        "# CPSC 375 Classwork - Data Visualization Lets-Plot\n",
        "\n",
        "[![Open In Colab](https://colab.research.google.com/assets/colab-badge.svg)](https://colab.research.google.com/github/ProfAvery/cpsc375-classwork/blob/main/visualization.ipynb)\n",
        "\n",
        "- *Manager*:\n",
        "- *Recorder*:\n",
        "- *Presenter*:\n",
        "- *Timekeeper*:"
      ]
    },
    {
      "cell_type": "code",
      "execution_count": null,
      "metadata": {
        "id": "pY3qhNiH0oyg",
        "colab": {
          "base_uri": "https://localhost:8080/"
        },
        "outputId": "b7b52b24-1fb6-460a-9d82-72cf147a8f73"
      },
      "outputs": [
        {
          "output_type": "stream",
          "name": "stdout",
          "text": [
            "Collecting lets-plot\n",
            "  Downloading lets_plot-4.5.2-cp311-cp311-manylinux_2_17_x86_64.manylinux2014_x86_64.whl.metadata (11 kB)\n",
            "Collecting pypng (from lets-plot)\n",
            "  Downloading pypng-0.20220715.0-py3-none-any.whl.metadata (13 kB)\n",
            "Collecting palettable (from lets-plot)\n",
            "  Downloading palettable-3.3.3-py2.py3-none-any.whl.metadata (3.3 kB)\n",
            "Downloading lets_plot-4.5.2-cp311-cp311-manylinux_2_17_x86_64.manylinux2014_x86_64.whl (3.4 MB)\n",
            "\u001b[2K   \u001b[90m━━━━━━━━━━━━━━━━━━━━━━━━━━━━━━━━━━━━━━━━\u001b[0m \u001b[32m3.4/3.4 MB\u001b[0m \u001b[31m30.5 MB/s\u001b[0m eta \u001b[36m0:00:00\u001b[0m\n",
            "\u001b[?25hDownloading palettable-3.3.3-py2.py3-none-any.whl (332 kB)\n",
            "\u001b[2K   \u001b[90m━━━━━━━━━━━━━━━━━━━━━━━━━━━━━━━━━━━━━━━━\u001b[0m \u001b[32m332.3/332.3 kB\u001b[0m \u001b[31m24.8 MB/s\u001b[0m eta \u001b[36m0:00:00\u001b[0m\n",
            "\u001b[?25hDownloading pypng-0.20220715.0-py3-none-any.whl (58 kB)\n",
            "\u001b[2K   \u001b[90m━━━━━━━━━━━━━━━━━━━━━━━━━━━━━━━━━━━━━━━━\u001b[0m \u001b[32m58.1/58.1 kB\u001b[0m \u001b[31m4.9 MB/s\u001b[0m eta \u001b[36m0:00:00\u001b[0m\n",
            "\u001b[?25hInstalling collected packages: pypng, palettable, lets-plot\n",
            "Successfully installed lets-plot-4.5.2 palettable-3.3.3 pypng-0.20220715.0\n"
          ]
        }
      ],
      "source": [
        "%pip install lets-plot"
      ]
    },
    {
      "cell_type": "code",
      "execution_count": null,
      "metadata": {
        "id": "S-LmaM2O0oyj"
      },
      "outputs": [],
      "source": [
        "from lets_plot import *\n",
        "\n",
        "LetsPlot.setup_html()"
      ]
    },
    {
      "cell_type": "markdown",
      "metadata": {
        "id": "-WSN8WuB0oyk"
      },
      "source": [
        "## Part 1 - Slide 33"
      ]
    },
    {
      "cell_type": "code",
      "execution_count": null,
      "metadata": {
        "id": "z1hxXPCC0oyk"
      },
      "outputs": [],
      "source": [
        "import statsmodels.api as sm\n",
        "\n",
        "iris_dataset = sm.datasets.get_rdataset(\"iris\")\n",
        "iris = iris_dataset.data"
      ]
    },
    {
      "cell_type": "markdown",
      "metadata": {
        "id": "buAk4dl00oyl"
      },
      "source": [
        "Consider the data *iris*\n",
        "\n",
        "1. Create a scatterplot of Sepal.Length vs. Sepal.Width\n"
      ]
    },
    {
      "cell_type": "code",
      "execution_count": null,
      "metadata": {
        "id": "iguXaUa_0oym",
        "outputId": "6c8dd0c0-583a-4069-abe7-5b28f397318f",
        "colab": {
          "base_uri": "https://localhost:8080/",
          "height": 400
        }
      },
      "outputs": [
        {
          "output_type": "execute_result",
          "data": {
            "text/plain": [
              "<lets_plot.plot.core.PlotSpec at 0x7a8eac196d10>"
            ],
            "text/html": [
              "<html lang=\"en\">\n",
              "   <head>\n",
              "       <meta charset=\"UTF-8\">\n",
              "       <style> html, body { margin: 0; padding: 0; } </style>\n",
              "       <script type=\"text/javascript\" data-lets-plot-script=\"library\" src=\"https://cdn.jsdelivr.net/gh/JetBrains/lets-plot@v4.5.2/js-package/distr/lets-plot.min.js\"></script>\n",
              "   </head>\n",
              "   <body>\n",
              "          <div id=\"Pb3XLg\"></div>\n",
              "   <script type=\"text/javascript\" data-lets-plot-script=\"plot\">\n",
              "   \n",
              "   (function() {\n",
              "   // ----------\n",
              "   \n",
              "   var containerDiv = document.getElementById(\"Pb3XLg\");\n",
              "   var observer = new ResizeObserver(function(entries) {\n",
              "       for (let entry of entries) {\n",
              "           var width = containerDiv.clientWidth\n",
              "           if (entry.contentBoxSize && width > 0) {\n",
              "           \n",
              "               // Render plot\n",
              "               if (observer) {\n",
              "                   observer.disconnect();\n",
              "                   observer = null;\n",
              "               }\n",
              "\n",
              "               var plotSpec={\n",
              "\"data\":{\n",
              "\"Sepal.Length\":[5.1,4.9,4.7,4.6,5.0,5.4,4.6,5.0,4.4,4.9,5.4,4.8,4.8,4.3,5.8,5.7,5.4,5.1,5.7,5.1,5.4,5.1,4.6,5.1,4.8,5.0,5.0,5.2,5.2,4.7,4.8,5.4,5.2,5.5,4.9,5.0,5.5,4.9,4.4,5.1,5.0,4.5,4.4,5.0,5.1,4.8,5.1,4.6,5.3,5.0,7.0,6.4,6.9,5.5,6.5,5.7,6.3,4.9,6.6,5.2,5.0,5.9,6.0,6.1,5.6,6.7,5.6,5.8,6.2,5.6,5.9,6.1,6.3,6.1,6.4,6.6,6.8,6.7,6.0,5.7,5.5,5.5,5.8,6.0,5.4,6.0,6.7,6.3,5.6,5.5,5.5,6.1,5.8,5.0,5.6,5.7,5.7,6.2,5.1,5.7,6.3,5.8,7.1,6.3,6.5,7.6,4.9,7.3,6.7,7.2,6.5,6.4,6.8,5.7,5.8,6.4,6.5,7.7,7.7,6.0,6.9,5.6,7.7,6.3,6.7,7.2,6.2,6.1,6.4,7.2,7.4,7.9,6.4,6.3,6.1,7.7,6.3,6.4,6.0,6.9,6.7,6.9,5.8,6.8,6.7,6.7,6.3,6.5,6.2,5.9],\n",
              "\"Sepal.Width\":[3.5,3.0,3.2,3.1,3.6,3.9,3.4,3.4,2.9,3.1,3.7,3.4,3.0,3.0,4.0,4.4,3.9,3.5,3.8,3.8,3.4,3.7,3.6,3.3,3.4,3.0,3.4,3.5,3.4,3.2,3.1,3.4,4.1,4.2,3.1,3.2,3.5,3.6,3.0,3.4,3.5,2.3,3.2,3.5,3.8,3.0,3.8,3.2,3.7,3.3,3.2,3.2,3.1,2.3,2.8,2.8,3.3,2.4,2.9,2.7,2.0,3.0,2.2,2.9,2.9,3.1,3.0,2.7,2.2,2.5,3.2,2.8,2.5,2.8,2.9,3.0,2.8,3.0,2.9,2.6,2.4,2.4,2.7,2.7,3.0,3.4,3.1,2.3,3.0,2.5,2.6,3.0,2.6,2.3,2.7,3.0,2.9,2.9,2.5,2.8,3.3,2.7,3.0,2.9,3.0,3.0,2.5,2.9,2.5,3.6,3.2,2.7,3.0,2.5,2.8,3.2,3.0,3.8,2.6,2.2,3.2,2.8,2.8,2.7,3.3,3.2,2.8,3.0,2.8,3.0,2.8,3.8,2.8,2.8,2.6,3.0,3.4,3.1,3.0,3.1,3.1,3.1,2.7,3.2,3.3,3.0,2.5,3.0,3.4,3.0]\n",
              "},\n",
              "\"mapping\":{\n",
              "\"x\":\"Sepal.Length\",\n",
              "\"y\":\"Sepal.Width\"\n",
              "},\n",
              "\"data_meta\":{\n",
              "\"series_annotations\":[{\n",
              "\"type\":\"float\",\n",
              "\"column\":\"Sepal.Length\"\n",
              "},{\n",
              "\"type\":\"float\",\n",
              "\"column\":\"Sepal.Width\"\n",
              "},{\n",
              "\"type\":\"float\",\n",
              "\"column\":\"Petal.Length\"\n",
              "},{\n",
              "\"type\":\"float\",\n",
              "\"column\":\"Petal.Width\"\n",
              "},{\n",
              "\"type\":\"str\",\n",
              "\"column\":\"Species\"\n",
              "}]\n",
              "},\n",
              "\"kind\":\"plot\",\n",
              "\"scales\":[],\n",
              "\"layers\":[{\n",
              "\"geom\":\"point\",\n",
              "\"mapping\":{\n",
              "},\n",
              "\"data_meta\":{\n",
              "},\n",
              "\"data\":{\n",
              "}\n",
              "}],\n",
              "\"metainfo_list\":[],\n",
              "\"spec_id\":\"1\"\n",
              "};\n",
              "       \n",
              "               var toolbar = null;\n",
              "               var plotContainer = containerDiv;               \n",
              "               \n",
              "               var options = {\n",
              "                   sizing: {\n",
              "                       width_mode: \"min\",\n",
              "                       height_mode: \"scaled\",\n",
              "                       width: width\n",
              "                   }\n",
              "               };\n",
              "               var fig = LetsPlot.buildPlotFromProcessedSpecs(plotSpec, -1, -1, plotContainer, options);\n",
              "               if (toolbar) {\n",
              "                 toolbar.bind(fig);\n",
              "               }\n",
              "               \n",
              "               break;\n",
              "           }\n",
              "       }\n",
              "   });\n",
              "   \n",
              "   observer.observe(containerDiv);\n",
              "   \n",
              "   // ----------\n",
              "   })();\n",
              "   \n",
              "   </script>\n",
              "   </body>\n",
              "</html>"
            ]
          },
          "metadata": {},
          "execution_count": 25
        }
      ],
      "source": [
        "(\n",
        "    ggplot(iris, aes('Sepal.Length', 'Sepal.Width'))\n",
        "    + geom_point()\n",
        ")"
      ]
    },
    {
      "cell_type": "markdown",
      "metadata": {
        "id": "prHtwbCa0oym"
      },
      "source": [
        "2. Create a scatterplot of Sepal.Length vs. Sepal.Width but plot points in red"
      ]
    },
    {
      "cell_type": "code",
      "execution_count": null,
      "metadata": {
        "id": "srWU2a-O0oyn",
        "colab": {
          "base_uri": "https://localhost:8080/",
          "height": 400
        },
        "outputId": "dde7947b-add5-4929-ddb4-c089201e4502"
      },
      "outputs": [
        {
          "output_type": "execute_result",
          "data": {
            "text/plain": [
              "<lets_plot.plot.core.PlotSpec at 0x7a8eab1d8510>"
            ],
            "text/html": [
              "<html lang=\"en\">\n",
              "   <head>\n",
              "       <meta charset=\"UTF-8\">\n",
              "       <style> html, body { margin: 0; padding: 0; } </style>\n",
              "       <script type=\"text/javascript\" data-lets-plot-script=\"library\" src=\"https://cdn.jsdelivr.net/gh/JetBrains/lets-plot@v4.5.2/js-package/distr/lets-plot.min.js\"></script>\n",
              "   </head>\n",
              "   <body>\n",
              "          <div id=\"Qh8v80\"></div>\n",
              "   <script type=\"text/javascript\" data-lets-plot-script=\"plot\">\n",
              "   \n",
              "   (function() {\n",
              "   // ----------\n",
              "   \n",
              "   var containerDiv = document.getElementById(\"Qh8v80\");\n",
              "   var observer = new ResizeObserver(function(entries) {\n",
              "       for (let entry of entries) {\n",
              "           var width = containerDiv.clientWidth\n",
              "           if (entry.contentBoxSize && width > 0) {\n",
              "           \n",
              "               // Render plot\n",
              "               if (observer) {\n",
              "                   observer.disconnect();\n",
              "                   observer = null;\n",
              "               }\n",
              "\n",
              "               var plotSpec={\n",
              "\"data\":{\n",
              "\"Sepal.Length\":[5.1,4.9,4.7,4.6,5.0,5.4,4.6,5.0,4.4,4.9,5.4,4.8,4.8,4.3,5.8,5.7,5.4,5.1,5.7,5.1,5.4,5.1,4.6,5.1,4.8,5.0,5.0,5.2,5.2,4.7,4.8,5.4,5.2,5.5,4.9,5.0,5.5,4.9,4.4,5.1,5.0,4.5,4.4,5.0,5.1,4.8,5.1,4.6,5.3,5.0,7.0,6.4,6.9,5.5,6.5,5.7,6.3,4.9,6.6,5.2,5.0,5.9,6.0,6.1,5.6,6.7,5.6,5.8,6.2,5.6,5.9,6.1,6.3,6.1,6.4,6.6,6.8,6.7,6.0,5.7,5.5,5.5,5.8,6.0,5.4,6.0,6.7,6.3,5.6,5.5,5.5,6.1,5.8,5.0,5.6,5.7,5.7,6.2,5.1,5.7,6.3,5.8,7.1,6.3,6.5,7.6,4.9,7.3,6.7,7.2,6.5,6.4,6.8,5.7,5.8,6.4,6.5,7.7,7.7,6.0,6.9,5.6,7.7,6.3,6.7,7.2,6.2,6.1,6.4,7.2,7.4,7.9,6.4,6.3,6.1,7.7,6.3,6.4,6.0,6.9,6.7,6.9,5.8,6.8,6.7,6.7,6.3,6.5,6.2,5.9],\n",
              "\"Sepal.Width\":[3.5,3.0,3.2,3.1,3.6,3.9,3.4,3.4,2.9,3.1,3.7,3.4,3.0,3.0,4.0,4.4,3.9,3.5,3.8,3.8,3.4,3.7,3.6,3.3,3.4,3.0,3.4,3.5,3.4,3.2,3.1,3.4,4.1,4.2,3.1,3.2,3.5,3.6,3.0,3.4,3.5,2.3,3.2,3.5,3.8,3.0,3.8,3.2,3.7,3.3,3.2,3.2,3.1,2.3,2.8,2.8,3.3,2.4,2.9,2.7,2.0,3.0,2.2,2.9,2.9,3.1,3.0,2.7,2.2,2.5,3.2,2.8,2.5,2.8,2.9,3.0,2.8,3.0,2.9,2.6,2.4,2.4,2.7,2.7,3.0,3.4,3.1,2.3,3.0,2.5,2.6,3.0,2.6,2.3,2.7,3.0,2.9,2.9,2.5,2.8,3.3,2.7,3.0,2.9,3.0,3.0,2.5,2.9,2.5,3.6,3.2,2.7,3.0,2.5,2.8,3.2,3.0,3.8,2.6,2.2,3.2,2.8,2.8,2.7,3.3,3.2,2.8,3.0,2.8,3.0,2.8,3.8,2.8,2.8,2.6,3.0,3.4,3.1,3.0,3.1,3.1,3.1,2.7,3.2,3.3,3.0,2.5,3.0,3.4,3.0]\n",
              "},\n",
              "\"mapping\":{\n",
              "\"x\":\"Sepal.Length\",\n",
              "\"y\":\"Sepal.Width\"\n",
              "},\n",
              "\"data_meta\":{\n",
              "\"series_annotations\":[{\n",
              "\"type\":\"float\",\n",
              "\"column\":\"Sepal.Length\"\n",
              "},{\n",
              "\"type\":\"float\",\n",
              "\"column\":\"Sepal.Width\"\n",
              "},{\n",
              "\"type\":\"float\",\n",
              "\"column\":\"Petal.Length\"\n",
              "},{\n",
              "\"type\":\"float\",\n",
              "\"column\":\"Petal.Width\"\n",
              "},{\n",
              "\"type\":\"str\",\n",
              "\"column\":\"Species\"\n",
              "}]\n",
              "},\n",
              "\"kind\":\"plot\",\n",
              "\"scales\":[],\n",
              "\"layers\":[{\n",
              "\"geom\":\"point\",\n",
              "\"mapping\":{\n",
              "},\n",
              "\"data_meta\":{\n",
              "},\n",
              "\"color\":\"red\",\n",
              "\"data\":{\n",
              "}\n",
              "}],\n",
              "\"metainfo_list\":[],\n",
              "\"spec_id\":\"2\"\n",
              "};\n",
              "       \n",
              "               var toolbar = null;\n",
              "               var plotContainer = containerDiv;               \n",
              "               \n",
              "               var options = {\n",
              "                   sizing: {\n",
              "                       width_mode: \"min\",\n",
              "                       height_mode: \"scaled\",\n",
              "                       width: width\n",
              "                   }\n",
              "               };\n",
              "               var fig = LetsPlot.buildPlotFromProcessedSpecs(plotSpec, -1, -1, plotContainer, options);\n",
              "               if (toolbar) {\n",
              "                 toolbar.bind(fig);\n",
              "               }\n",
              "               \n",
              "               break;\n",
              "           }\n",
              "       }\n",
              "   });\n",
              "   \n",
              "   observer.observe(containerDiv);\n",
              "   \n",
              "   // ----------\n",
              "   })();\n",
              "   \n",
              "   </script>\n",
              "   </body>\n",
              "</html>"
            ]
          },
          "metadata": {},
          "execution_count": 26
        }
      ],
      "source": [
        "(\n",
        "    ggplot(iris, aes('Sepal.Length', 'Sepal.Width'))\n",
        "    + geom_point(color='red')\n",
        ")"
      ]
    },
    {
      "cell_type": "markdown",
      "metadata": {
        "id": "wEThStqQ0oyo"
      },
      "source": [
        "3. Create a scatterplot of Sepal.Length vs. Sepal.Width and Species"
      ]
    },
    {
      "cell_type": "code",
      "execution_count": null,
      "metadata": {
        "id": "YmvgpVF10oyo",
        "colab": {
          "base_uri": "https://localhost:8080/",
          "height": 400
        },
        "outputId": "996dfcc0-73b7-4dc9-bbd9-c7c8431e78f2"
      },
      "outputs": [
        {
          "output_type": "execute_result",
          "data": {
            "text/plain": [
              "<lets_plot.plot.core.PlotSpec at 0x7a8eab1d98d0>"
            ],
            "text/html": [
              "<html lang=\"en\">\n",
              "   <head>\n",
              "       <meta charset=\"UTF-8\">\n",
              "       <style> html, body { margin: 0; padding: 0; } </style>\n",
              "       <script type=\"text/javascript\" data-lets-plot-script=\"library\" src=\"https://cdn.jsdelivr.net/gh/JetBrains/lets-plot@v4.5.2/js-package/distr/lets-plot.min.js\"></script>\n",
              "   </head>\n",
              "   <body>\n",
              "          <div id=\"LarXVa\"></div>\n",
              "   <script type=\"text/javascript\" data-lets-plot-script=\"plot\">\n",
              "   \n",
              "   (function() {\n",
              "   // ----------\n",
              "   \n",
              "   var containerDiv = document.getElementById(\"LarXVa\");\n",
              "   var observer = new ResizeObserver(function(entries) {\n",
              "       for (let entry of entries) {\n",
              "           var width = containerDiv.clientWidth\n",
              "           if (entry.contentBoxSize && width > 0) {\n",
              "           \n",
              "               // Render plot\n",
              "               if (observer) {\n",
              "                   observer.disconnect();\n",
              "                   observer = null;\n",
              "               }\n",
              "\n",
              "               var plotSpec={\n",
              "\"data\":{\n",
              "\"Sepal.Length\":[5.1,4.9,4.7,4.6,5.0,5.4,4.6,5.0,4.4,4.9,5.4,4.8,4.8,4.3,5.8,5.7,5.4,5.1,5.7,5.1,5.4,5.1,4.6,5.1,4.8,5.0,5.0,5.2,5.2,4.7,4.8,5.4,5.2,5.5,4.9,5.0,5.5,4.9,4.4,5.1,5.0,4.5,4.4,5.0,5.1,4.8,5.1,4.6,5.3,5.0,7.0,6.4,6.9,5.5,6.5,5.7,6.3,4.9,6.6,5.2,5.0,5.9,6.0,6.1,5.6,6.7,5.6,5.8,6.2,5.6,5.9,6.1,6.3,6.1,6.4,6.6,6.8,6.7,6.0,5.7,5.5,5.5,5.8,6.0,5.4,6.0,6.7,6.3,5.6,5.5,5.5,6.1,5.8,5.0,5.6,5.7,5.7,6.2,5.1,5.7,6.3,5.8,7.1,6.3,6.5,7.6,4.9,7.3,6.7,7.2,6.5,6.4,6.8,5.7,5.8,6.4,6.5,7.7,7.7,6.0,6.9,5.6,7.7,6.3,6.7,7.2,6.2,6.1,6.4,7.2,7.4,7.9,6.4,6.3,6.1,7.7,6.3,6.4,6.0,6.9,6.7,6.9,5.8,6.8,6.7,6.7,6.3,6.5,6.2,5.9],\n",
              "\"Sepal.Width\":[3.5,3.0,3.2,3.1,3.6,3.9,3.4,3.4,2.9,3.1,3.7,3.4,3.0,3.0,4.0,4.4,3.9,3.5,3.8,3.8,3.4,3.7,3.6,3.3,3.4,3.0,3.4,3.5,3.4,3.2,3.1,3.4,4.1,4.2,3.1,3.2,3.5,3.6,3.0,3.4,3.5,2.3,3.2,3.5,3.8,3.0,3.8,3.2,3.7,3.3,3.2,3.2,3.1,2.3,2.8,2.8,3.3,2.4,2.9,2.7,2.0,3.0,2.2,2.9,2.9,3.1,3.0,2.7,2.2,2.5,3.2,2.8,2.5,2.8,2.9,3.0,2.8,3.0,2.9,2.6,2.4,2.4,2.7,2.7,3.0,3.4,3.1,2.3,3.0,2.5,2.6,3.0,2.6,2.3,2.7,3.0,2.9,2.9,2.5,2.8,3.3,2.7,3.0,2.9,3.0,3.0,2.5,2.9,2.5,3.6,3.2,2.7,3.0,2.5,2.8,3.2,3.0,3.8,2.6,2.2,3.2,2.8,2.8,2.7,3.3,3.2,2.8,3.0,2.8,3.0,2.8,3.8,2.8,2.8,2.6,3.0,3.4,3.1,3.0,3.1,3.1,3.1,2.7,3.2,3.3,3.0,2.5,3.0,3.4,3.0],\n",
              "\"Species\":[\"setosa\",\"setosa\",\"setosa\",\"setosa\",\"setosa\",\"setosa\",\"setosa\",\"setosa\",\"setosa\",\"setosa\",\"setosa\",\"setosa\",\"setosa\",\"setosa\",\"setosa\",\"setosa\",\"setosa\",\"setosa\",\"setosa\",\"setosa\",\"setosa\",\"setosa\",\"setosa\",\"setosa\",\"setosa\",\"setosa\",\"setosa\",\"setosa\",\"setosa\",\"setosa\",\"setosa\",\"setosa\",\"setosa\",\"setosa\",\"setosa\",\"setosa\",\"setosa\",\"setosa\",\"setosa\",\"setosa\",\"setosa\",\"setosa\",\"setosa\",\"setosa\",\"setosa\",\"setosa\",\"setosa\",\"setosa\",\"setosa\",\"setosa\",\"versicolor\",\"versicolor\",\"versicolor\",\"versicolor\",\"versicolor\",\"versicolor\",\"versicolor\",\"versicolor\",\"versicolor\",\"versicolor\",\"versicolor\",\"versicolor\",\"versicolor\",\"versicolor\",\"versicolor\",\"versicolor\",\"versicolor\",\"versicolor\",\"versicolor\",\"versicolor\",\"versicolor\",\"versicolor\",\"versicolor\",\"versicolor\",\"versicolor\",\"versicolor\",\"versicolor\",\"versicolor\",\"versicolor\",\"versicolor\",\"versicolor\",\"versicolor\",\"versicolor\",\"versicolor\",\"versicolor\",\"versicolor\",\"versicolor\",\"versicolor\",\"versicolor\",\"versicolor\",\"versicolor\",\"versicolor\",\"versicolor\",\"versicolor\",\"versicolor\",\"versicolor\",\"versicolor\",\"versicolor\",\"versicolor\",\"versicolor\",\"virginica\",\"virginica\",\"virginica\",\"virginica\",\"virginica\",\"virginica\",\"virginica\",\"virginica\",\"virginica\",\"virginica\",\"virginica\",\"virginica\",\"virginica\",\"virginica\",\"virginica\",\"virginica\",\"virginica\",\"virginica\",\"virginica\",\"virginica\",\"virginica\",\"virginica\",\"virginica\",\"virginica\",\"virginica\",\"virginica\",\"virginica\",\"virginica\",\"virginica\",\"virginica\",\"virginica\",\"virginica\",\"virginica\",\"virginica\",\"virginica\",\"virginica\",\"virginica\",\"virginica\",\"virginica\",\"virginica\",\"virginica\",\"virginica\",\"virginica\",\"virginica\",\"virginica\",\"virginica\",\"virginica\",\"virginica\",\"virginica\",\"virginica\"]\n",
              "},\n",
              "\"mapping\":{\n",
              "\"x\":\"Sepal.Length\",\n",
              "\"y\":\"Sepal.Width\",\n",
              "\"color\":\"Species\"\n",
              "},\n",
              "\"data_meta\":{\n",
              "\"series_annotations\":[{\n",
              "\"type\":\"float\",\n",
              "\"column\":\"Sepal.Length\"\n",
              "},{\n",
              "\"type\":\"float\",\n",
              "\"column\":\"Sepal.Width\"\n",
              "},{\n",
              "\"type\":\"float\",\n",
              "\"column\":\"Petal.Length\"\n",
              "},{\n",
              "\"type\":\"float\",\n",
              "\"column\":\"Petal.Width\"\n",
              "},{\n",
              "\"type\":\"str\",\n",
              "\"column\":\"Species\"\n",
              "}]\n",
              "},\n",
              "\"kind\":\"plot\",\n",
              "\"scales\":[],\n",
              "\"layers\":[{\n",
              "\"geom\":\"point\",\n",
              "\"mapping\":{\n",
              "},\n",
              "\"data_meta\":{\n",
              "},\n",
              "\"data\":{\n",
              "}\n",
              "}],\n",
              "\"metainfo_list\":[],\n",
              "\"spec_id\":\"3\"\n",
              "};\n",
              "       \n",
              "               var toolbar = null;\n",
              "               var plotContainer = containerDiv;               \n",
              "               \n",
              "               var options = {\n",
              "                   sizing: {\n",
              "                       width_mode: \"min\",\n",
              "                       height_mode: \"scaled\",\n",
              "                       width: width\n",
              "                   }\n",
              "               };\n",
              "               var fig = LetsPlot.buildPlotFromProcessedSpecs(plotSpec, -1, -1, plotContainer, options);\n",
              "               if (toolbar) {\n",
              "                 toolbar.bind(fig);\n",
              "               }\n",
              "               \n",
              "               break;\n",
              "           }\n",
              "       }\n",
              "   });\n",
              "   \n",
              "   observer.observe(containerDiv);\n",
              "   \n",
              "   // ----------\n",
              "   })();\n",
              "   \n",
              "   </script>\n",
              "   </body>\n",
              "</html>"
            ]
          },
          "metadata": {},
          "execution_count": 27
        }
      ],
      "source": [
        "(\n",
        "    ggplot(iris, aes('Sepal.Length', 'Sepal.Width', color ='Species'))\n",
        "    + geom_point()\n",
        ")"
      ]
    },
    {
      "cell_type": "markdown",
      "metadata": {
        "id": "pjQncrdh0oyo"
      },
      "source": [
        "4. Save a plot as a PNG file\n",
        "   \n",
        "   *Note*: click the \"Files\" tab (the folder icon) on the left-hand side of the Colab window to find the file."
      ]
    },
    {
      "cell_type": "code",
      "execution_count": null,
      "metadata": {
        "id": "AS1FPs3z0oyp",
        "colab": {
          "base_uri": "https://localhost:8080/"
        },
        "outputId": "2fde1edd-eb53-4376-f1ac-0594e4331984"
      },
      "outputs": [
        {
          "output_type": "stream",
          "name": "stdout",
          "text": [
            "Requirement already satisfied: cairosvg in /usr/local/lib/python3.11/dist-packages (2.7.1)\n",
            "Requirement already satisfied: cairocffi in /usr/local/lib/python3.11/dist-packages (from cairosvg) (1.7.1)\n",
            "Requirement already satisfied: cssselect2 in /usr/local/lib/python3.11/dist-packages (from cairosvg) (0.7.0)\n",
            "Requirement already satisfied: defusedxml in /usr/local/lib/python3.11/dist-packages (from cairosvg) (0.7.1)\n",
            "Requirement already satisfied: pillow in /usr/local/lib/python3.11/dist-packages (from cairosvg) (11.1.0)\n",
            "Requirement already satisfied: tinycss2 in /usr/local/lib/python3.11/dist-packages (from cairosvg) (1.4.0)\n",
            "Requirement already satisfied: cffi>=1.1.0 in /usr/local/lib/python3.11/dist-packages (from cairocffi->cairosvg) (1.17.1)\n",
            "Requirement already satisfied: webencodings in /usr/local/lib/python3.11/dist-packages (from cssselect2->cairosvg) (0.5.1)\n",
            "Requirement already satisfied: pycparser in /usr/local/lib/python3.11/dist-packages (from cffi>=1.1.0->cairocffi->cairosvg) (2.22)\n"
          ]
        }
      ],
      "source": [
        "%pip install cairosvg\n"
      ]
    },
    {
      "cell_type": "code",
      "source": [
        "(\n",
        "    ggplot(iris, aes('Sepal.Length', 'Sepal.Width', color ='Species'))\n",
        "    + geom_point()\n",
        ").to_pdf('iris.pdf')"
      ],
      "metadata": {
        "colab": {
          "base_uri": "https://localhost:8080/",
          "height": 36
        },
        "collapsed": true,
        "id": "8L33iqFJGntZ",
        "outputId": "3ca4d4da-e395-448f-8beb-75c921ee658b"
      },
      "execution_count": null,
      "outputs": [
        {
          "output_type": "execute_result",
          "data": {
            "text/plain": [
              "'/content/iris.pdf'"
            ],
            "application/vnd.google.colaboratory.intrinsic+json": {
              "type": "string"
            }
          },
          "metadata": {},
          "execution_count": 28
        }
      ]
    },
    {
      "cell_type": "markdown",
      "metadata": {
        "id": "4zjQ6xcn0oyp"
      },
      "source": [
        "## Part 2 - Slide 38"
      ]
    },
    {
      "cell_type": "markdown",
      "metadata": {
        "id": "enBnhOut0oyp"
      },
      "source": [
        "Consider the data *iris*\n",
        "\n",
        "1. Create a histogram of Sepal.Length"
      ]
    },
    {
      "cell_type": "code",
      "execution_count": null,
      "metadata": {
        "id": "SAhkoLoZ0oyq",
        "colab": {
          "base_uri": "https://localhost:8080/",
          "height": 400
        },
        "outputId": "a6f8e874-3b35-4aa5-f9df-050e06d6f3a6"
      },
      "outputs": [
        {
          "output_type": "execute_result",
          "data": {
            "text/plain": [
              "<lets_plot.plot.core.PlotSpec at 0x7a8ea8b01610>"
            ],
            "text/html": [
              "<html lang=\"en\">\n",
              "   <head>\n",
              "       <meta charset=\"UTF-8\">\n",
              "       <style> html, body { margin: 0; padding: 0; } </style>\n",
              "       <script type=\"text/javascript\" data-lets-plot-script=\"library\" src=\"https://cdn.jsdelivr.net/gh/JetBrains/lets-plot@v4.5.2/js-package/distr/lets-plot.min.js\"></script>\n",
              "   </head>\n",
              "   <body>\n",
              "          <div id=\"ADC56h\"></div>\n",
              "   <script type=\"text/javascript\" data-lets-plot-script=\"plot\">\n",
              "   \n",
              "   (function() {\n",
              "   // ----------\n",
              "   \n",
              "   var containerDiv = document.getElementById(\"ADC56h\");\n",
              "   var observer = new ResizeObserver(function(entries) {\n",
              "       for (let entry of entries) {\n",
              "           var width = containerDiv.clientWidth\n",
              "           if (entry.contentBoxSize && width > 0) {\n",
              "           \n",
              "               // Render plot\n",
              "               if (observer) {\n",
              "                   observer.disconnect();\n",
              "                   observer = null;\n",
              "               }\n",
              "\n",
              "               var plotSpec={\n",
              "\"data\":{\n",
              "},\n",
              "\"mapping\":{\n",
              "\"x\":\"Sepal.Length\"\n",
              "},\n",
              "\"data_meta\":{\n",
              "\"series_annotations\":[{\n",
              "\"type\":\"float\",\n",
              "\"column\":\"Sepal.Length\"\n",
              "},{\n",
              "\"type\":\"float\",\n",
              "\"column\":\"Sepal.Width\"\n",
              "},{\n",
              "\"type\":\"float\",\n",
              "\"column\":\"Petal.Length\"\n",
              "},{\n",
              "\"type\":\"float\",\n",
              "\"column\":\"Petal.Width\"\n",
              "},{\n",
              "\"type\":\"str\",\n",
              "\"column\":\"Species\"\n",
              "}]\n",
              "},\n",
              "\"kind\":\"plot\",\n",
              "\"scales\":[],\n",
              "\"layers\":[{\n",
              "\"geom\":\"histogram\",\n",
              "\"mapping\":{\n",
              "},\n",
              "\"data_meta\":{\n",
              "},\n",
              "\"data\":{\n",
              "\"..count..\":[1.0,3.0,1.0,6.0,5.0,6.0,10.0,13.0,1.0,6.0,7.0,14.0,7.0,3.0,12.0,4.0,9.0,7.0,7.0,8.0,3.0,4.0,2.0,3.0,1.0,1.0,1.0,4.0,0.0,1.0],\n",
              "\"Sepal.Length\":[4.2788,4.404400000000001,4.53,4.655600000000001,4.7812,4.9068000000000005,5.032400000000001,5.158,5.283600000000001,5.4092,5.534800000000001,5.660400000000001,5.7860000000000005,5.911600000000001,6.0372,6.162800000000001,6.288400000000001,6.414000000000001,6.5396,6.6652000000000005,6.790800000000001,6.916400000000001,7.042000000000001,7.1676,7.293200000000001,7.418800000000001,7.544400000000001,7.670000000000001,7.7956,7.921200000000001]\n",
              "}\n",
              "},{\n",
              "\"geom\":\"bar\",\n",
              "\"mapping\":{\n",
              "},\n",
              "\"data_meta\":{\n",
              "},\n",
              "\"data\":{\n",
              "\"..count..\":[9.0,6.0,2.0,4.0,10.0,6.0,3.0,5.0,1.0,7.0,8.0,4.0,7.0,1.0,1.0,1.0,7.0,4.0,5.0,9.0,2.0,3.0,6.0,6.0,6.0,8.0,4.0,3.0,1.0,1.0,1.0,3.0,4.0,1.0,1.0],\n",
              "\"Sepal.Length\":[5.1,4.9,4.7,4.6,5.0,5.4,4.4,4.8,4.3,5.8,5.7,5.2,5.5,4.5,5.3,7.0,6.4,6.9,6.5,6.3,6.6,5.9,6.0,6.1,5.6,6.7,6.2,6.8,7.1,7.6,7.3,7.2,7.7,7.4,7.9]\n",
              "}\n",
              "}],\n",
              "\"metainfo_list\":[],\n",
              "\"spec_id\":\"9\"\n",
              "};\n",
              "       \n",
              "               var toolbar = null;\n",
              "               var plotContainer = containerDiv;               \n",
              "               \n",
              "               var options = {\n",
              "                   sizing: {\n",
              "                       width_mode: \"min\",\n",
              "                       height_mode: \"scaled\",\n",
              "                       width: width\n",
              "                   }\n",
              "               };\n",
              "               var fig = LetsPlot.buildPlotFromProcessedSpecs(plotSpec, -1, -1, plotContainer, options);\n",
              "               if (toolbar) {\n",
              "                 toolbar.bind(fig);\n",
              "               }\n",
              "               \n",
              "               break;\n",
              "           }\n",
              "       }\n",
              "   });\n",
              "   \n",
              "   observer.observe(containerDiv);\n",
              "   \n",
              "   // ----------\n",
              "   })();\n",
              "   \n",
              "   </script>\n",
              "   </body>\n",
              "</html>"
            ]
          },
          "metadata": {},
          "execution_count": 34
        }
      ],
      "source": [
        "(\n",
        "    ggplot(\n",
        "        iris,\n",
        "        aes(x='Sepal.Length'),\n",
        "    )\n",
        "    + geom_histogram(\n",
        "\n",
        "    ) +\n",
        "    geom_bar()\n",
        ")"
      ]
    },
    {
      "cell_type": "markdown",
      "metadata": {
        "id": "FouvespN0oyq"
      },
      "source": [
        "2. Try different values of binwidth"
      ]
    },
    {
      "cell_type": "code",
      "execution_count": null,
      "metadata": {
        "id": "qVCUpIBC0oyq",
        "colab": {
          "base_uri": "https://localhost:8080/",
          "height": 400
        },
        "outputId": "157f905c-c753-4e04-8240-4ec563ee3377"
      },
      "outputs": [
        {
          "output_type": "execute_result",
          "data": {
            "text/plain": [
              "<lets_plot.plot.core.PlotSpec at 0x7a8ea8ac5e50>"
            ],
            "text/html": [
              "<html lang=\"en\">\n",
              "   <head>\n",
              "       <meta charset=\"UTF-8\">\n",
              "       <style> html, body { margin: 0; padding: 0; } </style>\n",
              "       <script type=\"text/javascript\" data-lets-plot-script=\"library\" src=\"https://cdn.jsdelivr.net/gh/JetBrains/lets-plot@v4.5.2/js-package/distr/lets-plot.min.js\"></script>\n",
              "   </head>\n",
              "   <body>\n",
              "          <div id=\"eNhvjC\"></div>\n",
              "   <script type=\"text/javascript\" data-lets-plot-script=\"plot\">\n",
              "   \n",
              "   (function() {\n",
              "   // ----------\n",
              "   \n",
              "   var containerDiv = document.getElementById(\"eNhvjC\");\n",
              "   var observer = new ResizeObserver(function(entries) {\n",
              "       for (let entry of entries) {\n",
              "           var width = containerDiv.clientWidth\n",
              "           if (entry.contentBoxSize && width > 0) {\n",
              "           \n",
              "               // Render plot\n",
              "               if (observer) {\n",
              "                   observer.disconnect();\n",
              "                   observer = null;\n",
              "               }\n",
              "\n",
              "               var plotSpec={\n",
              "\"data\":{\n",
              "},\n",
              "\"mapping\":{\n",
              "\"x\":\"Sepal.Length\"\n",
              "},\n",
              "\"data_meta\":{\n",
              "\"series_annotations\":[{\n",
              "\"type\":\"float\",\n",
              "\"column\":\"Sepal.Length\"\n",
              "},{\n",
              "\"type\":\"float\",\n",
              "\"column\":\"Sepal.Width\"\n",
              "},{\n",
              "\"type\":\"float\",\n",
              "\"column\":\"Petal.Length\"\n",
              "},{\n",
              "\"type\":\"float\",\n",
              "\"column\":\"Petal.Width\"\n",
              "},{\n",
              "\"type\":\"str\",\n",
              "\"column\":\"Species\"\n",
              "}]\n",
              "},\n",
              "\"kind\":\"plot\",\n",
              "\"scales\":[],\n",
              "\"layers\":[{\n",
              "\"geom\":\"histogram\",\n",
              "\"mapping\":{\n",
              "},\n",
              "\"data_meta\":{\n",
              "},\n",
              "\"binwidth\":0.4,\n",
              "\"data\":{\n",
              "\"..count..\":[4.0,12.0,29.0,20.0,24.0,26.0,18.0,9.0,3.0,5.0,0.0],\n",
              "\"Sepal.Length\":[4.22,4.62,5.02,5.42,5.82,6.22,6.62,7.02,7.42,7.82,8.219999999999999]\n",
              "}\n",
              "},{\n",
              "\"geom\":\"bar\",\n",
              "\"mapping\":{\n",
              "},\n",
              "\"data_meta\":{\n",
              "},\n",
              "\"data\":{\n",
              "\"..count..\":[9.0,6.0,2.0,4.0,10.0,6.0,3.0,5.0,1.0,7.0,8.0,4.0,7.0,1.0,1.0,1.0,7.0,4.0,5.0,9.0,2.0,3.0,6.0,6.0,6.0,8.0,4.0,3.0,1.0,1.0,1.0,3.0,4.0,1.0,1.0],\n",
              "\"Sepal.Length\":[5.1,4.9,4.7,4.6,5.0,5.4,4.4,4.8,4.3,5.8,5.7,5.2,5.5,4.5,5.3,7.0,6.4,6.9,6.5,6.3,6.6,5.9,6.0,6.1,5.6,6.7,6.2,6.8,7.1,7.6,7.3,7.2,7.7,7.4,7.9]\n",
              "}\n",
              "}],\n",
              "\"metainfo_list\":[],\n",
              "\"spec_id\":\"14\"\n",
              "};\n",
              "       \n",
              "               var toolbar = null;\n",
              "               var plotContainer = containerDiv;               \n",
              "               \n",
              "               var options = {\n",
              "                   sizing: {\n",
              "                       width_mode: \"min\",\n",
              "                       height_mode: \"scaled\",\n",
              "                       width: width\n",
              "                   }\n",
              "               };\n",
              "               var fig = LetsPlot.buildPlotFromProcessedSpecs(plotSpec, -1, -1, plotContainer, options);\n",
              "               if (toolbar) {\n",
              "                 toolbar.bind(fig);\n",
              "               }\n",
              "               \n",
              "               break;\n",
              "           }\n",
              "       }\n",
              "   });\n",
              "   \n",
              "   observer.observe(containerDiv);\n",
              "   \n",
              "   // ----------\n",
              "   })();\n",
              "   \n",
              "   </script>\n",
              "   </body>\n",
              "</html>"
            ]
          },
          "metadata": {},
          "execution_count": 39
        }
      ],
      "source": [
        "(\n",
        "    ggplot(\n",
        "        iris,\n",
        "        aes(x='Sepal.Length'),\n",
        "    )\n",
        "    + geom_histogram(\n",
        "        binwidth=0.4\n",
        "    ) +\n",
        "    geom_bar()\n",
        ")"
      ]
    },
    {
      "cell_type": "markdown",
      "metadata": {
        "id": "uiolV4UU0oyq"
      },
      "source": [
        "## Part 3 - Slide 45"
      ]
    },
    {
      "cell_type": "markdown",
      "metadata": {
        "id": "JqIDouWA0oyr"
      },
      "source": [
        "Consider the data *iris*\n",
        "\n",
        "1. Create a scatterplot of Sepal.Length vs. Sepal.Width"
      ]
    },
    {
      "cell_type": "code",
      "execution_count": null,
      "metadata": {
        "id": "J9t561Ir0oyr",
        "colab": {
          "base_uri": "https://localhost:8080/",
          "height": 400
        },
        "outputId": "030b8b74-7d67-4ce6-c980-fcbb28edfa0f"
      },
      "outputs": [
        {
          "output_type": "execute_result",
          "data": {
            "text/plain": [
              "<lets_plot.plot.core.PlotSpec at 0x7a8eb412be90>"
            ],
            "text/html": [
              "<html lang=\"en\">\n",
              "   <head>\n",
              "       <meta charset=\"UTF-8\">\n",
              "       <style> html, body { margin: 0; padding: 0; } </style>\n",
              "       <script type=\"text/javascript\" data-lets-plot-script=\"library\" src=\"https://cdn.jsdelivr.net/gh/JetBrains/lets-plot@v4.5.2/js-package/distr/lets-plot.min.js\"></script>\n",
              "   </head>\n",
              "   <body>\n",
              "          <div id=\"O0Qe3n\"></div>\n",
              "   <script type=\"text/javascript\" data-lets-plot-script=\"plot\">\n",
              "   \n",
              "   (function() {\n",
              "   // ----------\n",
              "   \n",
              "   var containerDiv = document.getElementById(\"O0Qe3n\");\n",
              "   var observer = new ResizeObserver(function(entries) {\n",
              "       for (let entry of entries) {\n",
              "           var width = containerDiv.clientWidth\n",
              "           if (entry.contentBoxSize && width > 0) {\n",
              "           \n",
              "               // Render plot\n",
              "               if (observer) {\n",
              "                   observer.disconnect();\n",
              "                   observer = null;\n",
              "               }\n",
              "\n",
              "               var plotSpec={\n",
              "\"data\":{\n",
              "\"Sepal.Length\":[5.1,4.9,4.7,4.6,5.0,5.4,4.6,5.0,4.4,4.9,5.4,4.8,4.8,4.3,5.8,5.7,5.4,5.1,5.7,5.1,5.4,5.1,4.6,5.1,4.8,5.0,5.0,5.2,5.2,4.7,4.8,5.4,5.2,5.5,4.9,5.0,5.5,4.9,4.4,5.1,5.0,4.5,4.4,5.0,5.1,4.8,5.1,4.6,5.3,5.0,7.0,6.4,6.9,5.5,6.5,5.7,6.3,4.9,6.6,5.2,5.0,5.9,6.0,6.1,5.6,6.7,5.6,5.8,6.2,5.6,5.9,6.1,6.3,6.1,6.4,6.6,6.8,6.7,6.0,5.7,5.5,5.5,5.8,6.0,5.4,6.0,6.7,6.3,5.6,5.5,5.5,6.1,5.8,5.0,5.6,5.7,5.7,6.2,5.1,5.7,6.3,5.8,7.1,6.3,6.5,7.6,4.9,7.3,6.7,7.2,6.5,6.4,6.8,5.7,5.8,6.4,6.5,7.7,7.7,6.0,6.9,5.6,7.7,6.3,6.7,7.2,6.2,6.1,6.4,7.2,7.4,7.9,6.4,6.3,6.1,7.7,6.3,6.4,6.0,6.9,6.7,6.9,5.8,6.8,6.7,6.7,6.3,6.5,6.2,5.9],\n",
              "\"Sepal.Width\":[3.5,3.0,3.2,3.1,3.6,3.9,3.4,3.4,2.9,3.1,3.7,3.4,3.0,3.0,4.0,4.4,3.9,3.5,3.8,3.8,3.4,3.7,3.6,3.3,3.4,3.0,3.4,3.5,3.4,3.2,3.1,3.4,4.1,4.2,3.1,3.2,3.5,3.6,3.0,3.4,3.5,2.3,3.2,3.5,3.8,3.0,3.8,3.2,3.7,3.3,3.2,3.2,3.1,2.3,2.8,2.8,3.3,2.4,2.9,2.7,2.0,3.0,2.2,2.9,2.9,3.1,3.0,2.7,2.2,2.5,3.2,2.8,2.5,2.8,2.9,3.0,2.8,3.0,2.9,2.6,2.4,2.4,2.7,2.7,3.0,3.4,3.1,2.3,3.0,2.5,2.6,3.0,2.6,2.3,2.7,3.0,2.9,2.9,2.5,2.8,3.3,2.7,3.0,2.9,3.0,3.0,2.5,2.9,2.5,3.6,3.2,2.7,3.0,2.5,2.8,3.2,3.0,3.8,2.6,2.2,3.2,2.8,2.8,2.7,3.3,3.2,2.8,3.0,2.8,3.0,2.8,3.8,2.8,2.8,2.6,3.0,3.4,3.1,3.0,3.1,3.1,3.1,2.7,3.2,3.3,3.0,2.5,3.0,3.4,3.0]\n",
              "},\n",
              "\"mapping\":{\n",
              "\"x\":\"Sepal.Length\",\n",
              "\"y\":\"Sepal.Width\"\n",
              "},\n",
              "\"data_meta\":{\n",
              "\"series_annotations\":[{\n",
              "\"type\":\"float\",\n",
              "\"column\":\"Sepal.Length\"\n",
              "},{\n",
              "\"type\":\"float\",\n",
              "\"column\":\"Sepal.Width\"\n",
              "},{\n",
              "\"type\":\"float\",\n",
              "\"column\":\"Petal.Length\"\n",
              "},{\n",
              "\"type\":\"float\",\n",
              "\"column\":\"Petal.Width\"\n",
              "},{\n",
              "\"type\":\"str\",\n",
              "\"column\":\"Species\"\n",
              "}]\n",
              "},\n",
              "\"kind\":\"plot\",\n",
              "\"scales\":[],\n",
              "\"layers\":[{\n",
              "\"geom\":\"point\",\n",
              "\"mapping\":{\n",
              "},\n",
              "\"data_meta\":{\n",
              "},\n",
              "\"data\":{\n",
              "}\n",
              "}],\n",
              "\"metainfo_list\":[],\n",
              "\"spec_id\":\"7\"\n",
              "};\n",
              "       \n",
              "               var toolbar = null;\n",
              "               var plotContainer = containerDiv;               \n",
              "               \n",
              "               var options = {\n",
              "                   sizing: {\n",
              "                       width_mode: \"min\",\n",
              "                       height_mode: \"scaled\",\n",
              "                       width: width\n",
              "                   }\n",
              "               };\n",
              "               var fig = LetsPlot.buildPlotFromProcessedSpecs(plotSpec, -1, -1, plotContainer, options);\n",
              "               if (toolbar) {\n",
              "                 toolbar.bind(fig);\n",
              "               }\n",
              "               \n",
              "               break;\n",
              "           }\n",
              "       }\n",
              "   });\n",
              "   \n",
              "   observer.observe(containerDiv);\n",
              "   \n",
              "   // ----------\n",
              "   })();\n",
              "   \n",
              "   </script>\n",
              "   </body>\n",
              "</html>"
            ]
          },
          "metadata": {},
          "execution_count": 31
        }
      ],
      "source": [
        "(\n",
        "    ggplot(iris, aes('Sepal.Length', 'Sepal.Width'))\n",
        "    + geom_point()\n",
        ")"
      ]
    },
    {
      "cell_type": "markdown",
      "metadata": {
        "id": "UOHZAeK30oyr"
      },
      "source": [
        "2. Label the axes as \"Sepal length\" and \"Sepal width\""
      ]
    },
    {
      "cell_type": "code",
      "execution_count": null,
      "metadata": {
        "id": "mPUKB6Gv0oyr",
        "colab": {
          "base_uri": "https://localhost:8080/",
          "height": 400
        },
        "outputId": "e49701c1-68f6-4d49-8131-fb3dde2c0e89"
      },
      "outputs": [
        {
          "output_type": "execute_result",
          "data": {
            "text/plain": [
              "<lets_plot.plot.core.PlotSpec at 0x7a8eab1db010>"
            ],
            "text/html": [
              "<html lang=\"en\">\n",
              "   <head>\n",
              "       <meta charset=\"UTF-8\">\n",
              "       <style> html, body { margin: 0; padding: 0; } </style>\n",
              "       <script type=\"text/javascript\" data-lets-plot-script=\"library\" src=\"https://cdn.jsdelivr.net/gh/JetBrains/lets-plot@v4.5.2/js-package/distr/lets-plot.min.js\"></script>\n",
              "   </head>\n",
              "   <body>\n",
              "          <div id=\"QDDQtw\"></div>\n",
              "   <script type=\"text/javascript\" data-lets-plot-script=\"plot\">\n",
              "   \n",
              "   (function() {\n",
              "   // ----------\n",
              "   \n",
              "   var containerDiv = document.getElementById(\"QDDQtw\");\n",
              "   var observer = new ResizeObserver(function(entries) {\n",
              "       for (let entry of entries) {\n",
              "           var width = containerDiv.clientWidth\n",
              "           if (entry.contentBoxSize && width > 0) {\n",
              "           \n",
              "               // Render plot\n",
              "               if (observer) {\n",
              "                   observer.disconnect();\n",
              "                   observer = null;\n",
              "               }\n",
              "\n",
              "               var plotSpec={\n",
              "\"data\":{\n",
              "\"Sepal.Length\":[5.1,4.9,4.7,4.6,5.0,5.4,4.6,5.0,4.4,4.9,5.4,4.8,4.8,4.3,5.8,5.7,5.4,5.1,5.7,5.1,5.4,5.1,4.6,5.1,4.8,5.0,5.0,5.2,5.2,4.7,4.8,5.4,5.2,5.5,4.9,5.0,5.5,4.9,4.4,5.1,5.0,4.5,4.4,5.0,5.1,4.8,5.1,4.6,5.3,5.0,7.0,6.4,6.9,5.5,6.5,5.7,6.3,4.9,6.6,5.2,5.0,5.9,6.0,6.1,5.6,6.7,5.6,5.8,6.2,5.6,5.9,6.1,6.3,6.1,6.4,6.6,6.8,6.7,6.0,5.7,5.5,5.5,5.8,6.0,5.4,6.0,6.7,6.3,5.6,5.5,5.5,6.1,5.8,5.0,5.6,5.7,5.7,6.2,5.1,5.7,6.3,5.8,7.1,6.3,6.5,7.6,4.9,7.3,6.7,7.2,6.5,6.4,6.8,5.7,5.8,6.4,6.5,7.7,7.7,6.0,6.9,5.6,7.7,6.3,6.7,7.2,6.2,6.1,6.4,7.2,7.4,7.9,6.4,6.3,6.1,7.7,6.3,6.4,6.0,6.9,6.7,6.9,5.8,6.8,6.7,6.7,6.3,6.5,6.2,5.9],\n",
              "\"Sepal.Width\":[3.5,3.0,3.2,3.1,3.6,3.9,3.4,3.4,2.9,3.1,3.7,3.4,3.0,3.0,4.0,4.4,3.9,3.5,3.8,3.8,3.4,3.7,3.6,3.3,3.4,3.0,3.4,3.5,3.4,3.2,3.1,3.4,4.1,4.2,3.1,3.2,3.5,3.6,3.0,3.4,3.5,2.3,3.2,3.5,3.8,3.0,3.8,3.2,3.7,3.3,3.2,3.2,3.1,2.3,2.8,2.8,3.3,2.4,2.9,2.7,2.0,3.0,2.2,2.9,2.9,3.1,3.0,2.7,2.2,2.5,3.2,2.8,2.5,2.8,2.9,3.0,2.8,3.0,2.9,2.6,2.4,2.4,2.7,2.7,3.0,3.4,3.1,2.3,3.0,2.5,2.6,3.0,2.6,2.3,2.7,3.0,2.9,2.9,2.5,2.8,3.3,2.7,3.0,2.9,3.0,3.0,2.5,2.9,2.5,3.6,3.2,2.7,3.0,2.5,2.8,3.2,3.0,3.8,2.6,2.2,3.2,2.8,2.8,2.7,3.3,3.2,2.8,3.0,2.8,3.0,2.8,3.8,2.8,2.8,2.6,3.0,3.4,3.1,3.0,3.1,3.1,3.1,2.7,3.2,3.3,3.0,2.5,3.0,3.4,3.0]\n",
              "},\n",
              "\"mapping\":{\n",
              "\"x\":\"Sepal.Length\",\n",
              "\"y\":\"Sepal.Width\"\n",
              "},\n",
              "\"data_meta\":{\n",
              "\"series_annotations\":[{\n",
              "\"type\":\"float\",\n",
              "\"column\":\"Sepal.Length\"\n",
              "},{\n",
              "\"type\":\"float\",\n",
              "\"column\":\"Sepal.Width\"\n",
              "},{\n",
              "\"type\":\"float\",\n",
              "\"column\":\"Petal.Length\"\n",
              "},{\n",
              "\"type\":\"float\",\n",
              "\"column\":\"Petal.Width\"\n",
              "},{\n",
              "\"type\":\"str\",\n",
              "\"column\":\"Species\"\n",
              "}]\n",
              "},\n",
              "\"guides\":{\n",
              "\"x\":{\n",
              "\"title\":\"Sepal length\"\n",
              "},\n",
              "\"y\":{\n",
              "\"title\":\"Sepal width\"\n",
              "}\n",
              "},\n",
              "\"kind\":\"plot\",\n",
              "\"scales\":[],\n",
              "\"layers\":[{\n",
              "\"geom\":\"point\",\n",
              "\"mapping\":{\n",
              "},\n",
              "\"data_meta\":{\n",
              "},\n",
              "\"data\":{\n",
              "}\n",
              "}],\n",
              "\"metainfo_list\":[],\n",
              "\"spec_id\":\"15\"\n",
              "};\n",
              "       \n",
              "               var toolbar = null;\n",
              "               var plotContainer = containerDiv;               \n",
              "               \n",
              "               var options = {\n",
              "                   sizing: {\n",
              "                       width_mode: \"min\",\n",
              "                       height_mode: \"scaled\",\n",
              "                       width: width\n",
              "                   }\n",
              "               };\n",
              "               var fig = LetsPlot.buildPlotFromProcessedSpecs(plotSpec, -1, -1, plotContainer, options);\n",
              "               if (toolbar) {\n",
              "                 toolbar.bind(fig);\n",
              "               }\n",
              "               \n",
              "               break;\n",
              "           }\n",
              "       }\n",
              "   });\n",
              "   \n",
              "   observer.observe(containerDiv);\n",
              "   \n",
              "   // ----------\n",
              "   })();\n",
              "   \n",
              "   </script>\n",
              "   </body>\n",
              "</html>"
            ]
          },
          "metadata": {},
          "execution_count": 40
        }
      ],
      "source": [
        "(\n",
        "    ggplot(iris, aes('Sepal.Length', 'Sepal.Width'))\n",
        "    + geom_point()\n",
        "    + labs(x='Sepal length', y='Sepal width')\n",
        ")"
      ]
    },
    {
      "cell_type": "markdown",
      "metadata": {
        "id": "b-r3QcsA0oyr"
      },
      "source": [
        "3. Set the limits of the axes to 1..10"
      ]
    },
    {
      "cell_type": "code",
      "execution_count": null,
      "metadata": {
        "id": "nIie_vWF0oyr",
        "colab": {
          "base_uri": "https://localhost:8080/",
          "height": 400
        },
        "outputId": "0540ad48-f5f0-47cc-c251-90d2d692595b"
      },
      "outputs": [
        {
          "output_type": "execute_result",
          "data": {
            "text/plain": [
              "<lets_plot.plot.core.PlotSpec at 0x7a8ea8b5e990>"
            ],
            "text/html": [
              "<html lang=\"en\">\n",
              "   <head>\n",
              "       <meta charset=\"UTF-8\">\n",
              "       <style> html, body { margin: 0; padding: 0; } </style>\n",
              "       <script type=\"text/javascript\" data-lets-plot-script=\"library\" src=\"https://cdn.jsdelivr.net/gh/JetBrains/lets-plot@v4.5.2/js-package/distr/lets-plot.min.js\"></script>\n",
              "   </head>\n",
              "   <body>\n",
              "          <div id=\"oGP4T9\"></div>\n",
              "   <script type=\"text/javascript\" data-lets-plot-script=\"plot\">\n",
              "   \n",
              "   (function() {\n",
              "   // ----------\n",
              "   \n",
              "   var containerDiv = document.getElementById(\"oGP4T9\");\n",
              "   var observer = new ResizeObserver(function(entries) {\n",
              "       for (let entry of entries) {\n",
              "           var width = containerDiv.clientWidth\n",
              "           if (entry.contentBoxSize && width > 0) {\n",
              "           \n",
              "               // Render plot\n",
              "               if (observer) {\n",
              "                   observer.disconnect();\n",
              "                   observer = null;\n",
              "               }\n",
              "\n",
              "               var plotSpec={\n",
              "\"data\":{\n",
              "\"Sepal.Length\":[5.1,4.9,4.7,4.6,5.0,5.4,4.6,5.0,4.4,4.9,5.4,4.8,4.8,4.3,5.8,5.7,5.4,5.1,5.7,5.1,5.4,5.1,4.6,5.1,4.8,5.0,5.0,5.2,5.2,4.7,4.8,5.4,5.2,5.5,4.9,5.0,5.5,4.9,4.4,5.1,5.0,4.5,4.4,5.0,5.1,4.8,5.1,4.6,5.3,5.0,7.0,6.4,6.9,5.5,6.5,5.7,6.3,4.9,6.6,5.2,5.0,5.9,6.0,6.1,5.6,6.7,5.6,5.8,6.2,5.6,5.9,6.1,6.3,6.1,6.4,6.6,6.8,6.7,6.0,5.7,5.5,5.5,5.8,6.0,5.4,6.0,6.7,6.3,5.6,5.5,5.5,6.1,5.8,5.0,5.6,5.7,5.7,6.2,5.1,5.7,6.3,5.8,7.1,6.3,6.5,7.6,4.9,7.3,6.7,7.2,6.5,6.4,6.8,5.7,5.8,6.4,6.5,7.7,7.7,6.0,6.9,5.6,7.7,6.3,6.7,7.2,6.2,6.1,6.4,7.2,7.4,7.9,6.4,6.3,6.1,7.7,6.3,6.4,6.0,6.9,6.7,6.9,5.8,6.8,6.7,6.7,6.3,6.5,6.2,5.9],\n",
              "\"Sepal.Width\":[3.5,3.0,3.2,3.1,3.6,3.9,3.4,3.4,2.9,3.1,3.7,3.4,3.0,3.0,4.0,4.4,3.9,3.5,3.8,3.8,3.4,3.7,3.6,3.3,3.4,3.0,3.4,3.5,3.4,3.2,3.1,3.4,4.1,4.2,3.1,3.2,3.5,3.6,3.0,3.4,3.5,2.3,3.2,3.5,3.8,3.0,3.8,3.2,3.7,3.3,3.2,3.2,3.1,2.3,2.8,2.8,3.3,2.4,2.9,2.7,2.0,3.0,2.2,2.9,2.9,3.1,3.0,2.7,2.2,2.5,3.2,2.8,2.5,2.8,2.9,3.0,2.8,3.0,2.9,2.6,2.4,2.4,2.7,2.7,3.0,3.4,3.1,2.3,3.0,2.5,2.6,3.0,2.6,2.3,2.7,3.0,2.9,2.9,2.5,2.8,3.3,2.7,3.0,2.9,3.0,3.0,2.5,2.9,2.5,3.6,3.2,2.7,3.0,2.5,2.8,3.2,3.0,3.8,2.6,2.2,3.2,2.8,2.8,2.7,3.3,3.2,2.8,3.0,2.8,3.0,2.8,3.8,2.8,2.8,2.6,3.0,3.4,3.1,3.0,3.1,3.1,3.1,2.7,3.2,3.3,3.0,2.5,3.0,3.4,3.0]\n",
              "},\n",
              "\"mapping\":{\n",
              "\"x\":\"Sepal.Length\",\n",
              "\"y\":\"Sepal.Width\"\n",
              "},\n",
              "\"data_meta\":{\n",
              "\"series_annotations\":[{\n",
              "\"type\":\"float\",\n",
              "\"column\":\"Sepal.Length\"\n",
              "},{\n",
              "\"type\":\"float\",\n",
              "\"column\":\"Sepal.Width\"\n",
              "},{\n",
              "\"type\":\"float\",\n",
              "\"column\":\"Petal.Length\"\n",
              "},{\n",
              "\"type\":\"float\",\n",
              "\"column\":\"Petal.Width\"\n",
              "},{\n",
              "\"type\":\"str\",\n",
              "\"column\":\"Species\"\n",
              "}]\n",
              "},\n",
              "\"guides\":{\n",
              "\"x\":{\n",
              "\"title\":\"Sepal length\"\n",
              "},\n",
              "\"y\":{\n",
              "\"title\":\"Sepal width\"\n",
              "}\n",
              "},\n",
              "\"kind\":\"plot\",\n",
              "\"scales\":[],\n",
              "\"layers\":[{\n",
              "\"geom\":\"point\",\n",
              "\"mapping\":{\n",
              "},\n",
              "\"data_meta\":{\n",
              "},\n",
              "\"data\":{\n",
              "}\n",
              "}],\n",
              "\"metainfo_list\":[],\n",
              "\"spec_id\":\"16\"\n",
              "};\n",
              "       \n",
              "               var toolbar = null;\n",
              "               var plotContainer = containerDiv;               \n",
              "               \n",
              "               var options = {\n",
              "                   sizing: {\n",
              "                       width_mode: \"min\",\n",
              "                       height_mode: \"scaled\",\n",
              "                       width: width\n",
              "                   }\n",
              "               };\n",
              "               var fig = LetsPlot.buildPlotFromProcessedSpecs(plotSpec, -1, -1, plotContainer, options);\n",
              "               if (toolbar) {\n",
              "                 toolbar.bind(fig);\n",
              "               }\n",
              "               \n",
              "               break;\n",
              "           }\n",
              "       }\n",
              "   });\n",
              "   \n",
              "   observer.observe(containerDiv);\n",
              "   \n",
              "   // ----------\n",
              "   })();\n",
              "   \n",
              "   </script>\n",
              "   </body>\n",
              "</html>"
            ]
          },
          "metadata": {},
          "execution_count": 41
        }
      ],
      "source": [
        "(\n",
        "    ggplot(iris, aes('Sepal.Length', 'Sepal.Width'))\n",
        "    + geom_point()\n",
        "    + labs(x='Sepal length', y='Sepal width')\n",
        ")"
      ]
    },
    {
      "cell_type": "markdown",
      "metadata": {
        "id": "9LBt_FIB0oys"
      },
      "source": [
        "4. Change the theme to anything you like\n",
        "\n",
        "* Eg., `theme_bw`\n",
        "* `help('lets_plot.plot.theme_set')` to see other themes"
      ]
    },
    {
      "cell_type": "code",
      "execution_count": null,
      "metadata": {
        "id": "0QdIvX3a0oys"
      },
      "outputs": [],
      "source": []
    }
  ],
  "metadata": {
    "kernelspec": {
      "display_name": "cpsc375-python",
      "language": "python",
      "name": "python3"
    },
    "language_info": {
      "codemirror_mode": {
        "name": "ipython",
        "version": 3
      },
      "file_extension": ".py",
      "mimetype": "text/x-python",
      "name": "python",
      "nbconvert_exporter": "python",
      "pygments_lexer": "ipython3",
      "version": "3.11.7"
    },
    "colab": {
      "provenance": [],
      "include_colab_link": true
    }
  },
  "nbformat": 4,
  "nbformat_minor": 0
}